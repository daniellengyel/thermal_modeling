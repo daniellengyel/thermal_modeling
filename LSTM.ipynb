{
 "cells": [
  {
   "cell_type": "code",
   "execution_count": 1,
   "metadata": {
    "collapsed": true
   },
   "outputs": [],
   "source": [
    "import pickle\n",
    "import datetime\n",
    "import numpy as np\n",
    "import matplotlib.pyplot as plt\n",
    "import pandas as pd\n",
    "from math import sqrt"
   ]
  },
  {
   "cell_type": "markdown",
   "metadata": {},
   "source": [
    "# Loading and Fixing data\n",
    "\n",
    "Read pickle data file. Remove unwanted features and drop rows containing NaN values. Replace action feature by binary features action_heating and action_cooling. "
   ]
  },
  {
   "cell_type": "code",
   "execution_count": 2,
   "metadata": {
    "collapsed": true
   },
   "outputs": [],
   "source": [
    "class ProcessingData:\n",
    "    \n",
    "    def __init__(self,filepath):\n",
    "        with open(filepath, 'rb') as f:\n",
    "            u = pickle._Unpickler(f)\n",
    "            u.encoding = 'latin1'\n",
    "            self.data = u.load()\n",
    "    '''\n",
    "    def add_last_temperature_feature(self):\n",
    "        \"\"\"Adding a feature which specifies what the previous temperature was \"dt\" seconds before the current\n",
    "        datasample. Since data does not need be continious, we need a loop.\n",
    "        :param: pd.df with cols: \"t_in\", \"dt\" and needs to be sorted by time.\n",
    "        returns pd.df with cols \"t_last\" added. \"\"\"\n",
    "\n",
    "        last_temps = []\n",
    "\n",
    "        last_temp = None\n",
    "        curr_time = self.data.index[0]\n",
    "        for index, row in self.data.iterrows():\n",
    "\n",
    "            if last_temp is None:\n",
    "                last_temps.append(row[\"t_in\"])  # so the feature will be zero instead\n",
    "            else:\n",
    "                last_temps.append(last_temp)\n",
    "\n",
    "            if curr_time == index:\n",
    "                last_temp = row[\"t_in\"]\n",
    "                curr_time += datetime.timedelta(minutes=row[\"dt\"])\n",
    "            else:\n",
    "                last_temp = None\n",
    "                curr_time = index + datetime.timedelta(minutes=row[\"dt\"])\n",
    "\n",
    "        self.data[\"t_last\"] = np.array(last_temps)\n",
    "        return self.data\n",
    "    '''\n",
    "\n",
    "    def fix_data(self, interval):\n",
    "        \"\"\"Fixes up the data. Makes sure we count two stage as single stage actions, don't count float actions,\n",
    "        converts action duration and dt to floats, fill's nan's in action_duration and drops all datapoints which\n",
    "        don't have dt equal to interval.\n",
    "        :param data:\n",
    "        :param interval: float:minutes\"\"\"\n",
    "        def f(x):\n",
    "            if x == 0:\n",
    "                return 0\n",
    "            elif x == 2 or x == 5:\n",
    "                return 2\n",
    "            elif x ==1 or x == 3:\n",
    "                return 1\n",
    "\n",
    "        def h(x):\n",
    "            if x == 1:\n",
    "                return 1\n",
    "            else:\n",
    "                return 0\n",
    "\n",
    "        def c(x):\n",
    "            if x == 2:\n",
    "                return 1\n",
    "            else:\n",
    "                return 0\n",
    "\n",
    "        self.data[\"action\"] = self.data[\"action\"].map(f)\n",
    "        self.data['action_heating'] = self.data[\"action\"].map(h)\n",
    "        self.data['action_cooling'] = self.data['action'].map(c)\n",
    "\n",
    "        #print self.data.head()\n",
    "\n",
    "        return self.data, self.data[self.data[\"dt\"] == interval]\n",
    "    \n",
    "    def filter_data(self):\n",
    "        self.data = self.data.drop(['t_next', 'dt', 'action', 'previous_action', 'action_duration', \\\n",
    "                                    'zone_temperatureHVAC_Zone_Shelter_Corridor'], axis=1)\n",
    "        return self.data\n",
    "    \n",
    "    def drop_nan(self):\n",
    "        self.data = self.data.dropna()\n",
    "        return self.data\n",
    "    '''\n",
    "    def getTarget(self, target):\n",
    "        y = self.data[target]\n",
    "        return y\n",
    "    \n",
    "    def getFeatures(self, target):\n",
    "        X = self.data.drop([target], axis=1)\n",
    "        return X\n",
    "    '''\n",
    "    \n",
    "    "
   ]
  },
  {
   "cell_type": "markdown",
   "metadata": {},
   "source": [
    "# Training data"
   ]
  },
  {
   "cell_type": "code",
   "execution_count": 3,
   "metadata": {
    "collapsed": true
   },
   "outputs": [],
   "source": [
    "training = ProcessingData(\"../Data/avenal-animal-shelter_training_data.pkl\")\n",
    "training_data = training.fix_data(5)\n",
    "training_data = training.filter_data()\n",
    "training_data = training.drop_nan()\n",
    "numFeatures = training_data.shape[1]"
   ]
  },
  {
   "cell_type": "markdown",
   "metadata": {},
   "source": [
    "# Testing data"
   ]
  },
  {
   "cell_type": "code",
   "execution_count": 4,
   "metadata": {
    "collapsed": true
   },
   "outputs": [],
   "source": [
    "testing = ProcessingData(\"../Data/avenal-animal-shelter_test_data.pkl\")\n",
    "testing_data = testing.fix_data(5)\n",
    "testing_data = testing.filter_data()\n",
    "testing_data = testing.drop_nan()"
   ]
  },
  {
   "cell_type": "markdown",
   "metadata": {},
   "source": [
    "# Importing libraries for LSTM"
   ]
  },
  {
   "cell_type": "code",
   "execution_count": 5,
   "metadata": {},
   "outputs": [
    {
     "name": "stderr",
     "output_type": "stream",
     "text": [
      "Using TensorFlow backend.\n"
     ]
    }
   ],
   "source": [
    "from sklearn.preprocessing import MinMaxScaler\n",
    "from sklearn.preprocessing import LabelEncoder\n",
    "from sklearn.metrics import mean_squared_error\n",
    "from keras.models import Sequential\n",
    "from keras.layers import Dense\n",
    "from keras.layers import LSTM"
   ]
  },
  {
   "cell_type": "markdown",
   "metadata": {},
   "source": [
    "# Convert Time series data to Supervised data"
   ]
  },
  {
   "cell_type": "code",
   "execution_count": 6,
   "metadata": {
    "collapsed": true
   },
   "outputs": [],
   "source": [
    "def series_to_supervised(data, n_in=1, n_out=1, dropnan=True):\n",
    "    \"\"\"\n",
    "    Frame a time series as a supervised learning dataset.\n",
    "    Arguments:\n",
    "    data: Sequence of observations as a list or NumPy array.\n",
    "    n_in: Number of lag observations as input (X).\n",
    "    n_out: Number of observations as output (y).\n",
    "    dropnan: Boolean whether or not to drop rows with NaN values.\n",
    "    Returns:\n",
    "    Pandas DataFrame of series framed for supervised learning.\n",
    "    \"\"\"\n",
    "    n_vars = 1 if type(data) is list else data.shape[1]\n",
    "    df = pd.DataFrame(data)\n",
    "    cols, names = list(), list()\n",
    "    # input sequence (t-n, ... t-1)\n",
    "    for i in range(n_in, 0, -1):\n",
    "        cols.append(df.shift(i))\n",
    "        names += [('var%d(t-%d)' % (j+1, i)) for j in range(n_vars)]\n",
    "    # forecast sequence (t, t+1, ... t+n)\n",
    "    for i in range(0, n_out):\n",
    "        cols.append(df.shift(-i))\n",
    "        if i == 0:\n",
    "            names += [('var%d(t)' % (j+1)) for j in range(n_vars)]\n",
    "        else:\n",
    "            names += [('var%d(t+%d)' % (j+1, i)) for j in range(n_vars)]\n",
    "    # put it all together\n",
    "    agg = pd.concat(cols, axis=1)\n",
    "    agg.columns = names\n",
    "    # drop rows with NaN values\n",
    "    if dropnan:\n",
    "        agg.dropna(inplace=True)\n",
    "    return agg"
   ]
  },
  {
   "cell_type": "markdown",
   "metadata": {},
   "source": [
    "# Scaling training data"
   ]
  },
  {
   "cell_type": "code",
   "execution_count": 7,
   "metadata": {
    "collapsed": true
   },
   "outputs": [],
   "source": [
    "train_values = training_data.values\n",
    "# integer encode direction\n",
    "encoder = LabelEncoder()\n",
    "train_values[:,4] = encoder.fit_transform(train_values[:,4])\n",
    "# ensure all data is float\n",
    "train_values = train_values.astype('float32')\n",
    "# normalize features\n",
    "scaler = MinMaxScaler(feature_range=(0, 1))\n",
    "train_scaled = scaler.fit_transform(train_values)"
   ]
  },
  {
   "cell_type": "code",
   "execution_count": 8,
   "metadata": {},
   "outputs": [
    {
     "data": {
      "text/html": [
       "<div>\n",
       "<style>\n",
       "    .dataframe thead tr:only-child th {\n",
       "        text-align: right;\n",
       "    }\n",
       "\n",
       "    .dataframe thead th {\n",
       "        text-align: left;\n",
       "    }\n",
       "\n",
       "    .dataframe tbody tr th {\n",
       "        vertical-align: top;\n",
       "    }\n",
       "</style>\n",
       "<table border=\"1\" class=\"dataframe\">\n",
       "  <thead>\n",
       "    <tr style=\"text-align: right;\">\n",
       "      <th></th>\n",
       "      <th>var1(t-1)</th>\n",
       "      <th>var2(t-1)</th>\n",
       "      <th>var3(t-1)</th>\n",
       "      <th>var4(t-1)</th>\n",
       "      <th>var5(t-1)</th>\n",
       "      <th>var1(t)</th>\n",
       "    </tr>\n",
       "  </thead>\n",
       "  <tbody>\n",
       "    <tr>\n",
       "      <th>1</th>\n",
       "      <td>0.540116</td>\n",
       "      <td>0.368630</td>\n",
       "      <td>0.0</td>\n",
       "      <td>0.0</td>\n",
       "      <td>0.0</td>\n",
       "      <td>0.540776</td>\n",
       "    </tr>\n",
       "    <tr>\n",
       "      <th>2</th>\n",
       "      <td>0.540776</td>\n",
       "      <td>0.368630</td>\n",
       "      <td>0.0</td>\n",
       "      <td>0.0</td>\n",
       "      <td>0.0</td>\n",
       "      <td>0.540776</td>\n",
       "    </tr>\n",
       "    <tr>\n",
       "      <th>3</th>\n",
       "      <td>0.540776</td>\n",
       "      <td>0.368981</td>\n",
       "      <td>0.0</td>\n",
       "      <td>0.0</td>\n",
       "      <td>0.0</td>\n",
       "      <td>0.540776</td>\n",
       "    </tr>\n",
       "    <tr>\n",
       "      <th>4</th>\n",
       "      <td>0.540776</td>\n",
       "      <td>0.370034</td>\n",
       "      <td>0.0</td>\n",
       "      <td>0.0</td>\n",
       "      <td>0.0</td>\n",
       "      <td>0.536817</td>\n",
       "    </tr>\n",
       "    <tr>\n",
       "      <th>5</th>\n",
       "      <td>0.536817</td>\n",
       "      <td>0.371438</td>\n",
       "      <td>0.0</td>\n",
       "      <td>0.0</td>\n",
       "      <td>0.0</td>\n",
       "      <td>0.540776</td>\n",
       "    </tr>\n",
       "  </tbody>\n",
       "</table>\n",
       "</div>"
      ],
      "text/plain": [
       "   var1(t-1)  var2(t-1)  var3(t-1)  var4(t-1)  var5(t-1)   var1(t)\n",
       "1   0.540116   0.368630        0.0        0.0        0.0  0.540776\n",
       "2   0.540776   0.368630        0.0        0.0        0.0  0.540776\n",
       "3   0.540776   0.368981        0.0        0.0        0.0  0.540776\n",
       "4   0.540776   0.370034        0.0        0.0        0.0  0.536817\n",
       "5   0.536817   0.371438        0.0        0.0        0.0  0.540776"
      ]
     },
     "execution_count": 8,
     "metadata": {},
     "output_type": "execute_result"
    }
   ],
   "source": [
    "# frame as supervised learning\n",
    "timesteps = 3\n",
    "train_reframed = series_to_supervised(train_scaled, 1, 1)\n",
    "#train_reframed.drop(train_reframed.columns[[7,8,9,10,11]], axis=1, inplace=True)\n",
    "train_reframed.drop(train_reframed.columns[-4:], axis=1, inplace=True)\n",
    "train_reframed.head()"
   ]
  },
  {
   "cell_type": "code",
   "execution_count": 9,
   "metadata": {},
   "outputs": [
    {
     "data": {
      "text/html": [
       "<div>\n",
       "<style>\n",
       "    .dataframe thead tr:only-child th {\n",
       "        text-align: right;\n",
       "    }\n",
       "\n",
       "    .dataframe thead th {\n",
       "        text-align: left;\n",
       "    }\n",
       "\n",
       "    .dataframe tbody tr th {\n",
       "        vertical-align: top;\n",
       "    }\n",
       "</style>\n",
       "<table border=\"1\" class=\"dataframe\">\n",
       "  <thead>\n",
       "    <tr style=\"text-align: right;\">\n",
       "      <th></th>\n",
       "      <th>t_in</th>\n",
       "      <th>t_out</th>\n",
       "      <th>occ</th>\n",
       "      <th>action_heating</th>\n",
       "      <th>action_cooling</th>\n",
       "    </tr>\n",
       "    <tr>\n",
       "      <th>time</th>\n",
       "      <th></th>\n",
       "      <th></th>\n",
       "      <th></th>\n",
       "      <th></th>\n",
       "      <th></th>\n",
       "    </tr>\n",
       "  </thead>\n",
       "  <tbody>\n",
       "    <tr>\n",
       "      <th>2018-04-18 23:16:42+00:00</th>\n",
       "      <td>69.483333</td>\n",
       "      <td>66.499700</td>\n",
       "      <td>0.0</td>\n",
       "      <td>0</td>\n",
       "      <td>0</td>\n",
       "    </tr>\n",
       "    <tr>\n",
       "      <th>2018-04-18 23:21:42+00:00</th>\n",
       "      <td>69.500000</td>\n",
       "      <td>66.499700</td>\n",
       "      <td>0.0</td>\n",
       "      <td>0</td>\n",
       "      <td>0</td>\n",
       "    </tr>\n",
       "    <tr>\n",
       "      <th>2018-04-18 23:26:42+00:00</th>\n",
       "      <td>69.500000</td>\n",
       "      <td>66.520546</td>\n",
       "      <td>0.0</td>\n",
       "      <td>0</td>\n",
       "      <td>0</td>\n",
       "    </tr>\n",
       "    <tr>\n",
       "      <th>2018-04-18 23:31:42+00:00</th>\n",
       "      <td>69.500000</td>\n",
       "      <td>66.583083</td>\n",
       "      <td>0.0</td>\n",
       "      <td>0</td>\n",
       "      <td>0</td>\n",
       "    </tr>\n",
       "    <tr>\n",
       "      <th>2018-04-18 23:36:42+00:00</th>\n",
       "      <td>69.400000</td>\n",
       "      <td>66.666466</td>\n",
       "      <td>0.0</td>\n",
       "      <td>0</td>\n",
       "      <td>0</td>\n",
       "    </tr>\n",
       "  </tbody>\n",
       "</table>\n",
       "</div>"
      ],
      "text/plain": [
       "                                t_in      t_out  occ  action_heating  \\\n",
       "time                                                                   \n",
       "2018-04-18 23:16:42+00:00  69.483333  66.499700  0.0               0   \n",
       "2018-04-18 23:21:42+00:00  69.500000  66.499700  0.0               0   \n",
       "2018-04-18 23:26:42+00:00  69.500000  66.520546  0.0               0   \n",
       "2018-04-18 23:31:42+00:00  69.500000  66.583083  0.0               0   \n",
       "2018-04-18 23:36:42+00:00  69.400000  66.666466  0.0               0   \n",
       "\n",
       "                           action_cooling  \n",
       "time                                       \n",
       "2018-04-18 23:16:42+00:00               0  \n",
       "2018-04-18 23:21:42+00:00               0  \n",
       "2018-04-18 23:26:42+00:00               0  \n",
       "2018-04-18 23:31:42+00:00               0  \n",
       "2018-04-18 23:36:42+00:00               0  "
      ]
     },
     "execution_count": 9,
     "metadata": {},
     "output_type": "execute_result"
    }
   ],
   "source": [
    "training_data.head()"
   ]
  },
  {
   "cell_type": "code",
   "execution_count": 10,
   "metadata": {},
   "outputs": [
    {
     "data": {
      "text/html": [
       "<div>\n",
       "<style>\n",
       "    .dataframe thead tr:only-child th {\n",
       "        text-align: right;\n",
       "    }\n",
       "\n",
       "    .dataframe thead th {\n",
       "        text-align: left;\n",
       "    }\n",
       "\n",
       "    .dataframe tbody tr th {\n",
       "        vertical-align: top;\n",
       "    }\n",
       "</style>\n",
       "<table border=\"1\" class=\"dataframe\">\n",
       "  <thead>\n",
       "    <tr style=\"text-align: right;\">\n",
       "      <th></th>\n",
       "      <th>var1(t-1)</th>\n",
       "      <th>var2(t-1)</th>\n",
       "      <th>var3(t-1)</th>\n",
       "      <th>var4(t-1)</th>\n",
       "      <th>var5(t-1)</th>\n",
       "      <th>var1(t)</th>\n",
       "    </tr>\n",
       "  </thead>\n",
       "  <tbody>\n",
       "    <tr>\n",
       "      <th>1</th>\n",
       "      <td>0.941785</td>\n",
       "      <td>0.565371</td>\n",
       "      <td>0.0</td>\n",
       "      <td>0.0</td>\n",
       "      <td>0.0</td>\n",
       "      <td>0.941785</td>\n",
       "    </tr>\n",
       "    <tr>\n",
       "      <th>2</th>\n",
       "      <td>0.941785</td>\n",
       "      <td>0.565919</td>\n",
       "      <td>0.0</td>\n",
       "      <td>0.0</td>\n",
       "      <td>0.0</td>\n",
       "      <td>0.944373</td>\n",
       "    </tr>\n",
       "    <tr>\n",
       "      <th>3</th>\n",
       "      <td>0.944373</td>\n",
       "      <td>0.566463</td>\n",
       "      <td>0.0</td>\n",
       "      <td>0.0</td>\n",
       "      <td>0.0</td>\n",
       "      <td>0.944373</td>\n",
       "    </tr>\n",
       "    <tr>\n",
       "      <th>4</th>\n",
       "      <td>0.944373</td>\n",
       "      <td>0.566996</td>\n",
       "      <td>0.0</td>\n",
       "      <td>0.0</td>\n",
       "      <td>0.0</td>\n",
       "      <td>0.944373</td>\n",
       "    </tr>\n",
       "    <tr>\n",
       "      <th>5</th>\n",
       "      <td>0.944373</td>\n",
       "      <td>0.567524</td>\n",
       "      <td>0.0</td>\n",
       "      <td>0.0</td>\n",
       "      <td>0.0</td>\n",
       "      <td>0.944373</td>\n",
       "    </tr>\n",
       "  </tbody>\n",
       "</table>\n",
       "</div>"
      ],
      "text/plain": [
       "   var1(t-1)  var2(t-1)  var3(t-1)  var4(t-1)  var5(t-1)   var1(t)\n",
       "1   0.941785   0.565371        0.0        0.0        0.0  0.941785\n",
       "2   0.941785   0.565919        0.0        0.0        0.0  0.944373\n",
       "3   0.944373   0.566463        0.0        0.0        0.0  0.944373\n",
       "4   0.944373   0.566996        0.0        0.0        0.0  0.944373\n",
       "5   0.944373   0.567524        0.0        0.0        0.0  0.944373"
      ]
     },
     "execution_count": 10,
     "metadata": {},
     "output_type": "execute_result"
    }
   ],
   "source": [
    "test_values = testing_data.values\n",
    "# integer encode direction\n",
    "encoder = LabelEncoder()\n",
    "test_values[:,4] = encoder.fit_transform(test_values[:,4])\n",
    "# ensure all data is float\n",
    "test_values = test_values.astype('float32')\n",
    "# normalize features\n",
    "scaler = MinMaxScaler(feature_range=(0, 1))\n",
    "test_scaled = scaler.fit_transform(test_values)\n",
    "test_reframed = series_to_supervised(test_scaled, 1, 1)\n",
    "test_reframed.drop(test_reframed.columns[-4:], axis=1, inplace=True)\n",
    "test_reframed.head()"
   ]
  },
  {
   "cell_type": "markdown",
   "metadata": {},
   "source": [
    "# Split Targets and Features\n",
    "\n",
    "Splits the train and test sets into input and output variables. Finally, the inputs (X) are reshaped into the 3D format expected by LSTMs, namely [samples, timesteps, features]."
   ]
  },
  {
   "cell_type": "code",
   "execution_count": 17,
   "metadata": {},
   "outputs": [
    {
     "name": "stdout",
     "output_type": "stream",
     "text": [
      "(53185, 1, 5) (53185,) (13389, 1, 5) (13389,)\n"
     ]
    }
   ],
   "source": [
    "# split into input and outputs\n",
    "train = train_reframed.values\n",
    "test = test_reframed.values\n",
    "train_X, train_y = train[:, :-1], train[:, -1]\n",
    "test_X, test_y = test[:, :-1], test[:, -1]\n",
    "# reshape input to be 3D [samples, timesteps, features]\n",
    "train_X = train_X.reshape((train_X.shape[0], 1, train_X.shape[1]))\n",
    "test_X = test_X.reshape((test_X.shape[0], 1, test_X.shape[1]))\n",
    "print(train_X.shape, train_y.shape, test_X.shape, test_y.shape)"
   ]
  },
  {
   "cell_type": "markdown",
   "metadata": {},
   "source": [
    "# LSTM model"
   ]
  },
  {
   "cell_type": "code",
   "execution_count": 27,
   "metadata": {},
   "outputs": [
    {
     "name": "stdout",
     "output_type": "stream",
     "text": [
      "Train on 53185 samples, validate on 13389 samples\n",
      "Epoch 1/50\n",
      " - 5s - loss: 0.0831 - acc: 3.5724e-04 - val_loss: 0.2135 - val_acc: 7.4688e-04\n",
      "Epoch 2/50\n",
      " - 2s - loss: 0.0459 - acc: 3.3844e-04 - val_loss: 0.1922 - val_acc: 7.4688e-04\n",
      "Epoch 3/50\n",
      " - 3s - loss: 0.0406 - acc: 3.3844e-04 - val_loss: 0.1725 - val_acc: 7.4688e-04\n",
      "Epoch 4/50\n",
      " - 2s - loss: 0.0350 - acc: 3.3844e-04 - val_loss: 0.1425 - val_acc: 7.4688e-04\n",
      "Epoch 5/50\n",
      " - 2s - loss: 0.0283 - acc: 3.3844e-04 - val_loss: 0.1012 - val_acc: 7.4688e-04\n",
      "Epoch 6/50\n",
      " - 3s - loss: 0.0174 - acc: 3.3844e-04 - val_loss: 0.0560 - val_acc: 7.4688e-04\n",
      "Epoch 7/50\n",
      " - 2s - loss: 0.0078 - acc: 3.3844e-04 - val_loss: 0.0170 - val_acc: 7.4688e-04\n",
      "Epoch 8/50\n",
      " - 3s - loss: 0.0049 - acc: 3.3844e-04 - val_loss: 0.0101 - val_acc: 7.4688e-04\n",
      "Epoch 9/50\n",
      " - 2s - loss: 0.0049 - acc: 3.3844e-04 - val_loss: 0.0111 - val_acc: 7.4688e-04\n",
      "Epoch 10/50\n",
      " - 2s - loss: 0.0048 - acc: 3.3844e-04 - val_loss: 0.0092 - val_acc: 7.4688e-04\n",
      "Epoch 11/50\n",
      " - 3s - loss: 0.0048 - acc: 3.3844e-04 - val_loss: 0.0107 - val_acc: 7.4688e-04\n",
      "Epoch 12/50\n",
      " - 2s - loss: 0.0049 - acc: 3.3844e-04 - val_loss: 0.0105 - val_acc: 7.4688e-04\n",
      "Epoch 13/50\n",
      " - 3s - loss: 0.0046 - acc: 3.3844e-04 - val_loss: 0.0078 - val_acc: 7.4688e-04\n",
      "Epoch 14/50\n",
      " - 2s - loss: 0.0045 - acc: 3.3844e-04 - val_loss: 0.0106 - val_acc: 7.4688e-04\n",
      "Epoch 15/50\n",
      " - 2s - loss: 0.0046 - acc: 3.3844e-04 - val_loss: 0.0103 - val_acc: 7.4688e-04\n",
      "Epoch 16/50\n",
      " - 3s - loss: 0.0047 - acc: 3.3844e-04 - val_loss: 0.0122 - val_acc: 7.4688e-04\n",
      "Epoch 17/50\n",
      " - 2s - loss: 0.0046 - acc: 3.3844e-04 - val_loss: 0.0085 - val_acc: 7.4688e-04\n",
      "Epoch 18/50\n",
      " - 3s - loss: 0.0045 - acc: 3.3844e-04 - val_loss: 0.0115 - val_acc: 7.4688e-04\n",
      "Epoch 19/50\n",
      " - 2s - loss: 0.0047 - acc: 3.3844e-04 - val_loss: 0.0099 - val_acc: 7.4688e-04\n",
      "Epoch 20/50\n",
      " - 3s - loss: 0.0045 - acc: 3.3844e-04 - val_loss: 0.0092 - val_acc: 7.4688e-04\n",
      "Epoch 21/50\n",
      " - 2s - loss: 0.0047 - acc: 3.3844e-04 - val_loss: 0.0112 - val_acc: 7.4688e-04\n",
      "Epoch 22/50\n",
      " - 2s - loss: 0.0045 - acc: 3.3844e-04 - val_loss: 0.0085 - val_acc: 7.4688e-04\n",
      "Epoch 23/50\n",
      " - 3s - loss: 0.0046 - acc: 3.3844e-04 - val_loss: 0.0085 - val_acc: 7.4688e-04\n",
      "Epoch 24/50\n",
      " - 2s - loss: 0.0044 - acc: 3.3844e-04 - val_loss: 0.0091 - val_acc: 7.4688e-04\n",
      "Epoch 25/50\n",
      " - 3s - loss: 0.0046 - acc: 3.3844e-04 - val_loss: 0.0097 - val_acc: 7.4688e-04\n",
      "Epoch 26/50\n",
      " - 2s - loss: 0.0045 - acc: 3.3844e-04 - val_loss: 0.0102 - val_acc: 7.4688e-04\n",
      "Epoch 27/50\n",
      " - 2s - loss: 0.0046 - acc: 3.3844e-04 - val_loss: 0.0111 - val_acc: 7.4688e-04\n",
      "Epoch 28/50\n",
      " - 3s - loss: 0.0044 - acc: 3.3844e-04 - val_loss: 0.0102 - val_acc: 7.4688e-04\n",
      "Epoch 29/50\n",
      " - 2s - loss: 0.0046 - acc: 3.3844e-04 - val_loss: 0.0096 - val_acc: 7.4688e-04\n",
      "Epoch 30/50\n",
      " - 3s - loss: 0.0043 - acc: 3.3844e-04 - val_loss: 0.0110 - val_acc: 7.4688e-04\n",
      "Epoch 31/50\n",
      " - 2s - loss: 0.0044 - acc: 3.3844e-04 - val_loss: 0.0090 - val_acc: 7.4688e-04\n",
      "Epoch 32/50\n",
      " - 2s - loss: 0.0045 - acc: 3.3844e-04 - val_loss: 0.0094 - val_acc: 7.4688e-04\n",
      "Epoch 33/50\n",
      " - 3s - loss: 0.0046 - acc: 3.3844e-04 - val_loss: 0.0111 - val_acc: 7.4688e-04\n",
      "Epoch 34/50\n",
      " - 2s - loss: 0.0044 - acc: 3.3844e-04 - val_loss: 0.0121 - val_acc: 7.4688e-04\n",
      "Epoch 35/50\n",
      " - 3s - loss: 0.0044 - acc: 3.3844e-04 - val_loss: 0.0088 - val_acc: 7.4688e-04\n",
      "Epoch 36/50\n",
      " - 2s - loss: 0.0043 - acc: 3.3844e-04 - val_loss: 0.0075 - val_acc: 7.4688e-04\n",
      "Epoch 37/50\n",
      " - 3s - loss: 0.0043 - acc: 3.3844e-04 - val_loss: 0.0087 - val_acc: 7.4688e-04\n",
      "Epoch 38/50\n",
      " - 2s - loss: 0.0045 - acc: 3.3844e-04 - val_loss: 0.0115 - val_acc: 7.4688e-04\n",
      "Epoch 39/50\n",
      " - 2s - loss: 0.0044 - acc: 3.3844e-04 - val_loss: 0.0102 - val_acc: 7.4688e-04\n",
      "Epoch 40/50\n",
      " - 3s - loss: 0.0044 - acc: 3.3844e-04 - val_loss: 0.0102 - val_acc: 7.4688e-04\n",
      "Epoch 41/50\n",
      " - 2s - loss: 0.0046 - acc: 3.3844e-04 - val_loss: 0.0112 - val_acc: 7.4688e-04\n",
      "Epoch 42/50\n",
      " - 3s - loss: 0.0043 - acc: 3.3844e-04 - val_loss: 0.0104 - val_acc: 7.4688e-04\n",
      "Epoch 43/50\n",
      " - 2s - loss: 0.0046 - acc: 3.3844e-04 - val_loss: 0.0109 - val_acc: 7.4688e-04\n",
      "Epoch 44/50\n",
      " - 2s - loss: 0.0045 - acc: 3.3844e-04 - val_loss: 0.0082 - val_acc: 7.4688e-04\n",
      "Epoch 45/50\n",
      " - 3s - loss: 0.0044 - acc: 3.3844e-04 - val_loss: 0.0096 - val_acc: 7.4688e-04\n",
      "Epoch 46/50\n",
      " - 2s - loss: 0.0044 - acc: 3.3844e-04 - val_loss: 0.0095 - val_acc: 7.4688e-04\n",
      "Epoch 47/50\n",
      " - 3s - loss: 0.0045 - acc: 3.3844e-04 - val_loss: 0.0100 - val_acc: 7.4688e-04\n",
      "Epoch 48/50\n",
      " - 2s - loss: 0.0043 - acc: 3.3844e-04 - val_loss: 0.0083 - val_acc: 7.4688e-04\n",
      "Epoch 49/50\n",
      " - 2s - loss: 0.0045 - acc: 3.3844e-04 - val_loss: 0.0090 - val_acc: 7.4688e-04\n",
      "Epoch 50/50\n",
      " - 2s - loss: 0.0044 - acc: 3.3844e-04 - val_loss: 0.0111 - val_acc: 7.4688e-04\n"
     ]
    }
   ],
   "source": [
    "model = Sequential()\n",
    "model.add(LSTM(5, input_shape=(train_X.shape[1], train_X.shape[2])))\n",
    "model.add(Dense(4))\n",
    "model.add(Dense(1))\n",
    "model.compile(loss='mae', optimizer='adam', metrics=['accuracy'])\n",
    "# fit network\n",
    "history = model.fit(train_X, train_y, epochs=50, batch_size=72, validation_data=(test_X, test_y), verbose=2, shuffle=False)\n"
   ]
  },
  {
   "cell_type": "code",
   "execution_count": 28,
   "metadata": {},
   "outputs": [
    {
     "name": "stdout",
     "output_type": "stream",
     "text": [
      "_________________________________________________________________\n",
      "Layer (type)                 Output Shape              Param #   \n",
      "=================================================================\n",
      "lstm_5 (LSTM)                (None, 5)                 220       \n",
      "_________________________________________________________________\n",
      "dense_9 (Dense)              (None, 4)                 24        \n",
      "_________________________________________________________________\n",
      "dense_10 (Dense)             (None, 1)                 5         \n",
      "=================================================================\n",
      "Total params: 249\n",
      "Trainable params: 249\n",
      "Non-trainable params: 0\n",
      "_________________________________________________________________\n"
     ]
    }
   ],
   "source": [
    "model.summary()"
   ]
  },
  {
   "cell_type": "code",
   "execution_count": 29,
   "metadata": {},
   "outputs": [
    {
     "data": {
      "image/png": "[encoded data removed]",
      "text/plain": [
       "<matplotlib.figure.Figure at 0x2d902e81278>"
      ]
     },
     "metadata": {},
     "output_type": "display_data"
    }
   ],
   "source": [
    "# plot history\n",
    "plt.plot(history.history['loss'], label='train')\n",
    "plt.plot(history.history['val_loss'], label='test')\n",
    "plt.legend()\n",
    "plt.show()"
   ]
  },
  {
   "cell_type": "markdown",
   "metadata": {},
   "source": [
    "# Evaluate LSTM model"
   ]
  },
  {
   "cell_type": "code",
   "execution_count": 15,
   "metadata": {},
   "outputs": [
    {
     "name": "stdout",
     "output_type": "stream",
     "text": [
      "inv_yhat before scaling: [[ 0.93336087  0.56537139  0.          0.          0.        ]\n",
      " [ 0.93336356  0.5659194   0.          0.          0.        ]\n",
      " [ 0.935844    0.56646252  0.          0.          0.        ]\n",
      " ..., \n",
      " [ 0.92860287  0.94543564  0.          0.          0.        ]\n",
      " [ 0.92860419  0.94589961  0.          0.          0.        ]\n",
      " [ 0.92983329  0.94589961  0.          0.          0.        ]]\n",
      "inv_yhat before scaling: [[ 72.14880371  67.77861023   0.           0.           0.        ]\n",
      " [ 72.1490097   67.80743408   0.           0.           0.        ]\n",
      " [ 72.34074402  67.83599854   0.           0.           0.        ]\n",
      " ..., \n",
      " [ 71.78100586  87.76878357   0.           0.           0.        ]\n",
      " [ 71.78110504  87.79318237   0.           0.           0.        ]\n",
      " [ 71.87612152  87.79318237   0.           0.           0.        ]]\n",
      "Test RMSE: 1.160\n"
     ]
    }
   ],
   "source": [
    "# make a prediction\n",
    "yhat = model.predict(test_X)\n",
    "test_X = test_X.reshape((test_X.shape[0], test_X.shape[2]))\n",
    "# invert scaling for forecast\n",
    "inv_yhat = np.concatenate((yhat, test_X[:, 1:]), axis=1)\n",
    "inv_yhat = scaler.inverse_transform(inv_yhat)\n",
    "inv_yhat = inv_yhat[:,0]\n",
    "# invert scaling for actual\n",
    "test_y = test_y.reshape((len(test_y), 1))\n",
    "inv_y = np.concatenate((test_y, test_X[:, 1:]), axis=1)\n",
    "inv_y = scaler.inverse_transform(inv_y)\n",
    "inv_y = inv_y[:,0]\n",
    "# calculate RMSE\n",
    "rmse = sqrt(mean_squared_error(inv_y, inv_yhat))\n",
    "print('Test RMSE: %.3f' % rmse)"
   ]
  },
  {
   "cell_type": "code",
   "execution_count": 16,
   "metadata": {},
   "outputs": [
    {
     "data": {
      "image/png": "[encoded data removed]",
      "text/plain": [
       "<matplotlib.figure.Figure at 0x2d902f47b38>"
      ]
     },
     "metadata": {},
     "output_type": "display_data"
    }
   ],
   "source": [
    "plt.figure(figsize=(15, 5))\n",
    "plt.scatter(range(yhat.shape[0]), yhat, c='r')\n",
    "plt.scatter(range(test_y.shape[0]), test_y, c='g')\n",
    "plt.show()"
   ]
  },
  {
   "cell_type": "code",
   "execution_count": null,
   "metadata": {
    "collapsed": true
   },
   "outputs": [],
   "source": []
  }
 ],
 "metadata": {
  "kernelspec": {
   "display_name": "Python 3",
   "language": "python",
   "name": "python3"
  },
  "language_info": {
   "codemirror_mode": {
    "name": "ipython",
    "version": 3
   },
   "file_extension": ".py",
   "mimetype": "text/x-python",
   "name": "python",
   "nbconvert_exporter": "python",
   "pygments_lexer": "ipython3",
   "version": "3.6.3"
  }
 },
 "nbformat": 4,
 "nbformat_minor": 2
}
