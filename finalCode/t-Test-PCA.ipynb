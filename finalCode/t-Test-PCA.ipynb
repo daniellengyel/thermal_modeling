{
 "cells": [
  {
   "cell_type": "code",
   "execution_count": 1,
   "metadata": {
    "collapsed": true
   },
   "outputs": [],
   "source": [
    "import pickle\n",
    "import datetime\n",
    "import numpy as np\n",
    "import matplotlib.pyplot as plt\n",
    "import pandas as pd\n",
    "from math import sqrt\n",
    "from sklearn.metrics import mean_squared_error\n",
    "import seaborn as sns\n",
    "from scipy import stats\n",
    "from sklearn.preprocessing import StandardScaler\n",
    "from sklearn.decomposition import PCA"
   ]
  },
  {
   "cell_type": "code",
   "execution_count": 2,
   "metadata": {
    "collapsed": true
   },
   "outputs": [],
   "source": [
    "class ProcessingData:\n",
    "    \n",
    "    def __init__(self,filepath):\n",
    "        with open(filepath, 'rb') as f:\n",
    "            u = pickle._Unpickler(f)\n",
    "            u.encoding = 'latin1'\n",
    "            self.data = u.load()\n",
    "\n",
    "    def fix_data(self, interval):\n",
    "        \"\"\"Fixes up the data. Makes sure we count two stage as single stage actions, don't count float actions,\n",
    "        converts action duration and dt to floats, fill's nan's in action_duration and drops all datapoints which\n",
    "        don't have dt equal to interval.\n",
    "        :param data:\n",
    "        :param interval: float:minutes\"\"\"\n",
    "        def f(x):\n",
    "            if x == 0:\n",
    "                return 0\n",
    "            elif x == 2 or x == 5:\n",
    "                return 2\n",
    "            elif x ==1 or x == 3:\n",
    "                return 1\n",
    "\n",
    "        def h(x):\n",
    "            if x == 1:\n",
    "                return 1\n",
    "            else:\n",
    "                return 0\n",
    "\n",
    "        def c(x):\n",
    "            if x == 2:\n",
    "                return 1\n",
    "            else:\n",
    "                return 0\n",
    "\n",
    "        self.data[\"action\"] = self.data[\"action\"].map(f)\n",
    "        self.data['action_heating'] = self.data[\"action\"].map(h)\n",
    "        self.data['action_cooling'] = self.data['action'].map(c)\n",
    "\n",
    "        #print self.data.head()\n",
    "\n",
    "        return self.data, self.data[self.data[\"dt\"] == interval]\n",
    "    \n",
    "    def filter_data(self):\n",
    "        self.data = self.data.drop(['dt', 'action', 'previous_action', 'action_duration', \\\n",
    "                                    'zone_temperatureHVAC_Zone_Shelter_Corridor'], axis=1)\n",
    "        return self.data\n",
    "    \n",
    "    def drop_nan(self):\n",
    "        self.data = self.data.dropna()\n",
    "        return self.data\n",
    "    \n",
    "    def secondOrder(self):\n",
    "        for col in self.data:\n",
    "            self.data[col+'(t-1)'] = self.data[col].shift(1)\n",
    "        self.data = self.data.dropna()\n",
    "        return self.data"
   ]
  },
  {
   "cell_type": "code",
   "execution_count": 3,
   "metadata": {
    "collapsed": true
   },
   "outputs": [],
   "source": [
    "training = ProcessingData(\"../../Data/avenal-animal-shelter_training_data.pkl\")\n",
    "training_data = training.fix_data(5)\n",
    "training_data = training.filter_data()\n",
    "training_data = training.drop_nan()\n",
    "#training_data.head()"
   ]
  },
  {
   "cell_type": "code",
   "execution_count": 4,
   "metadata": {
    "collapsed": true
   },
   "outputs": [],
   "source": [
    "testing = ProcessingData(\"../../Data/avenal-animal-shelter_test_data.pkl\")\n",
    "testing_data = testing.fix_data(5)\n",
    "testing_data = testing.filter_data()\n",
    "testing_data = testing.drop_nan()\n",
    "#testing_data.head()"
   ]
  },
  {
   "cell_type": "code",
   "execution_count": 5,
   "metadata": {},
   "outputs": [
    {
     "data": {
      "text/html": [
       "<div>\n",
       "<style scoped>\n",
       "    .dataframe tbody tr th:only-of-type {\n",
       "        vertical-align: middle;\n",
       "    }\n",
       "\n",
       "    .dataframe tbody tr th {\n",
       "        vertical-align: top;\n",
       "    }\n",
       "\n",
       "    .dataframe thead th {\n",
       "        text-align: right;\n",
       "    }\n",
       "</style>\n",
       "<table border=\"1\" class=\"dataframe\">\n",
       "  <thead>\n",
       "    <tr style=\"text-align: right;\">\n",
       "      <th></th>\n",
       "      <th>t_in</th>\n",
       "      <th>t_out</th>\n",
       "      <th>occ</th>\n",
       "      <th>action_heating</th>\n",
       "      <th>action_cooling</th>\n",
       "    </tr>\n",
       "    <tr>\n",
       "      <th>time</th>\n",
       "      <th></th>\n",
       "      <th></th>\n",
       "      <th></th>\n",
       "      <th></th>\n",
       "      <th></th>\n",
       "    </tr>\n",
       "  </thead>\n",
       "  <tbody>\n",
       "    <tr>\n",
       "      <th>2018-04-18 23:16:42+00:00</th>\n",
       "      <td>69.483333</td>\n",
       "      <td>66.499700</td>\n",
       "      <td>0.0</td>\n",
       "      <td>0</td>\n",
       "      <td>0</td>\n",
       "    </tr>\n",
       "    <tr>\n",
       "      <th>2018-04-18 23:21:42+00:00</th>\n",
       "      <td>69.500000</td>\n",
       "      <td>66.499700</td>\n",
       "      <td>0.0</td>\n",
       "      <td>0</td>\n",
       "      <td>0</td>\n",
       "    </tr>\n",
       "    <tr>\n",
       "      <th>2018-04-18 23:26:42+00:00</th>\n",
       "      <td>69.500000</td>\n",
       "      <td>66.520546</td>\n",
       "      <td>0.0</td>\n",
       "      <td>0</td>\n",
       "      <td>0</td>\n",
       "    </tr>\n",
       "    <tr>\n",
       "      <th>2018-04-18 23:31:42+00:00</th>\n",
       "      <td>69.500000</td>\n",
       "      <td>66.583083</td>\n",
       "      <td>0.0</td>\n",
       "      <td>0</td>\n",
       "      <td>0</td>\n",
       "    </tr>\n",
       "    <tr>\n",
       "      <th>2018-04-18 23:36:42+00:00</th>\n",
       "      <td>69.400000</td>\n",
       "      <td>66.666466</td>\n",
       "      <td>0.0</td>\n",
       "      <td>0</td>\n",
       "      <td>0</td>\n",
       "    </tr>\n",
       "  </tbody>\n",
       "</table>\n",
       "</div>"
      ],
      "text/plain": [
       "                                t_in      t_out  occ  action_heating  \\\n",
       "time                                                                   \n",
       "2018-04-18 23:16:42+00:00  69.483333  66.499700  0.0               0   \n",
       "2018-04-18 23:21:42+00:00  69.500000  66.499700  0.0               0   \n",
       "2018-04-18 23:26:42+00:00  69.500000  66.520546  0.0               0   \n",
       "2018-04-18 23:31:42+00:00  69.500000  66.583083  0.0               0   \n",
       "2018-04-18 23:36:42+00:00  69.400000  66.666466  0.0               0   \n",
       "\n",
       "                           action_cooling  \n",
       "time                                       \n",
       "2018-04-18 23:16:42+00:00               0  \n",
       "2018-04-18 23:21:42+00:00               0  \n",
       "2018-04-18 23:26:42+00:00               0  \n",
       "2018-04-18 23:31:42+00:00               0  \n",
       "2018-04-18 23:36:42+00:00               0  "
      ]
     },
     "execution_count": 5,
     "metadata": {},
     "output_type": "execute_result"
    }
   ],
   "source": [
    "train_y = training_data['t_next']\n",
    "train_X = training_data.drop(['t_next'], axis=1)\n",
    "train_X.head()"
   ]
  },
  {
   "cell_type": "code",
   "execution_count": 6,
   "metadata": {
    "collapsed": true
   },
   "outputs": [],
   "source": [
    "test_y = testing_data['t_next']\n",
    "test_X = testing_data.drop(['t_next'], axis=1)\n",
    "#test_X.head()"
   ]
  },
  {
   "cell_type": "code",
   "execution_count": 7,
   "metadata": {
    "collapsed": true
   },
   "outputs": [],
   "source": [
    "from sklearn.linear_model import LinearRegression\n",
    "\n",
    "def linearRegression(train_X, train_y,test_X,test_y):\n",
    "    linearModel = LinearRegression().fit(train_X, train_y)\n",
    "    test_pred = linearModel.predict(test_X)\n",
    "    rmse = sqrt(mean_squared_error(test_y,test_pred))\n",
    "    print(rmse)\n",
    "    return linearModel"
   ]
  },
  {
   "cell_type": "code",
   "execution_count": 8,
   "metadata": {
    "collapsed": true
   },
   "outputs": [],
   "source": [
    "from sklearn import linear_model\n",
    "\n",
    "def lassoRegression(train_X, train_y,test_X,test_y):\n",
    "    lasso_clf = linear_model.Lasso(alpha=0.1)\n",
    "    lasso_clf.fit(train_X, train_y)\n",
    "    test_pred = lasso_clf.predict(test_X)\n",
    "    rmse = sqrt(mean_squared_error(test_y,test_pred))\n",
    "    print(rmse)\n",
    "    return lasso_clf"
   ]
  },
  {
   "cell_type": "code",
   "execution_count": 9,
   "metadata": {
    "collapsed": true
   },
   "outputs": [],
   "source": [
    "from sklearn.linear_model import Ridge\n",
    "\n",
    "def ridgeRegression(train_X, train_y,test_X,test_y):\n",
    "    ridge_clf = Ridge(alpha=1.0)\n",
    "    ridge_clf.fit(train_X, train_y)\n",
    "    test_pred = ridge_clf.predict(test_X)\n",
    "    rmse = sqrt(mean_squared_error(test_y,test_pred))\n",
    "    print(rmse)\n",
    "    return ridge_clf"
   ]
  },
  {
   "cell_type": "code",
   "execution_count": 10,
   "metadata": {},
   "outputs": [
    {
     "name": "stdout",
     "output_type": "stream",
     "text": [
      "0.8619954953985445\n",
      "0.8593494185379873\n",
      "0.8619931664638767\n"
     ]
    }
   ],
   "source": [
    "linearModel = linearRegression(train_X,train_y, test_X, test_y)\n",
    "lassoModel = lassoRegression(train_X, train_y, test_X, test_y)\n",
    "ridgeModel = ridgeRegression(train_X,train_y, test_X, test_y)"
   ]
  },
  {
   "cell_type": "code",
   "execution_count": 11,
   "metadata": {
    "collapsed": true
   },
   "outputs": [],
   "source": [
    "class PrincipalComponentAnalysis:\n",
    "    def __init__(self, trainX, trainY, testX, testY):\n",
    "        self.trainX = trainX\n",
    "        self.trainY = trainY\n",
    "        self.testX = testX\n",
    "        self.testY = testY\n",
    "    \n",
    "    def scaleAndPca(self):\n",
    "        self.scaler = StandardScaler()\n",
    "        self.scaler.fit(self.trainX)\n",
    "        train_scaled = self.scaler.transform(self.trainX)\n",
    "        test_scaled = self.scaler.transform(self.testX)\n",
    "\n",
    "        self.pca = PCA(0.95)\n",
    "        self.pca.fit(train_scaled)\n",
    "        train_pca = self.pca.transform(train_scaled)\n",
    "        test_pca = self.pca.transform(test_scaled)\n",
    "\n",
    "        #print(train_pca.shape)\n",
    "        #print(train_y)\n",
    "        self.pcaLinearModel = linearRegression(train_pca,self.trainY, test_pca, self.testY)\n",
    "    \n",
    "        return self\n",
    "\n"
   ]
  },
  {
   "cell_type": "code",
   "execution_count": 12,
   "metadata": {},
   "outputs": [
    {
     "name": "stdout",
     "output_type": "stream",
     "text": [
      "0.8669073691700774\n",
      "0.8593815125721489\n",
      "0.8666426782247197\n"
     ]
    }
   ],
   "source": [
    "second_training = ProcessingData(\"../../Data/avenal-animal-shelter_training_data.pkl\")\n",
    "second_training_data = second_training.fix_data(5)\n",
    "second_training_data = second_training.filter_data()\n",
    "second_training_data = second_training.secondOrder()\n",
    "second_training_data = second_training.drop_nan()\n",
    "second_train_y = second_training_data['t_next']\n",
    "second_train_X = second_training_data.drop(['t_next', 't_next(t-1)'], axis=1)\n",
    "\n",
    "second_testing = ProcessingData(\"../../Data/avenal-animal-shelter_test_data.pkl\")\n",
    "second_testing_data = second_testing.fix_data(5)\n",
    "second_testing_data = second_testing.filter_data()\n",
    "second_testing_data = second_testing.secondOrder()\n",
    "second_testing_data = second_testing.drop_nan()\n",
    "second_test_y = second_testing_data['t_next']\n",
    "second_test_X = second_testing_data.drop(['t_next', 't_next(t-1)'], axis=1)\n",
    "\n",
    "second_linearModel = linearRegression(second_train_X,second_train_y, second_test_X, second_test_y)\n",
    "second_lassoModel = lassoRegression(second_train_X,second_train_y, second_test_X, second_test_y)\n",
    "second_ridgeModel = ridgeRegression(second_train_X,second_train_y, second_test_X, second_test_y)"
   ]
  },
  {
   "cell_type": "code",
   "execution_count": 13,
   "metadata": {},
   "outputs": [
    {
     "name": "stdout",
     "output_type": "stream",
     "text": [
      "0.8619954953985456\n",
      "0.7599748891618074\n"
     ]
    }
   ],
   "source": [
    "pcaObjHandler1 = PrincipalComponentAnalysis(train_X, train_y, test_X, test_y)\n",
    "pcaObj = pcaObjHandler1.scaleAndPca()\n",
    "\n",
    "pcaObjHandler2 = PrincipalComponentAnalysis(second_train_X,second_train_y, second_test_X, second_test_y)\n",
    "second_pcaObj = pcaObjHandler2.scaleAndPca()"
   ]
  },
  {
   "cell_type": "code",
   "execution_count": null,
   "metadata": {
    "collapsed": true
   },
   "outputs": [],
   "source": []
  },
  {
   "cell_type": "code",
   "execution_count": 14,
   "metadata": {
    "collapsed": true
   },
   "outputs": [],
   "source": [
    "def scaling(data):\n",
    "    maxValues = []\n",
    "    scaled = np.empty([data.shape[0], data.shape[1]])\n",
    "    numSamples = data.shape[0]\n",
    "    numFeatures = data.shape[1]\n",
    "    dataValues = data.values\n",
    "    dataValues = dataValues.astype('float32')\n",
    "    for i in range(numFeatures):\n",
    "        maxNum = max(dataValues[:,i])\n",
    "        maxValues.append(maxNum)\n",
    "        for j in range(numSamples):\n",
    "            scaled[j,i] = dataValues[j,i]/maxNum\n",
    "    return scaled, maxValues"
   ]
  },
  {
   "cell_type": "code",
   "execution_count": 15,
   "metadata": {},
   "outputs": [
    {
     "name": "stdout",
     "output_type": "stream",
     "text": [
      "(53186, 1, 5) (53186,) (13390, 1, 5) (13390,)\n"
     ]
    }
   ],
   "source": [
    "train_scaled, train_scalers = scaling(training_data)\n",
    "train_scaled = pd.DataFrame(data=train_scaled, index=training_data.index, columns=['t_next', 't_in', 't_out', 'occ', 'action_heating', 'action_cooling'])\n",
    "\n",
    "test_scaled, test_scalers = scaling(testing_data)\n",
    "test_scaled = pd.DataFrame(data=test_scaled, index=testing_data.index, columns=['t_next', 't_in', 't_out', 'occ', 'action_heating', 'action_cooling'])\n",
    "\n",
    "trainY_df = train_scaled['t_next']\n",
    "trainX_df = train_scaled.drop(['t_next'], axis=1)\n",
    "\n",
    "testY_df = test_scaled['t_next']\n",
    "testX_df = test_scaled.drop(['t_next'], axis=1)\n",
    "\n",
    "# split into input and outputs\n",
    "train = train_scaled.values\n",
    "test = test_scaled.values\n",
    "lstm_train_X, lstm_train_y = train[:, 1:], train[:, 0]\n",
    "lstm_test_X, lstm_test_y = test[:, 1:], test[:, 0]\n",
    "\n",
    "lstm_train_X = lstm_train_X.reshape((lstm_train_X.shape[0], 1, 5))\n",
    "lstm_test_X = lstm_test_X.reshape((lstm_test_X.shape[0], 1, 5))\n",
    "print(lstm_train_X.shape, lstm_train_y.shape, lstm_test_X.shape, lstm_test_y.shape)"
   ]
  },
  {
   "cell_type": "code",
   "execution_count": 16,
   "metadata": {
    "collapsed": true
   },
   "outputs": [],
   "source": [
    "second_lstm_training = ProcessingData(\"../../Data/avenal-animal-shelter_training_data.pkl\")\n",
    "second_lstm_training_data = second_lstm_training.fix_data(5)\n",
    "second_lstm_training_data = second_lstm_training.filter_data()\n",
    "second_lstm_training_data = second_lstm_training.secondOrder()\n",
    "second_lstm_training_data = second_lstm_training.drop_nan()\n",
    "\n",
    "second_lstm_testing = ProcessingData(\"../../Data/avenal-animal-shelter_test_data.pkl\")\n",
    "second_lstm_testing_data = second_lstm_testing.fix_data(5)\n",
    "second_lstm_testing_data = second_lstm_testing.filter_data()\n",
    "second_lstm_testing_data = second_lstm_testing.secondOrder()\n",
    "second_lstm_testing_data = second_lstm_testing.drop_nan()\n",
    "\n",
    "second_lstm_train_scaled, second_lstm_train_scalers = scaling(second_lstm_training_data)\n",
    "second_lstm_train_scaled = pd.DataFrame(data=second_lstm_train_scaled, index=second_lstm_training_data.index, columns=['t_next', 't_in', 't_out', 'occ', 'action_heating', 'action_cooling', 't_next(t-1)', 't_in(t-1)', 't_out(t-1)', 'occ(t-1)', 'action_heating(t-1)', 'action_cooling(t-1)'])\n",
    "second_lstm_test_scaled, second_lstm_test_scalers = scaling(second_lstm_testing_data)\n",
    "second_lstm_test_scaled = pd.DataFrame(data=second_lstm_test_scaled, index=second_lstm_testing_data.index, columns=['t_next', 't_in', 't_out', 'occ', 'action_heating', 'action_cooling', 't_next(t-1)', 't_in(t-1)', 't_out(t-1)', 'occ(t-1)', 'action_heating(t-1)', 'action_cooling(t-1)'])\n",
    "\n",
    "second_lstm_trainY_df = second_lstm_train_scaled['t_next']\n",
    "second_lstm_trainX_df = second_lstm_train_scaled.drop(['t_next', 't_next(t-1)'], axis=1)\n",
    "second_lstm_testY_df = second_lstm_test_scaled['t_next']\n",
    "second_lstm_testX_df = second_lstm_test_scaled.drop(['t_next', 't_next(t-1)'], axis=1)\n",
    "\n",
    "second_lstm_train_X = second_lstm_trainX_df.values\n",
    "second_lstm_train_y = second_lstm_trainY_df.values\n",
    "second_lstm_test_X = second_lstm_testX_df.values\n",
    "second_lstm_test_y = second_lstm_testY_df.values\n",
    "second_lstm_train_X = second_lstm_train_X.reshape((second_lstm_train_X.shape[0], 2, 5))\n",
    "second_lstm_test_X = second_lstm_test_X.reshape((second_lstm_test_X.shape[0], 2, 5))\n"
   ]
  },
  {
   "cell_type": "code",
   "execution_count": 17,
   "metadata": {},
   "outputs": [
    {
     "name": "stderr",
     "output_type": "stream",
     "text": [
      "Using TensorFlow backend.\n"
     ]
    }
   ],
   "source": [
    "from sklearn.metrics import mean_squared_error\n",
    "from keras.models import Sequential\n",
    "from keras.layers import Dense\n",
    "from keras.layers import LSTM"
   ]
  },
  {
   "cell_type": "code",
   "execution_count": 18,
   "metadata": {
    "collapsed": true
   },
   "outputs": [],
   "source": [
    "fileObject1 = open(\"lstmModel3.pickle\", 'rb')  \n",
    "lstmModel = pickle.load(fileObject1) \n",
    "fileObject2 = open(\"secondLstmModel1.pickle\", 'rb') \n",
    "second_lstmModel = pickle.load(fileObject2) "
   ]
  },
  {
   "cell_type": "code",
   "execution_count": 19,
   "metadata": {
    "collapsed": true
   },
   "outputs": [],
   "source": [
    "def forecasting(test_X, test_y, start_time, duration, model, second_order):\n",
    "    predictions_i = []\n",
    "    errs_i = []\n",
    "    curr_time = start_time\n",
    "    end_time = start_time + datetime.timedelta(minutes=duration)\n",
    "    while curr_time <= end_time:\n",
    "        if curr_time not in test_X.index:\n",
    "            return None\n",
    "        input_x = test_X.loc[curr_time].copy()\n",
    "        if second_order == 1:\n",
    "            if len(predictions_i) < 2:\n",
    "                predictions_i.append(input_x['t_in'])\n",
    "            else:\n",
    "                input_x['t_in'] = predictions_i[-1]\n",
    "                input_x['t_in(t-1)'] = predictions_i[-2]\n",
    "        else:\n",
    "            if predictions_i:\n",
    "                input_x['t_in'] = predictions_i[-1]\n",
    "        y = model.predict([input_x])\n",
    "        predictions_i.append(y[0])\n",
    "        errs_i.append(test_y.loc[curr_time] - y[0])\n",
    "        curr_time = curr_time + datetime.timedelta(minutes=5)\n",
    "    return errs_i"
   ]
  },
  {
   "cell_type": "code",
   "execution_count": 20,
   "metadata": {
    "collapsed": true
   },
   "outputs": [],
   "source": [
    "def forecastingPCA(testX, testY, start, duration, modelObj, second_order):\n",
    "    predictions_i = []\n",
    "    errs_i = []\n",
    "    curr_time = start\n",
    "    end_time = start + datetime.timedelta(minutes=duration)\n",
    "    while curr_time <= end_time:\n",
    "        if curr_time not in testX.index:\n",
    "            return None\n",
    "        input_x = testX.loc[curr_time].copy()\n",
    "        if second_order == 1:\n",
    "            if len(predictions_i) < 2:\n",
    "                predictions_i.append(input_x['t_in'])\n",
    "            else:\n",
    "                input_x['t_in'] = predictions_i[-1]\n",
    "                input_x['t_in(t-1)'] = predictions_i[-2]\n",
    "        else:\n",
    "            if predictions_i:\n",
    "                input_x['t_in'] = predictions_i[-1]\n",
    "                \n",
    "        input_x_values = input_x.values\n",
    "        input_x_scaled = modelObj.scaler.transform(input_x_values.reshape(1,-1))\n",
    "        input_x_pca = modelObj.pca.transform(input_x_scaled)\n",
    "        \n",
    "        y = modelObj.pcaLinearModel.predict(input_x_pca)\n",
    "        predictions_i.append(y[0])\n",
    "        errs_i.append(testY.loc[curr_time] - y[0])\n",
    "        curr_time = curr_time + datetime.timedelta(minutes=5)\n",
    "    return errs_i"
   ]
  },
  {
   "cell_type": "code",
   "execution_count": 21,
   "metadata": {
    "collapsed": true
   },
   "outputs": [],
   "source": [
    "def forecastingLSTM(testX_df, testY_df, start_time, duration, model, maxT_in, second_order):\n",
    "    predictions_i = []\n",
    "    errs_i = []\n",
    "    curr_time = start_time\n",
    "    end_time = start_time + datetime.timedelta(minutes=duration)\n",
    "    while curr_time <= end_time:\n",
    "        if curr_time not in testX_df.index:\n",
    "            #print(\"Not present\")\n",
    "            return None\n",
    "        input_x = testX_df.loc[curr_time].copy()\n",
    "        if second_order == 1:\n",
    "            if len(predictions_i) < 2:\n",
    "                predictions_i.append(input_x['t_in'])\n",
    "            else:\n",
    "                input_x['t_in'] = predictions_i[-1]\n",
    "                input_x['t_in(t-1)'] = predictions_i[-2]\n",
    "            reshape_param = 2\n",
    "        else:\n",
    "            if predictions_i:\n",
    "                input_x['t_in'] = predictions_i[-1]\n",
    "            reshape_param = 1\n",
    "        inputX_values = input_x.values\n",
    "        inputX_values = inputX_values.reshape(1,reshape_param,5)\n",
    "        y = model.predict([inputX_values])\n",
    "        predictions_i.append(y[0][0])\n",
    "        #print(y[0][0])\n",
    "        errs_i.append(testY_df.loc[curr_time]*maxT_in - y[0][0]*maxT_in)\n",
    "        curr_time = curr_time + datetime.timedelta(minutes=5)\n",
    "    #print(predictions_i)\n",
    "    #print(errs_i)\n",
    "    return errs_i"
   ]
  },
  {
   "cell_type": "code",
   "execution_count": 22,
   "metadata": {
    "collapsed": true
   },
   "outputs": [],
   "source": [
    "def timeStepErrors(errs):\n",
    "    errors = []\n",
    "    for i in range(int(duration/5)):\n",
    "            ei = np.array([])\n",
    "            for e in errs:\n",
    "                ei = np.append(ei, e.loc[i]*e.loc[i])\n",
    "            errors.append(ei)\n",
    "    return errors\n",
    "\n",
    "def t_test(reg_errs, lstm_errs):\n",
    "    t_values = []\n",
    "    p_values = []\n",
    "    reg_errors = timeStepErrors(reg_errs)\n",
    "    lstm_errors = timeStepErrors(lstm_errs)\n",
    "    for i in range(len(reg_errors)):\n",
    "        t, p = stats.ttest_rel(reg_errors[i], lstm_errors[i])\n",
    "        t_values.append(t)\n",
    "        p_values.append(p)\n",
    "    return t_values, p_values\n",
    "\n",
    "def getTimeStepErrors(testX, testY, startList, duration, model, maxT_in, method, second_order=0):\n",
    "    errs = []\n",
    "    if method == \"lstm\":\n",
    "        for start in startList:\n",
    "            errs_i = forecastingLSTM(testX, testY, start, duration, model, maxT_in, second_order)\n",
    "            if errs_i:\n",
    "                errs.append(pd.Series(index=range(len(errs_i)), data=errs_i))\n",
    "    elif method == \"regression\":\n",
    "        for start in startList:\n",
    "            errs_i = forecasting(testX, testY, start, duration, model, second_order)\n",
    "            if errs_i:\n",
    "                errs.append(pd.Series(index=range(len(errs_i)), data=errs_i))\n",
    "    elif method == \"pca\":\n",
    "        for start in startList:\n",
    "            errs_i = forecastingPCA(testX, testY, start, duration, model, second_order)\n",
    "            if errs_i:\n",
    "                errs.append(pd.Series(index=range(len(errs_i)), data=errs_i))\n",
    "    #errors = timeStepErrors(errs)\n",
    "    return errs\n"
   ]
  },
  {
   "cell_type": "code",
   "execution_count": 23,
   "metadata": {
    "collapsed": true
   },
   "outputs": [],
   "source": [
    "def getErrors(testX, testY, startList, duration, model, maxT_in, method, second_order=0):\n",
    "    errs = []\n",
    "    if method == \"lstm\":\n",
    "        for start in startList:\n",
    "            errs_i = forecastingLSTM(testX, testY, start, duration, model, maxT_in, second_order)\n",
    "            if errs_i:\n",
    "                errs.append(pd.Series(index=range(len(errs_i)), data=errs_i))\n",
    "    elif method == \"regression\":\n",
    "        for start in startList:\n",
    "            errs_i = forecasting(testX, testY, start, duration, model, second_order)\n",
    "            if errs_i:\n",
    "                errs.append(pd.Series(index=range(len(errs_i)), data=errs_i))\n",
    "    elif method == \"pca\":\n",
    "        for start in startList:\n",
    "            errs_i = forecastingPCA(testX, testY, start, duration, model, second_order)\n",
    "            if errs_i:\n",
    "                errs.append(pd.Series(index=range(len(errs_i)), data=errs_i))\n",
    "    \n",
    "    final_errors = []\n",
    "    for i in range(int(duration/5)):\n",
    "        ei = np.array([])\n",
    "        for e in errs:\n",
    "            ei = np.append(ei, e.loc[i]*e.loc[i])\n",
    "        final_errors.append(sqrt(np.mean(ei)))\n",
    "    return final_errors"
   ]
  },
  {
   "cell_type": "code",
   "execution_count": 24,
   "metadata": {},
   "outputs": [
    {
     "data": {
      "image/png": "[encoded data removed]",
      "text/plain": [
       "<matplotlib.figure.Figure at 0x25916d6c550>"
      ]
     },
     "metadata": {},
     "output_type": "display_data"
    },
    {
     "data": {
      "text/html": [
       "<div>\n",
       "<style scoped>\n",
       "    .dataframe tbody tr th:only-of-type {\n",
       "        vertical-align: middle;\n",
       "    }\n",
       "\n",
       "    .dataframe tbody tr th {\n",
       "        vertical-align: top;\n",
       "    }\n",
       "\n",
       "    .dataframe thead th {\n",
       "        text-align: right;\n",
       "    }\n",
       "</style>\n",
       "<table border=\"1\" class=\"dataframe\">\n",
       "  <thead>\n",
       "    <tr style=\"text-align: right;\">\n",
       "      <th></th>\n",
       "      <th>linear</th>\n",
       "      <th>second_linear</th>\n",
       "      <th>pca_linear</th>\n",
       "      <th>second_pca_linear</th>\n",
       "    </tr>\n",
       "  </thead>\n",
       "  <tbody>\n",
       "    <tr>\n",
       "      <th>0</th>\n",
       "      <td>0.136189</td>\n",
       "      <td>0.136729</td>\n",
       "      <td>0.136189</td>\n",
       "      <td>0.167988</td>\n",
       "    </tr>\n",
       "    <tr>\n",
       "      <th>1</th>\n",
       "      <td>0.224200</td>\n",
       "      <td>0.226429</td>\n",
       "      <td>0.224200</td>\n",
       "      <td>0.240500</td>\n",
       "    </tr>\n",
       "    <tr>\n",
       "      <th>2</th>\n",
       "      <td>0.293201</td>\n",
       "      <td>0.298188</td>\n",
       "      <td>0.293201</td>\n",
       "      <td>0.319684</td>\n",
       "    </tr>\n",
       "    <tr>\n",
       "      <th>3</th>\n",
       "      <td>0.382428</td>\n",
       "      <td>0.390178</td>\n",
       "      <td>0.382428</td>\n",
       "      <td>0.405844</td>\n",
       "    </tr>\n",
       "    <tr>\n",
       "      <th>4</th>\n",
       "      <td>0.442598</td>\n",
       "      <td>0.452255</td>\n",
       "      <td>0.442598</td>\n",
       "      <td>0.467872</td>\n",
       "    </tr>\n",
       "  </tbody>\n",
       "</table>\n",
       "</div>"
      ],
      "text/plain": [
       "     linear  second_linear  pca_linear  second_pca_linear\n",
       "0  0.136189       0.136729    0.136189           0.167988\n",
       "1  0.224200       0.226429    0.224200           0.240500\n",
       "2  0.293201       0.298188    0.293201           0.319684\n",
       "3  0.382428       0.390178    0.382428           0.405844\n",
       "4  0.442598       0.452255    0.442598           0.467872"
      ]
     },
     "execution_count": 24,
     "metadata": {},
     "output_type": "execute_result"
    }
   ],
   "source": [
    "startSamples = test_X.sample(n=800)\n",
    "startList = startSamples.index\n",
    "duration = 60 * 7\n",
    "maxT_in = max(testing_data['t_in'])\n",
    "\n",
    "df_errors = pd.DataFrame()\n",
    "\n",
    "df_errors['linear'] = getErrors(test_X, test_y, startList, duration, linearModel,maxT_in, \"regression\")\n",
    "df_errors['second_linear'] = getErrors(second_test_X, second_test_y, startList, duration, second_linearModel, maxT_in, \"regression\", 1)\n",
    "\n",
    "df_errors['pca_linear'] = getErrors(test_X, test_y, startList, duration, pcaObj, maxT_in, \"pca\")\n",
    "df_errors['second_pca_linear'] = getErrors(second_test_X, second_test_y, startList, duration, second_pcaObj, maxT_in, \"pca\", 1)\n",
    "\n",
    "\n",
    "df_errors.plot()\n",
    "plt.xlabel('timesteps')\n",
    "plt.ylabel('rmse')\n",
    "plt.show()\n",
    "df_errors.head()"
   ]
  },
  {
   "cell_type": "code",
   "execution_count": 25,
   "metadata": {},
   "outputs": [
    {
     "data": {
      "image/png": "[encoded data removed]",
      "text/plain": [
       "<matplotlib.figure.Figure at 0x259191ff470>"
      ]
     },
     "metadata": {},
     "output_type": "display_data"
    }
   ],
   "source": [
    "df_errors['lstm'] = getErrors(testX_df, testY_df, startList, duration, lstmModel, maxT_in, \"lstm\")\n",
    "df_errors['second_lstm'] = getErrors(second_lstm_testX_df, second_lstm_testY_df, startList, duration, second_lstmModel, maxT_in, \"lstm\", 1)\n",
    "\n",
    "df_errors.plot()\n",
    "plt.xlabel('timesteps')\n",
    "plt.ylabel('rmse')\n",
    "plt.show()"
   ]
  },
  {
   "cell_type": "code",
   "execution_count": 32,
   "metadata": {},
   "outputs": [
    {
     "name": "stderr",
     "output_type": "stream",
     "text": [
      "C:\\Users\\Aishu\\Anaconda3\\lib\\site-packages\\seaborn\\categorical.py:598: FutureWarning: remove_na is deprecated and is a private function. Do not use.\n",
      "  kde_data = remove_na(group_data)\n",
      "C:\\Users\\Aishu\\Anaconda3\\lib\\site-packages\\seaborn\\categorical.py:826: FutureWarning: remove_na is deprecated and is a private function. Do not use.\n",
      "  violin_data = remove_na(group_data)\n"
     ]
    },
    {
     "data": {
      "image/png": "[encoded data removed]",
      "text/plain": [
       "<matplotlib.figure.Figure at 0x25919448fd0>"
      ]
     },
     "metadata": {},
     "output_type": "display_data"
    }
   ],
   "source": [
    "fig, ax = plt.subplots(figsize=(8,5))\n",
    "sns.violinplot(ax=ax, data=df_errors)\n",
    "plt.xlabel('timesteps')\n",
    "plt.ylabel('rmse')\n",
    "plt.show()"
   ]
  },
  {
   "cell_type": "code",
   "execution_count": 28,
   "metadata": {},
   "outputs": [
    {
     "name": "stdout",
     "output_type": "stream",
     "text": [
      "t: [-3.7407773787541196, -3.7431160079299204, -4.338307960141913, -4.4731041470505923, -4.4997769433540089, -4.5223425247935047, -4.7005760245810686, -4.9119832533527568, -4.8050262647627049, -4.7401602969086021, -4.7638668603992098, -4.7908534948673749, -4.668049129887299, -4.8816686666647318, -5.1692032802235079, -5.3937742485326146, -5.4059610404273366, -5.3504367936782318, -5.2620354438255701, -5.419918435346867, -5.3878680412724709, -5.3954943697552062, -5.3649395280617407, -5.3583770893375569, -5.2853893592595265, -5.1839654269441642, -5.0203804943580774, -4.8540514164566817, -4.8903913317130661, -5.0350241878542734, -5.1092937510613359, -5.0820334610296642, -4.92550773652101, -4.7594907209292803, -4.6907742574831568, -4.6258366720988189, -4.4934757513764865, -4.462152466718095, -4.4114237825002665, -4.4427118586038068, -4.4376937299276245, -4.4308438254019906, -4.4172813349833477, -4.4310780453344991, -4.4305146847205981, -4.399065488103858, -4.3831738693447768, -4.4067169010337688, -4.3879850768400237, -4.2958996547936472, -4.2220198083838003, -4.1583571353417241, -4.181678358636848, -4.1641940618728883, -4.1917759635675367, -4.1810926191468623, -4.188442330967777, -4.2504325818951632, -4.2037676798246553, -4.1551730561700921, -4.1337138358981909, -4.1028193958413421, -4.062473427699735, -4.0792795738245937, -4.1397387572776427, -4.1315805785681397, -4.1003959005074728, -4.1123680256862629, -4.1434150404028873, -4.138634504583993, -4.1378536225372358, -4.129343571661197, -4.0366535986654712, -4.0859462196059431, -4.1034496761104151, -4.1262696346884278, -4.1449190197429875, -4.0665692364468882, -4.0432105512246297, -4.0321553873218994, -3.9565815777088331, -3.8472139500508158, -3.8702571772144418, -3.8461003868117882]\n",
      "p: [0.00020470280669273146, 0.00020285799502498122, 1.737881309492541e-05, 9.5512211248742135e-06, 8.4688858114677331e-06, 7.6459712363452536e-06, 3.3592229928898076e-06, 1.2234012740794419e-06, 2.0489421586347527e-06, 2.7882747839358233e-06, 2.4923596004768898e-06, 2.1922786794536726e-06, 3.9110282144959212e-06, 1.4173125876456106e-06, 3.4049483903789655e-07, 1.0662885143155476e-07, 1.0000035842168033e-07, 1.338353218366388e-07, 2.1175718709399548e-07, 9.2899748917399035e-08, 1.0999283102159997e-07, 1.0566805229769819e-07, 1.2405553901582838e-07, 1.2839177127986921e-07, 1.8770003286794474e-07, 3.1587413184467056e-07, 7.1842523065459502e-07, 1.6195260760128235e-06, 1.3586704156282813e-06, 6.680761813246203e-07, 4.6089289566546123e-07, 5.284532686744126e-07, 1.1453948013821126e-06, 2.5446056876476983e-06, 3.5170925547192166e-06, 4.7581269356810994e-06, 8.7134333766861588e-06, 1.0032970893031834e-05, 1.2584723342678529e-05, 1.0946025984597205e-05, 1.1194327460502453e-05, 1.1541985964540491e-05, 1.2261069709256479e-05, 1.1529929590094465e-05, 1.1558948745482513e-05, 1.3294600477571848e-05, 1.4263883218582957e-05, 1.2850706826071488e-05, 1.3963515616705762e-05, 2.0913165637018927e-05, 2.8766983610389808e-05, 3.7721968828364498e-05, 3.4170602903977813e-05, 3.6801515267061571e-05, 3.2733849112605023e-05, 3.4255763121004298e-05, 3.3201693020369928e-05, 2.5461210503617686e-05, 3.1102328512855233e-05, 3.8233279952550235e-05, 4.1855320060143636e-05, 4.7647738030908922e-05, 5.6366337972980049e-05, 5.2564761693366001e-05, 4.0806700642656545e-05, 4.2232716462599235e-05, 4.8133009413675034e-05, 4.5780657588293062e-05, 4.0179189066666168e-05, 4.0997001945204971e-05, 4.1132084701596877e-05, 4.2631944387800307e-05, 6.2719708672513718e-05, 5.1125337888894025e-05, 4.7522297556619274e-05, 4.3186396310631931e-05, 3.9925128661407376e-05, 5.5416490926861953e-05, 6.1044749153195052e-05, 6.3893904690303296e-05, 8.702954804143684e-05, 0.00013492790087407433, 0.00012312629293924663, 0.00013552445883961893]\n"
     ]
    }
   ],
   "source": [
    "pca_reg2_errs = getTimeStepErrors(second_test_X, second_test_y, startList, duration, second_pcaObj, maxT_in, \"pca\", 1)\n",
    "pca_reg1_errs =  getTimeStepErrors(test_X, test_y, startList, duration, pcaObj, maxT_in, \"pca\", 0)\n",
    "t_values, p_values = t_test(pca_reg1_errs, pca_reg2_errs)\n",
    "print(\"t:\",t_values)\n",
    "print(\"p:\",p_values)"
   ]
  },
  {
   "cell_type": "code",
   "execution_count": null,
   "metadata": {},
   "outputs": [],
   "source": [
    "reg2_errs = getTimeStepErrors(second_test_X, second_test_y, startList, duration, second_linearModel, maxT_in, \"regression\", 1)\n",
    "reg1_errs =  getTimeStepErrors(test_X, test_y, startList, duration, linearModel, maxT_in, \"regression\", 0)       \n",
    "t_values, p_values = t_test(reg1_errs, reg2_errs)\n",
    "print(\"p:\",p_values)"
   ]
  },
  {
   "cell_type": "code",
   "execution_count": null,
   "metadata": {},
   "outputs": [],
   "source": [
    "t_values, p_values = t_test(reg1_errs, pca_reg1_errs)\n",
    "print(\"p:\",p_values)"
   ]
  },
  {
   "cell_type": "code",
   "execution_count": null,
   "metadata": {},
   "outputs": [],
   "source": [
    "t_values, p_values = t_test(reg1_errs, pca_reg2_errs)\n",
    "print(\"p:\",p_values)"
   ]
  },
  {
   "cell_type": "code",
   "execution_count": null,
   "metadata": {},
   "outputs": [],
   "source": [
    "t_values, p_values = t_test(reg2_errs, pca_reg1_errs)\n",
    "print(\"p:\",p_values)"
   ]
  },
  {
   "cell_type": "code",
   "execution_count": null,
   "metadata": {},
   "outputs": [],
   "source": [
    "t_values, p_values = t_test(reg2_errs, pca_reg2_errs)\n",
    "print(\"p:\",p_values)"
   ]
  },
  {
   "cell_type": "code",
   "execution_count": null,
   "metadata": {},
   "outputs": [],
   "source": [
    "lstm2_errs =  getTimeStepErrors(second_lstm_testX_df, second_lstm_testY_df, startList, duration, second_lstmModel, maxT_in, \"lstm\", 1)\n",
    "lstm1_errs =  getTimeStepErrors(testX_df, testY_df, startList, duration, lstmModel, maxT_in, \"lstm\", 0)  \n",
    "t_values, p_values = t_test(lstm1_errs, lstm2_errs)\n",
    "print(\"p:\",p_values)"
   ]
  },
  {
   "cell_type": "code",
   "execution_count": null,
   "metadata": {},
   "outputs": [],
   "source": [
    "t_values, p_values = t_test(reg1_errs, lstm1_errs)\n",
    "print(\"p:\",p_values)"
   ]
  },
  {
   "cell_type": "code",
   "execution_count": null,
   "metadata": {},
   "outputs": [],
   "source": [
    "t_values, p_values = t_test(reg1_errs, lstm2_errs)\n",
    "print(\"p:\",p_values)"
   ]
  },
  {
   "cell_type": "code",
   "execution_count": null,
   "metadata": {},
   "outputs": [],
   "source": [
    "t_values, p_values = t_test(reg2_errs, lstm1_errs)\n",
    "print(\"p:\",p_values)"
   ]
  },
  {
   "cell_type": "code",
   "execution_count": null,
   "metadata": {},
   "outputs": [],
   "source": [
    "t_values, p_values = t_test(reg2_errs, lstm2_errs)\n",
    "print(\"p:\",p_values)"
   ]
  },
  {
   "cell_type": "code",
   "execution_count": null,
   "metadata": {},
   "outputs": [],
   "source": [
    "t_values, p_values = t_test(pca_reg1_errs, lstm1_errs)\n",
    "print(\"p:\",p_values)"
   ]
  },
  {
   "cell_type": "code",
   "execution_count": null,
   "metadata": {},
   "outputs": [],
   "source": [
    "t_values, p_values = t_test(pca_reg1_errs, lstm2_errs)\n",
    "print(\"p:\",p_values)"
   ]
  },
  {
   "cell_type": "code",
   "execution_count": null,
   "metadata": {},
   "outputs": [],
   "source": [
    "t_values, p_values = t_test(pca_reg2_errs, lstm1_errs)\n",
    "print(\"p:\",p_values)"
   ]
  },
  {
   "cell_type": "code",
   "execution_count": null,
   "metadata": {},
   "outputs": [],
   "source": [
    "t_values, p_values = t_test(pca_reg2_errs, lstm2_errs)\n",
    "print(\"p:\",p_values)"
   ]
  },
  {
   "cell_type": "code",
   "execution_count": null,
   "metadata": {},
   "outputs": [],
   "source": []
  },
  {
   "cell_type": "code",
   "execution_count": null,
   "metadata": {},
   "outputs": [],
   "source": [
    "sns.boxplot(data=df_errors)\n",
    "plt.xlabel('timesteps')\n",
    "plt.ylabel('rmse')\n",
    "plt.show()"
   ]
  },
  {
   "cell_type": "code",
   "execution_count": null,
   "metadata": {
    "collapsed": true
   },
   "outputs": [],
   "source": []
  },
  {
   "cell_type": "code",
   "execution_count": null,
   "metadata": {},
   "outputs": [],
   "source": [
    "df_errors['lasso'] = getErrors(test_X, test_y, startList, duration, lassoModel, maxT_in, \"regression\")\n",
    "df_errors['ridge'] = getErrors(test_X, test_y, startList, duration, ridgeModel, maxT_in, \"regression\")\n",
    "\n",
    "df_errors['second_lasso'] = getErrors(second_test_X, second_test_y, startList, duration, second_lassoModel, maxT_in, \"regression\", 1)\n",
    "df_errors['second_ridge'] = getErrors(second_test_X, second_test_y, startList, duration, second_ridgeModel, maxT_in, \"regression\", 1)\n",
    "\n",
    "df_errors.plot()\n",
    "plt.show()"
   ]
  },
  {
   "cell_type": "code",
   "execution_count": null,
   "metadata": {},
   "outputs": [],
   "source": [
    "sns.violinplot(data=df_errors)\n",
    "plt.show()"
   ]
  },
  {
   "cell_type": "code",
   "execution_count": null,
   "metadata": {},
   "outputs": [],
   "source": [
    "sns.boxplot(data=df_errors)\n",
    "plt.show()"
   ]
  },
  {
   "cell_type": "code",
   "execution_count": null,
   "metadata": {},
   "outputs": [],
   "source": [
    "sns.regplot(x=df_errors, y=df_errors.index, data=df_errors)"
   ]
  },
  {
   "cell_type": "code",
   "execution_count": null,
   "metadata": {
    "collapsed": true
   },
   "outputs": [],
   "source": []
  },
  {
   "cell_type": "code",
   "execution_count": null,
   "metadata": {
    "collapsed": true
   },
   "outputs": [],
   "source": []
  }
 ],
 "metadata": {
  "kernelspec": {
   "display_name": "Python 3",
   "language": "python",
   "name": "python3"
  },
  "language_info": {
   "codemirror_mode": {
    "name": "ipython",
    "version": 3
   },
   "file_extension": ".py",
   "mimetype": "text/x-python",
   "name": "python",
   "nbconvert_exporter": "python",
   "pygments_lexer": "ipython3",
   "version": "3.6.3"
  }
 },
 "nbformat": 4,
 "nbformat_minor": 2
}
