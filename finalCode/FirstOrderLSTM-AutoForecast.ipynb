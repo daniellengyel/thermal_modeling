{
 "cells": [
  {
   "cell_type": "code",
   "execution_count": 1,
   "metadata": {
    "collapsed": true
   },
   "outputs": [],
   "source": [
    "import pickle\n",
    "import datetime\n",
    "import numpy as np\n",
    "import matplotlib.pyplot as plt\n",
    "import pandas as pd\n",
    "from math import sqrt"
   ]
  },
  {
   "cell_type": "code",
   "execution_count": 2,
   "metadata": {
    "collapsed": true
   },
   "outputs": [],
   "source": [
    "class ProcessingData:\n",
    "    \n",
    "    def __init__(self,filepath):\n",
    "        with open(filepath, 'rb') as f:\n",
    "            u = pickle._Unpickler(f)\n",
    "            u.encoding = 'latin1'\n",
    "            self.data = u.load()\n",
    "\n",
    "    def fix_data(self, interval):\n",
    "        \"\"\"Fixes up the data. Makes sure we count two stage as single stage actions, don't count float actions,\n",
    "        converts action duration and dt to floats, fill's nan's in action_duration and drops all datapoints which\n",
    "        don't have dt equal to interval.\n",
    "        :param data:\n",
    "        :param interval: float:minutes\"\"\"\n",
    "        def f(x):\n",
    "            if x == 0:\n",
    "                return 0\n",
    "            elif x == 2 or x == 5:\n",
    "                return 2\n",
    "            elif x ==1 or x == 3:\n",
    "                return 1\n",
    "\n",
    "        def h(x):\n",
    "            if x == 1:\n",
    "                return 1\n",
    "            else:\n",
    "                return 0\n",
    "\n",
    "        def c(x):\n",
    "            if x == 2:\n",
    "                return 1\n",
    "            else:\n",
    "                return 0\n",
    "\n",
    "        self.data[\"action\"] = self.data[\"action\"].map(f)\n",
    "        self.data['action_heating'] = self.data[\"action\"].map(h)\n",
    "        self.data['action_cooling'] = self.data['action'].map(c)\n",
    "\n",
    "        #print self.data.head()\n",
    "\n",
    "        return self.data, self.data[self.data[\"dt\"] == interval]\n",
    "    \n",
    "    def filter_data(self):\n",
    "        self.data = self.data.drop(['dt', 'action', 'previous_action', 'action_duration', \\\n",
    "                                    'zone_temperatureHVAC_Zone_Shelter_Corridor'], axis=1)\n",
    "        return self.data\n",
    "    \n",
    "    def drop_nan(self):\n",
    "        self.data = self.data.dropna()\n",
    "        return self.data\n"
   ]
  },
  {
   "cell_type": "code",
   "execution_count": 3,
   "metadata": {},
   "outputs": [
    {
     "data": {
      "text/html": [
       "<div>\n",
       "<style>\n",
       "    .dataframe thead tr:only-child th {\n",
       "        text-align: right;\n",
       "    }\n",
       "\n",
       "    .dataframe thead th {\n",
       "        text-align: left;\n",
       "    }\n",
       "\n",
       "    .dataframe tbody tr th {\n",
       "        vertical-align: top;\n",
       "    }\n",
       "</style>\n",
       "<table border=\"1\" class=\"dataframe\">\n",
       "  <thead>\n",
       "    <tr style=\"text-align: right;\">\n",
       "      <th></th>\n",
       "      <th>t_next</th>\n",
       "      <th>t_in</th>\n",
       "      <th>t_out</th>\n",
       "      <th>occ</th>\n",
       "      <th>action_heating</th>\n",
       "      <th>action_cooling</th>\n",
       "    </tr>\n",
       "    <tr>\n",
       "      <th>time</th>\n",
       "      <th></th>\n",
       "      <th></th>\n",
       "      <th></th>\n",
       "      <th></th>\n",
       "      <th></th>\n",
       "      <th></th>\n",
       "    </tr>\n",
       "  </thead>\n",
       "  <tbody>\n",
       "    <tr>\n",
       "      <th>2018-04-18 23:16:42+00:00</th>\n",
       "      <td>69.5</td>\n",
       "      <td>69.483333</td>\n",
       "      <td>66.499700</td>\n",
       "      <td>0.0</td>\n",
       "      <td>0</td>\n",
       "      <td>0</td>\n",
       "    </tr>\n",
       "    <tr>\n",
       "      <th>2018-04-18 23:21:42+00:00</th>\n",
       "      <td>69.5</td>\n",
       "      <td>69.500000</td>\n",
       "      <td>66.499700</td>\n",
       "      <td>0.0</td>\n",
       "      <td>0</td>\n",
       "      <td>0</td>\n",
       "    </tr>\n",
       "    <tr>\n",
       "      <th>2018-04-18 23:26:42+00:00</th>\n",
       "      <td>69.5</td>\n",
       "      <td>69.500000</td>\n",
       "      <td>66.520546</td>\n",
       "      <td>0.0</td>\n",
       "      <td>0</td>\n",
       "      <td>0</td>\n",
       "    </tr>\n",
       "    <tr>\n",
       "      <th>2018-04-18 23:31:42+00:00</th>\n",
       "      <td>69.4</td>\n",
       "      <td>69.500000</td>\n",
       "      <td>66.583083</td>\n",
       "      <td>0.0</td>\n",
       "      <td>0</td>\n",
       "      <td>0</td>\n",
       "    </tr>\n",
       "    <tr>\n",
       "      <th>2018-04-18 23:36:42+00:00</th>\n",
       "      <td>69.5</td>\n",
       "      <td>69.400000</td>\n",
       "      <td>66.666466</td>\n",
       "      <td>0.0</td>\n",
       "      <td>0</td>\n",
       "      <td>0</td>\n",
       "    </tr>\n",
       "  </tbody>\n",
       "</table>\n",
       "</div>"
      ],
      "text/plain": [
       "                           t_next       t_in      t_out  occ  action_heating  \\\n",
       "time                                                                           \n",
       "2018-04-18 23:16:42+00:00    69.5  69.483333  66.499700  0.0               0   \n",
       "2018-04-18 23:21:42+00:00    69.5  69.500000  66.499700  0.0               0   \n",
       "2018-04-18 23:26:42+00:00    69.5  69.500000  66.520546  0.0               0   \n",
       "2018-04-18 23:31:42+00:00    69.4  69.500000  66.583083  0.0               0   \n",
       "2018-04-18 23:36:42+00:00    69.5  69.400000  66.666466  0.0               0   \n",
       "\n",
       "                           action_cooling  \n",
       "time                                       \n",
       "2018-04-18 23:16:42+00:00               0  \n",
       "2018-04-18 23:21:42+00:00               0  \n",
       "2018-04-18 23:26:42+00:00               0  \n",
       "2018-04-18 23:31:42+00:00               0  \n",
       "2018-04-18 23:36:42+00:00               0  "
      ]
     },
     "execution_count": 3,
     "metadata": {},
     "output_type": "execute_result"
    }
   ],
   "source": [
    "training = ProcessingData(\"../../Data/avenal-animal-shelter_training_data.pkl\")\n",
    "training_data = training.fix_data(5)\n",
    "training_data = training.filter_data()\n",
    "training_data = training.drop_nan()\n",
    "training_data.head()"
   ]
  },
  {
   "cell_type": "code",
   "execution_count": 4,
   "metadata": {},
   "outputs": [
    {
     "data": {
      "text/html": [
       "<div>\n",
       "<style>\n",
       "    .dataframe thead tr:only-child th {\n",
       "        text-align: right;\n",
       "    }\n",
       "\n",
       "    .dataframe thead th {\n",
       "        text-align: left;\n",
       "    }\n",
       "\n",
       "    .dataframe tbody tr th {\n",
       "        vertical-align: top;\n",
       "    }\n",
       "</style>\n",
       "<table border=\"1\" class=\"dataframe\">\n",
       "  <thead>\n",
       "    <tr style=\"text-align: right;\">\n",
       "      <th></th>\n",
       "      <th>t_next</th>\n",
       "      <th>t_in</th>\n",
       "      <th>t_out</th>\n",
       "      <th>occ</th>\n",
       "      <th>action_heating</th>\n",
       "      <th>action_cooling</th>\n",
       "    </tr>\n",
       "    <tr>\n",
       "      <th>time</th>\n",
       "      <th></th>\n",
       "      <th></th>\n",
       "      <th></th>\n",
       "      <th></th>\n",
       "      <th></th>\n",
       "      <th></th>\n",
       "    </tr>\n",
       "  </thead>\n",
       "  <tbody>\n",
       "    <tr>\n",
       "      <th>2018-03-20 00:00:00+00:00</th>\n",
       "      <td>72.8</td>\n",
       "      <td>72.8</td>\n",
       "      <td>67.778613</td>\n",
       "      <td>0.0</td>\n",
       "      <td>0</td>\n",
       "      <td>0</td>\n",
       "    </tr>\n",
       "    <tr>\n",
       "      <th>2018-03-20 00:05:00+00:00</th>\n",
       "      <td>73.0</td>\n",
       "      <td>72.8</td>\n",
       "      <td>67.807436</td>\n",
       "      <td>0.0</td>\n",
       "      <td>0</td>\n",
       "      <td>0</td>\n",
       "    </tr>\n",
       "    <tr>\n",
       "      <th>2018-03-20 00:10:00+00:00</th>\n",
       "      <td>73.0</td>\n",
       "      <td>73.0</td>\n",
       "      <td>67.835998</td>\n",
       "      <td>0.0</td>\n",
       "      <td>0</td>\n",
       "      <td>0</td>\n",
       "    </tr>\n",
       "    <tr>\n",
       "      <th>2018-03-20 00:15:00+00:00</th>\n",
       "      <td>73.0</td>\n",
       "      <td>73.0</td>\n",
       "      <td>67.864038</td>\n",
       "      <td>0.0</td>\n",
       "      <td>0</td>\n",
       "      <td>0</td>\n",
       "    </tr>\n",
       "    <tr>\n",
       "      <th>2018-03-20 00:20:00+00:00</th>\n",
       "      <td>73.0</td>\n",
       "      <td>73.0</td>\n",
       "      <td>67.891817</td>\n",
       "      <td>0.0</td>\n",
       "      <td>0</td>\n",
       "      <td>0</td>\n",
       "    </tr>\n",
       "  </tbody>\n",
       "</table>\n",
       "</div>"
      ],
      "text/plain": [
       "                           t_next  t_in      t_out  occ  action_heating  \\\n",
       "time                                                                      \n",
       "2018-03-20 00:00:00+00:00    72.8  72.8  67.778613  0.0               0   \n",
       "2018-03-20 00:05:00+00:00    73.0  72.8  67.807436  0.0               0   \n",
       "2018-03-20 00:10:00+00:00    73.0  73.0  67.835998  0.0               0   \n",
       "2018-03-20 00:15:00+00:00    73.0  73.0  67.864038  0.0               0   \n",
       "2018-03-20 00:20:00+00:00    73.0  73.0  67.891817  0.0               0   \n",
       "\n",
       "                           action_cooling  \n",
       "time                                       \n",
       "2018-03-20 00:00:00+00:00               0  \n",
       "2018-03-20 00:05:00+00:00               0  \n",
       "2018-03-20 00:10:00+00:00               0  \n",
       "2018-03-20 00:15:00+00:00               0  \n",
       "2018-03-20 00:20:00+00:00               0  "
      ]
     },
     "execution_count": 4,
     "metadata": {},
     "output_type": "execute_result"
    }
   ],
   "source": [
    "testing = ProcessingData(\"../../Data/avenal-animal-shelter_test_data.pkl\")\n",
    "testing_data = testing.fix_data(5)\n",
    "testing_data = testing.filter_data()\n",
    "testing_data = testing.drop_nan()\n",
    "testing_data.head()"
   ]
  },
  {
   "cell_type": "code",
   "execution_count": 5,
   "metadata": {
    "collapsed": true
   },
   "outputs": [],
   "source": [
    "def scaling(data):\n",
    "    maxValues = []\n",
    "    scaled = np.empty([data.shape[0], data.shape[1]])\n",
    "    numSamples = data.shape[0]\n",
    "    numFeatures = data.shape[1]\n",
    "    dataValues = data.values\n",
    "    dataValues = dataValues.astype('float32')\n",
    "    for i in range(numFeatures):\n",
    "        maxNum = max(dataValues[:,i])\n",
    "        maxValues.append(maxNum)\n",
    "        for j in range(numSamples):\n",
    "            scaled[j,i] = dataValues[j,i]/maxNum\n",
    "    return scaled, maxValues"
   ]
  },
  {
   "cell_type": "code",
   "execution_count": 6,
   "metadata": {},
   "outputs": [
    {
     "data": {
      "text/html": [
       "<div>\n",
       "<style>\n",
       "    .dataframe thead tr:only-child th {\n",
       "        text-align: right;\n",
       "    }\n",
       "\n",
       "    .dataframe thead th {\n",
       "        text-align: left;\n",
       "    }\n",
       "\n",
       "    .dataframe tbody tr th {\n",
       "        vertical-align: top;\n",
       "    }\n",
       "</style>\n",
       "<table border=\"1\" class=\"dataframe\">\n",
       "  <thead>\n",
       "    <tr style=\"text-align: right;\">\n",
       "      <th></th>\n",
       "      <th>t_next</th>\n",
       "      <th>t_in</th>\n",
       "      <th>t_out</th>\n",
       "      <th>occ</th>\n",
       "      <th>action_heating</th>\n",
       "      <th>action_cooling</th>\n",
       "    </tr>\n",
       "    <tr>\n",
       "      <th>time</th>\n",
       "      <th></th>\n",
       "      <th></th>\n",
       "      <th></th>\n",
       "      <th></th>\n",
       "      <th></th>\n",
       "      <th></th>\n",
       "    </tr>\n",
       "  </thead>\n",
       "  <tbody>\n",
       "    <tr>\n",
       "      <th>2018-04-18 23:16:42+00:00</th>\n",
       "      <td>0.856967</td>\n",
       "      <td>0.856761</td>\n",
       "      <td>0.639420</td>\n",
       "      <td>0.0</td>\n",
       "      <td>0.0</td>\n",
       "      <td>0.0</td>\n",
       "    </tr>\n",
       "    <tr>\n",
       "      <th>2018-04-18 23:21:42+00:00</th>\n",
       "      <td>0.856967</td>\n",
       "      <td>0.856967</td>\n",
       "      <td>0.639420</td>\n",
       "      <td>0.0</td>\n",
       "      <td>0.0</td>\n",
       "      <td>0.0</td>\n",
       "    </tr>\n",
       "    <tr>\n",
       "      <th>2018-04-18 23:26:42+00:00</th>\n",
       "      <td>0.856967</td>\n",
       "      <td>0.856967</td>\n",
       "      <td>0.639621</td>\n",
       "      <td>0.0</td>\n",
       "      <td>0.0</td>\n",
       "      <td>0.0</td>\n",
       "    </tr>\n",
       "    <tr>\n",
       "      <th>2018-04-18 23:31:42+00:00</th>\n",
       "      <td>0.855734</td>\n",
       "      <td>0.856967</td>\n",
       "      <td>0.640222</td>\n",
       "      <td>0.0</td>\n",
       "      <td>0.0</td>\n",
       "      <td>0.0</td>\n",
       "    </tr>\n",
       "    <tr>\n",
       "      <th>2018-04-18 23:36:42+00:00</th>\n",
       "      <td>0.856967</td>\n",
       "      <td>0.855734</td>\n",
       "      <td>0.641024</td>\n",
       "      <td>0.0</td>\n",
       "      <td>0.0</td>\n",
       "      <td>0.0</td>\n",
       "    </tr>\n",
       "  </tbody>\n",
       "</table>\n",
       "</div>"
      ],
      "text/plain": [
       "                             t_next      t_in     t_out  occ  action_heating  \\\n",
       "time                                                                           \n",
       "2018-04-18 23:16:42+00:00  0.856967  0.856761  0.639420  0.0             0.0   \n",
       "2018-04-18 23:21:42+00:00  0.856967  0.856967  0.639420  0.0             0.0   \n",
       "2018-04-18 23:26:42+00:00  0.856967  0.856967  0.639621  0.0             0.0   \n",
       "2018-04-18 23:31:42+00:00  0.855734  0.856967  0.640222  0.0             0.0   \n",
       "2018-04-18 23:36:42+00:00  0.856967  0.855734  0.641024  0.0             0.0   \n",
       "\n",
       "                           action_cooling  \n",
       "time                                       \n",
       "2018-04-18 23:16:42+00:00             0.0  \n",
       "2018-04-18 23:21:42+00:00             0.0  \n",
       "2018-04-18 23:26:42+00:00             0.0  \n",
       "2018-04-18 23:31:42+00:00             0.0  \n",
       "2018-04-18 23:36:42+00:00             0.0  "
      ]
     },
     "execution_count": 6,
     "metadata": {},
     "output_type": "execute_result"
    }
   ],
   "source": [
    "train_scaled, train_scalers = scaling(training_data)\n",
    "train_scaled = pd.DataFrame(data=train_scaled, index=training_data.index, columns=['t_next', 't_in', 't_out', 'occ', 'action_heating', 'action_cooling'])\n",
    "train_scaled.head()"
   ]
  },
  {
   "cell_type": "code",
   "execution_count": 7,
   "metadata": {},
   "outputs": [
    {
     "data": {
      "text/html": [
       "<div>\n",
       "<style>\n",
       "    .dataframe thead tr:only-child th {\n",
       "        text-align: right;\n",
       "    }\n",
       "\n",
       "    .dataframe thead th {\n",
       "        text-align: left;\n",
       "    }\n",
       "\n",
       "    .dataframe tbody tr th {\n",
       "        vertical-align: top;\n",
       "    }\n",
       "</style>\n",
       "<table border=\"1\" class=\"dataframe\">\n",
       "  <thead>\n",
       "    <tr style=\"text-align: right;\">\n",
       "      <th></th>\n",
       "      <th>t_next</th>\n",
       "      <th>t_in</th>\n",
       "      <th>t_out</th>\n",
       "      <th>occ</th>\n",
       "      <th>action_heating</th>\n",
       "      <th>action_cooling</th>\n",
       "    </tr>\n",
       "    <tr>\n",
       "      <th>time</th>\n",
       "      <th></th>\n",
       "      <th></th>\n",
       "      <th></th>\n",
       "      <th></th>\n",
       "      <th></th>\n",
       "      <th></th>\n",
       "    </tr>\n",
       "  </thead>\n",
       "  <tbody>\n",
       "    <tr>\n",
       "      <th>2018-03-20 00:00:00+00:00</th>\n",
       "      <td>0.941785</td>\n",
       "      <td>0.941785</td>\n",
       "      <td>0.747789</td>\n",
       "      <td>0.0</td>\n",
       "      <td>0.0</td>\n",
       "      <td>0.0</td>\n",
       "    </tr>\n",
       "    <tr>\n",
       "      <th>2018-03-20 00:05:00+00:00</th>\n",
       "      <td>0.944373</td>\n",
       "      <td>0.941785</td>\n",
       "      <td>0.748107</td>\n",
       "      <td>0.0</td>\n",
       "      <td>0.0</td>\n",
       "      <td>0.0</td>\n",
       "    </tr>\n",
       "    <tr>\n",
       "      <th>2018-03-20 00:10:00+00:00</th>\n",
       "      <td>0.944373</td>\n",
       "      <td>0.944373</td>\n",
       "      <td>0.748422</td>\n",
       "      <td>0.0</td>\n",
       "      <td>0.0</td>\n",
       "      <td>0.0</td>\n",
       "    </tr>\n",
       "    <tr>\n",
       "      <th>2018-03-20 00:15:00+00:00</th>\n",
       "      <td>0.944373</td>\n",
       "      <td>0.944373</td>\n",
       "      <td>0.748731</td>\n",
       "      <td>0.0</td>\n",
       "      <td>0.0</td>\n",
       "      <td>0.0</td>\n",
       "    </tr>\n",
       "    <tr>\n",
       "      <th>2018-03-20 00:20:00+00:00</th>\n",
       "      <td>0.944373</td>\n",
       "      <td>0.944373</td>\n",
       "      <td>0.749038</td>\n",
       "      <td>0.0</td>\n",
       "      <td>0.0</td>\n",
       "      <td>0.0</td>\n",
       "    </tr>\n",
       "  </tbody>\n",
       "</table>\n",
       "</div>"
      ],
      "text/plain": [
       "                             t_next      t_in     t_out  occ  action_heating  \\\n",
       "time                                                                           \n",
       "2018-03-20 00:00:00+00:00  0.941785  0.941785  0.747789  0.0             0.0   \n",
       "2018-03-20 00:05:00+00:00  0.944373  0.941785  0.748107  0.0             0.0   \n",
       "2018-03-20 00:10:00+00:00  0.944373  0.944373  0.748422  0.0             0.0   \n",
       "2018-03-20 00:15:00+00:00  0.944373  0.944373  0.748731  0.0             0.0   \n",
       "2018-03-20 00:20:00+00:00  0.944373  0.944373  0.749038  0.0             0.0   \n",
       "\n",
       "                           action_cooling  \n",
       "time                                       \n",
       "2018-03-20 00:00:00+00:00             0.0  \n",
       "2018-03-20 00:05:00+00:00             0.0  \n",
       "2018-03-20 00:10:00+00:00             0.0  \n",
       "2018-03-20 00:15:00+00:00             0.0  \n",
       "2018-03-20 00:20:00+00:00             0.0  "
      ]
     },
     "execution_count": 7,
     "metadata": {},
     "output_type": "execute_result"
    }
   ],
   "source": [
    "test_scaled, test_scalers = scaling(testing_data)\n",
    "test_scaled = pd.DataFrame(data=test_scaled, index=testing_data.index, columns=['t_next', 't_in', 't_out', 'occ', 'action_heating', 'action_cooling'])\n",
    "test_scaled.head()"
   ]
  },
  {
   "cell_type": "code",
   "execution_count": 8,
   "metadata": {},
   "outputs": [
    {
     "data": {
      "text/html": [
       "<div>\n",
       "<style>\n",
       "    .dataframe thead tr:only-child th {\n",
       "        text-align: right;\n",
       "    }\n",
       "\n",
       "    .dataframe thead th {\n",
       "        text-align: left;\n",
       "    }\n",
       "\n",
       "    .dataframe tbody tr th {\n",
       "        vertical-align: top;\n",
       "    }\n",
       "</style>\n",
       "<table border=\"1\" class=\"dataframe\">\n",
       "  <thead>\n",
       "    <tr style=\"text-align: right;\">\n",
       "      <th></th>\n",
       "      <th>t_in</th>\n",
       "      <th>t_out</th>\n",
       "      <th>occ</th>\n",
       "      <th>action_heating</th>\n",
       "      <th>action_cooling</th>\n",
       "    </tr>\n",
       "    <tr>\n",
       "      <th>time</th>\n",
       "      <th></th>\n",
       "      <th></th>\n",
       "      <th></th>\n",
       "      <th></th>\n",
       "      <th></th>\n",
       "    </tr>\n",
       "  </thead>\n",
       "  <tbody>\n",
       "    <tr>\n",
       "      <th>2018-04-18 23:16:42+00:00</th>\n",
       "      <td>0.856761</td>\n",
       "      <td>0.639420</td>\n",
       "      <td>0.0</td>\n",
       "      <td>0.0</td>\n",
       "      <td>0.0</td>\n",
       "    </tr>\n",
       "    <tr>\n",
       "      <th>2018-04-18 23:21:42+00:00</th>\n",
       "      <td>0.856967</td>\n",
       "      <td>0.639420</td>\n",
       "      <td>0.0</td>\n",
       "      <td>0.0</td>\n",
       "      <td>0.0</td>\n",
       "    </tr>\n",
       "    <tr>\n",
       "      <th>2018-04-18 23:26:42+00:00</th>\n",
       "      <td>0.856967</td>\n",
       "      <td>0.639621</td>\n",
       "      <td>0.0</td>\n",
       "      <td>0.0</td>\n",
       "      <td>0.0</td>\n",
       "    </tr>\n",
       "    <tr>\n",
       "      <th>2018-04-18 23:31:42+00:00</th>\n",
       "      <td>0.856967</td>\n",
       "      <td>0.640222</td>\n",
       "      <td>0.0</td>\n",
       "      <td>0.0</td>\n",
       "      <td>0.0</td>\n",
       "    </tr>\n",
       "    <tr>\n",
       "      <th>2018-04-18 23:36:42+00:00</th>\n",
       "      <td>0.855734</td>\n",
       "      <td>0.641024</td>\n",
       "      <td>0.0</td>\n",
       "      <td>0.0</td>\n",
       "      <td>0.0</td>\n",
       "    </tr>\n",
       "  </tbody>\n",
       "</table>\n",
       "</div>"
      ],
      "text/plain": [
       "                               t_in     t_out  occ  action_heating  \\\n",
       "time                                                                 \n",
       "2018-04-18 23:16:42+00:00  0.856761  0.639420  0.0             0.0   \n",
       "2018-04-18 23:21:42+00:00  0.856967  0.639420  0.0             0.0   \n",
       "2018-04-18 23:26:42+00:00  0.856967  0.639621  0.0             0.0   \n",
       "2018-04-18 23:31:42+00:00  0.856967  0.640222  0.0             0.0   \n",
       "2018-04-18 23:36:42+00:00  0.855734  0.641024  0.0             0.0   \n",
       "\n",
       "                           action_cooling  \n",
       "time                                       \n",
       "2018-04-18 23:16:42+00:00             0.0  \n",
       "2018-04-18 23:21:42+00:00             0.0  \n",
       "2018-04-18 23:26:42+00:00             0.0  \n",
       "2018-04-18 23:31:42+00:00             0.0  \n",
       "2018-04-18 23:36:42+00:00             0.0  "
      ]
     },
     "execution_count": 8,
     "metadata": {},
     "output_type": "execute_result"
    }
   ],
   "source": [
    "trainY_df = train_scaled['t_next']\n",
    "trainX_df = train_scaled.drop(['t_next'], axis=1)\n",
    "trainX_df.head()"
   ]
  },
  {
   "cell_type": "code",
   "execution_count": 9,
   "metadata": {},
   "outputs": [
    {
     "data": {
      "text/html": [
       "<div>\n",
       "<style>\n",
       "    .dataframe thead tr:only-child th {\n",
       "        text-align: right;\n",
       "    }\n",
       "\n",
       "    .dataframe thead th {\n",
       "        text-align: left;\n",
       "    }\n",
       "\n",
       "    .dataframe tbody tr th {\n",
       "        vertical-align: top;\n",
       "    }\n",
       "</style>\n",
       "<table border=\"1\" class=\"dataframe\">\n",
       "  <thead>\n",
       "    <tr style=\"text-align: right;\">\n",
       "      <th></th>\n",
       "      <th>t_in</th>\n",
       "      <th>t_out</th>\n",
       "      <th>occ</th>\n",
       "      <th>action_heating</th>\n",
       "      <th>action_cooling</th>\n",
       "    </tr>\n",
       "    <tr>\n",
       "      <th>time</th>\n",
       "      <th></th>\n",
       "      <th></th>\n",
       "      <th></th>\n",
       "      <th></th>\n",
       "      <th></th>\n",
       "    </tr>\n",
       "  </thead>\n",
       "  <tbody>\n",
       "    <tr>\n",
       "      <th>2018-03-20 00:00:00+00:00</th>\n",
       "      <td>0.941785</td>\n",
       "      <td>0.747789</td>\n",
       "      <td>0.0</td>\n",
       "      <td>0.0</td>\n",
       "      <td>0.0</td>\n",
       "    </tr>\n",
       "    <tr>\n",
       "      <th>2018-03-20 00:05:00+00:00</th>\n",
       "      <td>0.941785</td>\n",
       "      <td>0.748107</td>\n",
       "      <td>0.0</td>\n",
       "      <td>0.0</td>\n",
       "      <td>0.0</td>\n",
       "    </tr>\n",
       "    <tr>\n",
       "      <th>2018-03-20 00:10:00+00:00</th>\n",
       "      <td>0.944373</td>\n",
       "      <td>0.748422</td>\n",
       "      <td>0.0</td>\n",
       "      <td>0.0</td>\n",
       "      <td>0.0</td>\n",
       "    </tr>\n",
       "    <tr>\n",
       "      <th>2018-03-20 00:15:00+00:00</th>\n",
       "      <td>0.944373</td>\n",
       "      <td>0.748731</td>\n",
       "      <td>0.0</td>\n",
       "      <td>0.0</td>\n",
       "      <td>0.0</td>\n",
       "    </tr>\n",
       "    <tr>\n",
       "      <th>2018-03-20 00:20:00+00:00</th>\n",
       "      <td>0.944373</td>\n",
       "      <td>0.749038</td>\n",
       "      <td>0.0</td>\n",
       "      <td>0.0</td>\n",
       "      <td>0.0</td>\n",
       "    </tr>\n",
       "  </tbody>\n",
       "</table>\n",
       "</div>"
      ],
      "text/plain": [
       "                               t_in     t_out  occ  action_heating  \\\n",
       "time                                                                 \n",
       "2018-03-20 00:00:00+00:00  0.941785  0.747789  0.0             0.0   \n",
       "2018-03-20 00:05:00+00:00  0.941785  0.748107  0.0             0.0   \n",
       "2018-03-20 00:10:00+00:00  0.944373  0.748422  0.0             0.0   \n",
       "2018-03-20 00:15:00+00:00  0.944373  0.748731  0.0             0.0   \n",
       "2018-03-20 00:20:00+00:00  0.944373  0.749038  0.0             0.0   \n",
       "\n",
       "                           action_cooling  \n",
       "time                                       \n",
       "2018-03-20 00:00:00+00:00             0.0  \n",
       "2018-03-20 00:05:00+00:00             0.0  \n",
       "2018-03-20 00:10:00+00:00             0.0  \n",
       "2018-03-20 00:15:00+00:00             0.0  \n",
       "2018-03-20 00:20:00+00:00             0.0  "
      ]
     },
     "execution_count": 9,
     "metadata": {},
     "output_type": "execute_result"
    }
   ],
   "source": [
    "testY_df = test_scaled['t_next']\n",
    "testX_df = test_scaled.drop(['t_next'], axis=1)\n",
    "testX_df.head()"
   ]
  },
  {
   "cell_type": "code",
   "execution_count": 10,
   "metadata": {},
   "outputs": [
    {
     "data": {
      "text/plain": [
       "array([ 0.85696673,  0.85696673,  0.85696673, ...,  0.85573369,\n",
       "        0.85819978,  0.85943276])"
      ]
     },
     "execution_count": 10,
     "metadata": {},
     "output_type": "execute_result"
    }
   ],
   "source": [
    "# split into input and outputs\n",
    "train = train_scaled.values\n",
    "test = test_scaled.values\n",
    "train_X, train_y = train[:, 1:], train[:, 0]\n",
    "test_X, test_y = test[:, 1:], test[:, 0]\n",
    "train_y"
   ]
  },
  {
   "cell_type": "code",
   "execution_count": 11,
   "metadata": {},
   "outputs": [
    {
     "name": "stdout",
     "output_type": "stream",
     "text": [
      "(53186, 1, 5) (53186,) (13390, 1, 5) (13390,)\n"
     ]
    }
   ],
   "source": [
    "# reshape input to be 3D [samples, timesteps, features]\n",
    "train_X = train_X.reshape((train_X.shape[0], 1, 5))\n",
    "test_X = test_X.reshape((test_X.shape[0], 1, 5))\n",
    "print(train_X.shape, train_y.shape, test_X.shape, test_y.shape)"
   ]
  },
  {
   "cell_type": "code",
   "execution_count": 12,
   "metadata": {},
   "outputs": [
    {
     "name": "stderr",
     "output_type": "stream",
     "text": [
      "Using TensorFlow backend.\n"
     ]
    }
   ],
   "source": [
    "from sklearn.metrics import mean_squared_error\n",
    "from keras.models import Sequential\n",
    "from keras.layers import Dense\n",
    "from keras.layers import LSTM"
   ]
  },
  {
   "cell_type": "code",
   "execution_count": 13,
   "metadata": {},
   "outputs": [
    {
     "name": "stdout",
     "output_type": "stream",
     "text": [
      "Train on 53186 samples, validate on 13390 samples\n",
      "Epoch 1/50\n",
      " - 3s - loss: 0.0873 - acc: 3.3843e-04 - val_loss: 0.0258 - val_acc: 7.4683e-04\n",
      "Epoch 2/50\n",
      " - 2s - loss: 0.0183 - acc: 3.3843e-04 - val_loss: 0.0254 - val_acc: 7.4683e-04\n",
      "Epoch 3/50\n",
      " - 1s - loss: 0.0175 - acc: 3.3843e-04 - val_loss: 0.0250 - val_acc: 7.4683e-04\n",
      "Epoch 4/50\n",
      " - 2s - loss: 0.0167 - acc: 3.3843e-04 - val_loss: 0.0240 - val_acc: 7.4683e-04\n",
      "Epoch 5/50\n",
      " - 2s - loss: 0.0161 - acc: 3.3843e-04 - val_loss: 0.0253 - val_acc: 7.4683e-04\n",
      "Epoch 6/50\n",
      " - 2s - loss: 0.0160 - acc: 3.3843e-04 - val_loss: 0.0282 - val_acc: 7.4683e-04\n",
      "Epoch 7/50\n",
      " - 1s - loss: 0.0158 - acc: 3.3843e-04 - val_loss: 0.0285 - val_acc: 7.4683e-04\n",
      "Epoch 8/50\n",
      " - 1s - loss: 0.0157 - acc: 3.3843e-04 - val_loss: 0.0285 - val_acc: 7.4683e-04\n",
      "Epoch 9/50\n",
      " - 2s - loss: 0.0155 - acc: 3.3843e-04 - val_loss: 0.0280 - val_acc: 7.4683e-04\n",
      "Epoch 10/50\n",
      " - 1s - loss: 0.0153 - acc: 3.3843e-04 - val_loss: 0.0283 - val_acc: 7.4683e-04\n",
      "Epoch 11/50\n",
      " - 2s - loss: 0.0150 - acc: 3.3843e-04 - val_loss: 0.0291 - val_acc: 7.4683e-04\n",
      "Epoch 12/50\n",
      " - 1s - loss: 0.0150 - acc: 3.3843e-04 - val_loss: 0.0283 - val_acc: 7.4683e-04\n",
      "Epoch 13/50\n",
      " - 2s - loss: 0.0148 - acc: 3.3843e-04 - val_loss: 0.0287 - val_acc: 7.4683e-04\n",
      "Epoch 14/50\n",
      " - 1s - loss: 0.0146 - acc: 3.3843e-04 - val_loss: 0.0291 - val_acc: 7.4683e-04\n",
      "Epoch 15/50\n",
      " - 1s - loss: 0.0144 - acc: 3.3843e-04 - val_loss: 0.0288 - val_acc: 7.4683e-04\n",
      "Epoch 16/50\n",
      " - 2s - loss: 0.0140 - acc: 3.3843e-04 - val_loss: 0.0298 - val_acc: 7.4683e-04\n",
      "Epoch 17/50\n",
      " - 2s - loss: 0.0138 - acc: 3.3843e-04 - val_loss: 0.0283 - val_acc: 7.4683e-04\n",
      "Epoch 18/50\n",
      " - 1s - loss: 0.0135 - acc: 3.3843e-04 - val_loss: 0.0288 - val_acc: 7.4683e-04\n",
      "Epoch 19/50\n",
      " - 1s - loss: 0.0133 - acc: 3.3843e-04 - val_loss: 0.0285 - val_acc: 7.4683e-04\n",
      "Epoch 20/50\n",
      " - 2s - loss: 0.0131 - acc: 3.3843e-04 - val_loss: 0.0285 - val_acc: 7.4683e-04\n",
      "Epoch 21/50\n",
      " - 1s - loss: 0.0130 - acc: 3.3843e-04 - val_loss: 0.0281 - val_acc: 7.4683e-04\n",
      "Epoch 22/50\n",
      " - 1s - loss: 0.0128 - acc: 3.3843e-04 - val_loss: 0.0279 - val_acc: 7.4683e-04\n",
      "Epoch 23/50\n",
      " - 1s - loss: 0.0125 - acc: 3.3843e-04 - val_loss: 0.0275 - val_acc: 7.4683e-04\n",
      "Epoch 24/50\n",
      " - 2s - loss: 0.0123 - acc: 3.3843e-04 - val_loss: 0.0267 - val_acc: 7.4683e-04\n",
      "Epoch 25/50\n",
      " - 2s - loss: 0.0121 - acc: 3.3843e-04 - val_loss: 0.0261 - val_acc: 7.4683e-04\n",
      "Epoch 26/50\n",
      " - 1s - loss: 0.0119 - acc: 3.3843e-04 - val_loss: 0.0252 - val_acc: 7.4683e-04\n",
      "Epoch 27/50\n",
      " - 2s - loss: 0.0117 - acc: 3.3843e-04 - val_loss: 0.0248 - val_acc: 7.4683e-04\n",
      "Epoch 28/50\n",
      " - 2s - loss: 0.0115 - acc: 3.3843e-04 - val_loss: 0.0250 - val_acc: 7.4683e-04\n",
      "Epoch 29/50\n",
      " - 2s - loss: 0.0112 - acc: 3.3843e-04 - val_loss: 0.0248 - val_acc: 7.4683e-04\n",
      "Epoch 30/50\n",
      " - 2s - loss: 0.0110 - acc: 3.3843e-04 - val_loss: 0.0249 - val_acc: 7.4683e-04\n",
      "Epoch 31/50\n",
      " - 2s - loss: 0.0108 - acc: 3.3843e-04 - val_loss: 0.0246 - val_acc: 7.4683e-04\n",
      "Epoch 32/50\n",
      " - 2s - loss: 0.0106 - acc: 3.3843e-04 - val_loss: 0.0241 - val_acc: 7.4683e-04\n",
      "Epoch 33/50\n",
      " - 1s - loss: 0.0102 - acc: 3.3843e-04 - val_loss: 0.0232 - val_acc: 7.4683e-04\n",
      "Epoch 34/50\n",
      " - 2s - loss: 0.0100 - acc: 3.3843e-04 - val_loss: 0.0225 - val_acc: 7.4683e-04\n",
      "Epoch 35/50\n",
      " - 2s - loss: 0.0097 - acc: 3.3843e-04 - val_loss: 0.0215 - val_acc: 7.4683e-04\n",
      "Epoch 36/50\n",
      " - 1s - loss: 0.0094 - acc: 3.3843e-04 - val_loss: 0.0186 - val_acc: 7.4683e-04\n",
      "Epoch 37/50\n",
      " - 2s - loss: 0.0092 - acc: 3.3843e-04 - val_loss: 0.0191 - val_acc: 7.4683e-04\n",
      "Epoch 38/50\n",
      " - 2s - loss: 0.0089 - acc: 3.3843e-04 - val_loss: 0.0167 - val_acc: 7.4683e-04\n",
      "Epoch 39/50\n",
      " - 2s - loss: 0.0087 - acc: 3.3843e-04 - val_loss: 0.0153 - val_acc: 7.4683e-04\n",
      "Epoch 40/50\n",
      " - 1s - loss: 0.0080 - acc: 3.3843e-04 - val_loss: 0.0175 - val_acc: 7.4683e-04\n",
      "Epoch 41/50\n",
      " - 2s - loss: 0.0077 - acc: 3.3843e-04 - val_loss: 0.0170 - val_acc: 7.4683e-04\n",
      "Epoch 42/50\n",
      " - 1s - loss: 0.0073 - acc: 3.3843e-04 - val_loss: 0.0156 - val_acc: 7.4683e-04\n",
      "Epoch 43/50\n",
      " - 2s - loss: 0.0073 - acc: 3.3843e-04 - val_loss: 0.0158 - val_acc: 7.4683e-04\n",
      "Epoch 44/50\n",
      " - 2s - loss: 0.0067 - acc: 3.3843e-04 - val_loss: 0.0130 - val_acc: 7.4683e-04\n",
      "Epoch 45/50\n",
      " - 2s - loss: 0.0063 - acc: 3.3843e-04 - val_loss: 0.0118 - val_acc: 7.4683e-04\n",
      "Epoch 46/50\n",
      " - 1s - loss: 0.0060 - acc: 3.3843e-04 - val_loss: 0.0110 - val_acc: 7.4683e-04\n",
      "Epoch 47/50\n",
      " - 2s - loss: 0.0056 - acc: 3.3843e-04 - val_loss: 0.0107 - val_acc: 7.4683e-04\n",
      "Epoch 48/50\n",
      " - 2s - loss: 0.0053 - acc: 3.3843e-04 - val_loss: 0.0102 - val_acc: 7.4683e-04\n",
      "Epoch 49/50\n",
      " - 2s - loss: 0.0052 - acc: 3.3843e-04 - val_loss: 0.0094 - val_acc: 7.4683e-04\n",
      "Epoch 50/50\n",
      " - 1s - loss: 0.0048 - acc: 3.3843e-04 - val_loss: 0.0097 - val_acc: 7.4683e-04\n"
     ]
    }
   ],
   "source": [
    "model = Sequential()\n",
    "model.add(LSTM(5, input_shape=(train_X.shape[1], train_X.shape[2])))\n",
    "model.add(Dense(3))\n",
    "model.add(Dense(1))\n",
    "model.compile(loss='mae', optimizer='adam', metrics=['accuracy'])\n",
    "# fit network\n",
    "history = model.fit(train_X, train_y, epochs=50, batch_size=72, validation_data=(test_X, test_y), verbose=2, shuffle=False)\n"
   ]
  },
  {
   "cell_type": "code",
   "execution_count": 14,
   "metadata": {},
   "outputs": [
    {
     "data": {
      "image/png": "[encoded data removed]",
      "text/plain": [
       "<matplotlib.figure.Figure at 0x21c199151d0>"
      ]
     },
     "metadata": {},
     "output_type": "display_data"
    }
   ],
   "source": [
    "plt.plot(history.history['loss'], label='train')\n",
    "plt.plot(history.history['val_loss'], label='test')\n",
    "plt.legend()\n",
    "plt.show()"
   ]
  },
  {
   "cell_type": "code",
   "execution_count": 15,
   "metadata": {},
   "outputs": [
    {
     "data": {
      "text/plain": [
       "array([[ 0.92542201],\n",
       "       [ 0.92543244],\n",
       "       [ 0.92745638],\n",
       "       ..., \n",
       "       [ 0.92850798],\n",
       "       [ 0.92949677],\n",
       "       [ 0.93048561]], dtype=float32)"
      ]
     },
     "execution_count": 15,
     "metadata": {},
     "output_type": "execute_result"
    }
   ],
   "source": [
    "yhat = model.predict(test_X)\n",
    "yhat"
   ]
  },
  {
   "cell_type": "code",
   "execution_count": 16,
   "metadata": {},
   "outputs": [
    {
     "data": {
      "text/plain": [
       "77.299999999999997"
      ]
     },
     "execution_count": 16,
     "metadata": {},
     "output_type": "execute_result"
    }
   ],
   "source": [
    "maxT_in = max(testing_data['t_in'])\n",
    "maxT_in"
   ]
  },
  {
   "cell_type": "code",
   "execution_count": 17,
   "metadata": {},
   "outputs": [
    {
     "data": {
      "text/plain": [
       "array([ 71.53512573,  71.53593445,  71.69238281, ...,  71.77366638,\n",
       "        71.85010529,  71.92653656])"
      ]
     },
     "execution_count": 17,
     "metadata": {},
     "output_type": "execute_result"
    }
   ],
   "source": [
    "inv_yhat = np.array([])\n",
    "for y in yhat:\n",
    "    inv_yhat = np.append(inv_yhat, y*maxT_in)\n",
    "inv_yhat"
   ]
  },
  {
   "cell_type": "code",
   "execution_count": 18,
   "metadata": {},
   "outputs": [
    {
     "data": {
      "text/plain": [
       "array([ 72.80000183,  72.99999694,  72.99999694, ...,  72.39999779,\n",
       "        72.49999765,  72.49999765])"
      ]
     },
     "execution_count": 18,
     "metadata": {},
     "output_type": "execute_result"
    }
   ],
   "source": [
    "inv_y = np.array([])\n",
    "for y in test_y:\n",
    "    inv_y = np.append(inv_y, y*maxT_in)\n",
    "inv_y"
   ]
  },
  {
   "cell_type": "code",
   "execution_count": 19,
   "metadata": {},
   "outputs": [
    {
     "name": "stdout",
     "output_type": "stream",
     "text": [
      "Test RMSE: 1.155\n"
     ]
    }
   ],
   "source": [
    "rmse = sqrt(mean_squared_error(inv_y, inv_yhat))\n",
    "print('Test RMSE: %.3f' % rmse)"
   ]
  },
  {
   "cell_type": "code",
   "execution_count": 20,
   "metadata": {
    "collapsed": true
   },
   "outputs": [],
   "source": [
    "def forecasting(testX_df, testY_df, start_time, duration, model, maxT_in):\n",
    "    predictions_i = []\n",
    "    errs_i = []\n",
    "    curr_time = start_time\n",
    "    end_time = start_time + datetime.timedelta(minutes=duration)\n",
    "    while curr_time <= end_time:\n",
    "        if curr_time not in testX_df.index:\n",
    "            #print(\"Not present\")\n",
    "            return None\n",
    "        input_x = testX_df.loc[curr_time].copy()\n",
    "        if predictions_i:\n",
    "            input_x['t_in'] = predictions_i[-1]\n",
    "        inputX_values = input_x.values\n",
    "        inputX_values = inputX_values.reshape(1,1,5)\n",
    "        y = model.predict([inputX_values])\n",
    "        predictions_i.append(y[0])\n",
    "        errs_i.append(testY_df.loc[curr_time]*maxT_in - y[0]*maxT_in)\n",
    "        curr_time = curr_time + datetime.timedelta(minutes=5)\n",
    "    #print(predictions_i)\n",
    "    #print(errs_i)\n",
    "    return errs_i"
   ]
  },
  {
   "cell_type": "code",
   "execution_count": 21,
   "metadata": {
    "collapsed": true
   },
   "outputs": [],
   "source": [
    "predictions = []\n",
    "errs = []\n",
    "startSamples = testX_df.sample(n=800)\n",
    "startList = startSamples.index\n",
    "duration = 60 * 6\n",
    "for start in startList:\n",
    "    errs_i = forecasting(testX_df, testY_df, start, duration, model, maxT_in)\n",
    "    #predictions.append(pd.Series(index=range(len(predictions_i)), data=predictions_i))\n",
    "    if errs_i:\n",
    "        errs.append(pd.Series(index=range(len(errs_i)), data=errs_i))\n",
    "#print(predictions)\n",
    "#print(errs)"
   ]
  },
  {
   "cell_type": "code",
   "execution_count": 22,
   "metadata": {},
   "outputs": [
    {
     "name": "stdout",
     "output_type": "stream",
     "text": [
      "[0.8838983822823677, 1.57091281659007, 2.11430158494782, 2.5533941168872527, 2.90365593079098, 3.1717244088874192, 3.3818256834479623, 3.5495556466129696, 3.6853027977294106, 3.7926114035546328, 3.87875189970797, 3.9466834250014435, 3.9921786479565204, 4.0339644870113105, 4.070119068616788, 4.083530671811955, 4.099191251700999, 4.1095804087229, 4.120374266469062, 4.129455389605992, 4.134174651090525, 4.1417553511938054, 4.143803237716907, 4.141769909969189, 4.150632703162119, 4.152270344210012, 4.152446992214217, 4.1577125720962105, 4.157105334003125, 4.156162536755878, 4.155823498486797, 4.1532026555872195, 4.149619554013925, 4.151835400772746, 4.152694384122193, 4.151325815140546, 4.144331795709999, 4.138849238582043, 4.142447935115575, 4.1388061029933825, 4.135775227447563, 4.133695831416546, 4.135776331951901, 4.131834550376214, 4.134423056805808, 4.135573365530905, 4.136216105168952, 4.138145590424133, 4.137283628315556, 4.1450523834970125, 4.146040295118335, 4.155168707753281, 4.154082125118793, 4.149589230767458, 4.145139769244632, 4.135903192349863, 4.132655370522837, 4.141807430871546, 4.139806497103027, 4.1381573358697334, 4.138976830367894, 4.141261389552286, 4.136822002633213, 4.140160097760874, 4.131134208689693, 4.123023282779586, 4.113006444849639, 4.111833551779457, 4.11067292966677, 4.107902394774758, 4.100823180641782, 4.093517334206781]\n"
     ]
    },
    {
     "data": {
      "image/png": "[encoded data removed]",
      "text/plain": [
       "<matplotlib.figure.Figure at 0x21c1cf33160>"
      ]
     },
     "metadata": {},
     "output_type": "display_data"
    }
   ],
   "source": [
    "final_errors = []\n",
    "for i in range(int(duration/5)):\n",
    "    ei = np.array([])\n",
    "    for e in errs:\n",
    "        ei = np.append(ei, e.loc[i]*e.loc[i])\n",
    "    final_errors.append(sqrt(np.mean(ei)))\n",
    "#final_errors = pd.Series(index=range(len(final_errors)), data = final_errors)\n",
    "print(final_errors)\n",
    "timesteps = [x*5 for x in range(len(final_errors))]\n",
    "plt.plot(timesteps,final_errors)\n",
    "plt.show()"
   ]
  },
  {
   "cell_type": "code",
   "execution_count": null,
   "metadata": {
    "collapsed": true
   },
   "outputs": [],
   "source": []
  }
 ],
 "metadata": {
  "kernelspec": {
   "display_name": "Python 3",
   "language": "python",
   "name": "python3"
  },
  "language_info": {
   "codemirror_mode": {
    "name": "ipython",
    "version": 3
   },
   "file_extension": ".py",
   "mimetype": "text/x-python",
   "name": "python",
   "nbconvert_exporter": "python",
   "pygments_lexer": "ipython3",
   "version": "3.6.3"
  }
 },
 "nbformat": 4,
 "nbformat_minor": 2
}
