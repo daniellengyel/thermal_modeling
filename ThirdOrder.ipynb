{
 "cells": [
  {
   "cell_type": "code",
   "execution_count": 1,
   "metadata": {
    "collapsed": true
   },
   "outputs": [],
   "source": [
    "import pickle\n",
    "import datetime\n",
    "import numpy as np\n",
    "import matplotlib.pyplot as plt\n",
    "import pandas as pd\n",
    "from math import sqrt"
   ]
  },
  {
   "cell_type": "code",
   "execution_count": 2,
   "metadata": {
    "collapsed": true
   },
   "outputs": [],
   "source": [
    "class ProcessingData:\n",
    "    \n",
    "    def __init__(self,filepath):\n",
    "        with open(filepath, 'rb') as f:\n",
    "            u = pickle._Unpickler(f)\n",
    "            u.encoding = 'latin1'\n",
    "            self.data = u.load()\n",
    "\n",
    "    def fix_data(self, interval):\n",
    "        \"\"\"Fixes up the data. Makes sure we count two stage as single stage actions, don't count float actions,\n",
    "        converts action duration and dt to floats, fill's nan's in action_duration and drops all datapoints which\n",
    "        don't have dt equal to interval.\n",
    "        :param data:\n",
    "        :param interval: float:minutes\"\"\"\n",
    "        def f(x):\n",
    "            if x == 0:\n",
    "                return 0\n",
    "            elif x == 2 or x == 5:\n",
    "                return 2\n",
    "            elif x ==1 or x == 3:\n",
    "                return 1\n",
    "\n",
    "        def h(x):\n",
    "            if x == 1:\n",
    "                return 1\n",
    "            else:\n",
    "                return 0\n",
    "\n",
    "        def c(x):\n",
    "            if x == 2:\n",
    "                return 1\n",
    "            else:\n",
    "                return 0\n",
    "\n",
    "        self.data[\"action\"] = self.data[\"action\"].map(f)\n",
    "        self.data['action_heating'] = self.data[\"action\"].map(h)\n",
    "        self.data['action_cooling'] = self.data['action'].map(c)\n",
    "\n",
    "        #print self.data.head()\n",
    "\n",
    "        return self.data, self.data[self.data[\"dt\"] == interval]\n",
    "    \n",
    "    def filter_data(self):\n",
    "        self.data = self.data.drop(['t_next', 'dt', 'action', 'previous_action', 'action_duration', \\\n",
    "                                    'zone_temperatureHVAC_Zone_Shelter_Corridor'], axis=1)\n",
    "        return self.data\n",
    "    \n",
    "    def drop_nan(self):\n",
    "        self.data = self.data.dropna()\n",
    "        return self.data\n"
   ]
  },
  {
   "cell_type": "code",
   "execution_count": 3,
   "metadata": {
    "collapsed": true
   },
   "outputs": [],
   "source": [
    "training = ProcessingData(\"../Data/avenal-animal-shelter_training_data.pkl\")\n",
    "training_data = training.fix_data(5)\n",
    "training_data = training.filter_data()\n",
    "training_data = training.drop_nan()"
   ]
  },
  {
   "cell_type": "code",
   "execution_count": 4,
   "metadata": {
    "collapsed": true
   },
   "outputs": [],
   "source": [
    "testing = ProcessingData(\"../Data/avenal-animal-shelter_test_data.pkl\")\n",
    "testing_data = testing.fix_data(5)\n",
    "testing_data = testing.filter_data()\n",
    "testing_data = testing.drop_nan()"
   ]
  },
  {
   "cell_type": "code",
   "execution_count": 5,
   "metadata": {
    "collapsed": true
   },
   "outputs": [],
   "source": [
    "def scaling(data):\n",
    "    scaled = np.empty([data.shape[0], data.shape[1]])\n",
    "    numSamples = data.shape[0]\n",
    "    numFeatures = data.shape[1]\n",
    "    dataValues = data.values\n",
    "    dataValues = dataValues.astype('float32')\n",
    "    for i in range(numFeatures):\n",
    "        maxNum = max(dataValues[:,i])\n",
    "        for j in range(numSamples):\n",
    "            scaled[j,i] = dataValues[j,i]/maxNum\n",
    "    return scaled"
   ]
  },
  {
   "cell_type": "code",
   "execution_count": 6,
   "metadata": {
    "collapsed": true
   },
   "outputs": [],
   "source": [
    "def series_to_supervised(data, n_in=1, n_out=1, dropnan=True):\n",
    "    \"\"\"\n",
    "    Frame a time series as a supervised learning dataset.\n",
    "    Arguments:\n",
    "    data: Sequence of observations as a list or NumPy array.\n",
    "    n_in: Number of lag observations as input (X).\n",
    "    n_out: Number of observations as output (y).\n",
    "    dropnan: Boolean whether or not to drop rows with NaN values.\n",
    "    Returns:\n",
    "    Pandas DataFrame of series framed for supervised learning.\n",
    "    \"\"\"\n",
    "    n_vars = 1 if type(data) is list else data.shape[1]\n",
    "    df = pd.DataFrame(data)\n",
    "    cols, names = list(), list()\n",
    "    # input sequence (t-n, ... t-1)\n",
    "    for i in range(n_in, 0, -1):\n",
    "        cols.append(df.shift(i))\n",
    "        names += [('var%d(t-%d)' % (j+1, i)) for j in range(n_vars)]\n",
    "    # forecast sequence (t, t+1, ... t+n)\n",
    "    for i in range(0, n_out):\n",
    "        cols.append(df.shift(-i))\n",
    "        if i == 0:\n",
    "            names += [('var%d(t)' % (j+1)) for j in range(n_vars)]\n",
    "        else:\n",
    "            names += [('var%d(t+%d)' % (j+1, i)) for j in range(n_vars)]\n",
    "    # put it all together\n",
    "    agg = pd.concat(cols, axis=1)\n",
    "    agg.columns = names\n",
    "    # drop rows with NaN values\n",
    "    if dropnan:\n",
    "        agg.dropna(inplace=True)\n",
    "    return agg"
   ]
  },
  {
   "cell_type": "code",
   "execution_count": 7,
   "metadata": {},
   "outputs": [
    {
     "name": "stdout",
     "output_type": "stream",
     "text": [
      "[[ 0.85676116  0.63942021  0.          0.          0.        ]\n",
      " [ 0.85696673  0.63942021  0.          0.          0.        ]\n",
      " [ 0.85696673  0.63962066  0.          0.          0.        ]\n",
      " ..., \n",
      " [ 0.85080147  0.74038088  0.          0.          0.        ]\n",
      " [ 0.85573369  0.74038088  0.          0.          0.        ]\n",
      " [ 0.85819978  0.74038088  0.          0.          0.        ]]\n"
     ]
    },
    {
     "data": {
      "text/html": [
       "<div>\n",
       "<style>\n",
       "    .dataframe thead tr:only-child th {\n",
       "        text-align: right;\n",
       "    }\n",
       "\n",
       "    .dataframe thead th {\n",
       "        text-align: left;\n",
       "    }\n",
       "\n",
       "    .dataframe tbody tr th {\n",
       "        vertical-align: top;\n",
       "    }\n",
       "</style>\n",
       "<table border=\"1\" class=\"dataframe\">\n",
       "  <thead>\n",
       "    <tr style=\"text-align: right;\">\n",
       "      <th></th>\n",
       "      <th>var1(t-3)</th>\n",
       "      <th>var2(t-3)</th>\n",
       "      <th>var3(t-3)</th>\n",
       "      <th>var4(t-3)</th>\n",
       "      <th>var5(t-3)</th>\n",
       "      <th>var1(t-2)</th>\n",
       "      <th>var2(t-2)</th>\n",
       "      <th>var3(t-2)</th>\n",
       "      <th>var4(t-2)</th>\n",
       "      <th>var5(t-2)</th>\n",
       "      <th>var1(t-1)</th>\n",
       "      <th>var2(t-1)</th>\n",
       "      <th>var3(t-1)</th>\n",
       "      <th>var4(t-1)</th>\n",
       "      <th>var5(t-1)</th>\n",
       "      <th>var1(t)</th>\n",
       "    </tr>\n",
       "  </thead>\n",
       "  <tbody>\n",
       "    <tr>\n",
       "      <th>3</th>\n",
       "      <td>0.856761</td>\n",
       "      <td>0.639420</td>\n",
       "      <td>0.0</td>\n",
       "      <td>0.0</td>\n",
       "      <td>0.0</td>\n",
       "      <td>0.856967</td>\n",
       "      <td>0.639420</td>\n",
       "      <td>0.0</td>\n",
       "      <td>0.0</td>\n",
       "      <td>0.0</td>\n",
       "      <td>0.856967</td>\n",
       "      <td>0.639621</td>\n",
       "      <td>0.0</td>\n",
       "      <td>0.0</td>\n",
       "      <td>0.0</td>\n",
       "      <td>0.856967</td>\n",
       "    </tr>\n",
       "    <tr>\n",
       "      <th>4</th>\n",
       "      <td>0.856967</td>\n",
       "      <td>0.639420</td>\n",
       "      <td>0.0</td>\n",
       "      <td>0.0</td>\n",
       "      <td>0.0</td>\n",
       "      <td>0.856967</td>\n",
       "      <td>0.639621</td>\n",
       "      <td>0.0</td>\n",
       "      <td>0.0</td>\n",
       "      <td>0.0</td>\n",
       "      <td>0.856967</td>\n",
       "      <td>0.640222</td>\n",
       "      <td>0.0</td>\n",
       "      <td>0.0</td>\n",
       "      <td>0.0</td>\n",
       "      <td>0.855734</td>\n",
       "    </tr>\n",
       "    <tr>\n",
       "      <th>5</th>\n",
       "      <td>0.856967</td>\n",
       "      <td>0.639621</td>\n",
       "      <td>0.0</td>\n",
       "      <td>0.0</td>\n",
       "      <td>0.0</td>\n",
       "      <td>0.856967</td>\n",
       "      <td>0.640222</td>\n",
       "      <td>0.0</td>\n",
       "      <td>0.0</td>\n",
       "      <td>0.0</td>\n",
       "      <td>0.855734</td>\n",
       "      <td>0.641024</td>\n",
       "      <td>0.0</td>\n",
       "      <td>0.0</td>\n",
       "      <td>0.0</td>\n",
       "      <td>0.856967</td>\n",
       "    </tr>\n",
       "    <tr>\n",
       "      <th>6</th>\n",
       "      <td>0.856967</td>\n",
       "      <td>0.640222</td>\n",
       "      <td>0.0</td>\n",
       "      <td>0.0</td>\n",
       "      <td>0.0</td>\n",
       "      <td>0.855734</td>\n",
       "      <td>0.641024</td>\n",
       "      <td>0.0</td>\n",
       "      <td>0.0</td>\n",
       "      <td>0.0</td>\n",
       "      <td>0.856967</td>\n",
       "      <td>0.641625</td>\n",
       "      <td>0.0</td>\n",
       "      <td>0.0</td>\n",
       "      <td>0.0</td>\n",
       "      <td>0.855734</td>\n",
       "    </tr>\n",
       "    <tr>\n",
       "      <th>7</th>\n",
       "      <td>0.855734</td>\n",
       "      <td>0.641024</td>\n",
       "      <td>0.0</td>\n",
       "      <td>0.0</td>\n",
       "      <td>0.0</td>\n",
       "      <td>0.856967</td>\n",
       "      <td>0.641625</td>\n",
       "      <td>0.0</td>\n",
       "      <td>0.0</td>\n",
       "      <td>0.0</td>\n",
       "      <td>0.855734</td>\n",
       "      <td>0.641826</td>\n",
       "      <td>0.0</td>\n",
       "      <td>0.0</td>\n",
       "      <td>0.0</td>\n",
       "      <td>0.856967</td>\n",
       "    </tr>\n",
       "  </tbody>\n",
       "</table>\n",
       "</div>"
      ],
      "text/plain": [
       "   var1(t-3)  var2(t-3)  var3(t-3)  var4(t-3)  var5(t-3)  var1(t-2)  \\\n",
       "3   0.856761   0.639420        0.0        0.0        0.0   0.856967   \n",
       "4   0.856967   0.639420        0.0        0.0        0.0   0.856967   \n",
       "5   0.856967   0.639621        0.0        0.0        0.0   0.856967   \n",
       "6   0.856967   0.640222        0.0        0.0        0.0   0.855734   \n",
       "7   0.855734   0.641024        0.0        0.0        0.0   0.856967   \n",
       "\n",
       "   var2(t-2)  var3(t-2)  var4(t-2)  var5(t-2)  var1(t-1)  var2(t-1)  \\\n",
       "3   0.639420        0.0        0.0        0.0   0.856967   0.639621   \n",
       "4   0.639621        0.0        0.0        0.0   0.856967   0.640222   \n",
       "5   0.640222        0.0        0.0        0.0   0.855734   0.641024   \n",
       "6   0.641024        0.0        0.0        0.0   0.856967   0.641625   \n",
       "7   0.641625        0.0        0.0        0.0   0.855734   0.641826   \n",
       "\n",
       "   var3(t-1)  var4(t-1)  var5(t-1)   var1(t)  \n",
       "3        0.0        0.0        0.0  0.856967  \n",
       "4        0.0        0.0        0.0  0.855734  \n",
       "5        0.0        0.0        0.0  0.856967  \n",
       "6        0.0        0.0        0.0  0.855734  \n",
       "7        0.0        0.0        0.0  0.856967  "
      ]
     },
     "execution_count": 7,
     "metadata": {},
     "output_type": "execute_result"
    }
   ],
   "source": [
    "train_scaled = scaling(training_data)\n",
    "print(train_scaled)\n",
    "train_reframed = series_to_supervised(train_scaled, 3, 1)\n",
    "train_reframed.drop(train_reframed.columns[-4:], axis=1, inplace=True)\n",
    "train_reframed.head()"
   ]
  },
  {
   "cell_type": "code",
   "execution_count": 8,
   "metadata": {},
   "outputs": [
    {
     "data": {
      "text/html": [
       "<div>\n",
       "<style>\n",
       "    .dataframe thead tr:only-child th {\n",
       "        text-align: right;\n",
       "    }\n",
       "\n",
       "    .dataframe thead th {\n",
       "        text-align: left;\n",
       "    }\n",
       "\n",
       "    .dataframe tbody tr th {\n",
       "        vertical-align: top;\n",
       "    }\n",
       "</style>\n",
       "<table border=\"1\" class=\"dataframe\">\n",
       "  <thead>\n",
       "    <tr style=\"text-align: right;\">\n",
       "      <th></th>\n",
       "      <th>var1(t-3)</th>\n",
       "      <th>var2(t-3)</th>\n",
       "      <th>var3(t-3)</th>\n",
       "      <th>var4(t-3)</th>\n",
       "      <th>var5(t-3)</th>\n",
       "      <th>var1(t-2)</th>\n",
       "      <th>var2(t-2)</th>\n",
       "      <th>var3(t-2)</th>\n",
       "      <th>var4(t-2)</th>\n",
       "      <th>var5(t-2)</th>\n",
       "      <th>var1(t-1)</th>\n",
       "      <th>var2(t-1)</th>\n",
       "      <th>var3(t-1)</th>\n",
       "      <th>var4(t-1)</th>\n",
       "      <th>var5(t-1)</th>\n",
       "      <th>var1(t)</th>\n",
       "    </tr>\n",
       "  </thead>\n",
       "  <tbody>\n",
       "    <tr>\n",
       "      <th>3</th>\n",
       "      <td>0.941785</td>\n",
       "      <td>0.747789</td>\n",
       "      <td>0.0</td>\n",
       "      <td>0.0</td>\n",
       "      <td>0.0</td>\n",
       "      <td>0.941785</td>\n",
       "      <td>0.748107</td>\n",
       "      <td>0.0</td>\n",
       "      <td>0.0</td>\n",
       "      <td>0.0</td>\n",
       "      <td>0.944373</td>\n",
       "      <td>0.748422</td>\n",
       "      <td>0.0</td>\n",
       "      <td>0.0</td>\n",
       "      <td>0.0</td>\n",
       "      <td>0.944373</td>\n",
       "    </tr>\n",
       "    <tr>\n",
       "      <th>4</th>\n",
       "      <td>0.941785</td>\n",
       "      <td>0.748107</td>\n",
       "      <td>0.0</td>\n",
       "      <td>0.0</td>\n",
       "      <td>0.0</td>\n",
       "      <td>0.944373</td>\n",
       "      <td>0.748422</td>\n",
       "      <td>0.0</td>\n",
       "      <td>0.0</td>\n",
       "      <td>0.0</td>\n",
       "      <td>0.944373</td>\n",
       "      <td>0.748731</td>\n",
       "      <td>0.0</td>\n",
       "      <td>0.0</td>\n",
       "      <td>0.0</td>\n",
       "      <td>0.944373</td>\n",
       "    </tr>\n",
       "    <tr>\n",
       "      <th>5</th>\n",
       "      <td>0.944373</td>\n",
       "      <td>0.748422</td>\n",
       "      <td>0.0</td>\n",
       "      <td>0.0</td>\n",
       "      <td>0.0</td>\n",
       "      <td>0.944373</td>\n",
       "      <td>0.748731</td>\n",
       "      <td>0.0</td>\n",
       "      <td>0.0</td>\n",
       "      <td>0.0</td>\n",
       "      <td>0.944373</td>\n",
       "      <td>0.749038</td>\n",
       "      <td>0.0</td>\n",
       "      <td>0.0</td>\n",
       "      <td>0.0</td>\n",
       "      <td>0.944373</td>\n",
       "    </tr>\n",
       "    <tr>\n",
       "      <th>6</th>\n",
       "      <td>0.944373</td>\n",
       "      <td>0.748731</td>\n",
       "      <td>0.0</td>\n",
       "      <td>0.0</td>\n",
       "      <td>0.0</td>\n",
       "      <td>0.944373</td>\n",
       "      <td>0.749038</td>\n",
       "      <td>0.0</td>\n",
       "      <td>0.0</td>\n",
       "      <td>0.0</td>\n",
       "      <td>0.944373</td>\n",
       "      <td>0.748744</td>\n",
       "      <td>0.0</td>\n",
       "      <td>0.0</td>\n",
       "      <td>0.0</td>\n",
       "      <td>0.944373</td>\n",
       "    </tr>\n",
       "    <tr>\n",
       "      <th>7</th>\n",
       "      <td>0.944373</td>\n",
       "      <td>0.749038</td>\n",
       "      <td>0.0</td>\n",
       "      <td>0.0</td>\n",
       "      <td>0.0</td>\n",
       "      <td>0.944373</td>\n",
       "      <td>0.748744</td>\n",
       "      <td>0.0</td>\n",
       "      <td>0.0</td>\n",
       "      <td>0.0</td>\n",
       "      <td>0.944373</td>\n",
       "      <td>0.747249</td>\n",
       "      <td>0.0</td>\n",
       "      <td>0.0</td>\n",
       "      <td>0.0</td>\n",
       "      <td>0.944373</td>\n",
       "    </tr>\n",
       "  </tbody>\n",
       "</table>\n",
       "</div>"
      ],
      "text/plain": [
       "   var1(t-3)  var2(t-3)  var3(t-3)  var4(t-3)  var5(t-3)  var1(t-2)  \\\n",
       "3   0.941785   0.747789        0.0        0.0        0.0   0.941785   \n",
       "4   0.941785   0.748107        0.0        0.0        0.0   0.944373   \n",
       "5   0.944373   0.748422        0.0        0.0        0.0   0.944373   \n",
       "6   0.944373   0.748731        0.0        0.0        0.0   0.944373   \n",
       "7   0.944373   0.749038        0.0        0.0        0.0   0.944373   \n",
       "\n",
       "   var2(t-2)  var3(t-2)  var4(t-2)  var5(t-2)  var1(t-1)  var2(t-1)  \\\n",
       "3   0.748107        0.0        0.0        0.0   0.944373   0.748422   \n",
       "4   0.748422        0.0        0.0        0.0   0.944373   0.748731   \n",
       "5   0.748731        0.0        0.0        0.0   0.944373   0.749038   \n",
       "6   0.749038        0.0        0.0        0.0   0.944373   0.748744   \n",
       "7   0.748744        0.0        0.0        0.0   0.944373   0.747249   \n",
       "\n",
       "   var3(t-1)  var4(t-1)  var5(t-1)   var1(t)  \n",
       "3        0.0        0.0        0.0  0.944373  \n",
       "4        0.0        0.0        0.0  0.944373  \n",
       "5        0.0        0.0        0.0  0.944373  \n",
       "6        0.0        0.0        0.0  0.944373  \n",
       "7        0.0        0.0        0.0  0.944373  "
      ]
     },
     "execution_count": 8,
     "metadata": {},
     "output_type": "execute_result"
    }
   ],
   "source": [
    "test_scaled = scaling(testing_data)\n",
    "test_reframed = series_to_supervised(test_scaled, 3, 1)\n",
    "test_reframed.drop(test_reframed.columns[-4:], axis=1, inplace=True)\n",
    "test_reframed.head()"
   ]
  },
  {
   "cell_type": "code",
   "execution_count": 9,
   "metadata": {},
   "outputs": [
    {
     "name": "stdout",
     "output_type": "stream",
     "text": [
      "(53183, 3, 5) (53183,) (13387, 3, 5) (13387,)\n"
     ]
    }
   ],
   "source": [
    "# split into input and outputs\n",
    "train = train_reframed.values\n",
    "test = test_reframed.values\n",
    "train_X, train_y = train[:, :-1], train[:, -1]\n",
    "test_X, test_y = test[:, :-1], test[:, -1]\n",
    "# reshape input to be 3D [samples, timesteps, features]\n",
    "train_X = train_X.reshape((train_X.shape[0], 3, 5))\n",
    "test_X = test_X.reshape((test_X.shape[0], 3, 5))\n",
    "print(train_X.shape, train_y.shape, test_X.shape, test_y.shape)"
   ]
  },
  {
   "cell_type": "code",
   "execution_count": 10,
   "metadata": {},
   "outputs": [
    {
     "name": "stderr",
     "output_type": "stream",
     "text": [
      "Using TensorFlow backend.\n"
     ]
    }
   ],
   "source": [
    "from sklearn.metrics import mean_squared_error\n",
    "from keras.models import Sequential\n",
    "from keras.layers import Dense\n",
    "from keras.layers import LSTM"
   ]
  },
  {
   "cell_type": "code",
   "execution_count": 38,
   "metadata": {},
   "outputs": [
    {
     "name": "stdout",
     "output_type": "stream",
     "text": [
      "Train on 53183 samples, validate on 13387 samples\n",
      "Epoch 1/60\n",
      " - 6s - loss: 0.0556 - acc: 3.3845e-04 - val_loss: 0.0266 - val_acc: 7.4699e-04\n",
      "Epoch 2/60\n",
      " - 3s - loss: 0.0155 - acc: 3.3845e-04 - val_loss: 0.0341 - val_acc: 7.4699e-04\n",
      "Epoch 3/60\n",
      " - 2s - loss: 0.0156 - acc: 3.3845e-04 - val_loss: 0.0327 - val_acc: 7.4699e-04\n",
      "Epoch 4/60\n",
      " - 3s - loss: 0.0144 - acc: 3.3845e-04 - val_loss: 0.0314 - val_acc: 7.4699e-04\n",
      "Epoch 5/60\n",
      " - 4s - loss: 0.0149 - acc: 3.3845e-04 - val_loss: 0.0281 - val_acc: 7.4699e-04\n",
      "Epoch 6/60\n",
      " - 4s - loss: 0.0148 - acc: 3.3845e-04 - val_loss: 0.0273 - val_acc: 7.4699e-04\n",
      "Epoch 7/60\n",
      " - 2s - loss: 0.0146 - acc: 3.3845e-04 - val_loss: 0.0274 - val_acc: 7.4699e-04\n",
      "Epoch 8/60\n",
      " - 4s - loss: 0.0143 - acc: 3.3845e-04 - val_loss: 0.0268 - val_acc: 7.4699e-04\n",
      "Epoch 9/60\n",
      " - 5s - loss: 0.0143 - acc: 3.3845e-04 - val_loss: 0.0283 - val_acc: 7.4699e-04\n",
      "Epoch 10/60\n",
      " - 3s - loss: 0.0139 - acc: 3.3845e-04 - val_loss: 0.0313 - val_acc: 7.4699e-04\n",
      "Epoch 11/60\n",
      " - 3s - loss: 0.0138 - acc: 3.3845e-04 - val_loss: 0.0254 - val_acc: 7.4699e-04\n",
      "Epoch 12/60\n",
      " - 3s - loss: 0.0134 - acc: 3.3845e-04 - val_loss: 0.0256 - val_acc: 7.4699e-04\n",
      "Epoch 13/60\n",
      " - 3s - loss: 0.0134 - acc: 3.3845e-04 - val_loss: 0.0276 - val_acc: 7.4699e-04\n",
      "Epoch 14/60\n",
      " - 3s - loss: 0.0133 - acc: 3.3845e-04 - val_loss: 0.0278 - val_acc: 7.4699e-04\n",
      "Epoch 15/60\n",
      " - 3s - loss: 0.0130 - acc: 3.3845e-04 - val_loss: 0.0245 - val_acc: 7.4699e-04\n",
      "Epoch 16/60\n",
      " - 3s - loss: 0.0126 - acc: 3.3845e-04 - val_loss: 0.0271 - val_acc: 7.4699e-04\n",
      "Epoch 17/60\n",
      " - 4s - loss: 0.0127 - acc: 3.3845e-04 - val_loss: 0.0271 - val_acc: 7.4699e-04\n",
      "Epoch 18/60\n",
      " - 3s - loss: 0.0124 - acc: 3.3845e-04 - val_loss: 0.0232 - val_acc: 7.4699e-04\n",
      "Epoch 19/60\n",
      " - 3s - loss: 0.0121 - acc: 3.3845e-04 - val_loss: 0.0222 - val_acc: 7.4699e-04\n",
      "Epoch 20/60\n",
      " - 3s - loss: 0.0119 - acc: 3.3845e-04 - val_loss: 0.0221 - val_acc: 7.4699e-04\n",
      "Epoch 21/60\n",
      " - 4s - loss: 0.0118 - acc: 3.3845e-04 - val_loss: 0.0252 - val_acc: 7.4699e-04\n",
      "Epoch 22/60\n",
      " - 3s - loss: 0.0117 - acc: 3.3845e-04 - val_loss: 0.0259 - val_acc: 7.4699e-04\n",
      "Epoch 23/60\n",
      " - 6s - loss: 0.0117 - acc: 3.3845e-04 - val_loss: 0.0203 - val_acc: 7.4699e-04\n",
      "Epoch 24/60\n",
      " - 3s - loss: 0.0115 - acc: 3.3845e-04 - val_loss: 0.0197 - val_acc: 7.4699e-04\n",
      "Epoch 25/60\n",
      " - 4s - loss: 0.0112 - acc: 3.3845e-04 - val_loss: 0.0236 - val_acc: 7.4699e-04\n",
      "Epoch 26/60\n",
      " - 4s - loss: 0.0109 - acc: 3.3845e-04 - val_loss: 0.0234 - val_acc: 7.4699e-04\n",
      "Epoch 27/60\n",
      " - 4s - loss: 0.0109 - acc: 3.3845e-04 - val_loss: 0.0238 - val_acc: 7.4699e-04\n",
      "Epoch 28/60\n",
      " - 3s - loss: 0.0108 - acc: 3.3845e-04 - val_loss: 0.0233 - val_acc: 7.4699e-04\n",
      "Epoch 29/60\n",
      " - 3s - loss: 0.0105 - acc: 3.3845e-04 - val_loss: 0.0228 - val_acc: 7.4699e-04\n",
      "Epoch 30/60\n",
      " - 3s - loss: 0.0104 - acc: 3.3845e-04 - val_loss: 0.0223 - val_acc: 7.4699e-04\n",
      "Epoch 31/60\n",
      " - 3s - loss: 0.0100 - acc: 3.3845e-04 - val_loss: 0.0191 - val_acc: 7.4699e-04\n",
      "Epoch 32/60\n",
      " - 4s - loss: 0.0092 - acc: 3.3845e-04 - val_loss: 0.0224 - val_acc: 7.4699e-04\n",
      "Epoch 33/60\n",
      " - 4s - loss: 0.0094 - acc: 3.3845e-04 - val_loss: 0.0162 - val_acc: 7.4699e-04\n",
      "Epoch 34/60\n",
      " - 5s - loss: 0.0085 - acc: 3.3845e-04 - val_loss: 0.0176 - val_acc: 7.4699e-04\n",
      "Epoch 35/60\n",
      " - 4s - loss: 0.0086 - acc: 3.3845e-04 - val_loss: 0.0151 - val_acc: 7.4699e-04\n",
      "Epoch 36/60\n",
      " - 4s - loss: 0.0079 - acc: 3.3845e-04 - val_loss: 0.0146 - val_acc: 7.4699e-04\n",
      "Epoch 37/60\n",
      " - 4s - loss: 0.0073 - acc: 3.3845e-04 - val_loss: 0.0126 - val_acc: 7.4699e-04\n",
      "Epoch 38/60\n",
      " - 4s - loss: 0.0070 - acc: 3.3845e-04 - val_loss: 0.0127 - val_acc: 7.4699e-04\n",
      "Epoch 39/60\n",
      " - 4s - loss: 0.0060 - acc: 3.3845e-04 - val_loss: 0.0091 - val_acc: 7.4699e-04\n",
      "Epoch 40/60\n",
      " - 5s - loss: 0.0063 - acc: 3.3845e-04 - val_loss: 0.0121 - val_acc: 7.4699e-04\n",
      "Epoch 41/60\n",
      " - 6s - loss: 0.0057 - acc: 3.3845e-04 - val_loss: 0.0083 - val_acc: 7.4699e-04\n",
      "Epoch 42/60\n",
      " - 4s - loss: 0.0049 - acc: 3.3845e-04 - val_loss: 0.0086 - val_acc: 7.4699e-04\n",
      "Epoch 43/60\n",
      " - 3s - loss: 0.0044 - acc: 3.3845e-04 - val_loss: 0.0074 - val_acc: 7.4699e-04\n",
      "Epoch 44/60\n",
      " - 4s - loss: 0.0041 - acc: 3.3845e-04 - val_loss: 0.0072 - val_acc: 7.4699e-04\n",
      "Epoch 45/60\n",
      " - 4s - loss: 0.0042 - acc: 3.3845e-04 - val_loss: 0.0072 - val_acc: 7.4699e-04\n",
      "Epoch 46/60\n",
      " - 4s - loss: 0.0038 - acc: 3.3845e-04 - val_loss: 0.0071 - val_acc: 7.4699e-04\n",
      "Epoch 47/60\n",
      " - 4s - loss: 0.0038 - acc: 3.3845e-04 - val_loss: 0.0065 - val_acc: 7.4699e-04\n",
      "Epoch 48/60\n",
      " - 3s - loss: 0.0035 - acc: 3.3845e-04 - val_loss: 0.0069 - val_acc: 7.4699e-04\n",
      "Epoch 49/60\n",
      " - 3s - loss: 0.0033 - acc: 3.3845e-04 - val_loss: 0.0067 - val_acc: 7.4699e-04\n",
      "Epoch 50/60\n",
      " - 3s - loss: 0.0032 - acc: 3.3845e-04 - val_loss: 0.0056 - val_acc: 7.4699e-04\n",
      "Epoch 51/60\n",
      " - 3s - loss: 0.0032 - acc: 3.3845e-04 - val_loss: 0.0062 - val_acc: 7.4699e-04\n",
      "Epoch 52/60\n",
      " - 3s - loss: 0.0033 - acc: 3.3845e-04 - val_loss: 0.0047 - val_acc: 7.4699e-04\n",
      "Epoch 53/60\n",
      " - 3s - loss: 0.0031 - acc: 3.3845e-04 - val_loss: 0.0057 - val_acc: 7.4699e-04\n",
      "Epoch 54/60\n",
      " - 3s - loss: 0.0030 - acc: 3.3845e-04 - val_loss: 0.0044 - val_acc: 7.4699e-04\n",
      "Epoch 55/60\n",
      " - 3s - loss: 0.0032 - acc: 3.3845e-04 - val_loss: 0.0051 - val_acc: 7.4699e-04\n",
      "Epoch 56/60\n",
      " - 3s - loss: 0.0030 - acc: 3.3845e-04 - val_loss: 0.0054 - val_acc: 7.4699e-04\n",
      "Epoch 57/60\n",
      " - 3s - loss: 0.0027 - acc: 3.3845e-04 - val_loss: 0.0052 - val_acc: 7.4699e-04\n",
      "Epoch 58/60\n",
      " - 3s - loss: 0.0030 - acc: 3.3845e-04 - val_loss: 0.0045 - val_acc: 7.4699e-04\n",
      "Epoch 59/60\n",
      " - 3s - loss: 0.0027 - acc: 3.3845e-04 - val_loss: 0.0053 - val_acc: 7.4699e-04\n",
      "Epoch 60/60\n",
      " - 3s - loss: 0.0028 - acc: 3.3845e-04 - val_loss: 0.0044 - val_acc: 7.4699e-04\n"
     ]
    }
   ],
   "source": [
    "model = Sequential()\n",
    "model.add(LSTM(15, input_shape=(train_X.shape[1], train_X.shape[2])))\n",
    "model.add(Dense(4))\n",
    "model.add(Dense(1))\n",
    "model.compile(loss='mae', optimizer='adam', metrics=['accuracy'])\n",
    "# fit network\n",
    "history = model.fit(train_X, train_y, epochs=60, batch_size=72, validation_data=(test_X, test_y), verbose=2, shuffle=False)\n"
   ]
  },
  {
   "cell_type": "code",
   "execution_count": 39,
   "metadata": {},
   "outputs": [
    {
     "data": {
      "image/png": "[encoded data removed]",
      "text/plain": [
       "<matplotlib.figure.Figure at 0x2561e7424a8>"
      ]
     },
     "metadata": {},
     "output_type": "display_data"
    }
   ],
   "source": [
    "plt.plot(history.history['loss'], label='train')\n",
    "plt.plot(history.history['val_loss'], label='test')\n",
    "plt.legend()\n",
    "plt.show()"
   ]
  },
  {
   "cell_type": "code",
   "execution_count": 40,
   "metadata": {},
   "outputs": [
    {
     "data": {
      "text/plain": [
       "array([[ 0.9384973 ],\n",
       "       [ 0.93922067],\n",
       "       [ 0.93975675],\n",
       "       ..., \n",
       "       [ 0.93290091],\n",
       "       [ 0.93315172],\n",
       "       [ 0.93369222]], dtype=float32)"
      ]
     },
     "execution_count": 40,
     "metadata": {},
     "output_type": "execute_result"
    }
   ],
   "source": [
    "yhat = model.predict(test_X)\n",
    "yhat"
   ]
  },
  {
   "cell_type": "code",
   "execution_count": 41,
   "metadata": {},
   "outputs": [
    {
     "data": {
      "text/plain": [
       "77.299999999999997"
      ]
     },
     "execution_count": 41,
     "metadata": {},
     "output_type": "execute_result"
    }
   ],
   "source": [
    "maxT_in = max(testing_data['t_in'])\n",
    "maxT_in"
   ]
  },
  {
   "cell_type": "code",
   "execution_count": 42,
   "metadata": {},
   "outputs": [
    {
     "data": {
      "text/plain": [
       "array([ 72.54584503,  72.60176086,  72.64319611, ...,  72.1132431 ,\n",
       "        72.13262939,  72.17440796])"
      ]
     },
     "execution_count": 42,
     "metadata": {},
     "output_type": "execute_result"
    }
   ],
   "source": [
    "inv_yhat = np.array([])\n",
    "for y in yhat:\n",
    "    inv_yhat = np.append(inv_yhat, y*maxT_in)\n",
    "inv_yhat"
   ]
  },
  {
   "cell_type": "code",
   "execution_count": 43,
   "metadata": {},
   "outputs": [
    {
     "data": {
      "text/plain": [
       "array([ 72.99999694,  72.99999694,  72.99999694, ...,  72.29999794,\n",
       "        72.39999779,  72.49999765])"
      ]
     },
     "execution_count": 43,
     "metadata": {},
     "output_type": "execute_result"
    }
   ],
   "source": [
    "inv_y = np.array([])\n",
    "for y in test_y:\n",
    "    inv_y = np.append(inv_y, y*maxT_in)\n",
    "inv_y"
   ]
  },
  {
   "cell_type": "code",
   "execution_count": 44,
   "metadata": {},
   "outputs": [
    {
     "name": "stdout",
     "output_type": "stream",
     "text": [
      "Test RMSE: 0.856\n"
     ]
    }
   ],
   "source": [
    "rmse = sqrt(mean_squared_error(inv_y, inv_yhat))\n",
    "print('Test RMSE: %.3f' % rmse)"
   ]
  },
  {
   "cell_type": "code",
   "execution_count": null,
   "metadata": {
    "collapsed": true
   },
   "outputs": [],
   "source": []
  }
 ],
 "metadata": {
  "kernelspec": {
   "display_name": "Python 3",
   "language": "python",
   "name": "python3"
  },
  "language_info": {
   "codemirror_mode": {
    "name": "ipython",
    "version": 3
   },
   "file_extension": ".py",
   "mimetype": "text/x-python",
   "name": "python",
   "nbconvert_exporter": "python",
   "pygments_lexer": "ipython3",
   "version": "3.6.3"
  }
 },
 "nbformat": 4,
 "nbformat_minor": 2
}
