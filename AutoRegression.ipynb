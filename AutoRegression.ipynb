{
 "cells": [
  {
   "cell_type": "markdown",
   "metadata": {},
   "source": [
    "# Autoregression Model"
   ]
  },
  {
   "cell_type": "markdown",
   "metadata": {},
   "source": [
    "Plot t_next-t_in versus t_in under each possible action(heating, cooling, no action).\n",
    "Plot error for successive 5 min time interval"
   ]
  },
  {
   "cell_type": "code",
   "execution_count": 1,
   "metadata": {
    "collapsed": true
   },
   "outputs": [],
   "source": [
    "import pickle\n",
    "import gzip\n",
    "import datetime\n",
    "import numpy as np\n",
    "import matplotlib.pyplot as plt\n",
    "import pandas as pd\n",
    "from math import sqrt"
   ]
  },
  {
   "cell_type": "markdown",
   "metadata": {},
   "source": [
    "# Loading Data File"
   ]
  },
  {
   "cell_type": "code",
   "execution_count": 2,
   "metadata": {
    "collapsed": true
   },
   "outputs": [],
   "source": [
    "path = \"../Data/\"\n",
    "building = \"avenal-animal-shelter\"\n",
    "interval = 5 # min\n",
    "\n",
    "\n",
    "with open(path + building + \"_training_data.pkl\", 'rb') as f:\n",
    "    train = pickle._Unpickler(f)\n",
    "    train.encoding = 'latin1'\n",
    "    training_data = train.load()\n",
    "    \n",
    "with open(path + building + \"_test_data.pkl\", \"rb\") as f:\n",
    "    test = pickle._Unpickler(f)\n",
    "    test.encoding = 'latin1'\n",
    "    test_data = test.load()\n",
    "    "
   ]
  },
  {
   "cell_type": "markdown",
   "metadata": {},
   "source": [
    "# Features in Dataset"
   ]
  },
  {
   "cell_type": "code",
   "execution_count": 3,
   "metadata": {},
   "outputs": [
    {
     "name": "stdout",
     "output_type": "stream",
     "text": [
      "<class 'pandas.core.frame.DataFrame'>\n",
      "DatetimeIndex: 53187 entries, 2018-04-18 23:16:42+00:00 to 2018-10-25 23:13:42+00:00\n",
      "Data columns (total 9 columns):\n",
      "action                                        53187 non-null float64\n",
      "action_duration                               53187 non-null object\n",
      "dt                                            53187 non-null float64\n",
      "previous_action                               42307 non-null float64\n",
      "t_next                                        53187 non-null float64\n",
      "t_in                                          53187 non-null float64\n",
      "t_out                                         53186 non-null float64\n",
      "occ                                           53186 non-null float64\n",
      "zone_temperatureHVAC_Zone_Shelter_Corridor    53186 non-null float64\n",
      "dtypes: float64(8), object(1)\n",
      "memory usage: 4.1+ MB\n"
     ]
    }
   ],
   "source": [
    "training_data.info()"
   ]
  },
  {
   "cell_type": "markdown",
   "metadata": {},
   "source": [
    "# Include previous indoor temperature as t_last"
   ]
  },
  {
   "cell_type": "code",
   "execution_count": 4,
   "metadata": {},
   "outputs": [
    {
     "data": {
      "text/html": [
       "<div>\n",
       "<style>\n",
       "    .dataframe thead tr:only-child th {\n",
       "        text-align: right;\n",
       "    }\n",
       "\n",
       "    .dataframe thead th {\n",
       "        text-align: left;\n",
       "    }\n",
       "\n",
       "    .dataframe tbody tr th {\n",
       "        vertical-align: top;\n",
       "    }\n",
       "</style>\n",
       "<table border=\"1\" class=\"dataframe\">\n",
       "  <thead>\n",
       "    <tr style=\"text-align: right;\">\n",
       "      <th></th>\n",
       "      <th>action</th>\n",
       "      <th>action_duration</th>\n",
       "      <th>dt</th>\n",
       "      <th>previous_action</th>\n",
       "      <th>t_next</th>\n",
       "      <th>t_in</th>\n",
       "      <th>t_out</th>\n",
       "      <th>occ</th>\n",
       "      <th>zone_temperatureHVAC_Zone_Shelter_Corridor</th>\n",
       "      <th>t_last</th>\n",
       "    </tr>\n",
       "    <tr>\n",
       "      <th>time</th>\n",
       "      <th></th>\n",
       "      <th></th>\n",
       "      <th></th>\n",
       "      <th></th>\n",
       "      <th></th>\n",
       "      <th></th>\n",
       "      <th></th>\n",
       "      <th></th>\n",
       "      <th></th>\n",
       "      <th></th>\n",
       "    </tr>\n",
       "  </thead>\n",
       "  <tbody>\n",
       "    <tr>\n",
       "      <th>2018-04-18 23:16:42+00:00</th>\n",
       "      <td>0.0</td>\n",
       "      <td>300.0s</td>\n",
       "      <td>5.0</td>\n",
       "      <td>NaN</td>\n",
       "      <td>69.5</td>\n",
       "      <td>69.483333</td>\n",
       "      <td>66.499700</td>\n",
       "      <td>0.0</td>\n",
       "      <td>69.499167</td>\n",
       "      <td>69.483333</td>\n",
       "    </tr>\n",
       "    <tr>\n",
       "      <th>2018-04-18 23:21:42+00:00</th>\n",
       "      <td>0.0</td>\n",
       "      <td>600.0s</td>\n",
       "      <td>5.0</td>\n",
       "      <td>NaN</td>\n",
       "      <td>69.5</td>\n",
       "      <td>69.500000</td>\n",
       "      <td>66.499700</td>\n",
       "      <td>0.0</td>\n",
       "      <td>69.485833</td>\n",
       "      <td>69.483333</td>\n",
       "    </tr>\n",
       "    <tr>\n",
       "      <th>2018-04-18 23:26:42+00:00</th>\n",
       "      <td>0.0</td>\n",
       "      <td>900.0s</td>\n",
       "      <td>5.0</td>\n",
       "      <td>NaN</td>\n",
       "      <td>69.5</td>\n",
       "      <td>69.500000</td>\n",
       "      <td>66.520546</td>\n",
       "      <td>0.0</td>\n",
       "      <td>69.460833</td>\n",
       "      <td>69.500000</td>\n",
       "    </tr>\n",
       "    <tr>\n",
       "      <th>2018-04-18 23:31:42+00:00</th>\n",
       "      <td>0.0</td>\n",
       "      <td>1200.0s</td>\n",
       "      <td>5.0</td>\n",
       "      <td>NaN</td>\n",
       "      <td>69.4</td>\n",
       "      <td>69.500000</td>\n",
       "      <td>66.583083</td>\n",
       "      <td>0.0</td>\n",
       "      <td>69.450000</td>\n",
       "      <td>69.500000</td>\n",
       "    </tr>\n",
       "    <tr>\n",
       "      <th>2018-04-18 23:36:42+00:00</th>\n",
       "      <td>0.0</td>\n",
       "      <td>1500.0s</td>\n",
       "      <td>5.0</td>\n",
       "      <td>NaN</td>\n",
       "      <td>69.5</td>\n",
       "      <td>69.400000</td>\n",
       "      <td>66.666466</td>\n",
       "      <td>0.0</td>\n",
       "      <td>69.450489</td>\n",
       "      <td>69.500000</td>\n",
       "    </tr>\n",
       "  </tbody>\n",
       "</table>\n",
       "</div>"
      ],
      "text/plain": [
       "                           action action_duration   dt  previous_action  \\\n",
       "time                                                                      \n",
       "2018-04-18 23:16:42+00:00     0.0          300.0s  5.0              NaN   \n",
       "2018-04-18 23:21:42+00:00     0.0          600.0s  5.0              NaN   \n",
       "2018-04-18 23:26:42+00:00     0.0          900.0s  5.0              NaN   \n",
       "2018-04-18 23:31:42+00:00     0.0         1200.0s  5.0              NaN   \n",
       "2018-04-18 23:36:42+00:00     0.0         1500.0s  5.0              NaN   \n",
       "\n",
       "                           t_next       t_in      t_out  occ  \\\n",
       "time                                                           \n",
       "2018-04-18 23:16:42+00:00    69.5  69.483333  66.499700  0.0   \n",
       "2018-04-18 23:21:42+00:00    69.5  69.500000  66.499700  0.0   \n",
       "2018-04-18 23:26:42+00:00    69.5  69.500000  66.520546  0.0   \n",
       "2018-04-18 23:31:42+00:00    69.4  69.500000  66.583083  0.0   \n",
       "2018-04-18 23:36:42+00:00    69.5  69.400000  66.666466  0.0   \n",
       "\n",
       "                           zone_temperatureHVAC_Zone_Shelter_Corridor  \\\n",
       "time                                                                    \n",
       "2018-04-18 23:16:42+00:00                                   69.499167   \n",
       "2018-04-18 23:21:42+00:00                                   69.485833   \n",
       "2018-04-18 23:26:42+00:00                                   69.460833   \n",
       "2018-04-18 23:31:42+00:00                                   69.450000   \n",
       "2018-04-18 23:36:42+00:00                                   69.450489   \n",
       "\n",
       "                              t_last  \n",
       "time                                  \n",
       "2018-04-18 23:16:42+00:00  69.483333  \n",
       "2018-04-18 23:21:42+00:00  69.483333  \n",
       "2018-04-18 23:26:42+00:00  69.500000  \n",
       "2018-04-18 23:31:42+00:00  69.500000  \n",
       "2018-04-18 23:36:42+00:00  69.500000  "
      ]
     },
     "execution_count": 4,
     "metadata": {},
     "output_type": "execute_result"
    }
   ],
   "source": [
    "def add_last_temperature_feature(data):\n",
    "    \"\"\"Adding a feature which specifies what the previous temperature was \"dt\" seconds before the current\n",
    "    datasample. Since data does not need be continious, we need a loop.\n",
    "    :param: pd.df with cols: \"t_in\", \"dt\" and needs to be sorted by time.\n",
    "    returns pd.df with cols \"t_last\" added. \"\"\"\n",
    "\n",
    "    last_temps = []\n",
    "\n",
    "    last_temp = None\n",
    "    curr_time = data.index[0]\n",
    "    for index, row in data.iterrows():\n",
    "\n",
    "        if last_temp is None:\n",
    "            last_temps.append(row[\"t_in\"])  # so the feature will be zero instead\n",
    "        else:\n",
    "            last_temps.append(last_temp)\n",
    "\n",
    "        if curr_time == index:\n",
    "            last_temp = row[\"t_in\"]\n",
    "            curr_time += datetime.timedelta(minutes=row[\"dt\"])\n",
    "        else:\n",
    "            last_temp = None\n",
    "            curr_time = index + datetime.timedelta(minutes=row[\"dt\"])\n",
    "\n",
    "    data[\"t_last\"] = np.array(last_temps)\n",
    "    return data\n",
    "\n",
    "training_data = add_last_temperature_feature(training_data)\n",
    "test_data = add_last_temperature_feature(test_data)\n",
    "\n",
    "training_data.head()"
   ]
  },
  {
   "cell_type": "markdown",
   "metadata": {},
   "source": [
    "# Preprocessing Data\n",
    "\n",
    "Action features has values 0,1,2,3,4,5 which is transformed to values:\n",
    "0 - no action\n",
    "1 - heating\n",
    "2 - cooling\n",
    "\n",
    "Select the rows in datasets such that interval time is constant (5 minutes)"
   ]
  },
  {
   "cell_type": "code",
   "execution_count": 5,
   "metadata": {},
   "outputs": [],
   "source": [
    "def fix_data(data, interval):\n",
    "    \"\"\"Fixes up the data. Makes sure we count two stage as single stage actions, don't count float actions,\n",
    "    converts action duration and dt to floats, fill's nan's in action_duration and drops all datapoints which\n",
    "    don't have dt equal to interval.\n",
    "    :param data:\n",
    "    :param interval: float:minutes\"\"\"\n",
    "    def f(x):\n",
    "        if x == 0:\n",
    "            return 0\n",
    "        elif x == 2 or x == 5:\n",
    "            return 2\n",
    "        elif x ==1 or x == 3:\n",
    "            return 1\n",
    "        \n",
    "    def h(x):\n",
    "        if x == 1:\n",
    "            return 1\n",
    "        else:\n",
    "            return 0\n",
    "        \n",
    "    def c(x):\n",
    "        if x == 2:\n",
    "            return 1\n",
    "        else:\n",
    "            return 0\n",
    "\n",
    "    data[\"action\"] = data[\"action\"].map(f)\n",
    "    data['action_heating'] = data[\"action\"].map(h)\n",
    "    data['action_cooling'] = data['action'].map(c)\n",
    "    \n",
    "    #print data.head()\n",
    "\n",
    "    return data, data[data[\"dt\"] == interval]\n",
    "\n",
    "# get preproccessed test and training data\n",
    "org_training_data, training_data = fix_data(training_data, interval)\n",
    "org_test_data, test_data = fix_data(test_data, interval)\n",
    "\n",
    "\n",
    "#print(test_data.head())"
   ]
  },
  {
   "cell_type": "markdown",
   "metadata": {},
   "source": [
    "# Modifying action feature\n",
    "\n",
    "Action is represnted as two separate features: action_heating and action_cooling, which holds value either 0(off) or 1(on). "
   ]
  },
  {
   "cell_type": "markdown",
   "metadata": {},
   "source": [
    "# Dropping Features"
   ]
  },
  {
   "cell_type": "code",
   "execution_count": 6,
   "metadata": {},
   "outputs": [
    {
     "name": "stdout",
     "output_type": "stream",
     "text": [
      "                           t_next       t_in      t_out  occ     t_last  \\\n",
      "time                                                                      \n",
      "2018-04-18 23:16:42+00:00    69.5  69.483333  66.499700  0.0  69.483333   \n",
      "2018-04-18 23:21:42+00:00    69.5  69.500000  66.499700  0.0  69.483333   \n",
      "2018-04-18 23:26:42+00:00    69.5  69.500000  66.520546  0.0  69.500000   \n",
      "2018-04-18 23:31:42+00:00    69.4  69.500000  66.583083  0.0  69.500000   \n",
      "2018-04-18 23:36:42+00:00    69.5  69.400000  66.666466  0.0  69.500000   \n",
      "\n",
      "                           action_heating  action_cooling  \n",
      "time                                                       \n",
      "2018-04-18 23:16:42+00:00               0               0  \n",
      "2018-04-18 23:21:42+00:00               0               0  \n",
      "2018-04-18 23:26:42+00:00               0               0  \n",
      "2018-04-18 23:31:42+00:00               0               0  \n",
      "2018-04-18 23:36:42+00:00               0               0  \n",
      "                           t_next  t_in      t_out  occ  t_last  \\\n",
      "time                                                              \n",
      "2018-03-20 00:00:00+00:00    72.8  72.8  67.778613  0.0    72.8   \n",
      "2018-03-20 00:05:00+00:00    73.0  72.8  67.807436  0.0    72.8   \n",
      "2018-03-20 00:10:00+00:00    73.0  73.0  67.835998  0.0    72.8   \n",
      "2018-03-20 00:15:00+00:00    73.0  73.0  67.864038  0.0    73.0   \n",
      "2018-03-20 00:20:00+00:00    73.0  73.0  67.891817  0.0    73.0   \n",
      "\n",
      "                           action_heating  action_cooling  \n",
      "time                                                       \n",
      "2018-03-20 00:00:00+00:00               0               0  \n",
      "2018-03-20 00:05:00+00:00               0               0  \n",
      "2018-03-20 00:10:00+00:00               0               0  \n",
      "2018-03-20 00:15:00+00:00               0               0  \n",
      "2018-03-20 00:20:00+00:00               0               0  \n"
     ]
    }
   ],
   "source": [
    "def filter_data(data):\n",
    "    data = data.drop(['dt', 'action', 'previous_action', 'action_duration', 'zone_temperatureHVAC_Zone_Shelter_Corridor'], axis=1)\n",
    "        \n",
    "    return data\n",
    "\n",
    "training_data = filter_data(training_data)\n",
    "test_data = filter_data(test_data)\n",
    "\n",
    "print(training_data.head())\n",
    "print(test_data.head())"
   ]
  },
  {
   "cell_type": "markdown",
   "metadata": {},
   "source": [
    "# Separating Target features "
   ]
  },
  {
   "cell_type": "code",
   "execution_count": 7,
   "metadata": {},
   "outputs": [
    {
     "data": {
      "text/plain": [
       "time\n",
       "2018-04-18 23:16:42+00:00    69.5\n",
       "2018-04-18 23:21:42+00:00    69.5\n",
       "2018-04-18 23:26:42+00:00    69.5\n",
       "2018-04-18 23:31:42+00:00    69.4\n",
       "2018-04-18 23:36:42+00:00    69.5\n",
       "Name: t_next, dtype: float64"
      ]
     },
     "execution_count": 7,
     "metadata": {},
     "output_type": "execute_result"
    }
   ],
   "source": [
    "def getTarget(data, target):\n",
    "    y = data[target]\n",
    "    return y\n",
    "\n",
    "train_y = getTarget(training_data, 't_next')\n",
    "train_y.head()"
   ]
  },
  {
   "cell_type": "code",
   "execution_count": 8,
   "metadata": {},
   "outputs": [
    {
     "data": {
      "text/html": [
       "<div>\n",
       "<style>\n",
       "    .dataframe thead tr:only-child th {\n",
       "        text-align: right;\n",
       "    }\n",
       "\n",
       "    .dataframe thead th {\n",
       "        text-align: left;\n",
       "    }\n",
       "\n",
       "    .dataframe tbody tr th {\n",
       "        vertical-align: top;\n",
       "    }\n",
       "</style>\n",
       "<table border=\"1\" class=\"dataframe\">\n",
       "  <thead>\n",
       "    <tr style=\"text-align: right;\">\n",
       "      <th></th>\n",
       "      <th>t_in</th>\n",
       "      <th>t_out</th>\n",
       "      <th>occ</th>\n",
       "      <th>t_last</th>\n",
       "      <th>action_heating</th>\n",
       "      <th>action_cooling</th>\n",
       "    </tr>\n",
       "    <tr>\n",
       "      <th>time</th>\n",
       "      <th></th>\n",
       "      <th></th>\n",
       "      <th></th>\n",
       "      <th></th>\n",
       "      <th></th>\n",
       "      <th></th>\n",
       "    </tr>\n",
       "  </thead>\n",
       "  <tbody>\n",
       "    <tr>\n",
       "      <th>2018-04-18 23:16:42+00:00</th>\n",
       "      <td>69.483333</td>\n",
       "      <td>66.499700</td>\n",
       "      <td>0.0</td>\n",
       "      <td>69.483333</td>\n",
       "      <td>0</td>\n",
       "      <td>0</td>\n",
       "    </tr>\n",
       "    <tr>\n",
       "      <th>2018-04-18 23:21:42+00:00</th>\n",
       "      <td>69.500000</td>\n",
       "      <td>66.499700</td>\n",
       "      <td>0.0</td>\n",
       "      <td>69.483333</td>\n",
       "      <td>0</td>\n",
       "      <td>0</td>\n",
       "    </tr>\n",
       "    <tr>\n",
       "      <th>2018-04-18 23:26:42+00:00</th>\n",
       "      <td>69.500000</td>\n",
       "      <td>66.520546</td>\n",
       "      <td>0.0</td>\n",
       "      <td>69.500000</td>\n",
       "      <td>0</td>\n",
       "      <td>0</td>\n",
       "    </tr>\n",
       "    <tr>\n",
       "      <th>2018-04-18 23:31:42+00:00</th>\n",
       "      <td>69.500000</td>\n",
       "      <td>66.583083</td>\n",
       "      <td>0.0</td>\n",
       "      <td>69.500000</td>\n",
       "      <td>0</td>\n",
       "      <td>0</td>\n",
       "    </tr>\n",
       "    <tr>\n",
       "      <th>2018-04-18 23:36:42+00:00</th>\n",
       "      <td>69.400000</td>\n",
       "      <td>66.666466</td>\n",
       "      <td>0.0</td>\n",
       "      <td>69.500000</td>\n",
       "      <td>0</td>\n",
       "      <td>0</td>\n",
       "    </tr>\n",
       "  </tbody>\n",
       "</table>\n",
       "</div>"
      ],
      "text/plain": [
       "                                t_in      t_out  occ     t_last  \\\n",
       "time                                                              \n",
       "2018-04-18 23:16:42+00:00  69.483333  66.499700  0.0  69.483333   \n",
       "2018-04-18 23:21:42+00:00  69.500000  66.499700  0.0  69.483333   \n",
       "2018-04-18 23:26:42+00:00  69.500000  66.520546  0.0  69.500000   \n",
       "2018-04-18 23:31:42+00:00  69.500000  66.583083  0.0  69.500000   \n",
       "2018-04-18 23:36:42+00:00  69.400000  66.666466  0.0  69.500000   \n",
       "\n",
       "                           action_heating  action_cooling  \n",
       "time                                                       \n",
       "2018-04-18 23:16:42+00:00               0               0  \n",
       "2018-04-18 23:21:42+00:00               0               0  \n",
       "2018-04-18 23:26:42+00:00               0               0  \n",
       "2018-04-18 23:31:42+00:00               0               0  \n",
       "2018-04-18 23:36:42+00:00               0               0  "
      ]
     },
     "execution_count": 8,
     "metadata": {},
     "output_type": "execute_result"
    }
   ],
   "source": [
    "def getFeatures(data, target):\n",
    "    X = data.drop([target], axis=1)\n",
    "    return X\n",
    "\n",
    "train_X = getFeatures(training_data, 't_next')\n",
    "train_X.head()"
   ]
  },
  {
   "cell_type": "code",
   "execution_count": 9,
   "metadata": {},
   "outputs": [
    {
     "data": {
      "text/plain": [
       "time\n",
       "2018-03-20 00:00:00+00:00    72.8\n",
       "2018-03-20 00:05:00+00:00    73.0\n",
       "2018-03-20 00:10:00+00:00    73.0\n",
       "2018-03-20 00:15:00+00:00    73.0\n",
       "2018-03-20 00:20:00+00:00    73.0\n",
       "Name: t_next, dtype: float64"
      ]
     },
     "execution_count": 9,
     "metadata": {},
     "output_type": "execute_result"
    }
   ],
   "source": [
    "test_y = getTarget(test_data, 't_next')\n",
    "test_y.head()"
   ]
  },
  {
   "cell_type": "code",
   "execution_count": 10,
   "metadata": {},
   "outputs": [
    {
     "data": {
      "text/html": [
       "<div>\n",
       "<style>\n",
       "    .dataframe thead tr:only-child th {\n",
       "        text-align: right;\n",
       "    }\n",
       "\n",
       "    .dataframe thead th {\n",
       "        text-align: left;\n",
       "    }\n",
       "\n",
       "    .dataframe tbody tr th {\n",
       "        vertical-align: top;\n",
       "    }\n",
       "</style>\n",
       "<table border=\"1\" class=\"dataframe\">\n",
       "  <thead>\n",
       "    <tr style=\"text-align: right;\">\n",
       "      <th></th>\n",
       "      <th>t_in</th>\n",
       "      <th>t_out</th>\n",
       "      <th>occ</th>\n",
       "      <th>t_last</th>\n",
       "      <th>action_heating</th>\n",
       "      <th>action_cooling</th>\n",
       "    </tr>\n",
       "    <tr>\n",
       "      <th>time</th>\n",
       "      <th></th>\n",
       "      <th></th>\n",
       "      <th></th>\n",
       "      <th></th>\n",
       "      <th></th>\n",
       "      <th></th>\n",
       "    </tr>\n",
       "  </thead>\n",
       "  <tbody>\n",
       "    <tr>\n",
       "      <th>2018-03-20 00:00:00+00:00</th>\n",
       "      <td>72.8</td>\n",
       "      <td>67.778613</td>\n",
       "      <td>0.0</td>\n",
       "      <td>72.8</td>\n",
       "      <td>0</td>\n",
       "      <td>0</td>\n",
       "    </tr>\n",
       "    <tr>\n",
       "      <th>2018-03-20 00:05:00+00:00</th>\n",
       "      <td>72.8</td>\n",
       "      <td>67.807436</td>\n",
       "      <td>0.0</td>\n",
       "      <td>72.8</td>\n",
       "      <td>0</td>\n",
       "      <td>0</td>\n",
       "    </tr>\n",
       "    <tr>\n",
       "      <th>2018-03-20 00:10:00+00:00</th>\n",
       "      <td>73.0</td>\n",
       "      <td>67.835998</td>\n",
       "      <td>0.0</td>\n",
       "      <td>72.8</td>\n",
       "      <td>0</td>\n",
       "      <td>0</td>\n",
       "    </tr>\n",
       "    <tr>\n",
       "      <th>2018-03-20 00:15:00+00:00</th>\n",
       "      <td>73.0</td>\n",
       "      <td>67.864038</td>\n",
       "      <td>0.0</td>\n",
       "      <td>73.0</td>\n",
       "      <td>0</td>\n",
       "      <td>0</td>\n",
       "    </tr>\n",
       "    <tr>\n",
       "      <th>2018-03-20 00:20:00+00:00</th>\n",
       "      <td>73.0</td>\n",
       "      <td>67.891817</td>\n",
       "      <td>0.0</td>\n",
       "      <td>73.0</td>\n",
       "      <td>0</td>\n",
       "      <td>0</td>\n",
       "    </tr>\n",
       "  </tbody>\n",
       "</table>\n",
       "</div>"
      ],
      "text/plain": [
       "                           t_in      t_out  occ  t_last  action_heating  \\\n",
       "time                                                                      \n",
       "2018-03-20 00:00:00+00:00  72.8  67.778613  0.0    72.8               0   \n",
       "2018-03-20 00:05:00+00:00  72.8  67.807436  0.0    72.8               0   \n",
       "2018-03-20 00:10:00+00:00  73.0  67.835998  0.0    72.8               0   \n",
       "2018-03-20 00:15:00+00:00  73.0  67.864038  0.0    73.0               0   \n",
       "2018-03-20 00:20:00+00:00  73.0  67.891817  0.0    73.0               0   \n",
       "\n",
       "                           action_cooling  \n",
       "time                                       \n",
       "2018-03-20 00:00:00+00:00               0  \n",
       "2018-03-20 00:05:00+00:00               0  \n",
       "2018-03-20 00:10:00+00:00               0  \n",
       "2018-03-20 00:15:00+00:00               0  \n",
       "2018-03-20 00:20:00+00:00               0  "
      ]
     },
     "execution_count": 10,
     "metadata": {},
     "output_type": "execute_result"
    }
   ],
   "source": [
    "test_X = getFeatures(test_data, 't_next')\n",
    "test_X.head()"
   ]
  },
  {
   "cell_type": "markdown",
   "metadata": {},
   "source": [
    "# Linear Regression Model"
   ]
  },
  {
   "cell_type": "code",
   "execution_count": 12,
   "metadata": {},
   "outputs": [],
   "source": [
    "from sklearn.linear_model import LinearRegression\n",
    "from sklearn.metrics import mean_squared_error\n",
    "import time \n",
    "\n",
    "linearModel = LinearRegression().fit(train_X, train_y)\n",
    "test_pred1 = linearModel.predict(test_X)\n",
    "#print test_pred1\n"
   ]
  },
  {
   "cell_type": "code",
   "execution_count": 13,
   "metadata": {},
   "outputs": [
    {
     "data": {
      "text/plain": [
       "array([ 1.28289243,  0.00237199,  0.04860689, -0.2898298 ,  0.04871555,\n",
       "       -0.11557755])"
      ]
     },
     "execution_count": 13,
     "metadata": {},
     "output_type": "execute_result"
    }
   ],
   "source": [
    "linearModel.coef_"
   ]
  },
  {
   "cell_type": "code",
   "execution_count": 14,
   "metadata": {},
   "outputs": [
    {
     "data": {
      "text/plain": [
       "0.33235180674115838"
      ]
     },
     "execution_count": 14,
     "metadata": {},
     "output_type": "execute_result"
    }
   ],
   "source": [
    "linearModel.intercept_"
   ]
  },
  {
   "cell_type": "code",
   "execution_count": 15,
   "metadata": {},
   "outputs": [
    {
     "data": {
      "text/plain": [
       "0.99267895549462903"
      ]
     },
     "execution_count": 15,
     "metadata": {},
     "output_type": "execute_result"
    }
   ],
   "source": [
    "linearModel.score(test_X, test_y)"
   ]
  },
  {
   "cell_type": "code",
   "execution_count": 16,
   "metadata": {},
   "outputs": [
    {
     "data": {
      "text/plain": [
       "0.2291048240274968"
      ]
     },
     "execution_count": 16,
     "metadata": {},
     "output_type": "execute_result"
    }
   ],
   "source": [
    "sqrt(mean_squared_error(test_y, test_pred1))"
   ]
  },
  {
   "cell_type": "markdown",
   "metadata": {},
   "source": [
    "# Lasso Regression"
   ]
  },
  {
   "cell_type": "code",
   "execution_count": 17,
   "metadata": {},
   "outputs": [
    {
     "data": {
      "text/plain": [
       "0.99650471871965729"
      ]
     },
     "execution_count": 17,
     "metadata": {},
     "output_type": "execute_result"
    }
   ],
   "source": [
    "from sklearn import linear_model\n",
    "\n",
    "lasso_clf = linear_model.Lasso(alpha=0.1)\n",
    "lasso_clf.fit(train_X, train_y)\n",
    "lasso_clf.score(test_X, test_y)"
   ]
  },
  {
   "cell_type": "markdown",
   "metadata": {},
   "source": [
    "# Ridge Regression"
   ]
  },
  {
   "cell_type": "code",
   "execution_count": 18,
   "metadata": {},
   "outputs": [
    {
     "data": {
      "text/plain": [
       "0.9927247245651678"
      ]
     },
     "execution_count": 18,
     "metadata": {},
     "output_type": "execute_result"
    }
   ],
   "source": [
    "from sklearn.linear_model import Ridge\n",
    "\n",
    "ridge_clf = Ridge(alpha=1.0)\n",
    "ridge_clf.fit(train_X, train_y)\n",
    "ridge_clf.score(test_X, test_y)"
   ]
  },
  {
   "cell_type": "markdown",
   "metadata": {},
   "source": [
    "# AutoRegression that uses previous predicted value as current t_in"
   ]
  },
  {
   "cell_type": "code",
   "execution_count": 19,
   "metadata": {
    "collapsed": true
   },
   "outputs": [],
   "source": [
    "def autoRegression(model, data_X):\n",
    "    t_next5 = []\n",
    "    for index, row in data_X.iterrows():\n",
    "        if t_next5:\n",
    "            row['t_in'] = t_next5[-1]\n",
    "            if len(t_next5) > 1:\n",
    "                row['t_last'] = t_next5[-2]\n",
    "            else:\n",
    "                row['t_last'] = data_X['t_in'].iloc[0]\n",
    "        t_pred = model.predict([row])   \n",
    "        t_next5.append(t_pred[0])\n",
    "    return t_next5\n",
    "            "
   ]
  },
  {
   "cell_type": "markdown",
   "metadata": {},
   "source": [
    "# AutoRegression using Linear Model"
   ]
  },
  {
   "cell_type": "code",
   "execution_count": 20,
   "metadata": {},
   "outputs": [
    {
     "data": {
      "text/plain": [
       "3.5492507506236444"
      ]
     },
     "execution_count": 20,
     "metadata": {},
     "output_type": "execute_result"
    }
   ],
   "source": [
    "t_pred5 = autoRegression(linearModel, test_X)\n",
    "sqrt(mean_squared_error(test_y, t_pred5))"
   ]
  },
  {
   "cell_type": "code",
   "execution_count": 21,
   "metadata": {},
   "outputs": [
    {
     "data": {
      "text/plain": [
       "2.593215429580855"
      ]
     },
     "execution_count": 21,
     "metadata": {},
     "output_type": "execute_result"
    }
   ],
   "source": [
    "t_pred5 = autoRegression(linearModel, train_X)\n",
    "sqrt(mean_squared_error(train_y, t_pred5)) "
   ]
  },
  {
   "cell_type": "markdown",
   "metadata": {},
   "source": [
    "# AutoRegression using Ridge Regression model"
   ]
  },
  {
   "cell_type": "code",
   "execution_count": 22,
   "metadata": {},
   "outputs": [
    {
     "data": {
      "text/plain": [
       "2.591165483166959"
      ]
     },
     "execution_count": 22,
     "metadata": {},
     "output_type": "execute_result"
    }
   ],
   "source": [
    "train_pred2 = autoRegression(ridge_clf, train_X)\n",
    "sqrt(mean_squared_error(train_y, train_pred2))"
   ]
  },
  {
   "cell_type": "code",
   "execution_count": 23,
   "metadata": {},
   "outputs": [
    {
     "data": {
      "text/plain": [
       "3.547324054534313"
      ]
     },
     "execution_count": 23,
     "metadata": {},
     "output_type": "execute_result"
    }
   ],
   "source": [
    "test_pred2 = autoRegression(ridge_clf, test_X)\n",
    "sqrt(mean_squared_error(test_y, test_pred2))"
   ]
  },
  {
   "cell_type": "markdown",
   "metadata": {},
   "source": [
    "# AutoRegression using Lasso Regression model"
   ]
  },
  {
   "cell_type": "code",
   "execution_count": 24,
   "metadata": {},
   "outputs": [
    {
     "data": {
      "text/plain": [
       "2.110446328015785"
      ]
     },
     "execution_count": 24,
     "metadata": {},
     "output_type": "execute_result"
    }
   ],
   "source": [
    "train_pred2 = autoRegression(lasso_clf, train_X)\n",
    "sqrt(mean_squared_error(train_y, train_pred2))"
   ]
  },
  {
   "cell_type": "code",
   "execution_count": 25,
   "metadata": {},
   "outputs": [
    {
     "data": {
      "text/plain": [
       "2.8147187474017428"
      ]
     },
     "execution_count": 25,
     "metadata": {},
     "output_type": "execute_result"
    }
   ],
   "source": [
    "test_pred2 = autoRegression(lasso_clf, test_X)\n",
    "sqrt(mean_squared_error(test_y, test_pred2))"
   ]
  },
  {
   "cell_type": "code",
   "execution_count": 33,
   "metadata": {},
   "outputs": [
    {
     "data": {
      "image/png": "[encoded data removed]",
      "text/plain": [
       "<matplotlib.figure.Figure at 0x1efe498c9e8>"
      ]
     },
     "metadata": {},
     "output_type": "display_data"
    },
    {
     "data": {
      "image/png": "[encoded data removed]",
      "text/plain": [
       "<matplotlib.figure.Figure at 0x1efed22d978>"
      ]
     },
     "metadata": {},
     "output_type": "display_data"
    }
   ],
   "source": [
    "test_pred2 = pd.DataFrame(test_pred2, index=test_X.index)\n",
    "\n",
    "plt.figure(figsize=(15,4))\n",
    "plt.plot(test_y, 'g', linewidth=1)\n",
    "plt.plot(test_pred2, 'r', linewidth=1)\n",
    "plt.show()"
   ]
  },
  {
   "cell_type": "markdown",
   "metadata": {},
   "source": [
    "# AutoRegression for successive 5 minute interval using Lasso Regression"
   ]
  },
  {
   "cell_type": "code",
   "execution_count": 34,
   "metadata": {},
   "outputs": [
    {
     "data": {
      "text/plain": [
       "[2.8158688180396747,\n",
       " 2.8164187050127314,\n",
       " 2.8169469591411844,\n",
       " 2.817441506333442,\n",
       " 2.8178981809691126,\n",
       " 2.8183237927831097,\n",
       " 2.8187151017138694,\n",
       " 2.819038082862818,\n",
       " 2.8192939068675433,\n",
       " 2.819490618637019]"
      ]
     },
     "execution_count": 34,
     "metadata": {},
     "output_type": "execute_result"
    }
   ],
   "source": [
    "def successiveTime(test_y, test_pred2):\n",
    "    time = []\n",
    "    rmse = []\n",
    "    i = 0\n",
    "    for x in range(10,60,5):\n",
    "        time.append(x)\n",
    "        i = i + 1\n",
    "        truth = test_y.shift(-x, axis=0).dropna()\n",
    "        pred = test_pred2.shift(-x, axis=0).dropna()\n",
    "        rmse.append(sqrt(mean_squared_error(truth, pred)))\n",
    "        \n",
    "    return time, rmse\n",
    "\n",
    "time, rmse = successiveTime(test_y, test_pred2)\n",
    "rmse"
   ]
  },
  {
   "cell_type": "code",
   "execution_count": 36,
   "metadata": {},
   "outputs": [
    {
     "data": {
      "image/png": "[encoded data removed]",
      "text/plain": [
       "<matplotlib.figure.Figure at 0x1efed4959b0>"
      ]
     },
     "metadata": {},
     "output_type": "display_data"
    }
   ],
   "source": [
    "plt.plot(time, rmse)\n",
    "plt.show()"
   ]
  },
  {
   "cell_type": "code",
   "execution_count": null,
   "metadata": {
    "collapsed": true
   },
   "outputs": [],
   "source": []
  }
 ],
 "metadata": {
  "kernelspec": {
   "display_name": "Python 3",
   "language": "python",
   "name": "python3"
  },
  "language_info": {
   "codemirror_mode": {
    "name": "ipython",
    "version": 3
   },
   "file_extension": ".py",
   "mimetype": "text/x-python",
   "name": "python",
   "nbconvert_exporter": "python",
   "pygments_lexer": "ipython3",
   "version": "3.6.3"
  }
 },
 "nbformat": 4,
 "nbformat_minor": 2
}
