{
 "cells": [
  {
   "cell_type": "markdown",
   "metadata": {},
   "source": [
    "# Autoregression Model"
   ]
  },
  {
   "cell_type": "code",
   "execution_count": 3,
   "metadata": {},
   "outputs": [],
   "source": [
    "import pickle\n",
    "import datetime\n",
    "import numpy as np\n",
    "import matplotlib.pyplot as plt"
   ]
  },
  {
   "cell_type": "markdown",
   "metadata": {},
   "source": [
    "# Loading Data File"
   ]
  },
  {
   "cell_type": "code",
   "execution_count": 4,
   "metadata": {},
   "outputs": [],
   "source": [
    "path = \"../Data/\"\n",
    "building = \"avenal-animal-shelter\"\n",
    "interval = 5 # min\n",
    "\n",
    "\n",
    "with open(path + building + \"_training_data.pkl\", 'r') as f:\n",
    "    training_data = pickle.load(f)\n",
    "\n",
    "with open(path + building + \"_test_data.pkl\", \"r\") as f:\n",
    "    test_data = pickle.load(f)\n",
    "    "
   ]
  },
  {
   "cell_type": "markdown",
   "metadata": {},
   "source": [
    "# Features in Dataset"
   ]
  },
  {
   "cell_type": "code",
   "execution_count": 5,
   "metadata": {},
   "outputs": [
    {
     "name": "stdout",
     "output_type": "stream",
     "text": [
      "<class 'pandas.core.frame.DataFrame'>\n",
      "DatetimeIndex: 53187 entries, 2018-04-18 23:16:42+00:00 to 2018-10-25 23:13:42+00:00\n",
      "Data columns (total 9 columns):\n",
      "action                                        53187 non-null float64\n",
      "action_duration                               53187 non-null object\n",
      "dt                                            53187 non-null float64\n",
      "previous_action                               42307 non-null float64\n",
      "t_next                                        53187 non-null float64\n",
      "t_in                                          53187 non-null float64\n",
      "t_out                                         53186 non-null float64\n",
      "occ                                           53186 non-null float64\n",
      "zone_temperatureHVAC_Zone_Shelter_Corridor    53186 non-null float64\n",
      "dtypes: float64(8), object(1)\n",
      "memory usage: 4.1+ MB\n"
     ]
    }
   ],
   "source": [
    "training_data.info()"
   ]
  },
  {
   "cell_type": "markdown",
   "metadata": {},
   "source": [
    "# Include previous indoor temperature as t_last"
   ]
  },
  {
   "cell_type": "code",
   "execution_count": 6,
   "metadata": {},
   "outputs": [
    {
     "data": {
      "text/html": [
       "<div>\n",
       "<style scoped>\n",
       "    .dataframe tbody tr th:only-of-type {\n",
       "        vertical-align: middle;\n",
       "    }\n",
       "\n",
       "    .dataframe tbody tr th {\n",
       "        vertical-align: top;\n",
       "    }\n",
       "\n",
       "    .dataframe thead th {\n",
       "        text-align: right;\n",
       "    }\n",
       "</style>\n",
       "<table border=\"1\" class=\"dataframe\">\n",
       "  <thead>\n",
       "    <tr style=\"text-align: right;\">\n",
       "      <th></th>\n",
       "      <th>action</th>\n",
       "      <th>action_duration</th>\n",
       "      <th>dt</th>\n",
       "      <th>previous_action</th>\n",
       "      <th>t_next</th>\n",
       "      <th>t_in</th>\n",
       "      <th>t_out</th>\n",
       "      <th>occ</th>\n",
       "      <th>zone_temperatureHVAC_Zone_Shelter_Corridor</th>\n",
       "      <th>t_last</th>\n",
       "    </tr>\n",
       "    <tr>\n",
       "      <th>time</th>\n",
       "      <th></th>\n",
       "      <th></th>\n",
       "      <th></th>\n",
       "      <th></th>\n",
       "      <th></th>\n",
       "      <th></th>\n",
       "      <th></th>\n",
       "      <th></th>\n",
       "      <th></th>\n",
       "      <th></th>\n",
       "    </tr>\n",
       "  </thead>\n",
       "  <tbody>\n",
       "    <tr>\n",
       "      <th>2018-04-18 23:16:42+00:00</th>\n",
       "      <td>0.0</td>\n",
       "      <td>300.0s</td>\n",
       "      <td>5.0</td>\n",
       "      <td>NaN</td>\n",
       "      <td>69.5</td>\n",
       "      <td>69.483333</td>\n",
       "      <td>66.499700</td>\n",
       "      <td>0.0</td>\n",
       "      <td>69.499167</td>\n",
       "      <td>69.483333</td>\n",
       "    </tr>\n",
       "    <tr>\n",
       "      <th>2018-04-18 23:21:42+00:00</th>\n",
       "      <td>0.0</td>\n",
       "      <td>600.0s</td>\n",
       "      <td>5.0</td>\n",
       "      <td>NaN</td>\n",
       "      <td>69.5</td>\n",
       "      <td>69.500000</td>\n",
       "      <td>66.499700</td>\n",
       "      <td>0.0</td>\n",
       "      <td>69.485833</td>\n",
       "      <td>69.483333</td>\n",
       "    </tr>\n",
       "    <tr>\n",
       "      <th>2018-04-18 23:26:42+00:00</th>\n",
       "      <td>0.0</td>\n",
       "      <td>900.0s</td>\n",
       "      <td>5.0</td>\n",
       "      <td>NaN</td>\n",
       "      <td>69.5</td>\n",
       "      <td>69.500000</td>\n",
       "      <td>66.520546</td>\n",
       "      <td>0.0</td>\n",
       "      <td>69.460833</td>\n",
       "      <td>69.500000</td>\n",
       "    </tr>\n",
       "    <tr>\n",
       "      <th>2018-04-18 23:31:42+00:00</th>\n",
       "      <td>0.0</td>\n",
       "      <td>1200.0s</td>\n",
       "      <td>5.0</td>\n",
       "      <td>NaN</td>\n",
       "      <td>69.4</td>\n",
       "      <td>69.500000</td>\n",
       "      <td>66.583083</td>\n",
       "      <td>0.0</td>\n",
       "      <td>69.450000</td>\n",
       "      <td>69.500000</td>\n",
       "    </tr>\n",
       "    <tr>\n",
       "      <th>2018-04-18 23:36:42+00:00</th>\n",
       "      <td>0.0</td>\n",
       "      <td>1500.0s</td>\n",
       "      <td>5.0</td>\n",
       "      <td>NaN</td>\n",
       "      <td>69.5</td>\n",
       "      <td>69.400000</td>\n",
       "      <td>66.666466</td>\n",
       "      <td>0.0</td>\n",
       "      <td>69.450489</td>\n",
       "      <td>69.500000</td>\n",
       "    </tr>\n",
       "  </tbody>\n",
       "</table>\n",
       "</div>"
      ],
      "text/plain": [
       "                           action action_duration   dt  previous_action  \\\n",
       "time                                                                      \n",
       "2018-04-18 23:16:42+00:00     0.0          300.0s  5.0              NaN   \n",
       "2018-04-18 23:21:42+00:00     0.0          600.0s  5.0              NaN   \n",
       "2018-04-18 23:26:42+00:00     0.0          900.0s  5.0              NaN   \n",
       "2018-04-18 23:31:42+00:00     0.0         1200.0s  5.0              NaN   \n",
       "2018-04-18 23:36:42+00:00     0.0         1500.0s  5.0              NaN   \n",
       "\n",
       "                           t_next       t_in      t_out  occ  \\\n",
       "time                                                           \n",
       "2018-04-18 23:16:42+00:00    69.5  69.483333  66.499700  0.0   \n",
       "2018-04-18 23:21:42+00:00    69.5  69.500000  66.499700  0.0   \n",
       "2018-04-18 23:26:42+00:00    69.5  69.500000  66.520546  0.0   \n",
       "2018-04-18 23:31:42+00:00    69.4  69.500000  66.583083  0.0   \n",
       "2018-04-18 23:36:42+00:00    69.5  69.400000  66.666466  0.0   \n",
       "\n",
       "                           zone_temperatureHVAC_Zone_Shelter_Corridor  \\\n",
       "time                                                                    \n",
       "2018-04-18 23:16:42+00:00                                   69.499167   \n",
       "2018-04-18 23:21:42+00:00                                   69.485833   \n",
       "2018-04-18 23:26:42+00:00                                   69.460833   \n",
       "2018-04-18 23:31:42+00:00                                   69.450000   \n",
       "2018-04-18 23:36:42+00:00                                   69.450489   \n",
       "\n",
       "                              t_last  \n",
       "time                                  \n",
       "2018-04-18 23:16:42+00:00  69.483333  \n",
       "2018-04-18 23:21:42+00:00  69.483333  \n",
       "2018-04-18 23:26:42+00:00  69.500000  \n",
       "2018-04-18 23:31:42+00:00  69.500000  \n",
       "2018-04-18 23:36:42+00:00  69.500000  "
      ]
     },
     "execution_count": 6,
     "metadata": {},
     "output_type": "execute_result"
    }
   ],
   "source": [
    "def add_last_temperature_feature(data):\n",
    "    \"\"\"Adding a feature which specifies what the previous temperature was \"dt\" seconds before the current\n",
    "    datasample. Since data does not need be continious, we need a loop.\n",
    "    :param: pd.df with cols: \"t_in\", \"dt\" and needs to be sorted by time.\n",
    "    returns pd.df with cols \"t_last\" added. \"\"\"\n",
    "\n",
    "    last_temps = []\n",
    "\n",
    "    last_temp = None\n",
    "    curr_time = data.index[0]\n",
    "    for index, row in data.iterrows():\n",
    "\n",
    "        if last_temp is None:\n",
    "            last_temps.append(row[\"t_in\"])  # so the feature will be zero instead\n",
    "        else:\n",
    "            last_temps.append(last_temp)\n",
    "\n",
    "        if curr_time == index:\n",
    "            last_temp = row[\"t_in\"]\n",
    "            curr_time += datetime.timedelta(minutes=row[\"dt\"])\n",
    "        else:\n",
    "            last_temp = None\n",
    "            curr_time = index + datetime.timedelta(minutes=row[\"dt\"])\n",
    "\n",
    "    data[\"t_last\"] = np.array(last_temps)\n",
    "    return data\n",
    "\n",
    "training_data = add_last_temperature_feature(training_data)\n",
    "test_data = add_last_temperature_feature(test_data)\n",
    "\n",
    "training_data.head()"
   ]
  },
  {
   "cell_type": "markdown",
   "metadata": {},
   "source": [
    "# Preprocessing Data\n",
    "\n",
    "Action features has values 0,1,2,3,4,5 which is transformed to values:\n",
    "0 - no action\n",
    "1 - heating\n",
    "2 - cooling\n",
    "\n",
    "Select the rows in datasets such that interval time is constant (5 minutes)"
   ]
  },
  {
   "cell_type": "code",
   "execution_count": 7,
   "metadata": {},
   "outputs": [
    {
     "name": "stdout",
     "output_type": "stream",
     "text": [
      "                           action action_duration   dt  previous_action  \\\n",
      "time                                                                      \n",
      "2018-04-18 23:16:42+00:00       0          300.0s  5.0              NaN   \n",
      "2018-04-18 23:21:42+00:00       0          600.0s  5.0              NaN   \n",
      "2018-04-18 23:26:42+00:00       0          900.0s  5.0              NaN   \n",
      "2018-04-18 23:31:42+00:00       0         1200.0s  5.0              NaN   \n",
      "2018-04-18 23:36:42+00:00       0         1500.0s  5.0              NaN   \n",
      "\n",
      "                           t_next       t_in      t_out  occ  \\\n",
      "time                                                           \n",
      "2018-04-18 23:16:42+00:00    69.5  69.483333  66.499700  0.0   \n",
      "2018-04-18 23:21:42+00:00    69.5  69.500000  66.499700  0.0   \n",
      "2018-04-18 23:26:42+00:00    69.5  69.500000  66.520546  0.0   \n",
      "2018-04-18 23:31:42+00:00    69.4  69.500000  66.583083  0.0   \n",
      "2018-04-18 23:36:42+00:00    69.5  69.400000  66.666466  0.0   \n",
      "\n",
      "                           zone_temperatureHVAC_Zone_Shelter_Corridor  \\\n",
      "time                                                                    \n",
      "2018-04-18 23:16:42+00:00                                   69.499167   \n",
      "2018-04-18 23:21:42+00:00                                   69.485833   \n",
      "2018-04-18 23:26:42+00:00                                   69.460833   \n",
      "2018-04-18 23:31:42+00:00                                   69.450000   \n",
      "2018-04-18 23:36:42+00:00                                   69.450489   \n",
      "\n",
      "                              t_last  action_heating  action_cooling  \n",
      "time                                                                  \n",
      "2018-04-18 23:16:42+00:00  69.483333               0               0  \n",
      "2018-04-18 23:21:42+00:00  69.483333               0               0  \n",
      "2018-04-18 23:26:42+00:00  69.500000               0               0  \n",
      "2018-04-18 23:31:42+00:00  69.500000               0               0  \n",
      "2018-04-18 23:36:42+00:00  69.500000               0               0  \n",
      "                           action action_duration   dt  previous_action  \\\n",
      "time                                                                      \n",
      "2018-03-20 00:00:00+00:00       0          300.0s  5.0              NaN   \n",
      "2018-03-20 00:05:00+00:00       0          600.0s  5.0              NaN   \n",
      "2018-03-20 00:10:00+00:00       0          900.0s  5.0              NaN   \n",
      "2018-03-20 00:15:00+00:00       0         1200.0s  5.0              NaN   \n",
      "2018-03-20 00:20:00+00:00       0         1500.0s  5.0              NaN   \n",
      "\n",
      "                           t_next  t_in      t_out  occ  \\\n",
      "time                                                      \n",
      "2018-03-20 00:00:00+00:00    72.8  72.8  67.778613  0.0   \n",
      "2018-03-20 00:05:00+00:00    73.0  72.8  67.807436  0.0   \n",
      "2018-03-20 00:10:00+00:00    73.0  73.0  67.835998  0.0   \n",
      "2018-03-20 00:15:00+00:00    73.0  73.0  67.864038  0.0   \n",
      "2018-03-20 00:20:00+00:00    73.0  73.0  67.891817  0.0   \n",
      "\n",
      "                           zone_temperatureHVAC_Zone_Shelter_Corridor  t_last  \\\n",
      "time                                                                            \n",
      "2018-03-20 00:00:00+00:00                                   72.870690    72.8   \n",
      "2018-03-20 00:05:00+00:00                                   72.960345    72.8   \n",
      "2018-03-20 00:10:00+00:00                                   73.000000    72.8   \n",
      "2018-03-20 00:15:00+00:00                                   73.000000    73.0   \n",
      "2018-03-20 00:20:00+00:00                                   73.000000    73.0   \n",
      "\n",
      "                           action_heating  action_cooling  \n",
      "time                                                       \n",
      "2018-03-20 00:00:00+00:00               0               0  \n",
      "2018-03-20 00:05:00+00:00               0               0  \n",
      "2018-03-20 00:10:00+00:00               0               0  \n",
      "2018-03-20 00:15:00+00:00               0               0  \n",
      "2018-03-20 00:20:00+00:00               0               0  \n"
     ]
    }
   ],
   "source": [
    "def fix_data(data, interval):\n",
    "    \"\"\"Fixes up the data. Makes sure we count two stage as single stage actions, don't count float actions,\n",
    "    converts action duration and dt to floats, fill's nan's in action_duration and drops all datapoints which\n",
    "    don't have dt equal to interval.\n",
    "    :param data:\n",
    "    :param interval: float:minutes\"\"\"\n",
    "    def f(x):\n",
    "        if x == 0:\n",
    "            return 0\n",
    "        elif x == 2 or x == 5:\n",
    "            return 2\n",
    "        elif x ==1 or x == 3:\n",
    "            return 1\n",
    "        \n",
    "    def h(x):\n",
    "        if x == 1:\n",
    "            return 1\n",
    "        else:\n",
    "            return 0\n",
    "        \n",
    "    def c(x):\n",
    "        if x == 2:\n",
    "            return 1\n",
    "        else:\n",
    "            return 0\n",
    "\n",
    "    data[\"action\"] = data[\"action\"].map(f)\n",
    "    data['action_heating'] = data[\"action\"].map(h)\n",
    "    data['action_cooling'] = data['action'].map(c)\n",
    "    \n",
    "    print data.head()\n",
    "\n",
    "    return data, data[data[\"dt\"] == interval]\n",
    "\n",
    "# get preproccessed test and training data\n",
    "org_training_data, training_data = fix_data(training_data, interval)\n",
    "org_test_data, test_data = fix_data(test_data, interval)\n",
    "\n",
    "\n",
    "#print(test_data.head())"
   ]
  },
  {
   "cell_type": "markdown",
   "metadata": {},
   "source": [
    "# Modifying action feature\n",
    "\n",
    "Action is represnted as two separate features: action_heating and action_cooling, which holds value either 0(off) or 1(on). "
   ]
  },
  {
   "cell_type": "markdown",
   "metadata": {},
   "source": [
    "# Dropping Features"
   ]
  },
  {
   "cell_type": "code",
   "execution_count": 8,
   "metadata": {},
   "outputs": [
    {
     "name": "stdout",
     "output_type": "stream",
     "text": [
      "                           t_next       t_in      t_out  occ     t_last  \\\n",
      "time                                                                      \n",
      "2018-04-18 23:16:42+00:00    69.5  69.483333  66.499700  0.0  69.483333   \n",
      "2018-04-18 23:21:42+00:00    69.5  69.500000  66.499700  0.0  69.483333   \n",
      "2018-04-18 23:26:42+00:00    69.5  69.500000  66.520546  0.0  69.500000   \n",
      "2018-04-18 23:31:42+00:00    69.4  69.500000  66.583083  0.0  69.500000   \n",
      "2018-04-18 23:36:42+00:00    69.5  69.400000  66.666466  0.0  69.500000   \n",
      "\n",
      "                           action_heating  action_cooling  \n",
      "time                                                       \n",
      "2018-04-18 23:16:42+00:00               0               0  \n",
      "2018-04-18 23:21:42+00:00               0               0  \n",
      "2018-04-18 23:26:42+00:00               0               0  \n",
      "2018-04-18 23:31:42+00:00               0               0  \n",
      "2018-04-18 23:36:42+00:00               0               0  \n",
      "                           t_next  t_in      t_out  occ  t_last  \\\n",
      "time                                                              \n",
      "2018-03-20 00:00:00+00:00    72.8  72.8  67.778613  0.0    72.8   \n",
      "2018-03-20 00:05:00+00:00    73.0  72.8  67.807436  0.0    72.8   \n",
      "2018-03-20 00:10:00+00:00    73.0  73.0  67.835998  0.0    72.8   \n",
      "2018-03-20 00:15:00+00:00    73.0  73.0  67.864038  0.0    73.0   \n",
      "2018-03-20 00:20:00+00:00    73.0  73.0  67.891817  0.0    73.0   \n",
      "\n",
      "                           action_heating  action_cooling  \n",
      "time                                                       \n",
      "2018-03-20 00:00:00+00:00               0               0  \n",
      "2018-03-20 00:05:00+00:00               0               0  \n",
      "2018-03-20 00:10:00+00:00               0               0  \n",
      "2018-03-20 00:15:00+00:00               0               0  \n",
      "2018-03-20 00:20:00+00:00               0               0  \n"
     ]
    }
   ],
   "source": [
    "def filter_data(data):\n",
    "    data = data.drop(['dt', 'action', 'previous_action', 'action_duration', 'zone_temperatureHVAC_Zone_Shelter_Corridor'], axis=1)\n",
    "        \n",
    "    return data\n",
    "\n",
    "training_data = filter_data(training_data)\n",
    "test_data = filter_data(test_data)\n",
    "\n",
    "print(training_data.head())\n",
    "print(test_data.head())"
   ]
  },
  {
   "cell_type": "markdown",
   "metadata": {},
   "source": [
    "# Separating Target features "
   ]
  },
  {
   "cell_type": "code",
   "execution_count": 9,
   "metadata": {},
   "outputs": [
    {
     "data": {
      "text/plain": [
       "time\n",
       "2018-04-18 23:16:42+00:00    69.5\n",
       "2018-04-18 23:21:42+00:00    69.5\n",
       "2018-04-18 23:26:42+00:00    69.5\n",
       "2018-04-18 23:31:42+00:00    69.4\n",
       "2018-04-18 23:36:42+00:00    69.5\n",
       "Name: t_next, dtype: float64"
      ]
     },
     "execution_count": 9,
     "metadata": {},
     "output_type": "execute_result"
    }
   ],
   "source": [
    "def getTarget(data, target):\n",
    "    y = data[target]\n",
    "    return y\n",
    "\n",
    "train_y = getTarget(training_data, 't_next')\n",
    "train_y.head()"
   ]
  },
  {
   "cell_type": "code",
   "execution_count": 10,
   "metadata": {},
   "outputs": [
    {
     "data": {
      "text/html": [
       "<div>\n",
       "<style scoped>\n",
       "    .dataframe tbody tr th:only-of-type {\n",
       "        vertical-align: middle;\n",
       "    }\n",
       "\n",
       "    .dataframe tbody tr th {\n",
       "        vertical-align: top;\n",
       "    }\n",
       "\n",
       "    .dataframe thead th {\n",
       "        text-align: right;\n",
       "    }\n",
       "</style>\n",
       "<table border=\"1\" class=\"dataframe\">\n",
       "  <thead>\n",
       "    <tr style=\"text-align: right;\">\n",
       "      <th></th>\n",
       "      <th>t_in</th>\n",
       "      <th>t_out</th>\n",
       "      <th>occ</th>\n",
       "      <th>t_last</th>\n",
       "      <th>action_heating</th>\n",
       "      <th>action_cooling</th>\n",
       "    </tr>\n",
       "    <tr>\n",
       "      <th>time</th>\n",
       "      <th></th>\n",
       "      <th></th>\n",
       "      <th></th>\n",
       "      <th></th>\n",
       "      <th></th>\n",
       "      <th></th>\n",
       "    </tr>\n",
       "  </thead>\n",
       "  <tbody>\n",
       "    <tr>\n",
       "      <th>2018-04-18 23:16:42+00:00</th>\n",
       "      <td>69.483333</td>\n",
       "      <td>66.499700</td>\n",
       "      <td>0.0</td>\n",
       "      <td>69.483333</td>\n",
       "      <td>0</td>\n",
       "      <td>0</td>\n",
       "    </tr>\n",
       "    <tr>\n",
       "      <th>2018-04-18 23:21:42+00:00</th>\n",
       "      <td>69.500000</td>\n",
       "      <td>66.499700</td>\n",
       "      <td>0.0</td>\n",
       "      <td>69.483333</td>\n",
       "      <td>0</td>\n",
       "      <td>0</td>\n",
       "    </tr>\n",
       "    <tr>\n",
       "      <th>2018-04-18 23:26:42+00:00</th>\n",
       "      <td>69.500000</td>\n",
       "      <td>66.520546</td>\n",
       "      <td>0.0</td>\n",
       "      <td>69.500000</td>\n",
       "      <td>0</td>\n",
       "      <td>0</td>\n",
       "    </tr>\n",
       "    <tr>\n",
       "      <th>2018-04-18 23:31:42+00:00</th>\n",
       "      <td>69.500000</td>\n",
       "      <td>66.583083</td>\n",
       "      <td>0.0</td>\n",
       "      <td>69.500000</td>\n",
       "      <td>0</td>\n",
       "      <td>0</td>\n",
       "    </tr>\n",
       "    <tr>\n",
       "      <th>2018-04-18 23:36:42+00:00</th>\n",
       "      <td>69.400000</td>\n",
       "      <td>66.666466</td>\n",
       "      <td>0.0</td>\n",
       "      <td>69.500000</td>\n",
       "      <td>0</td>\n",
       "      <td>0</td>\n",
       "    </tr>\n",
       "  </tbody>\n",
       "</table>\n",
       "</div>"
      ],
      "text/plain": [
       "                                t_in      t_out  occ     t_last  \\\n",
       "time                                                              \n",
       "2018-04-18 23:16:42+00:00  69.483333  66.499700  0.0  69.483333   \n",
       "2018-04-18 23:21:42+00:00  69.500000  66.499700  0.0  69.483333   \n",
       "2018-04-18 23:26:42+00:00  69.500000  66.520546  0.0  69.500000   \n",
       "2018-04-18 23:31:42+00:00  69.500000  66.583083  0.0  69.500000   \n",
       "2018-04-18 23:36:42+00:00  69.400000  66.666466  0.0  69.500000   \n",
       "\n",
       "                           action_heating  action_cooling  \n",
       "time                                                       \n",
       "2018-04-18 23:16:42+00:00               0               0  \n",
       "2018-04-18 23:21:42+00:00               0               0  \n",
       "2018-04-18 23:26:42+00:00               0               0  \n",
       "2018-04-18 23:31:42+00:00               0               0  \n",
       "2018-04-18 23:36:42+00:00               0               0  "
      ]
     },
     "execution_count": 10,
     "metadata": {},
     "output_type": "execute_result"
    }
   ],
   "source": [
    "def getFeatures(data, target):\n",
    "    X = data.drop([target], axis=1)\n",
    "    return X\n",
    "\n",
    "train_X = getFeatures(training_data, 't_next')\n",
    "train_X.head()"
   ]
  },
  {
   "cell_type": "code",
   "execution_count": 11,
   "metadata": {},
   "outputs": [
    {
     "data": {
      "text/plain": [
       "time\n",
       "2018-03-20 00:00:00+00:00    72.8\n",
       "2018-03-20 00:05:00+00:00    73.0\n",
       "2018-03-20 00:10:00+00:00    73.0\n",
       "2018-03-20 00:15:00+00:00    73.0\n",
       "2018-03-20 00:20:00+00:00    73.0\n",
       "Name: t_next, dtype: float64"
      ]
     },
     "execution_count": 11,
     "metadata": {},
     "output_type": "execute_result"
    }
   ],
   "source": [
    "test_y = getTarget(test_data, 't_next')\n",
    "test_y.head()"
   ]
  },
  {
   "cell_type": "code",
   "execution_count": 12,
   "metadata": {},
   "outputs": [
    {
     "data": {
      "text/html": [
       "<div>\n",
       "<style scoped>\n",
       "    .dataframe tbody tr th:only-of-type {\n",
       "        vertical-align: middle;\n",
       "    }\n",
       "\n",
       "    .dataframe tbody tr th {\n",
       "        vertical-align: top;\n",
       "    }\n",
       "\n",
       "    .dataframe thead th {\n",
       "        text-align: right;\n",
       "    }\n",
       "</style>\n",
       "<table border=\"1\" class=\"dataframe\">\n",
       "  <thead>\n",
       "    <tr style=\"text-align: right;\">\n",
       "      <th></th>\n",
       "      <th>t_in</th>\n",
       "      <th>t_out</th>\n",
       "      <th>occ</th>\n",
       "      <th>t_last</th>\n",
       "      <th>action_heating</th>\n",
       "      <th>action_cooling</th>\n",
       "    </tr>\n",
       "    <tr>\n",
       "      <th>time</th>\n",
       "      <th></th>\n",
       "      <th></th>\n",
       "      <th></th>\n",
       "      <th></th>\n",
       "      <th></th>\n",
       "      <th></th>\n",
       "    </tr>\n",
       "  </thead>\n",
       "  <tbody>\n",
       "    <tr>\n",
       "      <th>2018-03-20 00:00:00+00:00</th>\n",
       "      <td>72.8</td>\n",
       "      <td>67.778613</td>\n",
       "      <td>0.0</td>\n",
       "      <td>72.8</td>\n",
       "      <td>0</td>\n",
       "      <td>0</td>\n",
       "    </tr>\n",
       "    <tr>\n",
       "      <th>2018-03-20 00:05:00+00:00</th>\n",
       "      <td>72.8</td>\n",
       "      <td>67.807436</td>\n",
       "      <td>0.0</td>\n",
       "      <td>72.8</td>\n",
       "      <td>0</td>\n",
       "      <td>0</td>\n",
       "    </tr>\n",
       "    <tr>\n",
       "      <th>2018-03-20 00:10:00+00:00</th>\n",
       "      <td>73.0</td>\n",
       "      <td>67.835998</td>\n",
       "      <td>0.0</td>\n",
       "      <td>72.8</td>\n",
       "      <td>0</td>\n",
       "      <td>0</td>\n",
       "    </tr>\n",
       "    <tr>\n",
       "      <th>2018-03-20 00:15:00+00:00</th>\n",
       "      <td>73.0</td>\n",
       "      <td>67.864038</td>\n",
       "      <td>0.0</td>\n",
       "      <td>73.0</td>\n",
       "      <td>0</td>\n",
       "      <td>0</td>\n",
       "    </tr>\n",
       "    <tr>\n",
       "      <th>2018-03-20 00:20:00+00:00</th>\n",
       "      <td>73.0</td>\n",
       "      <td>67.891817</td>\n",
       "      <td>0.0</td>\n",
       "      <td>73.0</td>\n",
       "      <td>0</td>\n",
       "      <td>0</td>\n",
       "    </tr>\n",
       "  </tbody>\n",
       "</table>\n",
       "</div>"
      ],
      "text/plain": [
       "                           t_in      t_out  occ  t_last  action_heating  \\\n",
       "time                                                                      \n",
       "2018-03-20 00:00:00+00:00  72.8  67.778613  0.0    72.8               0   \n",
       "2018-03-20 00:05:00+00:00  72.8  67.807436  0.0    72.8               0   \n",
       "2018-03-20 00:10:00+00:00  73.0  67.835998  0.0    72.8               0   \n",
       "2018-03-20 00:15:00+00:00  73.0  67.864038  0.0    73.0               0   \n",
       "2018-03-20 00:20:00+00:00  73.0  67.891817  0.0    73.0               0   \n",
       "\n",
       "                           action_cooling  \n",
       "time                                       \n",
       "2018-03-20 00:00:00+00:00               0  \n",
       "2018-03-20 00:05:00+00:00               0  \n",
       "2018-03-20 00:10:00+00:00               0  \n",
       "2018-03-20 00:15:00+00:00               0  \n",
       "2018-03-20 00:20:00+00:00               0  "
      ]
     },
     "execution_count": 12,
     "metadata": {},
     "output_type": "execute_result"
    }
   ],
   "source": [
    "test_X = getFeatures(test_data, 't_next')\n",
    "test_X.head()"
   ]
  },
  {
   "cell_type": "markdown",
   "metadata": {},
   "source": [
    "# Linear Regression Model"
   ]
  },
  {
   "cell_type": "code",
   "execution_count": 13,
   "metadata": {},
   "outputs": [
    {
     "name": "stdout",
     "output_type": "stream",
     "text": [
      "[72.78808106 72.78814943 73.04479567 ... 72.33896613 72.339024\n",
      " 72.46731324]\n"
     ]
    }
   ],
   "source": [
    "from sklearn.linear_model import LinearRegression\n",
    "from sklearn.metrics import mean_squared_error\n",
    "import time \n",
    "\n",
    "linearModel = LinearRegression().fit(train_X, train_y)\n",
    "test_pred1 = linearModel.predict(test_X)\n",
    "print test_pred1\n"
   ]
  },
  {
   "cell_type": "code",
   "execution_count": 14,
   "metadata": {},
   "outputs": [
    {
     "data": {
      "text/plain": [
       "0.992678955494629"
      ]
     },
     "execution_count": 14,
     "metadata": {},
     "output_type": "execute_result"
    }
   ],
   "source": [
    "linearModel.score(test_X, test_y)"
   ]
  },
  {
   "cell_type": "markdown",
   "metadata": {},
   "source": [
    "# Lasso Regression"
   ]
  },
  {
   "cell_type": "code",
   "execution_count": 15,
   "metadata": {},
   "outputs": [
    {
     "data": {
      "text/plain": [
       "0.9965047187196565"
      ]
     },
     "execution_count": 15,
     "metadata": {},
     "output_type": "execute_result"
    }
   ],
   "source": [
    "from sklearn import linear_model\n",
    "\n",
    "clf = linear_model.Lasso(alpha=0.1)\n",
    "clf.fit(train_X, train_y)\n",
    "clf.score(test_X, test_y)"
   ]
  },
  {
   "cell_type": "markdown",
   "metadata": {},
   "source": [
    "# AutoRegression that uses previous predicted value as current t_in"
   ]
  },
  {
   "cell_type": "code",
   "execution_count": 21,
   "metadata": {},
   "outputs": [
    {
     "data": {
      "text/plain": [
       "4.453983703435345"
      ]
     },
     "execution_count": 21,
     "metadata": {},
     "output_type": "execute_result"
    }
   ],
   "source": [
    "def autoRegression2(model, data_X):\n",
    "    t_pred = []\n",
    "    data_pred2 = []\n",
    "    for index, row in data_X.iterrows():\n",
    "        if len(t_pred) >= 1 :\n",
    "            row['t_in'] = t_pred[0]\n",
    "        t_pred = model.predict([row])\n",
    "        data_pred2.append(t_pred[0])    \n",
    "        #print t_pred[0]\n",
    "    return data_pred2       \n",
    "        "
   ]
  },
  {
   "cell_type": "markdown",
   "metadata": {},
   "source": [
    "# AutoRegression using Lasso Regression model"
   ]
  },
  {
   "cell_type": "code",
   "execution_count": null,
   "metadata": {},
   "outputs": [],
   "source": [
    "train_pred2 = autoRegression2(clf, train_X)\n",
    "mean_squared_error(train_y, train_pred2) "
   ]
  },
  {
   "cell_type": "code",
   "execution_count": 22,
   "metadata": {},
   "outputs": [
    {
     "data": {
      "text/plain": [
       "7.922641626974842"
      ]
     },
     "execution_count": 22,
     "metadata": {},
     "output_type": "execute_result"
    }
   ],
   "source": [
    "test_pred2 = autoRegression2(clf, test_X)\n",
    "mean_squared_error(test_y, test_pred2)"
   ]
  },
  {
   "cell_type": "markdown",
   "metadata": {},
   "source": [
    "# AutoRegression using Linear Regression Model (Error: Gives negative infinity values)"
   ]
  },
  {
   "cell_type": "code",
   "execution_count": 23,
   "metadata": {},
   "outputs": [
    {
     "ename": "ValueError",
     "evalue": "Input contains NaN, infinity or a value too large for dtype('float64').",
     "output_type": "error",
     "traceback": [
      "\u001b[1;31m---------------------------------------------------------------------------\u001b[0m",
      "\u001b[1;31mValueError\u001b[0m                                Traceback (most recent call last)",
      "\u001b[1;32m<ipython-input-23-06e1b1cb4028>\u001b[0m in \u001b[0;36m<module>\u001b[1;34m()\u001b[0m\n\u001b[1;32m----> 1\u001b[1;33m \u001b[0mtrain_pred2\u001b[0m \u001b[1;33m=\u001b[0m \u001b[0mautoRegression2\u001b[0m\u001b[1;33m(\u001b[0m\u001b[0mlinearModel\u001b[0m\u001b[1;33m,\u001b[0m \u001b[0mtrain_X\u001b[0m\u001b[1;33m)\u001b[0m\u001b[1;33m\u001b[0m\u001b[0m\n\u001b[0m\u001b[0;32m      2\u001b[0m \u001b[0mmean_squared_error\u001b[0m\u001b[1;33m(\u001b[0m\u001b[0mtrain_y\u001b[0m\u001b[1;33m,\u001b[0m \u001b[0mtrain_pred2\u001b[0m\u001b[1;33m)\u001b[0m\u001b[1;33m\u001b[0m\u001b[0m\n",
      "\u001b[1;32m<ipython-input-21-b3901ba8aa88>\u001b[0m in \u001b[0;36mautoRegression2\u001b[1;34m(model, data_X)\u001b[0m\n\u001b[0;32m      5\u001b[0m         \u001b[1;32mif\u001b[0m \u001b[0mlen\u001b[0m\u001b[1;33m(\u001b[0m\u001b[0mt_pred\u001b[0m\u001b[1;33m)\u001b[0m \u001b[1;33m>=\u001b[0m \u001b[1;36m1\u001b[0m \u001b[1;33m:\u001b[0m\u001b[1;33m\u001b[0m\u001b[0m\n\u001b[0;32m      6\u001b[0m             \u001b[0mrow\u001b[0m\u001b[1;33m[\u001b[0m\u001b[1;34m't_in'\u001b[0m\u001b[1;33m]\u001b[0m \u001b[1;33m=\u001b[0m \u001b[0mt_pred\u001b[0m\u001b[1;33m[\u001b[0m\u001b[1;36m0\u001b[0m\u001b[1;33m]\u001b[0m\u001b[1;33m\u001b[0m\u001b[0m\n\u001b[1;32m----> 7\u001b[1;33m         \u001b[0mt_pred\u001b[0m \u001b[1;33m=\u001b[0m \u001b[0mmodel\u001b[0m\u001b[1;33m.\u001b[0m\u001b[0mpredict\u001b[0m\u001b[1;33m(\u001b[0m\u001b[1;33m[\u001b[0m\u001b[0mrow\u001b[0m\u001b[1;33m]\u001b[0m\u001b[1;33m)\u001b[0m\u001b[1;33m\u001b[0m\u001b[0m\n\u001b[0m\u001b[0;32m      8\u001b[0m         \u001b[0mdata_pred2\u001b[0m\u001b[1;33m.\u001b[0m\u001b[0mappend\u001b[0m\u001b[1;33m(\u001b[0m\u001b[0mt_pred\u001b[0m\u001b[1;33m[\u001b[0m\u001b[1;36m0\u001b[0m\u001b[1;33m]\u001b[0m\u001b[1;33m)\u001b[0m\u001b[1;33m\u001b[0m\u001b[0m\n\u001b[0;32m      9\u001b[0m         \u001b[1;31m#print t_pred[0]\u001b[0m\u001b[1;33m\u001b[0m\u001b[1;33m\u001b[0m\u001b[0m\n",
      "\u001b[1;32mC:\\Users\\Aishu\\Anaconda3\\envs\\py27\\lib\\site-packages\\sklearn\\linear_model\\base.pyc\u001b[0m in \u001b[0;36mpredict\u001b[1;34m(self, X)\u001b[0m\n\u001b[0;32m    211\u001b[0m             \u001b[0mReturns\u001b[0m \u001b[0mpredicted\u001b[0m \u001b[0mvalues\u001b[0m\u001b[1;33m.\u001b[0m\u001b[1;33m\u001b[0m\u001b[0m\n\u001b[0;32m    212\u001b[0m         \"\"\"\n\u001b[1;32m--> 213\u001b[1;33m         \u001b[1;32mreturn\u001b[0m \u001b[0mself\u001b[0m\u001b[1;33m.\u001b[0m\u001b[0m_decision_function\u001b[0m\u001b[1;33m(\u001b[0m\u001b[0mX\u001b[0m\u001b[1;33m)\u001b[0m\u001b[1;33m\u001b[0m\u001b[0m\n\u001b[0m\u001b[0;32m    214\u001b[0m \u001b[1;33m\u001b[0m\u001b[0m\n\u001b[0;32m    215\u001b[0m     \u001b[0m_preprocess_data\u001b[0m \u001b[1;33m=\u001b[0m \u001b[0mstaticmethod\u001b[0m\u001b[1;33m(\u001b[0m\u001b[0m_preprocess_data\u001b[0m\u001b[1;33m)\u001b[0m\u001b[1;33m\u001b[0m\u001b[0m\n",
      "\u001b[1;32mC:\\Users\\Aishu\\Anaconda3\\envs\\py27\\lib\\site-packages\\sklearn\\linear_model\\base.pyc\u001b[0m in \u001b[0;36m_decision_function\u001b[1;34m(self, X)\u001b[0m\n\u001b[0;32m    194\u001b[0m         \u001b[0mcheck_is_fitted\u001b[0m\u001b[1;33m(\u001b[0m\u001b[0mself\u001b[0m\u001b[1;33m,\u001b[0m \u001b[1;34m\"coef_\"\u001b[0m\u001b[1;33m)\u001b[0m\u001b[1;33m\u001b[0m\u001b[0m\n\u001b[0;32m    195\u001b[0m \u001b[1;33m\u001b[0m\u001b[0m\n\u001b[1;32m--> 196\u001b[1;33m         \u001b[0mX\u001b[0m \u001b[1;33m=\u001b[0m \u001b[0mcheck_array\u001b[0m\u001b[1;33m(\u001b[0m\u001b[0mX\u001b[0m\u001b[1;33m,\u001b[0m \u001b[0maccept_sparse\u001b[0m\u001b[1;33m=\u001b[0m\u001b[1;33m[\u001b[0m\u001b[1;34m'csr'\u001b[0m\u001b[1;33m,\u001b[0m \u001b[1;34m'csc'\u001b[0m\u001b[1;33m,\u001b[0m \u001b[1;34m'coo'\u001b[0m\u001b[1;33m]\u001b[0m\u001b[1;33m)\u001b[0m\u001b[1;33m\u001b[0m\u001b[0m\n\u001b[0m\u001b[0;32m    197\u001b[0m         return safe_sparse_dot(X, self.coef_.T,\n\u001b[0;32m    198\u001b[0m                                dense_output=True) + self.intercept_\n",
      "\u001b[1;32mC:\\Users\\Aishu\\Anaconda3\\envs\\py27\\lib\\site-packages\\sklearn\\utils\\validation.pyc\u001b[0m in \u001b[0;36mcheck_array\u001b[1;34m(array, accept_sparse, accept_large_sparse, dtype, order, copy, force_all_finite, ensure_2d, allow_nd, ensure_min_samples, ensure_min_features, warn_on_dtype, estimator)\u001b[0m\n\u001b[0;32m    571\u001b[0m         \u001b[1;32mif\u001b[0m \u001b[0mforce_all_finite\u001b[0m\u001b[1;33m:\u001b[0m\u001b[1;33m\u001b[0m\u001b[0m\n\u001b[0;32m    572\u001b[0m             _assert_all_finite(array,\n\u001b[1;32m--> 573\u001b[1;33m                                allow_nan=force_all_finite == 'allow-nan')\n\u001b[0m\u001b[0;32m    574\u001b[0m \u001b[1;33m\u001b[0m\u001b[0m\n\u001b[0;32m    575\u001b[0m     \u001b[0mshape_repr\u001b[0m \u001b[1;33m=\u001b[0m \u001b[0m_shape_repr\u001b[0m\u001b[1;33m(\u001b[0m\u001b[0marray\u001b[0m\u001b[1;33m.\u001b[0m\u001b[0mshape\u001b[0m\u001b[1;33m)\u001b[0m\u001b[1;33m\u001b[0m\u001b[0m\n",
      "\u001b[1;32mC:\\Users\\Aishu\\Anaconda3\\envs\\py27\\lib\\site-packages\\sklearn\\utils\\validation.pyc\u001b[0m in \u001b[0;36m_assert_all_finite\u001b[1;34m(X, allow_nan)\u001b[0m\n\u001b[0;32m     54\u001b[0m                 not allow_nan and not np.isfinite(X).all()):\n\u001b[0;32m     55\u001b[0m             \u001b[0mtype_err\u001b[0m \u001b[1;33m=\u001b[0m \u001b[1;34m'infinity'\u001b[0m \u001b[1;32mif\u001b[0m \u001b[0mallow_nan\u001b[0m \u001b[1;32melse\u001b[0m \u001b[1;34m'NaN, infinity'\u001b[0m\u001b[1;33m\u001b[0m\u001b[0m\n\u001b[1;32m---> 56\u001b[1;33m             \u001b[1;32mraise\u001b[0m \u001b[0mValueError\u001b[0m\u001b[1;33m(\u001b[0m\u001b[0mmsg_err\u001b[0m\u001b[1;33m.\u001b[0m\u001b[0mformat\u001b[0m\u001b[1;33m(\u001b[0m\u001b[0mtype_err\u001b[0m\u001b[1;33m,\u001b[0m \u001b[0mX\u001b[0m\u001b[1;33m.\u001b[0m\u001b[0mdtype\u001b[0m\u001b[1;33m)\u001b[0m\u001b[1;33m)\u001b[0m\u001b[1;33m\u001b[0m\u001b[0m\n\u001b[0m\u001b[0;32m     57\u001b[0m \u001b[1;33m\u001b[0m\u001b[0m\n\u001b[0;32m     58\u001b[0m \u001b[1;33m\u001b[0m\u001b[0m\n",
      "\u001b[1;31mValueError\u001b[0m: Input contains NaN, infinity or a value too large for dtype('float64')."
     ]
    }
   ],
   "source": [
    "train_pred2 = autoRegression2(linearModel, train_X)\n",
    "mean_squared_error(train_y, train_pred2) "
   ]
  },
  {
   "cell_type": "code",
   "execution_count": null,
   "metadata": {},
   "outputs": [],
   "source": [
    "test_pred2 = autoRegression2(linearModel, test_X)\n",
    "mean_squared_error(test_y, test_pred2)"
   ]
  },
  {
   "cell_type": "markdown",
   "metadata": {},
   "source": [
    "# AutoRegression to predict at successive time intervals\n",
    "\n",
    "At time t1, Temperature is predicted for 5 minute interval (t1+5) using the linear model . This predicted temperature is set as indoor temperature (t_in) to predict the temperature in the next 5 minute interval (t1+5+5). This process is repeated until the predicted temperature is for next one hour(t1+60).\n",
    "\n",
    "Model is evaluated using Root mean squared error. To get true predictions at successive times, the test dataset(test_y) is shifted to n number of 5 minute intervals. "
   ]
  },
  {
   "cell_type": "code",
   "execution_count": null,
   "metadata": {},
   "outputs": [],
   "source": [
    "import pandas as pd\n",
    "\n",
    "def autoRegression(linearModel, test_X, time):\n",
    "    next_pred5 = []\n",
    "    n = time/5\n",
    "    \n",
    "    for index, row in test_X.iterrows():\n",
    "        for i in range(1,n+1):\n",
    "            t_next5 = linearModel.predict([row])\n",
    "            row['t_in'] = t_next5[0]            \n",
    "        next_pred5.append(t_next5[0])\n",
    "        \n",
    "    test_pred = pd.DataFrame(next_pred5, index=test_X.index)\n",
    "    next_test_y = test_y.shift(1-n,axis=0)\n",
    "    nan_index = next_test_y.index[next_test_y.apply(np.isnan)]\n",
    "    next_test_y = next_test_y.dropna()\n",
    "    test_pred = test_pred.drop(nan_index) \n",
    "    rmse = mean_squared_error(next_test_y, test_pred)\n",
    "    \n",
    "    plt.figure(figsize=(15,4))\n",
    "    plt.plot(next_test_y, 'g', linewidth=1)\n",
    "    plt.plot(test_pred, 'r', linewidth=1)\n",
    "    \n",
    "    #print \"time=\", time, \"rmse=\", rmse\n",
    "    return rmse\n",
    "    \n"
   ]
  },
  {
   "cell_type": "code",
   "execution_count": null,
   "metadata": {},
   "outputs": [],
   "source": [
    "autoRegression(linearModel, test_X, 10)"
   ]
  },
  {
   "cell_type": "code",
   "execution_count": null,
   "metadata": {},
   "outputs": [],
   "source": [
    "time = []\n",
    "rmse = []\n",
    "for i in range(5,65,5):\n",
    "    rmse_i = autoRegression(linearModel, test_X, i)\n",
    "    rmse.append(rmse_i)\n",
    "    time.append(i)\n",
    "    \n",
    "result = pd.DataFrame(rmse, index=time)\n",
    "result\n",
    "    "
   ]
  },
  {
   "cell_type": "markdown",
   "metadata": {},
   "source": [
    "# Plot time vs rmse"
   ]
  },
  {
   "cell_type": "code",
   "execution_count": null,
   "metadata": {},
   "outputs": [],
   "source": [
    "result.plot()"
   ]
  },
  {
   "cell_type": "code",
   "execution_count": null,
   "metadata": {},
   "outputs": [],
   "source": []
  }
 ],
 "metadata": {
  "kernelspec": {
   "display_name": "Python 2",
   "language": "python",
   "name": "python2"
  },
  "language_info": {
   "codemirror_mode": {
    "name": "ipython",
    "version": 2
   },
   "file_extension": ".py",
   "mimetype": "text/x-python",
   "name": "python",
   "nbconvert_exporter": "python",
   "pygments_lexer": "ipython2",
   "version": "2.7.15"
  }
 },
 "nbformat": 4,
 "nbformat_minor": 2
}
