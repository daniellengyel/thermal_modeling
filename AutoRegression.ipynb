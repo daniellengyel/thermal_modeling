{
 "cells": [
  {
   "cell_type": "markdown",
   "metadata": {},
   "source": [
    "# Autoregression Model"
   ]
  },
  {
   "cell_type": "code",
   "execution_count": 1,
   "metadata": {},
   "outputs": [],
   "source": [
    "import pickle\n",
    "import datetime\n",
    "import numpy as np\n",
    "import matplotlib.pyplot as plt"
   ]
  },
  {
   "cell_type": "markdown",
   "metadata": {},
   "source": [
    "# Loading Data File"
   ]
  },
  {
   "cell_type": "code",
   "execution_count": 2,
   "metadata": {},
   "outputs": [],
   "source": [
    "path = \"Data/\"\n",
    "building = \"avenal-animal-shelter\"\n",
    "interval = 5 # min\n",
    "\n",
    "\n",
    "with open(path + building + \"_training_data.pkl\", 'r') as f:\n",
    "    training_data = pickle.load(f)\n",
    "\n",
    "with open(path + building + \"_test_data.pkl\", \"r\") as f:\n",
    "    test_data = pickle.load(f)\n",
    "    "
   ]
  },
  {
   "cell_type": "markdown",
   "metadata": {},
   "source": [
    "# Features in Dataset"
   ]
  },
  {
   "cell_type": "code",
   "execution_count": 3,
   "metadata": {},
   "outputs": [
    {
     "name": "stdout",
     "output_type": "stream",
     "text": [
      "<class 'pandas.core.frame.DataFrame'>\n",
      "DatetimeIndex: 53187 entries, 2018-04-18 23:16:42+00:00 to 2018-10-25 23:13:42+00:00\n",
      "Data columns (total 9 columns):\n",
      "action                                        53187 non-null float64\n",
      "action_duration                               53187 non-null object\n",
      "dt                                            53187 non-null float64\n",
      "previous_action                               42307 non-null float64\n",
      "t_next                                        53187 non-null float64\n",
      "t_in                                          53187 non-null float64\n",
      "t_out                                         53186 non-null float64\n",
      "occ                                           53186 non-null float64\n",
      "zone_temperatureHVAC_Zone_Shelter_Corridor    53186 non-null float64\n",
      "dtypes: float64(8), object(1)\n",
      "memory usage: 4.1+ MB\n"
     ]
    }
   ],
   "source": [
    "training_data.info()"
   ]
  },
  {
   "cell_type": "markdown",
   "metadata": {},
   "source": [
    "# Preprocessing Data\n",
    "\n",
    "Action features has values 0,1,2,3,4,5 which is transformed to values:\n",
    "0 - no action\n",
    "1 - heating\n",
    "2 - cooling\n",
    "\n",
    "Select the rows in datasets such that interval time is constant (5 minutes)"
   ]
  },
  {
   "cell_type": "code",
   "execution_count": 4,
   "metadata": {},
   "outputs": [
    {
     "name": "stdout",
     "output_type": "stream",
     "text": [
      "                           action action_duration   dt  previous_action  \\\n",
      "time                                                                      \n",
      "2018-04-18 23:16:42+00:00       0          300.0s  5.0              NaN   \n",
      "2018-04-18 23:21:42+00:00       0          600.0s  5.0              NaN   \n",
      "2018-04-18 23:26:42+00:00       0          900.0s  5.0              NaN   \n",
      "2018-04-18 23:31:42+00:00       0         1200.0s  5.0              NaN   \n",
      "2018-04-18 23:36:42+00:00       0         1500.0s  5.0              NaN   \n",
      "\n",
      "                           t_next       t_in      t_out  occ  \\\n",
      "time                                                           \n",
      "2018-04-18 23:16:42+00:00    69.5  69.483333  66.499700  0.0   \n",
      "2018-04-18 23:21:42+00:00    69.5  69.500000  66.499700  0.0   \n",
      "2018-04-18 23:26:42+00:00    69.5  69.500000  66.520546  0.0   \n",
      "2018-04-18 23:31:42+00:00    69.4  69.500000  66.583083  0.0   \n",
      "2018-04-18 23:36:42+00:00    69.5  69.400000  66.666466  0.0   \n",
      "\n",
      "                           zone_temperatureHVAC_Zone_Shelter_Corridor  \n",
      "time                                                                   \n",
      "2018-04-18 23:16:42+00:00                                   69.499167  \n",
      "2018-04-18 23:21:42+00:00                                   69.485833  \n",
      "2018-04-18 23:26:42+00:00                                   69.460833  \n",
      "2018-04-18 23:31:42+00:00                                   69.450000  \n",
      "2018-04-18 23:36:42+00:00                                   69.450489  \n",
      "                           action action_duration   dt  previous_action  \\\n",
      "time                                                                      \n",
      "2018-03-20 00:00:00+00:00       0          300.0s  5.0              NaN   \n",
      "2018-03-20 00:05:00+00:00       0          600.0s  5.0              NaN   \n",
      "2018-03-20 00:10:00+00:00       0          900.0s  5.0              NaN   \n",
      "2018-03-20 00:15:00+00:00       0         1200.0s  5.0              NaN   \n",
      "2018-03-20 00:20:00+00:00       0         1500.0s  5.0              NaN   \n",
      "\n",
      "                           t_next  t_in      t_out  occ  \\\n",
      "time                                                      \n",
      "2018-03-20 00:00:00+00:00    72.8  72.8  67.778613  0.0   \n",
      "2018-03-20 00:05:00+00:00    73.0  72.8  67.807436  0.0   \n",
      "2018-03-20 00:10:00+00:00    73.0  73.0  67.835998  0.0   \n",
      "2018-03-20 00:15:00+00:00    73.0  73.0  67.864038  0.0   \n",
      "2018-03-20 00:20:00+00:00    73.0  73.0  67.891817  0.0   \n",
      "\n",
      "                           zone_temperatureHVAC_Zone_Shelter_Corridor  \n",
      "time                                                                   \n",
      "2018-03-20 00:00:00+00:00                                   72.870690  \n",
      "2018-03-20 00:05:00+00:00                                   72.960345  \n",
      "2018-03-20 00:10:00+00:00                                   73.000000  \n",
      "2018-03-20 00:15:00+00:00                                   73.000000  \n",
      "2018-03-20 00:20:00+00:00                                   73.000000  \n"
     ]
    }
   ],
   "source": [
    "def fix_data(data, interval):\n",
    "    \"\"\"Fixes up the data. Makes sure we count two stage as single stage actions, don't count float actions,\n",
    "    converts action duration and dt to floats, fill's nan's in action_duration and drops all datapoints which\n",
    "    don't have dt equal to interval.\n",
    "    :param data:\n",
    "    :param interval: float:minutes\"\"\"\n",
    "    def f(x):\n",
    "        if x == 0:\n",
    "            return 0\n",
    "        elif x == 2 or x == 5:\n",
    "            return 2\n",
    "        elif x ==1 or x == 3:\n",
    "            return 1\n",
    "\n",
    "    data[\"action\"] = data[\"action\"].map(f)\n",
    "    \n",
    "\n",
    "\n",
    "    return data, data[data[\"dt\"] == interval]\n",
    "\n",
    "# get preproccessed test and training data\n",
    "org_training_data, training_data = fix_data(training_data, interval)\n",
    "org_test_data, test_data = fix_data(test_data, interval)\n",
    "\n",
    "print(training_data.head())\n",
    "print(test_data.head())"
   ]
  },
  {
   "cell_type": "markdown",
   "metadata": {},
   "source": [
    "# Dropping Features"
   ]
  },
  {
   "cell_type": "code",
   "execution_count": 5,
   "metadata": {},
   "outputs": [
    {
     "name": "stdout",
     "output_type": "stream",
     "text": [
      "                           action  t_next       t_in      t_out  occ\n",
      "time                                                                \n",
      "2018-04-18 23:16:42+00:00       0    69.5  69.483333  66.499700  0.0\n",
      "2018-04-18 23:21:42+00:00       0    69.5  69.500000  66.499700  0.0\n",
      "2018-04-18 23:26:42+00:00       0    69.5  69.500000  66.520546  0.0\n",
      "2018-04-18 23:31:42+00:00       0    69.4  69.500000  66.583083  0.0\n",
      "2018-04-18 23:36:42+00:00       0    69.5  69.400000  66.666466  0.0\n",
      "                           action  t_next  t_in      t_out  occ\n",
      "time                                                           \n",
      "2018-03-20 00:00:00+00:00       0    72.8  72.8  67.778613  0.0\n",
      "2018-03-20 00:05:00+00:00       0    73.0  72.8  67.807436  0.0\n",
      "2018-03-20 00:10:00+00:00       0    73.0  73.0  67.835998  0.0\n",
      "2018-03-20 00:15:00+00:00       0    73.0  73.0  67.864038  0.0\n",
      "2018-03-20 00:20:00+00:00       0    73.0  73.0  67.891817  0.0\n"
     ]
    }
   ],
   "source": [
    "def filter_data(data):\n",
    "    data = data.drop(['dt', 'previous_action', 'action_duration', 'zone_temperatureHVAC_Zone_Shelter_Corridor'], axis=1)\n",
    "        \n",
    "    return data\n",
    "\n",
    "training_data = filter_data(training_data)\n",
    "test_data = filter_data(test_data)\n",
    "\n",
    "print(training_data.head())\n",
    "print(test_data.head())"
   ]
  },
  {
   "cell_type": "markdown",
   "metadata": {},
   "source": [
    "# Separating Target features "
   ]
  },
  {
   "cell_type": "code",
   "execution_count": 6,
   "metadata": {},
   "outputs": [
    {
     "data": {
      "text/plain": [
       "time\n",
       "2018-04-18 23:16:42+00:00    69.5\n",
       "2018-04-18 23:21:42+00:00    69.5\n",
       "2018-04-18 23:26:42+00:00    69.5\n",
       "2018-04-18 23:31:42+00:00    69.4\n",
       "2018-04-18 23:36:42+00:00    69.5\n",
       "Name: t_next, dtype: float64"
      ]
     },
     "execution_count": 6,
     "metadata": {},
     "output_type": "execute_result"
    }
   ],
   "source": [
    "def getTarget(data, target):\n",
    "    y = data[target]\n",
    "    return y\n",
    "\n",
    "train_y = getTarget(training_data, 't_next')\n",
    "train_y.head()"
   ]
  },
  {
   "cell_type": "code",
   "execution_count": 7,
   "metadata": {},
   "outputs": [
    {
     "data": {
      "text/html": [
       "<div>\n",
       "<style scoped>\n",
       "    .dataframe tbody tr th:only-of-type {\n",
       "        vertical-align: middle;\n",
       "    }\n",
       "\n",
       "    .dataframe tbody tr th {\n",
       "        vertical-align: top;\n",
       "    }\n",
       "\n",
       "    .dataframe thead th {\n",
       "        text-align: right;\n",
       "    }\n",
       "</style>\n",
       "<table border=\"1\" class=\"dataframe\">\n",
       "  <thead>\n",
       "    <tr style=\"text-align: right;\">\n",
       "      <th></th>\n",
       "      <th>action</th>\n",
       "      <th>t_in</th>\n",
       "      <th>t_out</th>\n",
       "      <th>occ</th>\n",
       "    </tr>\n",
       "    <tr>\n",
       "      <th>time</th>\n",
       "      <th></th>\n",
       "      <th></th>\n",
       "      <th></th>\n",
       "      <th></th>\n",
       "    </tr>\n",
       "  </thead>\n",
       "  <tbody>\n",
       "    <tr>\n",
       "      <th>2018-04-18 23:16:42+00:00</th>\n",
       "      <td>0</td>\n",
       "      <td>69.483333</td>\n",
       "      <td>66.499700</td>\n",
       "      <td>0.0</td>\n",
       "    </tr>\n",
       "    <tr>\n",
       "      <th>2018-04-18 23:21:42+00:00</th>\n",
       "      <td>0</td>\n",
       "      <td>69.500000</td>\n",
       "      <td>66.499700</td>\n",
       "      <td>0.0</td>\n",
       "    </tr>\n",
       "    <tr>\n",
       "      <th>2018-04-18 23:26:42+00:00</th>\n",
       "      <td>0</td>\n",
       "      <td>69.500000</td>\n",
       "      <td>66.520546</td>\n",
       "      <td>0.0</td>\n",
       "    </tr>\n",
       "    <tr>\n",
       "      <th>2018-04-18 23:31:42+00:00</th>\n",
       "      <td>0</td>\n",
       "      <td>69.500000</td>\n",
       "      <td>66.583083</td>\n",
       "      <td>0.0</td>\n",
       "    </tr>\n",
       "    <tr>\n",
       "      <th>2018-04-18 23:36:42+00:00</th>\n",
       "      <td>0</td>\n",
       "      <td>69.400000</td>\n",
       "      <td>66.666466</td>\n",
       "      <td>0.0</td>\n",
       "    </tr>\n",
       "  </tbody>\n",
       "</table>\n",
       "</div>"
      ],
      "text/plain": [
       "                           action       t_in      t_out  occ\n",
       "time                                                        \n",
       "2018-04-18 23:16:42+00:00       0  69.483333  66.499700  0.0\n",
       "2018-04-18 23:21:42+00:00       0  69.500000  66.499700  0.0\n",
       "2018-04-18 23:26:42+00:00       0  69.500000  66.520546  0.0\n",
       "2018-04-18 23:31:42+00:00       0  69.500000  66.583083  0.0\n",
       "2018-04-18 23:36:42+00:00       0  69.400000  66.666466  0.0"
      ]
     },
     "execution_count": 7,
     "metadata": {},
     "output_type": "execute_result"
    }
   ],
   "source": [
    "def getFeatures(data, target):\n",
    "    X = data.drop([target], axis=1)\n",
    "    return X\n",
    "\n",
    "train_X = getFeatures(training_data, 't_next')\n",
    "train_X.head()"
   ]
  },
  {
   "cell_type": "code",
   "execution_count": 8,
   "metadata": {},
   "outputs": [
    {
     "data": {
      "text/plain": [
       "time\n",
       "2018-03-20 00:00:00+00:00    72.8\n",
       "2018-03-20 00:05:00+00:00    73.0\n",
       "2018-03-20 00:10:00+00:00    73.0\n",
       "2018-03-20 00:15:00+00:00    73.0\n",
       "2018-03-20 00:20:00+00:00    73.0\n",
       "Name: t_next, dtype: float64"
      ]
     },
     "execution_count": 8,
     "metadata": {},
     "output_type": "execute_result"
    }
   ],
   "source": [
    "test_y = getTarget(test_data, 't_next')\n",
    "test_y.head()"
   ]
  },
  {
   "cell_type": "code",
   "execution_count": 9,
   "metadata": {},
   "outputs": [
    {
     "data": {
      "text/html": [
       "<div>\n",
       "<style scoped>\n",
       "    .dataframe tbody tr th:only-of-type {\n",
       "        vertical-align: middle;\n",
       "    }\n",
       "\n",
       "    .dataframe tbody tr th {\n",
       "        vertical-align: top;\n",
       "    }\n",
       "\n",
       "    .dataframe thead th {\n",
       "        text-align: right;\n",
       "    }\n",
       "</style>\n",
       "<table border=\"1\" class=\"dataframe\">\n",
       "  <thead>\n",
       "    <tr style=\"text-align: right;\">\n",
       "      <th></th>\n",
       "      <th>action</th>\n",
       "      <th>t_in</th>\n",
       "      <th>t_out</th>\n",
       "      <th>occ</th>\n",
       "    </tr>\n",
       "    <tr>\n",
       "      <th>time</th>\n",
       "      <th></th>\n",
       "      <th></th>\n",
       "      <th></th>\n",
       "      <th></th>\n",
       "    </tr>\n",
       "  </thead>\n",
       "  <tbody>\n",
       "    <tr>\n",
       "      <th>2018-03-20 00:00:00+00:00</th>\n",
       "      <td>0</td>\n",
       "      <td>72.8</td>\n",
       "      <td>67.778613</td>\n",
       "      <td>0.0</td>\n",
       "    </tr>\n",
       "    <tr>\n",
       "      <th>2018-03-20 00:05:00+00:00</th>\n",
       "      <td>0</td>\n",
       "      <td>72.8</td>\n",
       "      <td>67.807436</td>\n",
       "      <td>0.0</td>\n",
       "    </tr>\n",
       "    <tr>\n",
       "      <th>2018-03-20 00:10:00+00:00</th>\n",
       "      <td>0</td>\n",
       "      <td>73.0</td>\n",
       "      <td>67.835998</td>\n",
       "      <td>0.0</td>\n",
       "    </tr>\n",
       "    <tr>\n",
       "      <th>2018-03-20 00:15:00+00:00</th>\n",
       "      <td>0</td>\n",
       "      <td>73.0</td>\n",
       "      <td>67.864038</td>\n",
       "      <td>0.0</td>\n",
       "    </tr>\n",
       "    <tr>\n",
       "      <th>2018-03-20 00:20:00+00:00</th>\n",
       "      <td>0</td>\n",
       "      <td>73.0</td>\n",
       "      <td>67.891817</td>\n",
       "      <td>0.0</td>\n",
       "    </tr>\n",
       "  </tbody>\n",
       "</table>\n",
       "</div>"
      ],
      "text/plain": [
       "                           action  t_in      t_out  occ\n",
       "time                                                   \n",
       "2018-03-20 00:00:00+00:00       0  72.8  67.778613  0.0\n",
       "2018-03-20 00:05:00+00:00       0  72.8  67.807436  0.0\n",
       "2018-03-20 00:10:00+00:00       0  73.0  67.835998  0.0\n",
       "2018-03-20 00:15:00+00:00       0  73.0  67.864038  0.0\n",
       "2018-03-20 00:20:00+00:00       0  73.0  67.891817  0.0"
      ]
     },
     "execution_count": 9,
     "metadata": {},
     "output_type": "execute_result"
    }
   ],
   "source": [
    "test_X = getFeatures(test_data, 't_next')\n",
    "test_X.head()"
   ]
  },
  {
   "cell_type": "markdown",
   "metadata": {},
   "source": [
    "# Linear Regression Model"
   ]
  },
  {
   "cell_type": "code",
   "execution_count": 10,
   "metadata": {},
   "outputs": [
    {
     "data": {
      "text/plain": [
       "array([72.78454078, 72.78462129, 72.98311663, ..., 72.34433873,\n",
       "       72.34440688, 72.44361466])"
      ]
     },
     "execution_count": 10,
     "metadata": {},
     "output_type": "execute_result"
    }
   ],
   "source": [
    "from sklearn.linear_model import LinearRegression\n",
    "from sklearn.metrics import mean_squared_error\n",
    "import time \n",
    "\n",
    "linearModel = LinearRegression().fit(train_X, train_y)\n",
    "test_pred = linearModel.predict(test_X)\n",
    "test_pred\n"
   ]
  },
  {
   "cell_type": "code",
   "execution_count": 11,
   "metadata": {},
   "outputs": [
    {
     "data": {
      "text/plain": [
       "array([-0.05392648,  0.99207781,  0.00279322,  0.04991643])"
      ]
     },
     "execution_count": 11,
     "metadata": {},
     "output_type": "execute_result"
    }
   ],
   "source": [
    "linearModel.coef_"
   ]
  },
  {
   "cell_type": "code",
   "execution_count": 12,
   "metadata": {},
   "outputs": [
    {
     "data": {
      "text/plain": [
       "0.37195616448792634"
      ]
     },
     "execution_count": 12,
     "metadata": {},
     "output_type": "execute_result"
    }
   ],
   "source": [
    "linearModel.intercept_"
   ]
  },
  {
   "cell_type": "markdown",
   "metadata": {},
   "source": [
    "# Equation obtained from Linear Regression Model"
   ]
  },
  {
   "cell_type": "code",
   "execution_count": 14,
   "metadata": {},
   "outputs": [],
   "source": [
    "def singlePrediction(linearModel, test):\n",
    "    pred = linearModel.intercept_ + linearModel.coef_[0]*test['action'] + linearModel.coef_[1]*test['t_in'] +\\\n",
    "            linearModel.coef_[2]*test['t_out'] + linearModel.coef_[3]*test['occ']\n",
    "    return pred"
   ]
  },
  {
   "cell_type": "markdown",
   "metadata": {},
   "source": [
    "# AutoRegression\n",
    "\n",
    "At time t1, Temperature is predicted for 5 minute interval (t1+5) using the linear model . This predicted temperature is set as indoor temperature (t_in) to predict the temperature in the next 5 minute interval (t1+5+5). This process is repeated until the predicted temperature is for next one hour(t1+60).\n",
    "\n",
    "Model is evaluated using Root mean squared error. To get true predictions at successive times, the test dataset(test_y) is shifted to n number of 5 minute intervals. "
   ]
  },
  {
   "cell_type": "code",
   "execution_count": 15,
   "metadata": {},
   "outputs": [],
   "source": [
    "import pandas as pd\n",
    "\n",
    "def autoRegression(linearModel, test_X, time):\n",
    "    next_pred5 = []\n",
    "    n = time/5\n",
    "    \n",
    "    for index, row in test_X.iterrows():\n",
    "        for i in range(1,n+1):\n",
    "            t_next5 = singlePrediction(linearModel, row)\n",
    "            row['t_in'] = t_next5            \n",
    "        next_pred5.append(t_next5)\n",
    "        \n",
    "    test_pred = pd.DataFrame(next_pred5, index=test_X.index)\n",
    "    next_test_y = test_y.shift(1-n,axis=0)\n",
    "    nan_index = next_test_y.index[next_test_y.apply(np.isnan)]\n",
    "    next_test_y = next_test_y.dropna()\n",
    "    test_pred = test_pred.drop(nan_index) \n",
    "    rmse = mean_squared_error(next_test_y, test_pred)\n",
    "    #print \"time=\", time, \"rmse=\", rmse\n",
    "    return rmse\n",
    "    \n"
   ]
  },
  {
   "cell_type": "code",
   "execution_count": 16,
   "metadata": {},
   "outputs": [
    {
     "data": {
      "text/html": [
       "<div>\n",
       "<style scoped>\n",
       "    .dataframe tbody tr th:only-of-type {\n",
       "        vertical-align: middle;\n",
       "    }\n",
       "\n",
       "    .dataframe tbody tr th {\n",
       "        vertical-align: top;\n",
       "    }\n",
       "\n",
       "    .dataframe thead th {\n",
       "        text-align: right;\n",
       "    }\n",
       "</style>\n",
       "<table border=\"1\" class=\"dataframe\">\n",
       "  <thead>\n",
       "    <tr style=\"text-align: right;\">\n",
       "      <th></th>\n",
       "      <th>0</th>\n",
       "    </tr>\n",
       "  </thead>\n",
       "  <tbody>\n",
       "    <tr>\n",
       "      <th>5</th>\n",
       "      <td>0.022051</td>\n",
       "    </tr>\n",
       "    <tr>\n",
       "      <th>10</th>\n",
       "      <td>0.064622</td>\n",
       "    </tr>\n",
       "    <tr>\n",
       "      <th>15</th>\n",
       "      <td>0.108191</td>\n",
       "    </tr>\n",
       "    <tr>\n",
       "      <th>20</th>\n",
       "      <td>0.154385</td>\n",
       "    </tr>\n",
       "    <tr>\n",
       "      <th>25</th>\n",
       "      <td>0.206573</td>\n",
       "    </tr>\n",
       "    <tr>\n",
       "      <th>30</th>\n",
       "      <td>0.263621</td>\n",
       "    </tr>\n",
       "    <tr>\n",
       "      <th>35</th>\n",
       "      <td>0.323388</td>\n",
       "    </tr>\n",
       "    <tr>\n",
       "      <th>40</th>\n",
       "      <td>0.385533</td>\n",
       "    </tr>\n",
       "    <tr>\n",
       "      <th>45</th>\n",
       "      <td>0.448942</td>\n",
       "    </tr>\n",
       "    <tr>\n",
       "      <th>50</th>\n",
       "      <td>0.515927</td>\n",
       "    </tr>\n",
       "    <tr>\n",
       "      <th>55</th>\n",
       "      <td>0.586710</td>\n",
       "    </tr>\n",
       "    <tr>\n",
       "      <th>60</th>\n",
       "      <td>0.657580</td>\n",
       "    </tr>\n",
       "  </tbody>\n",
       "</table>\n",
       "</div>"
      ],
      "text/plain": [
       "           0\n",
       "5   0.022051\n",
       "10  0.064622\n",
       "15  0.108191\n",
       "20  0.154385\n",
       "25  0.206573\n",
       "30  0.263621\n",
       "35  0.323388\n",
       "40  0.385533\n",
       "45  0.448942\n",
       "50  0.515927\n",
       "55  0.586710\n",
       "60  0.657580"
      ]
     },
     "execution_count": 16,
     "metadata": {},
     "output_type": "execute_result"
    }
   ],
   "source": [
    "time = []\n",
    "rmse = []\n",
    "for i in range(5,65,5):\n",
    "    rmse_i = autoRegression(linearModel, test_X, i)\n",
    "    rmse.append(rmse_i)\n",
    "    time.append(i)\n",
    "    \n",
    "result = pd.DataFrame(rmse, index=time)\n",
    "result\n",
    "    "
   ]
  },
  {
   "cell_type": "markdown",
   "metadata": {},
   "source": [
    "# Plot time vs rmse"
   ]
  },
  {
   "cell_type": "code",
   "execution_count": 17,
   "metadata": {},
   "outputs": [
    {
     "data": {
      "text/plain": [
       "<matplotlib.axes._subplots.AxesSubplot at 0x48d5828>"
      ]
     },
     "execution_count": 17,
     "metadata": {},
     "output_type": "execute_result"
    },
    {
     "data": {
      "image/png": "[encoded data removed]",
      "text/plain": [
       "<Figure size 432x288 with 1 Axes>"
      ]
     },
     "metadata": {
      "needs_background": "light"
     },
     "output_type": "display_data"
    }
   ],
   "source": [
    "result.plot()"
   ]
  }
 ],
 "metadata": {
  "kernelspec": {
   "display_name": "Python 2",
   "language": "python",
   "name": "python2"
  },
  "language_info": {
   "codemirror_mode": {
    "name": "ipython",
    "version": 2
   },
   "file_extension": ".py",
   "mimetype": "text/x-python",
   "name": "python",
   "nbconvert_exporter": "python",
   "pygments_lexer": "ipython2",
   "version": "2.7.15"
  }
 },
 "nbformat": 4,
 "nbformat_minor": 2
}
