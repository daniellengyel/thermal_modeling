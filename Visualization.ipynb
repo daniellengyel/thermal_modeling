{
 "cells": [
  {
   "cell_type": "markdown",
   "metadata": {},
   "source": [
    "# Visualization"
   ]
  },
  {
   "cell_type": "code",
   "execution_count": 1,
   "metadata": {},
   "outputs": [],
   "source": [
    "import pickle\n",
    "import datetime\n",
    "import numpy as np\n",
    "import matplotlib.pyplot as plt\n",
    "import pandas as pd"
   ]
  },
  {
   "cell_type": "markdown",
   "metadata": {},
   "source": [
    "# Loading Data File\n"
   ]
  },
  {
   "cell_type": "code",
   "execution_count": 2,
   "metadata": {},
   "outputs": [],
   "source": [
    "path = \"../Data/\"\n",
    "building = \"avenal-animal-shelter\"\n",
    "interval = 5 # min\n",
    "\n",
    "\n",
    "with open(path + building + \"_training_data.pkl\", 'r') as f:\n",
    "    training_data = pickle.load(f)\n",
    "\n",
    "with open(path + building + \"_test_data.pkl\", \"r\") as f:\n",
    "    test_data = pickle.load(f)"
   ]
  },
  {
   "cell_type": "markdown",
   "metadata": {},
   "source": [
    "# Include previous indoor temperature as t_last\n"
   ]
  },
  {
   "cell_type": "code",
   "execution_count": 3,
   "metadata": {},
   "outputs": [
    {
     "data": {
      "text/html": [
       "<div>\n",
       "<style scoped>\n",
       "    .dataframe tbody tr th:only-of-type {\n",
       "        vertical-align: middle;\n",
       "    }\n",
       "\n",
       "    .dataframe tbody tr th {\n",
       "        vertical-align: top;\n",
       "    }\n",
       "\n",
       "    .dataframe thead th {\n",
       "        text-align: right;\n",
       "    }\n",
       "</style>\n",
       "<table border=\"1\" class=\"dataframe\">\n",
       "  <thead>\n",
       "    <tr style=\"text-align: right;\">\n",
       "      <th></th>\n",
       "      <th>action</th>\n",
       "      <th>action_duration</th>\n",
       "      <th>dt</th>\n",
       "      <th>previous_action</th>\n",
       "      <th>t_next</th>\n",
       "      <th>t_in</th>\n",
       "      <th>t_out</th>\n",
       "      <th>occ</th>\n",
       "      <th>zone_temperatureHVAC_Zone_Shelter_Corridor</th>\n",
       "      <th>t_last</th>\n",
       "    </tr>\n",
       "    <tr>\n",
       "      <th>time</th>\n",
       "      <th></th>\n",
       "      <th></th>\n",
       "      <th></th>\n",
       "      <th></th>\n",
       "      <th></th>\n",
       "      <th></th>\n",
       "      <th></th>\n",
       "      <th></th>\n",
       "      <th></th>\n",
       "      <th></th>\n",
       "    </tr>\n",
       "  </thead>\n",
       "  <tbody>\n",
       "    <tr>\n",
       "      <th>2018-04-18 23:16:42+00:00</th>\n",
       "      <td>0.0</td>\n",
       "      <td>300.0s</td>\n",
       "      <td>5.0</td>\n",
       "      <td>NaN</td>\n",
       "      <td>69.5</td>\n",
       "      <td>69.483333</td>\n",
       "      <td>66.499700</td>\n",
       "      <td>0.0</td>\n",
       "      <td>69.499167</td>\n",
       "      <td>69.483333</td>\n",
       "    </tr>\n",
       "    <tr>\n",
       "      <th>2018-04-18 23:21:42+00:00</th>\n",
       "      <td>0.0</td>\n",
       "      <td>600.0s</td>\n",
       "      <td>5.0</td>\n",
       "      <td>NaN</td>\n",
       "      <td>69.5</td>\n",
       "      <td>69.500000</td>\n",
       "      <td>66.499700</td>\n",
       "      <td>0.0</td>\n",
       "      <td>69.485833</td>\n",
       "      <td>69.483333</td>\n",
       "    </tr>\n",
       "    <tr>\n",
       "      <th>2018-04-18 23:26:42+00:00</th>\n",
       "      <td>0.0</td>\n",
       "      <td>900.0s</td>\n",
       "      <td>5.0</td>\n",
       "      <td>NaN</td>\n",
       "      <td>69.5</td>\n",
       "      <td>69.500000</td>\n",
       "      <td>66.520546</td>\n",
       "      <td>0.0</td>\n",
       "      <td>69.460833</td>\n",
       "      <td>69.500000</td>\n",
       "    </tr>\n",
       "    <tr>\n",
       "      <th>2018-04-18 23:31:42+00:00</th>\n",
       "      <td>0.0</td>\n",
       "      <td>1200.0s</td>\n",
       "      <td>5.0</td>\n",
       "      <td>NaN</td>\n",
       "      <td>69.4</td>\n",
       "      <td>69.500000</td>\n",
       "      <td>66.583083</td>\n",
       "      <td>0.0</td>\n",
       "      <td>69.450000</td>\n",
       "      <td>69.500000</td>\n",
       "    </tr>\n",
       "    <tr>\n",
       "      <th>2018-04-18 23:36:42+00:00</th>\n",
       "      <td>0.0</td>\n",
       "      <td>1500.0s</td>\n",
       "      <td>5.0</td>\n",
       "      <td>NaN</td>\n",
       "      <td>69.5</td>\n",
       "      <td>69.400000</td>\n",
       "      <td>66.666466</td>\n",
       "      <td>0.0</td>\n",
       "      <td>69.450489</td>\n",
       "      <td>69.500000</td>\n",
       "    </tr>\n",
       "  </tbody>\n",
       "</table>\n",
       "</div>"
      ],
      "text/plain": [
       "                           action action_duration   dt  previous_action  \\\n",
       "time                                                                      \n",
       "2018-04-18 23:16:42+00:00     0.0          300.0s  5.0              NaN   \n",
       "2018-04-18 23:21:42+00:00     0.0          600.0s  5.0              NaN   \n",
       "2018-04-18 23:26:42+00:00     0.0          900.0s  5.0              NaN   \n",
       "2018-04-18 23:31:42+00:00     0.0         1200.0s  5.0              NaN   \n",
       "2018-04-18 23:36:42+00:00     0.0         1500.0s  5.0              NaN   \n",
       "\n",
       "                           t_next       t_in      t_out  occ  \\\n",
       "time                                                           \n",
       "2018-04-18 23:16:42+00:00    69.5  69.483333  66.499700  0.0   \n",
       "2018-04-18 23:21:42+00:00    69.5  69.500000  66.499700  0.0   \n",
       "2018-04-18 23:26:42+00:00    69.5  69.500000  66.520546  0.0   \n",
       "2018-04-18 23:31:42+00:00    69.4  69.500000  66.583083  0.0   \n",
       "2018-04-18 23:36:42+00:00    69.5  69.400000  66.666466  0.0   \n",
       "\n",
       "                           zone_temperatureHVAC_Zone_Shelter_Corridor  \\\n",
       "time                                                                    \n",
       "2018-04-18 23:16:42+00:00                                   69.499167   \n",
       "2018-04-18 23:21:42+00:00                                   69.485833   \n",
       "2018-04-18 23:26:42+00:00                                   69.460833   \n",
       "2018-04-18 23:31:42+00:00                                   69.450000   \n",
       "2018-04-18 23:36:42+00:00                                   69.450489   \n",
       "\n",
       "                              t_last  \n",
       "time                                  \n",
       "2018-04-18 23:16:42+00:00  69.483333  \n",
       "2018-04-18 23:21:42+00:00  69.483333  \n",
       "2018-04-18 23:26:42+00:00  69.500000  \n",
       "2018-04-18 23:31:42+00:00  69.500000  \n",
       "2018-04-18 23:36:42+00:00  69.500000  "
      ]
     },
     "execution_count": 3,
     "metadata": {},
     "output_type": "execute_result"
    }
   ],
   "source": [
    "def add_last_temperature_feature(data):\n",
    "    \"\"\"Adding a feature which specifies what the previous temperature was \"dt\" seconds before the current\n",
    "    datasample. Since data does not need be continious, we need a loop.\n",
    "    :param: pd.df with cols: \"t_in\", \"dt\" and needs to be sorted by time.\n",
    "    returns pd.df with cols \"t_last\" added. \"\"\"\n",
    "\n",
    "    last_temps = []\n",
    "\n",
    "    last_temp = None\n",
    "    curr_time = data.index[0]\n",
    "    for index, row in data.iterrows():\n",
    "\n",
    "        if last_temp is None:\n",
    "            last_temps.append(row[\"t_in\"])  # so the feature will be zero instead\n",
    "        else:\n",
    "            last_temps.append(last_temp)\n",
    "\n",
    "        if curr_time == index:\n",
    "            last_temp = row[\"t_in\"]\n",
    "            curr_time += datetime.timedelta(minutes=row[\"dt\"])\n",
    "        else:\n",
    "            last_temp = None\n",
    "            curr_time = index + datetime.timedelta(minutes=row[\"dt\"])\n",
    "\n",
    "    data[\"t_last\"] = np.array(last_temps)\n",
    "    return data\n",
    "\n",
    "training_data = add_last_temperature_feature(training_data)\n",
    "test_data = add_last_temperature_feature(test_data)\n",
    "\n",
    "training_data.head()"
   ]
  },
  {
   "cell_type": "markdown",
   "metadata": {},
   "source": [
    "# Preprocessing Data\n",
    "\n",
    "Action features has values 0,1,2,3,4,5 which is transformed to values:\n",
    "0 - no action\n",
    "1 - heating\n",
    "2 - cooling\n",
    "\n",
    "Action is represnted as two separate features: action_heating and action_cooling, which holds value either 0(off) or 1(on).\n",
    "\n",
    "Select the rows in datasets such that interval time is constant (5 minutes)"
   ]
  },
  {
   "cell_type": "code",
   "execution_count": 4,
   "metadata": {},
   "outputs": [
    {
     "name": "stdout",
     "output_type": "stream",
     "text": [
      "                           action action_duration   dt  previous_action  \\\n",
      "time                                                                      \n",
      "2018-04-18 23:16:42+00:00       0          300.0s  5.0              NaN   \n",
      "2018-04-18 23:21:42+00:00       0          600.0s  5.0              NaN   \n",
      "2018-04-18 23:26:42+00:00       0          900.0s  5.0              NaN   \n",
      "2018-04-18 23:31:42+00:00       0         1200.0s  5.0              NaN   \n",
      "2018-04-18 23:36:42+00:00       0         1500.0s  5.0              NaN   \n",
      "\n",
      "                           t_next       t_in      t_out  occ  \\\n",
      "time                                                           \n",
      "2018-04-18 23:16:42+00:00    69.5  69.483333  66.499700  0.0   \n",
      "2018-04-18 23:21:42+00:00    69.5  69.500000  66.499700  0.0   \n",
      "2018-04-18 23:26:42+00:00    69.5  69.500000  66.520546  0.0   \n",
      "2018-04-18 23:31:42+00:00    69.4  69.500000  66.583083  0.0   \n",
      "2018-04-18 23:36:42+00:00    69.5  69.400000  66.666466  0.0   \n",
      "\n",
      "                           zone_temperatureHVAC_Zone_Shelter_Corridor  \\\n",
      "time                                                                    \n",
      "2018-04-18 23:16:42+00:00                                   69.499167   \n",
      "2018-04-18 23:21:42+00:00                                   69.485833   \n",
      "2018-04-18 23:26:42+00:00                                   69.460833   \n",
      "2018-04-18 23:31:42+00:00                                   69.450000   \n",
      "2018-04-18 23:36:42+00:00                                   69.450489   \n",
      "\n",
      "                              t_last  action_heating  action_cooling  \n",
      "time                                                                  \n",
      "2018-04-18 23:16:42+00:00  69.483333               0               0  \n",
      "2018-04-18 23:21:42+00:00  69.483333               0               0  \n",
      "2018-04-18 23:26:42+00:00  69.500000               0               0  \n",
      "2018-04-18 23:31:42+00:00  69.500000               0               0  \n",
      "2018-04-18 23:36:42+00:00  69.500000               0               0  \n",
      "                           action action_duration   dt  previous_action  \\\n",
      "time                                                                      \n",
      "2018-03-20 00:00:00+00:00       0          300.0s  5.0              NaN   \n",
      "2018-03-20 00:05:00+00:00       0          600.0s  5.0              NaN   \n",
      "2018-03-20 00:10:00+00:00       0          900.0s  5.0              NaN   \n",
      "2018-03-20 00:15:00+00:00       0         1200.0s  5.0              NaN   \n",
      "2018-03-20 00:20:00+00:00       0         1500.0s  5.0              NaN   \n",
      "\n",
      "                           t_next  t_in      t_out  occ  \\\n",
      "time                                                      \n",
      "2018-03-20 00:00:00+00:00    72.8  72.8  67.778613  0.0   \n",
      "2018-03-20 00:05:00+00:00    73.0  72.8  67.807436  0.0   \n",
      "2018-03-20 00:10:00+00:00    73.0  73.0  67.835998  0.0   \n",
      "2018-03-20 00:15:00+00:00    73.0  73.0  67.864038  0.0   \n",
      "2018-03-20 00:20:00+00:00    73.0  73.0  67.891817  0.0   \n",
      "\n",
      "                           zone_temperatureHVAC_Zone_Shelter_Corridor  t_last  \\\n",
      "time                                                                            \n",
      "2018-03-20 00:00:00+00:00                                   72.870690    72.8   \n",
      "2018-03-20 00:05:00+00:00                                   72.960345    72.8   \n",
      "2018-03-20 00:10:00+00:00                                   73.000000    72.8   \n",
      "2018-03-20 00:15:00+00:00                                   73.000000    73.0   \n",
      "2018-03-20 00:20:00+00:00                                   73.000000    73.0   \n",
      "\n",
      "                           action_heating  action_cooling  \n",
      "time                                                       \n",
      "2018-03-20 00:00:00+00:00               0               0  \n",
      "2018-03-20 00:05:00+00:00               0               0  \n",
      "2018-03-20 00:10:00+00:00               0               0  \n",
      "2018-03-20 00:15:00+00:00               0               0  \n",
      "2018-03-20 00:20:00+00:00               0               0  \n"
     ]
    }
   ],
   "source": [
    "def fix_data(data, interval):\n",
    "    \"\"\"Fixes up the data. Makes sure we count two stage as single stage actions, don't count float actions,\n",
    "    converts action duration and dt to floats, fill's nan's in action_duration and drops all datapoints which\n",
    "    don't have dt equal to interval.\n",
    "    :param data:\n",
    "    :param interval: float:minutes\"\"\"\n",
    "    def f(x):\n",
    "        if x == 0:\n",
    "            return 0\n",
    "        elif x == 2 or x == 5:\n",
    "            return 2\n",
    "        elif x ==1 or x == 3:\n",
    "            return 1\n",
    "        \n",
    "    def h(x):\n",
    "        if x == 1:\n",
    "            return 1\n",
    "        else:\n",
    "            return 0\n",
    "        \n",
    "    def c(x):\n",
    "        if x == 2:\n",
    "            return 1\n",
    "        else:\n",
    "            return 0\n",
    "\n",
    "    data[\"action\"] = data[\"action\"].map(f)\n",
    "    data['action_heating'] = data[\"action\"].map(h)\n",
    "    data['action_cooling'] = data['action'].map(c)\n",
    "    \n",
    "    print data.head()\n",
    "\n",
    "    return data, data[data[\"dt\"] == interval]\n",
    "\n",
    "# get preproccessed test and training data\n",
    "org_training_data, training_data = fix_data(training_data, interval)\n",
    "org_test_data, test_data = fix_data(test_data, interval)"
   ]
  },
  {
   "cell_type": "markdown",
   "metadata": {},
   "source": [
    "# Action = Heating plot"
   ]
  },
  {
   "cell_type": "code",
   "execution_count": 5,
   "metadata": {},
   "outputs": [
    {
     "data": {
      "text/html": [
       "<div>\n",
       "<style scoped>\n",
       "    .dataframe tbody tr th:only-of-type {\n",
       "        vertical-align: middle;\n",
       "    }\n",
       "\n",
       "    .dataframe tbody tr th {\n",
       "        vertical-align: top;\n",
       "    }\n",
       "\n",
       "    .dataframe thead th {\n",
       "        text-align: right;\n",
       "    }\n",
       "</style>\n",
       "<table border=\"1\" class=\"dataframe\">\n",
       "  <thead>\n",
       "    <tr style=\"text-align: right;\">\n",
       "      <th></th>\n",
       "      <th>action</th>\n",
       "      <th>action_duration</th>\n",
       "      <th>dt</th>\n",
       "      <th>previous_action</th>\n",
       "      <th>t_next</th>\n",
       "      <th>t_in</th>\n",
       "      <th>t_out</th>\n",
       "      <th>occ</th>\n",
       "      <th>zone_temperatureHVAC_Zone_Shelter_Corridor</th>\n",
       "      <th>t_last</th>\n",
       "      <th>action_heating</th>\n",
       "      <th>action_cooling</th>\n",
       "    </tr>\n",
       "    <tr>\n",
       "      <th>time</th>\n",
       "      <th></th>\n",
       "      <th></th>\n",
       "      <th></th>\n",
       "      <th></th>\n",
       "      <th></th>\n",
       "      <th></th>\n",
       "      <th></th>\n",
       "      <th></th>\n",
       "      <th></th>\n",
       "      <th></th>\n",
       "      <th></th>\n",
       "      <th></th>\n",
       "    </tr>\n",
       "  </thead>\n",
       "  <tbody>\n",
       "    <tr>\n",
       "      <th>2018-04-20 16:11:42+00:00</th>\n",
       "      <td>1</td>\n",
       "      <td>300.0s</td>\n",
       "      <td>5.0</td>\n",
       "      <td>0.0</td>\n",
       "      <td>67.4</td>\n",
       "      <td>67.0</td>\n",
       "      <td>56.767781</td>\n",
       "      <td>0.0</td>\n",
       "      <td>67.490460</td>\n",
       "      <td>66.966667</td>\n",
       "      <td>1</td>\n",
       "      <td>0</td>\n",
       "    </tr>\n",
       "    <tr>\n",
       "      <th>2018-04-20 16:16:42+00:00</th>\n",
       "      <td>1</td>\n",
       "      <td>600.0s</td>\n",
       "      <td>5.0</td>\n",
       "      <td>0.0</td>\n",
       "      <td>67.9</td>\n",
       "      <td>67.4</td>\n",
       "      <td>56.277664</td>\n",
       "      <td>0.0</td>\n",
       "      <td>67.891667</td>\n",
       "      <td>67.000000</td>\n",
       "      <td>1</td>\n",
       "      <td>0</td>\n",
       "    </tr>\n",
       "    <tr>\n",
       "      <th>2018-04-20 16:21:42+00:00</th>\n",
       "      <td>1</td>\n",
       "      <td>900.0s</td>\n",
       "      <td>5.0</td>\n",
       "      <td>0.0</td>\n",
       "      <td>68.0</td>\n",
       "      <td>67.9</td>\n",
       "      <td>55.388773</td>\n",
       "      <td>0.0</td>\n",
       "      <td>68.138966</td>\n",
       "      <td>67.400000</td>\n",
       "      <td>1</td>\n",
       "      <td>0</td>\n",
       "    </tr>\n",
       "    <tr>\n",
       "      <th>2018-04-20 16:26:42+00:00</th>\n",
       "      <td>1</td>\n",
       "      <td>1200.0s</td>\n",
       "      <td>5.0</td>\n",
       "      <td>0.0</td>\n",
       "      <td>68.2</td>\n",
       "      <td>68.0</td>\n",
       "      <td>55.485998</td>\n",
       "      <td>0.0</td>\n",
       "      <td>68.306264</td>\n",
       "      <td>67.900000</td>\n",
       "      <td>1</td>\n",
       "      <td>0</td>\n",
       "    </tr>\n",
       "    <tr>\n",
       "      <th>2018-04-20 16:31:42+00:00</th>\n",
       "      <td>1</td>\n",
       "      <td>1500.0s</td>\n",
       "      <td>5.0</td>\n",
       "      <td>0.0</td>\n",
       "      <td>68.3</td>\n",
       "      <td>68.2</td>\n",
       "      <td>57.555457</td>\n",
       "      <td>0.0</td>\n",
       "      <td>68.517299</td>\n",
       "      <td>68.000000</td>\n",
       "      <td>1</td>\n",
       "      <td>0</td>\n",
       "    </tr>\n",
       "  </tbody>\n",
       "</table>\n",
       "</div>"
      ],
      "text/plain": [
       "                           action action_duration   dt  previous_action  \\\n",
       "time                                                                      \n",
       "2018-04-20 16:11:42+00:00       1          300.0s  5.0              0.0   \n",
       "2018-04-20 16:16:42+00:00       1          600.0s  5.0              0.0   \n",
       "2018-04-20 16:21:42+00:00       1          900.0s  5.0              0.0   \n",
       "2018-04-20 16:26:42+00:00       1         1200.0s  5.0              0.0   \n",
       "2018-04-20 16:31:42+00:00       1         1500.0s  5.0              0.0   \n",
       "\n",
       "                           t_next  t_in      t_out  occ  \\\n",
       "time                                                      \n",
       "2018-04-20 16:11:42+00:00    67.4  67.0  56.767781  0.0   \n",
       "2018-04-20 16:16:42+00:00    67.9  67.4  56.277664  0.0   \n",
       "2018-04-20 16:21:42+00:00    68.0  67.9  55.388773  0.0   \n",
       "2018-04-20 16:26:42+00:00    68.2  68.0  55.485998  0.0   \n",
       "2018-04-20 16:31:42+00:00    68.3  68.2  57.555457  0.0   \n",
       "\n",
       "                           zone_temperatureHVAC_Zone_Shelter_Corridor  \\\n",
       "time                                                                    \n",
       "2018-04-20 16:11:42+00:00                                   67.490460   \n",
       "2018-04-20 16:16:42+00:00                                   67.891667   \n",
       "2018-04-20 16:21:42+00:00                                   68.138966   \n",
       "2018-04-20 16:26:42+00:00                                   68.306264   \n",
       "2018-04-20 16:31:42+00:00                                   68.517299   \n",
       "\n",
       "                              t_last  action_heating  action_cooling  \n",
       "time                                                                  \n",
       "2018-04-20 16:11:42+00:00  66.966667               1               0  \n",
       "2018-04-20 16:16:42+00:00  67.000000               1               0  \n",
       "2018-04-20 16:21:42+00:00  67.400000               1               0  \n",
       "2018-04-20 16:26:42+00:00  67.900000               1               0  \n",
       "2018-04-20 16:31:42+00:00  68.000000               1               0  "
      ]
     },
     "execution_count": 5,
     "metadata": {},
     "output_type": "execute_result"
    }
   ],
   "source": [
    "heating_data = training_data[training_data['action_heating'] == 1]\n",
    "heating_data.head()"
   ]
  },
  {
   "cell_type": "code",
   "execution_count": 6,
   "metadata": {},
   "outputs": [
    {
     "data": {
      "text/html": [
       "<div>\n",
       "<style scoped>\n",
       "    .dataframe tbody tr th:only-of-type {\n",
       "        vertical-align: middle;\n",
       "    }\n",
       "\n",
       "    .dataframe tbody tr th {\n",
       "        vertical-align: top;\n",
       "    }\n",
       "\n",
       "    .dataframe thead th {\n",
       "        text-align: right;\n",
       "    }\n",
       "</style>\n",
       "<table border=\"1\" class=\"dataframe\">\n",
       "  <thead>\n",
       "    <tr style=\"text-align: right;\">\n",
       "      <th></th>\n",
       "      <th>t_in</th>\n",
       "      <th>t_next</th>\n",
       "    </tr>\n",
       "    <tr>\n",
       "      <th>time</th>\n",
       "      <th></th>\n",
       "      <th></th>\n",
       "    </tr>\n",
       "  </thead>\n",
       "  <tbody>\n",
       "    <tr>\n",
       "      <th>2018-04-20 16:11:42+00:00</th>\n",
       "      <td>67.0</td>\n",
       "      <td>67.4</td>\n",
       "    </tr>\n",
       "    <tr>\n",
       "      <th>2018-04-20 16:16:42+00:00</th>\n",
       "      <td>67.4</td>\n",
       "      <td>67.9</td>\n",
       "    </tr>\n",
       "    <tr>\n",
       "      <th>2018-04-20 16:21:42+00:00</th>\n",
       "      <td>67.9</td>\n",
       "      <td>68.0</td>\n",
       "    </tr>\n",
       "    <tr>\n",
       "      <th>2018-04-20 16:26:42+00:00</th>\n",
       "      <td>68.0</td>\n",
       "      <td>68.2</td>\n",
       "    </tr>\n",
       "    <tr>\n",
       "      <th>2018-04-20 16:31:42+00:00</th>\n",
       "      <td>68.2</td>\n",
       "      <td>68.3</td>\n",
       "    </tr>\n",
       "  </tbody>\n",
       "</table>\n",
       "</div>"
      ],
      "text/plain": [
       "                           t_in  t_next\n",
       "time                                   \n",
       "2018-04-20 16:11:42+00:00  67.0    67.4\n",
       "2018-04-20 16:16:42+00:00  67.4    67.9\n",
       "2018-04-20 16:21:42+00:00  67.9    68.0\n",
       "2018-04-20 16:26:42+00:00  68.0    68.2\n",
       "2018-04-20 16:31:42+00:00  68.2    68.3"
      ]
     },
     "execution_count": 6,
     "metadata": {},
     "output_type": "execute_result"
    }
   ],
   "source": [
    "diff = heating_data['t_next'] - heating_data['t_in']\n",
    "heating_df = pd.DataFrame({'t_in': heating_data['t_in'], 't_next': heating_data['t_next']}) \n",
    "heating_df.head()"
   ]
  },
  {
   "cell_type": "code",
   "execution_count": 7,
   "metadata": {},
   "outputs": [
    {
     "data": {
      "text/plain": [
       "<matplotlib.axes._subplots.AxesSubplot at 0x10e86eb8>"
      ]
     },
     "execution_count": 7,
     "metadata": {},
     "output_type": "execute_result"
    },
    {
     "data": {
      "image/png": "[encoded data removed]",
      "text/plain": [
       "<Figure size 432x288 with 1 Axes>"
      ]
     },
     "metadata": {
      "needs_background": "light"
     },
     "output_type": "display_data"
    }
   ],
   "source": [
    "heating_df.plot()"
   ]
  },
  {
   "cell_type": "code",
   "execution_count": 23,
   "metadata": {},
   "outputs": [
    {
     "data": {
      "text/plain": [
       "<matplotlib.collections.PathCollection at 0x183a0b70>"
      ]
     },
     "execution_count": 23,
     "metadata": {},
     "output_type": "execute_result"
    },
    {
     "data": {
      "image/png": "[encoded data removed]",
      "text/plain": [
       "<Figure size 432x288 with 1 Axes>"
      ]
     },
     "metadata": {
      "needs_background": "light"
     },
     "output_type": "display_data"
    }
   ],
   "source": [
    "plt.scatter(heating_data['t_in'],heating_data['t_next'])"
   ]
  },
  {
   "cell_type": "code",
   "execution_count": 27,
   "metadata": {},
   "outputs": [
    {
     "ename": "NameError",
     "evalue": "name 'mean' is not defined",
     "output_type": "error",
     "traceback": [
      "\u001b[1;31m---------------------------------------------------------------------------\u001b[0m",
      "\u001b[1;31mNameError\u001b[0m                                 Traceback (most recent call last)",
      "\u001b[1;32m<ipython-input-27-117478e47b5f>\u001b[0m in \u001b[0;36m<module>\u001b[1;34m()\u001b[0m\n\u001b[0;32m      1\u001b[0m \u001b[0mdiff\u001b[0m \u001b[1;33m=\u001b[0m \u001b[0mheating_data\u001b[0m\u001b[1;33m[\u001b[0m\u001b[1;34m't_next'\u001b[0m\u001b[1;33m]\u001b[0m \u001b[1;33m-\u001b[0m \u001b[0mheating_data\u001b[0m\u001b[1;33m[\u001b[0m\u001b[1;34m't_in'\u001b[0m\u001b[1;33m]\u001b[0m\u001b[1;33m\u001b[0m\u001b[0m\n\u001b[1;32m----> 2\u001b[1;33m \u001b[1;32mprint\u001b[0m \u001b[0mmean\u001b[0m\u001b[1;33m(\u001b[0m\u001b[0mdiff\u001b[0m\u001b[1;33m)\u001b[0m\u001b[1;33m\u001b[0m\u001b[0m\n\u001b[0m\u001b[0;32m      3\u001b[0m \u001b[0mplt\u001b[0m\u001b[1;33m.\u001b[0m\u001b[0mscatter\u001b[0m\u001b[1;33m(\u001b[0m\u001b[0mheating_data\u001b[0m\u001b[1;33m[\u001b[0m\u001b[1;34m't_in'\u001b[0m\u001b[1;33m]\u001b[0m\u001b[1;33m,\u001b[0m\u001b[0mdiff\u001b[0m\u001b[1;33m)\u001b[0m\u001b[1;33m\u001b[0m\u001b[0m\n",
      "\u001b[1;31mNameError\u001b[0m: name 'mean' is not defined"
     ]
    }
   ],
   "source": [
    "diff = heating_data['t_next'] - heating_data['t_in']\n",
    "\n",
    "plt.scatter(heating_data['t_in'],diff)"
   ]
  },
  {
   "cell_type": "code",
   "execution_count": 28,
   "metadata": {},
   "outputs": [
    {
     "data": {
      "text/plain": [
       "count    446.000000\n",
       "mean       0.111342\n",
       "std        0.151289\n",
       "min       -0.300000\n",
       "25%        0.000000\n",
       "50%        0.100000\n",
       "75%        0.200000\n",
       "max        0.633333\n",
       "dtype: float64"
      ]
     },
     "execution_count": 28,
     "metadata": {},
     "output_type": "execute_result"
    }
   ],
   "source": [
    "diff.describe()"
   ]
  },
  {
   "cell_type": "code",
   "execution_count": null,
   "metadata": {},
   "outputs": [],
   "source": []
  },
  {
   "cell_type": "markdown",
   "metadata": {},
   "source": [
    "# Action = Cooling plot\n"
   ]
  },
  {
   "cell_type": "code",
   "execution_count": 10,
   "metadata": {},
   "outputs": [
    {
     "data": {
      "text/html": [
       "<div>\n",
       "<style scoped>\n",
       "    .dataframe tbody tr th:only-of-type {\n",
       "        vertical-align: middle;\n",
       "    }\n",
       "\n",
       "    .dataframe tbody tr th {\n",
       "        vertical-align: top;\n",
       "    }\n",
       "\n",
       "    .dataframe thead th {\n",
       "        text-align: right;\n",
       "    }\n",
       "</style>\n",
       "<table border=\"1\" class=\"dataframe\">\n",
       "  <thead>\n",
       "    <tr style=\"text-align: right;\">\n",
       "      <th></th>\n",
       "      <th>action</th>\n",
       "      <th>action_duration</th>\n",
       "      <th>dt</th>\n",
       "      <th>previous_action</th>\n",
       "      <th>t_next</th>\n",
       "      <th>t_in</th>\n",
       "      <th>t_out</th>\n",
       "      <th>occ</th>\n",
       "      <th>zone_temperatureHVAC_Zone_Shelter_Corridor</th>\n",
       "      <th>t_last</th>\n",
       "      <th>action_heating</th>\n",
       "      <th>action_cooling</th>\n",
       "    </tr>\n",
       "    <tr>\n",
       "      <th>time</th>\n",
       "      <th></th>\n",
       "      <th></th>\n",
       "      <th></th>\n",
       "      <th></th>\n",
       "      <th></th>\n",
       "      <th></th>\n",
       "      <th></th>\n",
       "      <th></th>\n",
       "      <th></th>\n",
       "      <th></th>\n",
       "      <th></th>\n",
       "      <th></th>\n",
       "    </tr>\n",
       "  </thead>\n",
       "  <tbody>\n",
       "    <tr>\n",
       "      <th>2018-04-19 15:38:42+00:00</th>\n",
       "      <td>2</td>\n",
       "      <td>300.0s</td>\n",
       "      <td>5.0</td>\n",
       "      <td>0.0</td>\n",
       "      <td>66.900000</td>\n",
       "      <td>66.500000</td>\n",
       "      <td>52.298039</td>\n",
       "      <td>0.0</td>\n",
       "      <td>66.928333</td>\n",
       "      <td>66.4</td>\n",
       "      <td>0</td>\n",
       "      <td>1</td>\n",
       "    </tr>\n",
       "    <tr>\n",
       "      <th>2018-04-19 15:43:42+00:00</th>\n",
       "      <td>2</td>\n",
       "      <td>600.0s</td>\n",
       "      <td>5.0</td>\n",
       "      <td>0.0</td>\n",
       "      <td>67.000000</td>\n",
       "      <td>66.900000</td>\n",
       "      <td>52.527372</td>\n",
       "      <td>0.0</td>\n",
       "      <td>66.948333</td>\n",
       "      <td>66.5</td>\n",
       "      <td>0</td>\n",
       "      <td>1</td>\n",
       "    </tr>\n",
       "    <tr>\n",
       "      <th>2018-04-19 15:48:42+00:00</th>\n",
       "      <td>2</td>\n",
       "      <td>900.0s</td>\n",
       "      <td>5.0</td>\n",
       "      <td>0.0</td>\n",
       "      <td>66.900000</td>\n",
       "      <td>67.000000</td>\n",
       "      <td>52.434661</td>\n",
       "      <td>0.0</td>\n",
       "      <td>66.560000</td>\n",
       "      <td>66.9</td>\n",
       "      <td>0</td>\n",
       "      <td>1</td>\n",
       "    </tr>\n",
       "    <tr>\n",
       "      <th>2018-04-19 15:53:42+00:00</th>\n",
       "      <td>2</td>\n",
       "      <td>1200.0s</td>\n",
       "      <td>5.0</td>\n",
       "      <td>0.0</td>\n",
       "      <td>66.166667</td>\n",
       "      <td>66.900000</td>\n",
       "      <td>52.341950</td>\n",
       "      <td>0.0</td>\n",
       "      <td>66.034138</td>\n",
       "      <td>67.0</td>\n",
       "      <td>0</td>\n",
       "      <td>1</td>\n",
       "    </tr>\n",
       "    <tr>\n",
       "      <th>2018-04-19 16:15:42+00:00</th>\n",
       "      <td>2</td>\n",
       "      <td>300.0s</td>\n",
       "      <td>5.0</td>\n",
       "      <td>0.0</td>\n",
       "      <td>66.800000</td>\n",
       "      <td>66.533333</td>\n",
       "      <td>52.622372</td>\n",
       "      <td>0.0</td>\n",
       "      <td>66.780000</td>\n",
       "      <td>66.0</td>\n",
       "      <td>0</td>\n",
       "      <td>1</td>\n",
       "    </tr>\n",
       "  </tbody>\n",
       "</table>\n",
       "</div>"
      ],
      "text/plain": [
       "                           action action_duration   dt  previous_action  \\\n",
       "time                                                                      \n",
       "2018-04-19 15:38:42+00:00       2          300.0s  5.0              0.0   \n",
       "2018-04-19 15:43:42+00:00       2          600.0s  5.0              0.0   \n",
       "2018-04-19 15:48:42+00:00       2          900.0s  5.0              0.0   \n",
       "2018-04-19 15:53:42+00:00       2         1200.0s  5.0              0.0   \n",
       "2018-04-19 16:15:42+00:00       2          300.0s  5.0              0.0   \n",
       "\n",
       "                              t_next       t_in      t_out  occ  \\\n",
       "time                                                              \n",
       "2018-04-19 15:38:42+00:00  66.900000  66.500000  52.298039  0.0   \n",
       "2018-04-19 15:43:42+00:00  67.000000  66.900000  52.527372  0.0   \n",
       "2018-04-19 15:48:42+00:00  66.900000  67.000000  52.434661  0.0   \n",
       "2018-04-19 15:53:42+00:00  66.166667  66.900000  52.341950  0.0   \n",
       "2018-04-19 16:15:42+00:00  66.800000  66.533333  52.622372  0.0   \n",
       "\n",
       "                           zone_temperatureHVAC_Zone_Shelter_Corridor  t_last  \\\n",
       "time                                                                            \n",
       "2018-04-19 15:38:42+00:00                                   66.928333    66.4   \n",
       "2018-04-19 15:43:42+00:00                                   66.948333    66.5   \n",
       "2018-04-19 15:48:42+00:00                                   66.560000    66.9   \n",
       "2018-04-19 15:53:42+00:00                                   66.034138    67.0   \n",
       "2018-04-19 16:15:42+00:00                                   66.780000    66.0   \n",
       "\n",
       "                           action_heating  action_cooling  \n",
       "time                                                       \n",
       "2018-04-19 15:38:42+00:00               0               1  \n",
       "2018-04-19 15:43:42+00:00               0               1  \n",
       "2018-04-19 15:48:42+00:00               0               1  \n",
       "2018-04-19 15:53:42+00:00               0               1  \n",
       "2018-04-19 16:15:42+00:00               0               1  "
      ]
     },
     "execution_count": 10,
     "metadata": {},
     "output_type": "execute_result"
    }
   ],
   "source": [
    "cooling_data = training_data[training_data['action_cooling'] == 1]\n",
    "cooling_data.head()"
   ]
  },
  {
   "cell_type": "code",
   "execution_count": 11,
   "metadata": {},
   "outputs": [
    {
     "data": {
      "text/html": [
       "<div>\n",
       "<style scoped>\n",
       "    .dataframe tbody tr th:only-of-type {\n",
       "        vertical-align: middle;\n",
       "    }\n",
       "\n",
       "    .dataframe tbody tr th {\n",
       "        vertical-align: top;\n",
       "    }\n",
       "\n",
       "    .dataframe thead th {\n",
       "        text-align: right;\n",
       "    }\n",
       "</style>\n",
       "<table border=\"1\" class=\"dataframe\">\n",
       "  <thead>\n",
       "    <tr style=\"text-align: right;\">\n",
       "      <th></th>\n",
       "      <th>t_in</th>\n",
       "      <th>t_next</th>\n",
       "    </tr>\n",
       "    <tr>\n",
       "      <th>time</th>\n",
       "      <th></th>\n",
       "      <th></th>\n",
       "    </tr>\n",
       "  </thead>\n",
       "  <tbody>\n",
       "    <tr>\n",
       "      <th>2018-04-19 15:38:42+00:00</th>\n",
       "      <td>66.500000</td>\n",
       "      <td>66.900000</td>\n",
       "    </tr>\n",
       "    <tr>\n",
       "      <th>2018-04-19 15:43:42+00:00</th>\n",
       "      <td>66.900000</td>\n",
       "      <td>67.000000</td>\n",
       "    </tr>\n",
       "    <tr>\n",
       "      <th>2018-04-19 15:48:42+00:00</th>\n",
       "      <td>67.000000</td>\n",
       "      <td>66.900000</td>\n",
       "    </tr>\n",
       "    <tr>\n",
       "      <th>2018-04-19 15:53:42+00:00</th>\n",
       "      <td>66.900000</td>\n",
       "      <td>66.166667</td>\n",
       "    </tr>\n",
       "    <tr>\n",
       "      <th>2018-04-19 16:15:42+00:00</th>\n",
       "      <td>66.533333</td>\n",
       "      <td>66.800000</td>\n",
       "    </tr>\n",
       "  </tbody>\n",
       "</table>\n",
       "</div>"
      ],
      "text/plain": [
       "                                t_in     t_next\n",
       "time                                           \n",
       "2018-04-19 15:38:42+00:00  66.500000  66.900000\n",
       "2018-04-19 15:43:42+00:00  66.900000  67.000000\n",
       "2018-04-19 15:48:42+00:00  67.000000  66.900000\n",
       "2018-04-19 15:53:42+00:00  66.900000  66.166667\n",
       "2018-04-19 16:15:42+00:00  66.533333  66.800000"
      ]
     },
     "execution_count": 11,
     "metadata": {},
     "output_type": "execute_result"
    }
   ],
   "source": [
    "cooling_df = pd.DataFrame({'t_in': cooling_data['t_in'], 't_next': cooling_data['t_next']}) \n",
    "cooling_df.head()"
   ]
  },
  {
   "cell_type": "code",
   "execution_count": 12,
   "metadata": {},
   "outputs": [
    {
     "data": {
      "text/plain": [
       "<matplotlib.axes._subplots.AxesSubplot at 0x13f1cef0>"
      ]
     },
     "execution_count": 12,
     "metadata": {},
     "output_type": "execute_result"
    },
    {
     "data": {
      "image/png": "[encoded data removed]",
      "text/plain": [
       "<Figure size 432x288 with 1 Axes>"
      ]
     },
     "metadata": {
      "needs_background": "light"
     },
     "output_type": "display_data"
    }
   ],
   "source": [
    "cooling_df.plot()"
   ]
  },
  {
   "cell_type": "code",
   "execution_count": 13,
   "metadata": {},
   "outputs": [
    {
     "data": {
      "text/plain": [
       "[<matplotlib.lines.Line2D at 0x1424a550>]"
      ]
     },
     "execution_count": 13,
     "metadata": {},
     "output_type": "execute_result"
    },
    {
     "data": {
      "image/png": "[encoded data removed]",
      "text/plain": [
       "<Figure size 432x288 with 1 Axes>"
      ]
     },
     "metadata": {
      "needs_background": "light"
     },
     "output_type": "display_data"
    }
   ],
   "source": [
    "plt.plot(cooling_data['t_in'],cooling_data['t_next'])"
   ]
  },
  {
   "cell_type": "code",
   "execution_count": 29,
   "metadata": {},
   "outputs": [
    {
     "data": {
      "text/plain": [
       "[<matplotlib.lines.Line2D at 0x133b4ba8>]"
      ]
     },
     "execution_count": 29,
     "metadata": {},
     "output_type": "execute_result"
    },
    {
     "data": {
      "image/png": "[encoded data removed]",
      "text/plain": [
       "<Figure size 432x288 with 1 Axes>"
      ]
     },
     "metadata": {
      "needs_background": "light"
     },
     "output_type": "display_data"
    }
   ],
   "source": [
    "diff = cooling_data['t_next'] - cooling_data['t_in']\n",
    "plt.plot(cooling_data['t_in'],diff)"
   ]
  },
  {
   "cell_type": "code",
   "execution_count": 30,
   "metadata": {},
   "outputs": [
    {
     "data": {
      "text/plain": [
       "count    5766.000000\n",
       "mean       -0.066056\n",
       "std         0.308924\n",
       "min        -2.000000\n",
       "25%        -0.200000\n",
       "50%        -0.100000\n",
       "75%         0.100000\n",
       "max        14.060000\n",
       "dtype: float64"
      ]
     },
     "execution_count": 30,
     "metadata": {},
     "output_type": "execute_result"
    }
   ],
   "source": [
    "diff.describe()"
   ]
  },
  {
   "cell_type": "markdown",
   "metadata": {},
   "source": [
    "# Action = Nothing plot\n"
   ]
  },
  {
   "cell_type": "code",
   "execution_count": 15,
   "metadata": {},
   "outputs": [
    {
     "data": {
      "text/html": [
       "<div>\n",
       "<style scoped>\n",
       "    .dataframe tbody tr th:only-of-type {\n",
       "        vertical-align: middle;\n",
       "    }\n",
       "\n",
       "    .dataframe tbody tr th {\n",
       "        vertical-align: top;\n",
       "    }\n",
       "\n",
       "    .dataframe thead th {\n",
       "        text-align: right;\n",
       "    }\n",
       "</style>\n",
       "<table border=\"1\" class=\"dataframe\">\n",
       "  <thead>\n",
       "    <tr style=\"text-align: right;\">\n",
       "      <th></th>\n",
       "      <th>action</th>\n",
       "      <th>action_duration</th>\n",
       "      <th>dt</th>\n",
       "      <th>previous_action</th>\n",
       "      <th>t_next</th>\n",
       "      <th>t_in</th>\n",
       "      <th>t_out</th>\n",
       "      <th>occ</th>\n",
       "      <th>zone_temperatureHVAC_Zone_Shelter_Corridor</th>\n",
       "      <th>t_last</th>\n",
       "      <th>action_heating</th>\n",
       "      <th>action_cooling</th>\n",
       "    </tr>\n",
       "    <tr>\n",
       "      <th>time</th>\n",
       "      <th></th>\n",
       "      <th></th>\n",
       "      <th></th>\n",
       "      <th></th>\n",
       "      <th></th>\n",
       "      <th></th>\n",
       "      <th></th>\n",
       "      <th></th>\n",
       "      <th></th>\n",
       "      <th></th>\n",
       "      <th></th>\n",
       "      <th></th>\n",
       "    </tr>\n",
       "  </thead>\n",
       "  <tbody>\n",
       "    <tr>\n",
       "      <th>2018-04-18 23:16:42+00:00</th>\n",
       "      <td>0</td>\n",
       "      <td>300.0s</td>\n",
       "      <td>5.0</td>\n",
       "      <td>NaN</td>\n",
       "      <td>69.5</td>\n",
       "      <td>69.483333</td>\n",
       "      <td>66.499700</td>\n",
       "      <td>0.0</td>\n",
       "      <td>69.499167</td>\n",
       "      <td>69.483333</td>\n",
       "      <td>0</td>\n",
       "      <td>0</td>\n",
       "    </tr>\n",
       "    <tr>\n",
       "      <th>2018-04-18 23:21:42+00:00</th>\n",
       "      <td>0</td>\n",
       "      <td>600.0s</td>\n",
       "      <td>5.0</td>\n",
       "      <td>NaN</td>\n",
       "      <td>69.5</td>\n",
       "      <td>69.500000</td>\n",
       "      <td>66.499700</td>\n",
       "      <td>0.0</td>\n",
       "      <td>69.485833</td>\n",
       "      <td>69.483333</td>\n",
       "      <td>0</td>\n",
       "      <td>0</td>\n",
       "    </tr>\n",
       "    <tr>\n",
       "      <th>2018-04-18 23:26:42+00:00</th>\n",
       "      <td>0</td>\n",
       "      <td>900.0s</td>\n",
       "      <td>5.0</td>\n",
       "      <td>NaN</td>\n",
       "      <td>69.5</td>\n",
       "      <td>69.500000</td>\n",
       "      <td>66.520546</td>\n",
       "      <td>0.0</td>\n",
       "      <td>69.460833</td>\n",
       "      <td>69.500000</td>\n",
       "      <td>0</td>\n",
       "      <td>0</td>\n",
       "    </tr>\n",
       "    <tr>\n",
       "      <th>2018-04-18 23:31:42+00:00</th>\n",
       "      <td>0</td>\n",
       "      <td>1200.0s</td>\n",
       "      <td>5.0</td>\n",
       "      <td>NaN</td>\n",
       "      <td>69.4</td>\n",
       "      <td>69.500000</td>\n",
       "      <td>66.583083</td>\n",
       "      <td>0.0</td>\n",
       "      <td>69.450000</td>\n",
       "      <td>69.500000</td>\n",
       "      <td>0</td>\n",
       "      <td>0</td>\n",
       "    </tr>\n",
       "    <tr>\n",
       "      <th>2018-04-18 23:36:42+00:00</th>\n",
       "      <td>0</td>\n",
       "      <td>1500.0s</td>\n",
       "      <td>5.0</td>\n",
       "      <td>NaN</td>\n",
       "      <td>69.5</td>\n",
       "      <td>69.400000</td>\n",
       "      <td>66.666466</td>\n",
       "      <td>0.0</td>\n",
       "      <td>69.450489</td>\n",
       "      <td>69.500000</td>\n",
       "      <td>0</td>\n",
       "      <td>0</td>\n",
       "    </tr>\n",
       "  </tbody>\n",
       "</table>\n",
       "</div>"
      ],
      "text/plain": [
       "                           action action_duration   dt  previous_action  \\\n",
       "time                                                                      \n",
       "2018-04-18 23:16:42+00:00       0          300.0s  5.0              NaN   \n",
       "2018-04-18 23:21:42+00:00       0          600.0s  5.0              NaN   \n",
       "2018-04-18 23:26:42+00:00       0          900.0s  5.0              NaN   \n",
       "2018-04-18 23:31:42+00:00       0         1200.0s  5.0              NaN   \n",
       "2018-04-18 23:36:42+00:00       0         1500.0s  5.0              NaN   \n",
       "\n",
       "                           t_next       t_in      t_out  occ  \\\n",
       "time                                                           \n",
       "2018-04-18 23:16:42+00:00    69.5  69.483333  66.499700  0.0   \n",
       "2018-04-18 23:21:42+00:00    69.5  69.500000  66.499700  0.0   \n",
       "2018-04-18 23:26:42+00:00    69.5  69.500000  66.520546  0.0   \n",
       "2018-04-18 23:31:42+00:00    69.4  69.500000  66.583083  0.0   \n",
       "2018-04-18 23:36:42+00:00    69.5  69.400000  66.666466  0.0   \n",
       "\n",
       "                           zone_temperatureHVAC_Zone_Shelter_Corridor  \\\n",
       "time                                                                    \n",
       "2018-04-18 23:16:42+00:00                                   69.499167   \n",
       "2018-04-18 23:21:42+00:00                                   69.485833   \n",
       "2018-04-18 23:26:42+00:00                                   69.460833   \n",
       "2018-04-18 23:31:42+00:00                                   69.450000   \n",
       "2018-04-18 23:36:42+00:00                                   69.450489   \n",
       "\n",
       "                              t_last  action_heating  action_cooling  \n",
       "time                                                                  \n",
       "2018-04-18 23:16:42+00:00  69.483333               0               0  \n",
       "2018-04-18 23:21:42+00:00  69.483333               0               0  \n",
       "2018-04-18 23:26:42+00:00  69.500000               0               0  \n",
       "2018-04-18 23:31:42+00:00  69.500000               0               0  \n",
       "2018-04-18 23:36:42+00:00  69.500000               0               0  "
      ]
     },
     "execution_count": 15,
     "metadata": {},
     "output_type": "execute_result"
    }
   ],
   "source": [
    "no_action_data = training_data[training_data['action'] == 0]\n",
    "no_action_data.head()"
   ]
  },
  {
   "cell_type": "code",
   "execution_count": 16,
   "metadata": {},
   "outputs": [
    {
     "data": {
      "text/html": [
       "<div>\n",
       "<style scoped>\n",
       "    .dataframe tbody tr th:only-of-type {\n",
       "        vertical-align: middle;\n",
       "    }\n",
       "\n",
       "    .dataframe tbody tr th {\n",
       "        vertical-align: top;\n",
       "    }\n",
       "\n",
       "    .dataframe thead th {\n",
       "        text-align: right;\n",
       "    }\n",
       "</style>\n",
       "<table border=\"1\" class=\"dataframe\">\n",
       "  <thead>\n",
       "    <tr style=\"text-align: right;\">\n",
       "      <th></th>\n",
       "      <th>t_in</th>\n",
       "      <th>t_next</th>\n",
       "    </tr>\n",
       "    <tr>\n",
       "      <th>time</th>\n",
       "      <th></th>\n",
       "      <th></th>\n",
       "    </tr>\n",
       "  </thead>\n",
       "  <tbody>\n",
       "    <tr>\n",
       "      <th>2018-04-18 23:16:42+00:00</th>\n",
       "      <td>69.483333</td>\n",
       "      <td>69.5</td>\n",
       "    </tr>\n",
       "    <tr>\n",
       "      <th>2018-04-18 23:21:42+00:00</th>\n",
       "      <td>69.500000</td>\n",
       "      <td>69.5</td>\n",
       "    </tr>\n",
       "    <tr>\n",
       "      <th>2018-04-18 23:26:42+00:00</th>\n",
       "      <td>69.500000</td>\n",
       "      <td>69.5</td>\n",
       "    </tr>\n",
       "    <tr>\n",
       "      <th>2018-04-18 23:31:42+00:00</th>\n",
       "      <td>69.500000</td>\n",
       "      <td>69.4</td>\n",
       "    </tr>\n",
       "    <tr>\n",
       "      <th>2018-04-18 23:36:42+00:00</th>\n",
       "      <td>69.400000</td>\n",
       "      <td>69.5</td>\n",
       "    </tr>\n",
       "  </tbody>\n",
       "</table>\n",
       "</div>"
      ],
      "text/plain": [
       "                                t_in  t_next\n",
       "time                                        \n",
       "2018-04-18 23:16:42+00:00  69.483333    69.5\n",
       "2018-04-18 23:21:42+00:00  69.500000    69.5\n",
       "2018-04-18 23:26:42+00:00  69.500000    69.5\n",
       "2018-04-18 23:31:42+00:00  69.500000    69.4\n",
       "2018-04-18 23:36:42+00:00  69.400000    69.5"
      ]
     },
     "execution_count": 16,
     "metadata": {},
     "output_type": "execute_result"
    }
   ],
   "source": [
    "no_action_df = pd.DataFrame({'t_in': no_action_data['t_in'], 't_next': no_action_data['t_next']}) \n",
    "no_action_df.head()"
   ]
  },
  {
   "cell_type": "code",
   "execution_count": 17,
   "metadata": {},
   "outputs": [
    {
     "data": {
      "text/plain": [
       "<matplotlib.axes._subplots.AxesSubplot at 0x141affd0>"
      ]
     },
     "execution_count": 17,
     "metadata": {},
     "output_type": "execute_result"
    },
    {
     "data": {
      "image/png": "[encoded data removed]",
      "text/plain": [
       "<Figure size 432x288 with 1 Axes>"
      ]
     },
     "metadata": {
      "needs_background": "light"
     },
     "output_type": "display_data"
    }
   ],
   "source": [
    "no_action_df.plot()"
   ]
  },
  {
   "cell_type": "code",
   "execution_count": 18,
   "metadata": {},
   "outputs": [
    {
     "data": {
      "text/plain": [
       "[<matplotlib.lines.Line2D at 0x17925710>]"
      ]
     },
     "execution_count": 18,
     "metadata": {},
     "output_type": "execute_result"
    },
    {
     "data": {
      "image/png": "[encoded data removed]",
      "text/plain": [
       "<Figure size 432x288 with 1 Axes>"
      ]
     },
     "metadata": {
      "needs_background": "light"
     },
     "output_type": "display_data"
    }
   ],
   "source": [
    "plt.plot(no_action_data['t_in'],no_action_data['t_next'])"
   ]
  },
  {
   "cell_type": "code",
   "execution_count": 31,
   "metadata": {},
   "outputs": [
    {
     "data": {
      "text/plain": [
       "count    4.353200e+04\n",
       "mean     7.964418e-03\n",
       "std      1.063513e-01\n",
       "min     -1.200000e+00\n",
       "25%      0.000000e+00\n",
       "50%      0.000000e+00\n",
       "75%      1.421085e-14\n",
       "max      1.100000e+00\n",
       "dtype: float64"
      ]
     },
     "execution_count": 31,
     "metadata": {},
     "output_type": "execute_result"
    },
    {
     "data": {
      "image/png": "[encoded data removed]",
      "text/plain": [
       "<Figure size 432x288 with 1 Axes>"
      ]
     },
     "metadata": {
      "needs_background": "light"
     },
     "output_type": "display_data"
    }
   ],
   "source": [
    "diff = no_action_data['t_next'] - no_action_data['t_in']\n",
    "plt.plot(no_action_data['t_in'],diff)\n",
    "diff.describe()"
   ]
  },
  {
   "cell_type": "code",
   "execution_count": null,
   "metadata": {},
   "outputs": [],
   "source": []
  }
 ],
 "metadata": {
  "kernelspec": {
   "display_name": "Python 2",
   "language": "python",
   "name": "python2"
  },
  "language_info": {
   "codemirror_mode": {
    "name": "ipython",
    "version": 2
   },
   "file_extension": ".py",
   "mimetype": "text/x-python",
   "name": "python",
   "nbconvert_exporter": "python",
   "pygments_lexer": "ipython2",
   "version": "2.7.15"
  }
 },
 "nbformat": 4,
 "nbformat_minor": 2
}
