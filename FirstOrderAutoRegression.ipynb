{
 "cells": [
  {
   "cell_type": "code",
   "execution_count": 2,
   "metadata": {
    "collapsed": true
   },
   "outputs": [],
   "source": [
    "import pickle\n",
    "import datetime\n",
    "import numpy as np\n",
    "import matplotlib.pyplot as plt\n",
    "import pandas as pd\n",
    "from math import sqrt\n",
    "from sklearn.metrics import mean_squared_error"
   ]
  },
  {
   "cell_type": "code",
   "execution_count": 3,
   "metadata": {
    "collapsed": true
   },
   "outputs": [],
   "source": [
    "class ProcessingData:\n",
    "    \n",
    "    def __init__(self,filepath):\n",
    "        with open(filepath, 'rb') as f:\n",
    "            u = pickle._Unpickler(f)\n",
    "            u.encoding = 'latin1'\n",
    "            self.data = u.load()\n",
    "\n",
    "    def fix_data(self, interval):\n",
    "        \"\"\"Fixes up the data. Makes sure we count two stage as single stage actions, don't count float actions,\n",
    "        converts action duration and dt to floats, fill's nan's in action_duration and drops all datapoints which\n",
    "        don't have dt equal to interval.\n",
    "        :param data:\n",
    "        :param interval: float:minutes\"\"\"\n",
    "        def f(x):\n",
    "            if x == 0:\n",
    "                return 0\n",
    "            elif x == 2 or x == 5:\n",
    "                return 2\n",
    "            elif x ==1 or x == 3:\n",
    "                return 1\n",
    "\n",
    "        def h(x):\n",
    "            if x == 1:\n",
    "                return 1\n",
    "            else:\n",
    "                return 0\n",
    "\n",
    "        def c(x):\n",
    "            if x == 2:\n",
    "                return 1\n",
    "            else:\n",
    "                return 0\n",
    "\n",
    "        self.data[\"action\"] = self.data[\"action\"].map(f)\n",
    "        self.data['action_heating'] = self.data[\"action\"].map(h)\n",
    "        self.data['action_cooling'] = self.data['action'].map(c)\n",
    "\n",
    "        #print self.data.head()\n",
    "\n",
    "        return self.data, self.data[self.data[\"dt\"] == interval]\n",
    "    \n",
    "    def filter_data(self):\n",
    "        self.data = self.data.drop(['t_next', 'dt', 'action', 'previous_action', 'action_duration', \\\n",
    "                                    'zone_temperatureHVAC_Zone_Shelter_Corridor'], axis=1)\n",
    "        return self.data\n",
    "    \n",
    "    def drop_nan(self):\n",
    "        self.data = self.data.dropna()\n",
    "        return self.data\n"
   ]
  },
  {
   "cell_type": "code",
   "execution_count": 4,
   "metadata": {},
   "outputs": [
    {
     "data": {
      "text/html": [
       "<div>\n",
       "<style>\n",
       "    .dataframe thead tr:only-child th {\n",
       "        text-align: right;\n",
       "    }\n",
       "\n",
       "    .dataframe thead th {\n",
       "        text-align: left;\n",
       "    }\n",
       "\n",
       "    .dataframe tbody tr th {\n",
       "        vertical-align: top;\n",
       "    }\n",
       "</style>\n",
       "<table border=\"1\" class=\"dataframe\">\n",
       "  <thead>\n",
       "    <tr style=\"text-align: right;\">\n",
       "      <th></th>\n",
       "      <th>t_in</th>\n",
       "      <th>t_out</th>\n",
       "      <th>occ</th>\n",
       "      <th>action_heating</th>\n",
       "      <th>action_cooling</th>\n",
       "    </tr>\n",
       "    <tr>\n",
       "      <th>time</th>\n",
       "      <th></th>\n",
       "      <th></th>\n",
       "      <th></th>\n",
       "      <th></th>\n",
       "      <th></th>\n",
       "    </tr>\n",
       "  </thead>\n",
       "  <tbody>\n",
       "    <tr>\n",
       "      <th>2018-04-18 23:16:42+00:00</th>\n",
       "      <td>69.483333</td>\n",
       "      <td>66.499700</td>\n",
       "      <td>0.0</td>\n",
       "      <td>0</td>\n",
       "      <td>0</td>\n",
       "    </tr>\n",
       "    <tr>\n",
       "      <th>2018-04-18 23:21:42+00:00</th>\n",
       "      <td>69.500000</td>\n",
       "      <td>66.499700</td>\n",
       "      <td>0.0</td>\n",
       "      <td>0</td>\n",
       "      <td>0</td>\n",
       "    </tr>\n",
       "    <tr>\n",
       "      <th>2018-04-18 23:26:42+00:00</th>\n",
       "      <td>69.500000</td>\n",
       "      <td>66.520546</td>\n",
       "      <td>0.0</td>\n",
       "      <td>0</td>\n",
       "      <td>0</td>\n",
       "    </tr>\n",
       "    <tr>\n",
       "      <th>2018-04-18 23:31:42+00:00</th>\n",
       "      <td>69.500000</td>\n",
       "      <td>66.583083</td>\n",
       "      <td>0.0</td>\n",
       "      <td>0</td>\n",
       "      <td>0</td>\n",
       "    </tr>\n",
       "    <tr>\n",
       "      <th>2018-04-18 23:36:42+00:00</th>\n",
       "      <td>69.400000</td>\n",
       "      <td>66.666466</td>\n",
       "      <td>0.0</td>\n",
       "      <td>0</td>\n",
       "      <td>0</td>\n",
       "    </tr>\n",
       "  </tbody>\n",
       "</table>\n",
       "</div>"
      ],
      "text/plain": [
       "                                t_in      t_out  occ  action_heating  \\\n",
       "time                                                                   \n",
       "2018-04-18 23:16:42+00:00  69.483333  66.499700  0.0               0   \n",
       "2018-04-18 23:21:42+00:00  69.500000  66.499700  0.0               0   \n",
       "2018-04-18 23:26:42+00:00  69.500000  66.520546  0.0               0   \n",
       "2018-04-18 23:31:42+00:00  69.500000  66.583083  0.0               0   \n",
       "2018-04-18 23:36:42+00:00  69.400000  66.666466  0.0               0   \n",
       "\n",
       "                           action_cooling  \n",
       "time                                       \n",
       "2018-04-18 23:16:42+00:00               0  \n",
       "2018-04-18 23:21:42+00:00               0  \n",
       "2018-04-18 23:26:42+00:00               0  \n",
       "2018-04-18 23:31:42+00:00               0  \n",
       "2018-04-18 23:36:42+00:00               0  "
      ]
     },
     "execution_count": 4,
     "metadata": {},
     "output_type": "execute_result"
    }
   ],
   "source": [
    "training = ProcessingData(\"../Data/avenal-animal-shelter_training_data.pkl\")\n",
    "training_data = training.fix_data(5)\n",
    "training_data = training.filter_data()\n",
    "training_data = training.drop_nan()\n",
    "training_data.head()"
   ]
  },
  {
   "cell_type": "code",
   "execution_count": 5,
   "metadata": {},
   "outputs": [
    {
     "data": {
      "text/html": [
       "<div>\n",
       "<style>\n",
       "    .dataframe thead tr:only-child th {\n",
       "        text-align: right;\n",
       "    }\n",
       "\n",
       "    .dataframe thead th {\n",
       "        text-align: left;\n",
       "    }\n",
       "\n",
       "    .dataframe tbody tr th {\n",
       "        vertical-align: top;\n",
       "    }\n",
       "</style>\n",
       "<table border=\"1\" class=\"dataframe\">\n",
       "  <thead>\n",
       "    <tr style=\"text-align: right;\">\n",
       "      <th></th>\n",
       "      <th>t_in</th>\n",
       "      <th>t_out</th>\n",
       "      <th>occ</th>\n",
       "      <th>action_heating</th>\n",
       "      <th>action_cooling</th>\n",
       "    </tr>\n",
       "    <tr>\n",
       "      <th>time</th>\n",
       "      <th></th>\n",
       "      <th></th>\n",
       "      <th></th>\n",
       "      <th></th>\n",
       "      <th></th>\n",
       "    </tr>\n",
       "  </thead>\n",
       "  <tbody>\n",
       "    <tr>\n",
       "      <th>2018-03-20 00:00:00+00:00</th>\n",
       "      <td>72.8</td>\n",
       "      <td>67.778613</td>\n",
       "      <td>0.0</td>\n",
       "      <td>0</td>\n",
       "      <td>0</td>\n",
       "    </tr>\n",
       "    <tr>\n",
       "      <th>2018-03-20 00:05:00+00:00</th>\n",
       "      <td>72.8</td>\n",
       "      <td>67.807436</td>\n",
       "      <td>0.0</td>\n",
       "      <td>0</td>\n",
       "      <td>0</td>\n",
       "    </tr>\n",
       "    <tr>\n",
       "      <th>2018-03-20 00:10:00+00:00</th>\n",
       "      <td>73.0</td>\n",
       "      <td>67.835998</td>\n",
       "      <td>0.0</td>\n",
       "      <td>0</td>\n",
       "      <td>0</td>\n",
       "    </tr>\n",
       "    <tr>\n",
       "      <th>2018-03-20 00:15:00+00:00</th>\n",
       "      <td>73.0</td>\n",
       "      <td>67.864038</td>\n",
       "      <td>0.0</td>\n",
       "      <td>0</td>\n",
       "      <td>0</td>\n",
       "    </tr>\n",
       "    <tr>\n",
       "      <th>2018-03-20 00:20:00+00:00</th>\n",
       "      <td>73.0</td>\n",
       "      <td>67.891817</td>\n",
       "      <td>0.0</td>\n",
       "      <td>0</td>\n",
       "      <td>0</td>\n",
       "    </tr>\n",
       "  </tbody>\n",
       "</table>\n",
       "</div>"
      ],
      "text/plain": [
       "                           t_in      t_out  occ  action_heating  \\\n",
       "time                                                              \n",
       "2018-03-20 00:00:00+00:00  72.8  67.778613  0.0               0   \n",
       "2018-03-20 00:05:00+00:00  72.8  67.807436  0.0               0   \n",
       "2018-03-20 00:10:00+00:00  73.0  67.835998  0.0               0   \n",
       "2018-03-20 00:15:00+00:00  73.0  67.864038  0.0               0   \n",
       "2018-03-20 00:20:00+00:00  73.0  67.891817  0.0               0   \n",
       "\n",
       "                           action_cooling  \n",
       "time                                       \n",
       "2018-03-20 00:00:00+00:00               0  \n",
       "2018-03-20 00:05:00+00:00               0  \n",
       "2018-03-20 00:10:00+00:00               0  \n",
       "2018-03-20 00:15:00+00:00               0  \n",
       "2018-03-20 00:20:00+00:00               0  "
      ]
     },
     "execution_count": 5,
     "metadata": {},
     "output_type": "execute_result"
    }
   ],
   "source": [
    "testing = ProcessingData(\"../Data/avenal-animal-shelter_test_data.pkl\")\n",
    "testing_data = testing.fix_data(5)\n",
    "testing_data = testing.filter_data()\n",
    "testing_data = testing.drop_nan()\n",
    "testing_data.head()"
   ]
  },
  {
   "cell_type": "code",
   "execution_count": 6,
   "metadata": {
    "collapsed": true
   },
   "outputs": [],
   "source": [
    "def scaling(data):\n",
    "    scaled = np.empty([data.shape[0], data.shape[1]])\n",
    "    maxValues = []\n",
    "    numSamples = data.shape[0]\n",
    "    numFeatures = data.shape[1]\n",
    "    dataValues = data.values\n",
    "    dataValues = dataValues.astype('float32')\n",
    "    for i in range(numFeatures):\n",
    "        maxNum = max(dataValues[:,i])\n",
    "        maxValues.append(maxNum)\n",
    "        for j in range(numSamples):\n",
    "            scaled[j,i] = dataValues[j,i]/maxNum\n",
    "    return scaled, maxValues"
   ]
  },
  {
   "cell_type": "code",
   "execution_count": 7,
   "metadata": {},
   "outputs": [
    {
     "name": "stdout",
     "output_type": "stream",
     "text": [
      "Max Values: [81.099998, 104.0, 1.0, 1.0, 1.0]\n",
      "[[ 0.85676116  0.63942021  0.          0.          0.        ]\n",
      " [ 0.85696673  0.63942021  0.          0.          0.        ]\n",
      " [ 0.85696673  0.63962066  0.          0.          0.        ]\n",
      " ..., \n",
      " [ 0.85080147  0.74038088  0.          0.          0.        ]\n",
      " [ 0.85573369  0.74038088  0.          0.          0.        ]\n",
      " [ 0.85819978  0.74038088  0.          0.          0.        ]]\n"
     ]
    }
   ],
   "source": [
    "train_scaled, maxValues = scaling(training_data)\n",
    "print(\"Max Values:\", maxValues)\n",
    "print(train_scaled)"
   ]
  },
  {
   "cell_type": "code",
   "execution_count": 8,
   "metadata": {
    "collapsed": true
   },
   "outputs": [],
   "source": [
    "def series_to_supervised(data, n_in=1, n_out=1, dropnan=True):\n",
    "    \"\"\"\n",
    "    Frame a time series as a supervised learning dataset.\n",
    "    Arguments:\n",
    "    data: Sequence of observations as a list or NumPy array.\n",
    "    n_in: Number of lag observations as input (X).\n",
    "    n_out: Number of observations as output (y).\n",
    "    dropnan: Boolean whether or not to drop rows with NaN values.\n",
    "    Returns:\n",
    "    Pandas DataFrame of series framed for supervised learning.\n",
    "    \"\"\"\n",
    "    n_vars = 1 if type(data) is list else data.shape[1]\n",
    "    df = pd.DataFrame(data)\n",
    "    cols, names = list(), list()\n",
    "    # input sequence (t-n, ... t-1)\n",
    "    for i in range(n_in, 0, -1):\n",
    "        cols.append(df.shift(i))\n",
    "        names += [('var%d(t-%d)' % (j+1, i)) for j in range(n_vars)]\n",
    "    # forecast sequence (t, t+1, ... t+n)\n",
    "    for i in range(0, n_out):\n",
    "        cols.append(df.shift(-i))\n",
    "        if i == 0:\n",
    "            names += [('var%d(t)' % (j+1)) for j in range(n_vars)]\n",
    "        else:\n",
    "            names += [('var%d(t+%d)' % (j+1, i)) for j in range(n_vars)]\n",
    "    # put it all together\n",
    "    agg = pd.concat(cols, axis=1)\n",
    "    agg.columns = names\n",
    "    # drop rows with NaN values\n",
    "    if dropnan:\n",
    "        agg.dropna(inplace=True)\n",
    "    return agg"
   ]
  },
  {
   "cell_type": "code",
   "execution_count": 9,
   "metadata": {
    "scrolled": true
   },
   "outputs": [
    {
     "data": {
      "text/html": [
       "<div>\n",
       "<style>\n",
       "    .dataframe thead tr:only-child th {\n",
       "        text-align: right;\n",
       "    }\n",
       "\n",
       "    .dataframe thead th {\n",
       "        text-align: left;\n",
       "    }\n",
       "\n",
       "    .dataframe tbody tr th {\n",
       "        vertical-align: top;\n",
       "    }\n",
       "</style>\n",
       "<table border=\"1\" class=\"dataframe\">\n",
       "  <thead>\n",
       "    <tr style=\"text-align: right;\">\n",
       "      <th></th>\n",
       "      <th>var1(t-1)</th>\n",
       "      <th>var2(t-1)</th>\n",
       "      <th>var3(t-1)</th>\n",
       "      <th>var4(t-1)</th>\n",
       "      <th>var5(t-1)</th>\n",
       "      <th>var1(t)</th>\n",
       "      <th>var2(t)</th>\n",
       "      <th>var3(t)</th>\n",
       "      <th>var4(t)</th>\n",
       "      <th>var5(t)</th>\n",
       "    </tr>\n",
       "  </thead>\n",
       "  <tbody>\n",
       "    <tr>\n",
       "      <th>1</th>\n",
       "      <td>0.856761</td>\n",
       "      <td>0.639420</td>\n",
       "      <td>0.0</td>\n",
       "      <td>0.0</td>\n",
       "      <td>0.0</td>\n",
       "      <td>0.856967</td>\n",
       "      <td>0.639420</td>\n",
       "      <td>0.0</td>\n",
       "      <td>0.0</td>\n",
       "      <td>0.0</td>\n",
       "    </tr>\n",
       "    <tr>\n",
       "      <th>2</th>\n",
       "      <td>0.856967</td>\n",
       "      <td>0.639420</td>\n",
       "      <td>0.0</td>\n",
       "      <td>0.0</td>\n",
       "      <td>0.0</td>\n",
       "      <td>0.856967</td>\n",
       "      <td>0.639621</td>\n",
       "      <td>0.0</td>\n",
       "      <td>0.0</td>\n",
       "      <td>0.0</td>\n",
       "    </tr>\n",
       "    <tr>\n",
       "      <th>3</th>\n",
       "      <td>0.856967</td>\n",
       "      <td>0.639621</td>\n",
       "      <td>0.0</td>\n",
       "      <td>0.0</td>\n",
       "      <td>0.0</td>\n",
       "      <td>0.856967</td>\n",
       "      <td>0.640222</td>\n",
       "      <td>0.0</td>\n",
       "      <td>0.0</td>\n",
       "      <td>0.0</td>\n",
       "    </tr>\n",
       "    <tr>\n",
       "      <th>4</th>\n",
       "      <td>0.856967</td>\n",
       "      <td>0.640222</td>\n",
       "      <td>0.0</td>\n",
       "      <td>0.0</td>\n",
       "      <td>0.0</td>\n",
       "      <td>0.855734</td>\n",
       "      <td>0.641024</td>\n",
       "      <td>0.0</td>\n",
       "      <td>0.0</td>\n",
       "      <td>0.0</td>\n",
       "    </tr>\n",
       "    <tr>\n",
       "      <th>5</th>\n",
       "      <td>0.855734</td>\n",
       "      <td>0.641024</td>\n",
       "      <td>0.0</td>\n",
       "      <td>0.0</td>\n",
       "      <td>0.0</td>\n",
       "      <td>0.856967</td>\n",
       "      <td>0.641625</td>\n",
       "      <td>0.0</td>\n",
       "      <td>0.0</td>\n",
       "      <td>0.0</td>\n",
       "    </tr>\n",
       "  </tbody>\n",
       "</table>\n",
       "</div>"
      ],
      "text/plain": [
       "   var1(t-1)  var2(t-1)  var3(t-1)  var4(t-1)  var5(t-1)   var1(t)   var2(t)  \\\n",
       "1   0.856761   0.639420        0.0        0.0        0.0  0.856967  0.639420   \n",
       "2   0.856967   0.639420        0.0        0.0        0.0  0.856967  0.639621   \n",
       "3   0.856967   0.639621        0.0        0.0        0.0  0.856967  0.640222   \n",
       "4   0.856967   0.640222        0.0        0.0        0.0  0.855734  0.641024   \n",
       "5   0.855734   0.641024        0.0        0.0        0.0  0.856967  0.641625   \n",
       "\n",
       "   var3(t)  var4(t)  var5(t)  \n",
       "1      0.0      0.0      0.0  \n",
       "2      0.0      0.0      0.0  \n",
       "3      0.0      0.0      0.0  \n",
       "4      0.0      0.0      0.0  \n",
       "5      0.0      0.0      0.0  "
      ]
     },
     "execution_count": 9,
     "metadata": {},
     "output_type": "execute_result"
    }
   ],
   "source": [
    "train_reframed = series_to_supervised(train_scaled, 1, 1)\n",
    "train_reframed.head()"
   ]
  },
  {
   "cell_type": "code",
   "execution_count": 10,
   "metadata": {},
   "outputs": [
    {
     "data": {
      "text/html": [
       "<div>\n",
       "<style>\n",
       "    .dataframe thead tr:only-child th {\n",
       "        text-align: right;\n",
       "    }\n",
       "\n",
       "    .dataframe thead th {\n",
       "        text-align: left;\n",
       "    }\n",
       "\n",
       "    .dataframe tbody tr th {\n",
       "        vertical-align: top;\n",
       "    }\n",
       "</style>\n",
       "<table border=\"1\" class=\"dataframe\">\n",
       "  <thead>\n",
       "    <tr style=\"text-align: right;\">\n",
       "      <th></th>\n",
       "      <th>var1(t-1)</th>\n",
       "      <th>var2(t-1)</th>\n",
       "      <th>var3(t-1)</th>\n",
       "      <th>var4(t-1)</th>\n",
       "      <th>var5(t-1)</th>\n",
       "      <th>var1(t)</th>\n",
       "    </tr>\n",
       "  </thead>\n",
       "  <tbody>\n",
       "    <tr>\n",
       "      <th>1</th>\n",
       "      <td>0.856761</td>\n",
       "      <td>0.639420</td>\n",
       "      <td>0.0</td>\n",
       "      <td>0.0</td>\n",
       "      <td>0.0</td>\n",
       "      <td>0.856967</td>\n",
       "    </tr>\n",
       "    <tr>\n",
       "      <th>2</th>\n",
       "      <td>0.856967</td>\n",
       "      <td>0.639420</td>\n",
       "      <td>0.0</td>\n",
       "      <td>0.0</td>\n",
       "      <td>0.0</td>\n",
       "      <td>0.856967</td>\n",
       "    </tr>\n",
       "    <tr>\n",
       "      <th>3</th>\n",
       "      <td>0.856967</td>\n",
       "      <td>0.639621</td>\n",
       "      <td>0.0</td>\n",
       "      <td>0.0</td>\n",
       "      <td>0.0</td>\n",
       "      <td>0.856967</td>\n",
       "    </tr>\n",
       "    <tr>\n",
       "      <th>4</th>\n",
       "      <td>0.856967</td>\n",
       "      <td>0.640222</td>\n",
       "      <td>0.0</td>\n",
       "      <td>0.0</td>\n",
       "      <td>0.0</td>\n",
       "      <td>0.855734</td>\n",
       "    </tr>\n",
       "    <tr>\n",
       "      <th>5</th>\n",
       "      <td>0.855734</td>\n",
       "      <td>0.641024</td>\n",
       "      <td>0.0</td>\n",
       "      <td>0.0</td>\n",
       "      <td>0.0</td>\n",
       "      <td>0.856967</td>\n",
       "    </tr>\n",
       "  </tbody>\n",
       "</table>\n",
       "</div>"
      ],
      "text/plain": [
       "   var1(t-1)  var2(t-1)  var3(t-1)  var4(t-1)  var5(t-1)   var1(t)\n",
       "1   0.856761   0.639420        0.0        0.0        0.0  0.856967\n",
       "2   0.856967   0.639420        0.0        0.0        0.0  0.856967\n",
       "3   0.856967   0.639621        0.0        0.0        0.0  0.856967\n",
       "4   0.856967   0.640222        0.0        0.0        0.0  0.855734\n",
       "5   0.855734   0.641024        0.0        0.0        0.0  0.856967"
      ]
     },
     "execution_count": 10,
     "metadata": {},
     "output_type": "execute_result"
    }
   ],
   "source": [
    "train_reframed.drop(train_reframed.columns[-4:], axis=1, inplace=True)\n",
    "train_reframed.head()"
   ]
  },
  {
   "cell_type": "code",
   "execution_count": 11,
   "metadata": {},
   "outputs": [
    {
     "data": {
      "text/html": [
       "<div>\n",
       "<style>\n",
       "    .dataframe thead tr:only-child th {\n",
       "        text-align: right;\n",
       "    }\n",
       "\n",
       "    .dataframe thead th {\n",
       "        text-align: left;\n",
       "    }\n",
       "\n",
       "    .dataframe tbody tr th {\n",
       "        vertical-align: top;\n",
       "    }\n",
       "</style>\n",
       "<table border=\"1\" class=\"dataframe\">\n",
       "  <thead>\n",
       "    <tr style=\"text-align: right;\">\n",
       "      <th></th>\n",
       "      <th>var1(t-1)</th>\n",
       "      <th>var2(t-1)</th>\n",
       "      <th>var3(t-1)</th>\n",
       "      <th>var4(t-1)</th>\n",
       "      <th>var5(t-1)</th>\n",
       "      <th>var1(t)</th>\n",
       "    </tr>\n",
       "  </thead>\n",
       "  <tbody>\n",
       "    <tr>\n",
       "      <th>1</th>\n",
       "      <td>0.941785</td>\n",
       "      <td>0.747789</td>\n",
       "      <td>0.0</td>\n",
       "      <td>0.0</td>\n",
       "      <td>0.0</td>\n",
       "      <td>0.941785</td>\n",
       "    </tr>\n",
       "    <tr>\n",
       "      <th>2</th>\n",
       "      <td>0.941785</td>\n",
       "      <td>0.748107</td>\n",
       "      <td>0.0</td>\n",
       "      <td>0.0</td>\n",
       "      <td>0.0</td>\n",
       "      <td>0.944373</td>\n",
       "    </tr>\n",
       "    <tr>\n",
       "      <th>3</th>\n",
       "      <td>0.944373</td>\n",
       "      <td>0.748422</td>\n",
       "      <td>0.0</td>\n",
       "      <td>0.0</td>\n",
       "      <td>0.0</td>\n",
       "      <td>0.944373</td>\n",
       "    </tr>\n",
       "    <tr>\n",
       "      <th>4</th>\n",
       "      <td>0.944373</td>\n",
       "      <td>0.748731</td>\n",
       "      <td>0.0</td>\n",
       "      <td>0.0</td>\n",
       "      <td>0.0</td>\n",
       "      <td>0.944373</td>\n",
       "    </tr>\n",
       "    <tr>\n",
       "      <th>5</th>\n",
       "      <td>0.944373</td>\n",
       "      <td>0.749038</td>\n",
       "      <td>0.0</td>\n",
       "      <td>0.0</td>\n",
       "      <td>0.0</td>\n",
       "      <td>0.944373</td>\n",
       "    </tr>\n",
       "  </tbody>\n",
       "</table>\n",
       "</div>"
      ],
      "text/plain": [
       "   var1(t-1)  var2(t-1)  var3(t-1)  var4(t-1)  var5(t-1)   var1(t)\n",
       "1   0.941785   0.747789        0.0        0.0        0.0  0.941785\n",
       "2   0.941785   0.748107        0.0        0.0        0.0  0.944373\n",
       "3   0.944373   0.748422        0.0        0.0        0.0  0.944373\n",
       "4   0.944373   0.748731        0.0        0.0        0.0  0.944373\n",
       "5   0.944373   0.749038        0.0        0.0        0.0  0.944373"
      ]
     },
     "execution_count": 11,
     "metadata": {},
     "output_type": "execute_result"
    }
   ],
   "source": [
    "test_scaled, test_maxValues = scaling(testing_data)\n",
    "test_reframed = series_to_supervised(test_scaled, 1, 1)\n",
    "test_reframed.drop(test_reframed.columns[-4:], axis=1, inplace=True)\n",
    "test_reframed.head()"
   ]
  },
  {
   "cell_type": "code",
   "execution_count": 12,
   "metadata": {
    "collapsed": true
   },
   "outputs": [],
   "source": [
    "# split into input and outputs\n",
    "train = train_reframed.values\n",
    "test = test_reframed.values\n",
    "train_X, train_y = train[:, :-1], train[:, -1]\n",
    "test_X, test_y = test[:, :-1], test[:, -1]"
   ]
  },
  {
   "cell_type": "code",
   "execution_count": 13,
   "metadata": {},
   "outputs": [
    {
     "data": {
      "text/plain": [
       "array([[ 0.85676116,  0.63942021,  0.        ,  0.        ,  0.        ],\n",
       "       [ 0.85696673,  0.63942021,  0.        ,  0.        ,  0.        ],\n",
       "       [ 0.85696673,  0.63962066,  0.        ,  0.        ,  0.        ],\n",
       "       ..., \n",
       "       [ 0.84956849,  0.74038088,  0.66000003,  0.        ,  0.        ],\n",
       "       [ 0.85080147,  0.74038088,  0.        ,  0.        ,  0.        ],\n",
       "       [ 0.85573369,  0.74038088,  0.        ,  0.        ,  0.        ]])"
      ]
     },
     "execution_count": 13,
     "metadata": {},
     "output_type": "execute_result"
    }
   ],
   "source": [
    "train_X"
   ]
  },
  {
   "cell_type": "code",
   "execution_count": 14,
   "metadata": {
    "collapsed": true
   },
   "outputs": [],
   "source": [
    "def invert_scaling(data, maxNum):\n",
    "    inv = np.array([])\n",
    "    for i in data:\n",
    "        inv = np.append(inv, i*maxNum)\n",
    "    return inv"
   ]
  },
  {
   "cell_type": "code",
   "execution_count": 15,
   "metadata": {},
   "outputs": [
    {
     "data": {
      "text/plain": [
       "array([ 0.94160204,  0.94160332,  0.9441699 , ...,  0.93607169,\n",
       "        0.93607277,  0.93735546])"
      ]
     },
     "execution_count": 15,
     "metadata": {},
     "output_type": "execute_result"
    }
   ],
   "source": [
    "from sklearn.linear_model import LinearRegression\n",
    "\n",
    "linearModel = LinearRegression().fit(train_X, train_y)\n",
    "test_pred = linearModel.predict(test_X)\n",
    "test_pred"
   ]
  },
  {
   "cell_type": "code",
   "execution_count": 16,
   "metadata": {},
   "outputs": [
    {
     "data": {
      "text/plain": [
       "77.299999999999997"
      ]
     },
     "execution_count": 16,
     "metadata": {},
     "output_type": "execute_result"
    }
   ],
   "source": [
    "maxT_in = max(testing_data['t_in'])\n",
    "maxT_in"
   ]
  },
  {
   "cell_type": "code",
   "execution_count": 17,
   "metadata": {},
   "outputs": [
    {
     "data": {
      "text/plain": [
       "array([ 0.94178528,  0.94437253,  0.94437253, ...,  0.93531692,\n",
       "        0.93661058,  0.93790424])"
      ]
     },
     "execution_count": 17,
     "metadata": {},
     "output_type": "execute_result"
    }
   ],
   "source": [
    "test_y"
   ]
  },
  {
   "cell_type": "code",
   "execution_count": 18,
   "metadata": {},
   "outputs": [
    {
     "name": "stdout",
     "output_type": "stream",
     "text": [
      "[ 72.80000183  72.99999694  72.99999694 ...,  72.29999794  72.39999779\n",
      "  72.49999765]\n"
     ]
    }
   ],
   "source": [
    "inv_y = invert_scaling(test_y, maxT_in)\n",
    "print(inv_y)"
   ]
  },
  {
   "cell_type": "code",
   "execution_count": 19,
   "metadata": {},
   "outputs": [
    {
     "data": {
      "text/html": [
       "<div>\n",
       "<style>\n",
       "    .dataframe thead tr:only-child th {\n",
       "        text-align: right;\n",
       "    }\n",
       "\n",
       "    .dataframe thead th {\n",
       "        text-align: left;\n",
       "    }\n",
       "\n",
       "    .dataframe tbody tr th {\n",
       "        vertical-align: top;\n",
       "    }\n",
       "</style>\n",
       "<table border=\"1\" class=\"dataframe\">\n",
       "  <thead>\n",
       "    <tr style=\"text-align: right;\">\n",
       "      <th></th>\n",
       "      <th>t_in</th>\n",
       "      <th>t_out</th>\n",
       "      <th>occ</th>\n",
       "      <th>action_heating</th>\n",
       "      <th>action_cooling</th>\n",
       "    </tr>\n",
       "    <tr>\n",
       "      <th>time</th>\n",
       "      <th></th>\n",
       "      <th></th>\n",
       "      <th></th>\n",
       "      <th></th>\n",
       "      <th></th>\n",
       "    </tr>\n",
       "  </thead>\n",
       "  <tbody>\n",
       "    <tr>\n",
       "      <th>2018-03-20 00:00:00+00:00</th>\n",
       "      <td>72.8</td>\n",
       "      <td>67.778613</td>\n",
       "      <td>0.0</td>\n",
       "      <td>0</td>\n",
       "      <td>0</td>\n",
       "    </tr>\n",
       "    <tr>\n",
       "      <th>2018-03-20 00:05:00+00:00</th>\n",
       "      <td>72.8</td>\n",
       "      <td>67.807436</td>\n",
       "      <td>0.0</td>\n",
       "      <td>0</td>\n",
       "      <td>0</td>\n",
       "    </tr>\n",
       "    <tr>\n",
       "      <th>2018-03-20 00:10:00+00:00</th>\n",
       "      <td>73.0</td>\n",
       "      <td>67.835998</td>\n",
       "      <td>0.0</td>\n",
       "      <td>0</td>\n",
       "      <td>0</td>\n",
       "    </tr>\n",
       "    <tr>\n",
       "      <th>2018-03-20 00:15:00+00:00</th>\n",
       "      <td>73.0</td>\n",
       "      <td>67.864038</td>\n",
       "      <td>0.0</td>\n",
       "      <td>0</td>\n",
       "      <td>0</td>\n",
       "    </tr>\n",
       "    <tr>\n",
       "      <th>2018-03-20 00:20:00+00:00</th>\n",
       "      <td>73.0</td>\n",
       "      <td>67.891817</td>\n",
       "      <td>0.0</td>\n",
       "      <td>0</td>\n",
       "      <td>0</td>\n",
       "    </tr>\n",
       "  </tbody>\n",
       "</table>\n",
       "</div>"
      ],
      "text/plain": [
       "                           t_in      t_out  occ  action_heating  \\\n",
       "time                                                              \n",
       "2018-03-20 00:00:00+00:00  72.8  67.778613  0.0               0   \n",
       "2018-03-20 00:05:00+00:00  72.8  67.807436  0.0               0   \n",
       "2018-03-20 00:10:00+00:00  73.0  67.835998  0.0               0   \n",
       "2018-03-20 00:15:00+00:00  73.0  67.864038  0.0               0   \n",
       "2018-03-20 00:20:00+00:00  73.0  67.891817  0.0               0   \n",
       "\n",
       "                           action_cooling  \n",
       "time                                       \n",
       "2018-03-20 00:00:00+00:00               0  \n",
       "2018-03-20 00:05:00+00:00               0  \n",
       "2018-03-20 00:10:00+00:00               0  \n",
       "2018-03-20 00:15:00+00:00               0  \n",
       "2018-03-20 00:20:00+00:00               0  "
      ]
     },
     "execution_count": 19,
     "metadata": {},
     "output_type": "execute_result"
    }
   ],
   "source": [
    "testing_data.head()"
   ]
  },
  {
   "cell_type": "code",
   "execution_count": 20,
   "metadata": {},
   "outputs": [
    {
     "name": "stdout",
     "output_type": "stream",
     "text": [
      "[ 72.78583794  72.78593637  72.98433361 ...,  72.35834146  72.35842478\n",
      "  72.4575769 ]\n"
     ]
    }
   ],
   "source": [
    "inv_pred = invert_scaling(test_pred, maxT_in)\n",
    "print(inv_pred)"
   ]
  },
  {
   "cell_type": "code",
   "execution_count": 21,
   "metadata": {},
   "outputs": [
    {
     "data": {
      "text/plain": [
       "0.8632400249480561"
      ]
     },
     "execution_count": 21,
     "metadata": {},
     "output_type": "execute_result"
    }
   ],
   "source": [
    "rmse = sqrt(mean_squared_error(inv_y, inv_pred))\n",
    "rmse"
   ]
  },
  {
   "cell_type": "code",
   "execution_count": 22,
   "metadata": {},
   "outputs": [
    {
     "data": {
      "text/plain": [
       "array([[ 0.94178528,  0.74778891,  0.        ,  0.        ,  0.        ],\n",
       "       [ 0.94178528,  0.7481069 ,  0.        ,  0.        ,  0.        ],\n",
       "       [ 0.94437253,  0.74842209,  0.        ,  0.        ,  0.        ],\n",
       "       ..., \n",
       "       [ 0.93531692,  0.96833682,  0.        ,  0.        ,  0.        ],\n",
       "       [ 0.93531692,  0.968606  ,  0.        ,  0.        ,  0.        ],\n",
       "       [ 0.93661058,  0.968606  ,  0.        ,  0.        ,  0.        ]])"
      ]
     },
     "execution_count": 22,
     "metadata": {},
     "output_type": "execute_result"
    }
   ],
   "source": [
    "test_X"
   ]
  },
  {
   "cell_type": "code",
   "execution_count": 53,
   "metadata": {
    "collapsed": true
   },
   "outputs": [],
   "source": [
    "def autoRegression(subtest_X, t, maxT_in):\n",
    "    t = int(t/5)\n",
    "    pred = []\n",
    "    t_next = subtest_X[0].shift(-t).dropna()\n",
    "    t_next = invert_scaling(t_next, maxT_in)\n",
    "    for i in range(subtest_X.shape[0]):\n",
    "        input_x = subtest_X.iloc[i]\n",
    "        pred5 = linearModel.predict([input_x])\n",
    "        j=1\n",
    "        while j<t:\n",
    "            input_x[0] = pred5[0]\n",
    "            pred5 = linearModel.predict([input_x])\n",
    "            j = j+1\n",
    "        pred.append(pred5[0]*maxT_in)\n",
    "    #print(pred)\n",
    "    rmse = sqrt(mean_squared_error(t_next, pred[:-t]))\n",
    "    return rmse"
   ]
  },
  {
   "cell_type": "code",
   "execution_count": 54,
   "metadata": {},
   "outputs": [
    {
     "data": {
      "text/plain": [
       "0.8633895100097012"
      ]
     },
     "execution_count": 54,
     "metadata": {},
     "output_type": "execute_result"
    }
   ],
   "source": [
    "test_X = pd.DataFrame(test_X)\n",
    "subtest_X = test_X.head(20)\n",
    "autoRegression(test_X, 5, maxT_in)\n",
    "#subtest_X[0]"
   ]
  },
  {
   "cell_type": "code",
   "execution_count": 38,
   "metadata": {},
   "outputs": [
    {
     "data": {
      "text/plain": [
       "array([ 72.93813585,  72.93851396,  72.93888865,  72.93852919,\n",
       "        72.93670154,  72.93413989,  73.02903901,  73.02890457,\n",
       "        73.02957917,  73.02952343,  73.02800692,  73.12240747,\n",
       "        73.02435882,  73.12129581,  73.12243101,  73.12290209,\n",
       "        73.12204496,  73.12052363])"
      ]
     },
     "execution_count": 38,
     "metadata": {},
     "output_type": "execute_result"
    }
   ],
   "source": [
    "t_next = subtest_X[0].shift(-2).dropna()\n",
    "invert_scaling(t_next, maxT_in)"
   ]
  },
  {
   "cell_type": "code",
   "execution_count": 46,
   "metadata": {},
   "outputs": [
    {
     "data": {
      "text/html": [
       "<div>\n",
       "<style>\n",
       "    .dataframe thead tr:only-child th {\n",
       "        text-align: right;\n",
       "    }\n",
       "\n",
       "    .dataframe thead th {\n",
       "        text-align: left;\n",
       "    }\n",
       "\n",
       "    .dataframe tbody tr th {\n",
       "        vertical-align: top;\n",
       "    }\n",
       "</style>\n",
       "<table border=\"1\" class=\"dataframe\">\n",
       "  <thead>\n",
       "    <tr style=\"text-align: right;\">\n",
       "      <th></th>\n",
       "      <th>t_in</th>\n",
       "      <th>t_out</th>\n",
       "      <th>occ</th>\n",
       "      <th>action_heating</th>\n",
       "      <th>action_cooling</th>\n",
       "    </tr>\n",
       "    <tr>\n",
       "      <th>time</th>\n",
       "      <th></th>\n",
       "      <th></th>\n",
       "      <th></th>\n",
       "      <th></th>\n",
       "      <th></th>\n",
       "    </tr>\n",
       "  </thead>\n",
       "  <tbody>\n",
       "    <tr>\n",
       "      <th>2018-03-20 00:00:00+00:00</th>\n",
       "      <td>72.8</td>\n",
       "      <td>67.778613</td>\n",
       "      <td>0.0</td>\n",
       "      <td>0</td>\n",
       "      <td>0</td>\n",
       "    </tr>\n",
       "    <tr>\n",
       "      <th>2018-03-20 00:05:00+00:00</th>\n",
       "      <td>72.8</td>\n",
       "      <td>67.807436</td>\n",
       "      <td>0.0</td>\n",
       "      <td>0</td>\n",
       "      <td>0</td>\n",
       "    </tr>\n",
       "    <tr>\n",
       "      <th>2018-03-20 00:10:00+00:00</th>\n",
       "      <td>73.0</td>\n",
       "      <td>67.835998</td>\n",
       "      <td>0.0</td>\n",
       "      <td>0</td>\n",
       "      <td>0</td>\n",
       "    </tr>\n",
       "    <tr>\n",
       "      <th>2018-03-20 00:15:00+00:00</th>\n",
       "      <td>73.0</td>\n",
       "      <td>67.864038</td>\n",
       "      <td>0.0</td>\n",
       "      <td>0</td>\n",
       "      <td>0</td>\n",
       "    </tr>\n",
       "    <tr>\n",
       "      <th>2018-03-20 00:20:00+00:00</th>\n",
       "      <td>73.0</td>\n",
       "      <td>67.891817</td>\n",
       "      <td>0.0</td>\n",
       "      <td>0</td>\n",
       "      <td>0</td>\n",
       "    </tr>\n",
       "    <tr>\n",
       "      <th>2018-03-20 00:25:00+00:00</th>\n",
       "      <td>73.0</td>\n",
       "      <td>67.865168</td>\n",
       "      <td>0.0</td>\n",
       "      <td>0</td>\n",
       "      <td>0</td>\n",
       "    </tr>\n",
       "    <tr>\n",
       "      <th>2018-03-20 00:30:00+00:00</th>\n",
       "      <td>73.0</td>\n",
       "      <td>67.729663</td>\n",
       "      <td>0.0</td>\n",
       "      <td>0</td>\n",
       "      <td>0</td>\n",
       "    </tr>\n",
       "    <tr>\n",
       "      <th>2018-03-20 00:35:00+00:00</th>\n",
       "      <td>73.0</td>\n",
       "      <td>67.539731</td>\n",
       "      <td>0.0</td>\n",
       "      <td>0</td>\n",
       "      <td>0</td>\n",
       "    </tr>\n",
       "    <tr>\n",
       "      <th>2018-03-20 00:40:00+00:00</th>\n",
       "      <td>73.1</td>\n",
       "      <td>67.409787</td>\n",
       "      <td>0.0</td>\n",
       "      <td>0</td>\n",
       "      <td>0</td>\n",
       "    </tr>\n",
       "    <tr>\n",
       "      <th>2018-03-20 00:45:00+00:00</th>\n",
       "      <td>73.1</td>\n",
       "      <td>67.399816</td>\n",
       "      <td>0.0</td>\n",
       "      <td>0</td>\n",
       "      <td>0</td>\n",
       "    </tr>\n",
       "  </tbody>\n",
       "</table>\n",
       "</div>"
      ],
      "text/plain": [
       "                           t_in      t_out  occ  action_heating  \\\n",
       "time                                                              \n",
       "2018-03-20 00:00:00+00:00  72.8  67.778613  0.0               0   \n",
       "2018-03-20 00:05:00+00:00  72.8  67.807436  0.0               0   \n",
       "2018-03-20 00:10:00+00:00  73.0  67.835998  0.0               0   \n",
       "2018-03-20 00:15:00+00:00  73.0  67.864038  0.0               0   \n",
       "2018-03-20 00:20:00+00:00  73.0  67.891817  0.0               0   \n",
       "2018-03-20 00:25:00+00:00  73.0  67.865168  0.0               0   \n",
       "2018-03-20 00:30:00+00:00  73.0  67.729663  0.0               0   \n",
       "2018-03-20 00:35:00+00:00  73.0  67.539731  0.0               0   \n",
       "2018-03-20 00:40:00+00:00  73.1  67.409787  0.0               0   \n",
       "2018-03-20 00:45:00+00:00  73.1  67.399816  0.0               0   \n",
       "\n",
       "                           action_cooling  \n",
       "time                                       \n",
       "2018-03-20 00:00:00+00:00               0  \n",
       "2018-03-20 00:05:00+00:00               0  \n",
       "2018-03-20 00:10:00+00:00               0  \n",
       "2018-03-20 00:15:00+00:00               0  \n",
       "2018-03-20 00:20:00+00:00               0  \n",
       "2018-03-20 00:25:00+00:00               0  \n",
       "2018-03-20 00:30:00+00:00               0  \n",
       "2018-03-20 00:35:00+00:00               0  \n",
       "2018-03-20 00:40:00+00:00               0  \n",
       "2018-03-20 00:45:00+00:00               0  "
      ]
     },
     "execution_count": 46,
     "metadata": {},
     "output_type": "execute_result"
    }
   ],
   "source": [
    "testing_data.head(10)"
   ]
  },
  {
   "cell_type": "code",
   "execution_count": 56,
   "metadata": {
    "scrolled": true
   },
   "outputs": [
    {
     "name": "stdout",
     "output_type": "stream",
     "text": [
      "[0.8635388392763137, 0.8846882012733475, 0.8954244095670839, 0.9074433474840039, 0.927040951441978, 0.9682138790406709, 1.038082565538213, 1.155238491472955, 1.302822134461188, 1.485417009717252, 1.7217848665709938]\n"
     ]
    },
    {
     "data": {
      "image/png": "[encoded data removed]",
      "text/plain": [
       "<matplotlib.figure.Figure at 0x270af589ef0>"
      ]
     },
     "metadata": {},
     "output_type": "display_data"
    }
   ],
   "source": [
    "test_X = pd.DataFrame(test_X)\n",
    "subtest_X = test_X.head(30)\n",
    "\n",
    "time = []\n",
    "rmse = []\n",
    "for t in range(5,60,5):\n",
    "    time.append(t)\n",
    "    rmse.append(autoRegression(test_X, t, maxT_in))\n",
    "print(rmse)\n",
    "plt.plot(time, rmse)\n",
    "plt.show()"
   ]
  },
  {
   "cell_type": "code",
   "execution_count": null,
   "metadata": {
    "collapsed": true
   },
   "outputs": [],
   "source": []
  }
 ],
 "metadata": {
  "kernelspec": {
   "display_name": "Python 3",
   "language": "python",
   "name": "python3"
  },
  "language_info": {
   "codemirror_mode": {
    "name": "ipython",
    "version": 3
   },
   "file_extension": ".py",
   "mimetype": "text/x-python",
   "name": "python",
   "nbconvert_exporter": "python",
   "pygments_lexer": "ipython3",
   "version": "3.6.3"
  }
 },
 "nbformat": 4,
 "nbformat_minor": 2
}
