{
 "cells": [
  {
   "cell_type": "code",
   "execution_count": 1,
   "metadata": {
    "collapsed": true
   },
   "outputs": [],
   "source": [
    "import pickle\n",
    "import datetime\n",
    "import numpy as np\n",
    "import matplotlib.pyplot as plt\n",
    "import pandas as pd\n",
    "from math import sqrt"
   ]
  },
  {
   "cell_type": "code",
   "execution_count": 2,
   "metadata": {
    "collapsed": true
   },
   "outputs": [],
   "source": [
    "class ProcessingData:\n",
    "    \n",
    "    def __init__(self,filepath):\n",
    "        with open(filepath, 'rb') as f:\n",
    "            u = pickle._Unpickler(f)\n",
    "            u.encoding = 'latin1'\n",
    "            self.data = u.load()\n",
    "\n",
    "    def fix_data(self, interval):\n",
    "        \"\"\"Fixes up the data. Makes sure we count two stage as single stage actions, don't count float actions,\n",
    "        converts action duration and dt to floats, fill's nan's in action_duration and drops all datapoints which\n",
    "        don't have dt equal to interval.\n",
    "        :param data:\n",
    "        :param interval: float:minutes\"\"\"\n",
    "        def f(x):\n",
    "            if x == 0:\n",
    "                return 0\n",
    "            elif x == 2 or x == 5:\n",
    "                return 2\n",
    "            elif x ==1 or x == 3:\n",
    "                return 1\n",
    "\n",
    "        def h(x):\n",
    "            if x == 1:\n",
    "                return 1\n",
    "            else:\n",
    "                return 0\n",
    "\n",
    "        def c(x):\n",
    "            if x == 2:\n",
    "                return 1\n",
    "            else:\n",
    "                return 0\n",
    "\n",
    "        self.data[\"action\"] = self.data[\"action\"].map(f)\n",
    "        self.data['action_heating'] = self.data[\"action\"].map(h)\n",
    "        self.data['action_cooling'] = self.data['action'].map(c)\n",
    "\n",
    "        #print self.data.head()\n",
    "\n",
    "        return self.data, self.data[self.data[\"dt\"] == interval]\n",
    "    \n",
    "    def filter_data(self):\n",
    "        self.data = self.data.drop(['t_next', 'dt', 'action', 'previous_action', 'action_duration', \\\n",
    "                                    'zone_temperatureHVAC_Zone_Shelter_Corridor'], axis=1)\n",
    "        return self.data\n",
    "    \n",
    "    def drop_nan(self):\n",
    "        self.data = self.data.dropna()\n",
    "        return self.data\n"
   ]
  },
  {
   "cell_type": "code",
   "execution_count": 3,
   "metadata": {
    "collapsed": true
   },
   "outputs": [],
   "source": [
    "training = ProcessingData(\"../Data/avenal-animal-shelter_training_data.pkl\")\n",
    "training_data = training.fix_data(5)\n",
    "training_data = training.filter_data()\n",
    "training_data = training.drop_nan()"
   ]
  },
  {
   "cell_type": "code",
   "execution_count": 4,
   "metadata": {
    "collapsed": true
   },
   "outputs": [],
   "source": [
    "testing = ProcessingData(\"../Data/avenal-animal-shelter_test_data.pkl\")\n",
    "testing_data = testing.fix_data(5)\n",
    "testing_data = testing.filter_data()\n",
    "testing_data = testing.drop_nan()"
   ]
  },
  {
   "cell_type": "code",
   "execution_count": 5,
   "metadata": {
    "collapsed": true
   },
   "outputs": [],
   "source": [
    "def scaling(data):\n",
    "    maxValues = []\n",
    "    scaled = np.empty([data.shape[0], data.shape[1]])\n",
    "    numSamples = data.shape[0]\n",
    "    numFeatures = data.shape[1]\n",
    "    dataValues = data.values\n",
    "    dataValues = dataValues.astype('float32')\n",
    "    for i in range(numFeatures):\n",
    "        maxNum = max(dataValues[:,i])\n",
    "        maxValues.append(maxNum)\n",
    "        for j in range(numSamples):\n",
    "            scaled[j,i] = dataValues[j,i]/maxNum\n",
    "    return scaled, maxValues"
   ]
  },
  {
   "cell_type": "code",
   "execution_count": 6,
   "metadata": {
    "collapsed": true
   },
   "outputs": [],
   "source": [
    "def series_to_supervised(data, n_in=1, n_out=1, dropnan=True):\n",
    "    \"\"\"\n",
    "    Frame a time series as a supervised learning dataset.\n",
    "    Arguments:\n",
    "    data: Sequence of observations as a list or NumPy array.\n",
    "    n_in: Number of lag observations as input (X).\n",
    "    n_out: Number of observations as output (y).\n",
    "    dropnan: Boolean whether or not to drop rows with NaN values.\n",
    "    Returns:\n",
    "    Pandas DataFrame of series framed for supervised learning.\n",
    "    \"\"\"\n",
    "    n_vars = 1 if type(data) is list else data.shape[1]\n",
    "    df = pd.DataFrame(data)\n",
    "    cols, names = list(), list()\n",
    "    # input sequence (t-n, ... t-1)\n",
    "    for i in range(n_in, 0, -1):\n",
    "        cols.append(df.shift(i))\n",
    "        names += [('var%d(t-%d)' % (j+1, i)) for j in range(n_vars)]\n",
    "    # forecast sequence (t, t+1, ... t+n)\n",
    "    for i in range(0, n_out):\n",
    "        cols.append(df.shift(-i))\n",
    "        if i == 0:\n",
    "            names += [('var%d(t)' % (j+1)) for j in range(n_vars)]\n",
    "        else:\n",
    "            names += [('var%d(t+%d)' % (j+1, i)) for j in range(n_vars)]\n",
    "    # put it all together\n",
    "    agg = pd.concat(cols, axis=1)\n",
    "    agg.columns = names\n",
    "    # drop rows with NaN values\n",
    "    if dropnan:\n",
    "        agg.dropna(inplace=True)\n",
    "    return agg"
   ]
  },
  {
   "cell_type": "code",
   "execution_count": 9,
   "metadata": {},
   "outputs": [
    {
     "data": {
      "text/html": [
       "<div>\n",
       "<style>\n",
       "    .dataframe thead tr:only-child th {\n",
       "        text-align: right;\n",
       "    }\n",
       "\n",
       "    .dataframe thead th {\n",
       "        text-align: left;\n",
       "    }\n",
       "\n",
       "    .dataframe tbody tr th {\n",
       "        vertical-align: top;\n",
       "    }\n",
       "</style>\n",
       "<table border=\"1\" class=\"dataframe\">\n",
       "  <thead>\n",
       "    <tr style=\"text-align: right;\">\n",
       "      <th></th>\n",
       "      <th>var1(t-1)</th>\n",
       "      <th>var2(t-1)</th>\n",
       "      <th>var3(t-1)</th>\n",
       "      <th>var4(t-1)</th>\n",
       "      <th>var5(t-1)</th>\n",
       "      <th>var1(t)</th>\n",
       "      <th>var2(t)</th>\n",
       "      <th>var3(t)</th>\n",
       "      <th>var4(t)</th>\n",
       "      <th>var5(t)</th>\n",
       "      <th>var1(t+1)</th>\n",
       "    </tr>\n",
       "  </thead>\n",
       "  <tbody>\n",
       "    <tr>\n",
       "      <th>1</th>\n",
       "      <td>0.856761</td>\n",
       "      <td>0.639420</td>\n",
       "      <td>0.0</td>\n",
       "      <td>0.0</td>\n",
       "      <td>0.0</td>\n",
       "      <td>0.856967</td>\n",
       "      <td>0.639420</td>\n",
       "      <td>0.0</td>\n",
       "      <td>0.0</td>\n",
       "      <td>0.0</td>\n",
       "      <td>0.856967</td>\n",
       "    </tr>\n",
       "    <tr>\n",
       "      <th>2</th>\n",
       "      <td>0.856967</td>\n",
       "      <td>0.639420</td>\n",
       "      <td>0.0</td>\n",
       "      <td>0.0</td>\n",
       "      <td>0.0</td>\n",
       "      <td>0.856967</td>\n",
       "      <td>0.639621</td>\n",
       "      <td>0.0</td>\n",
       "      <td>0.0</td>\n",
       "      <td>0.0</td>\n",
       "      <td>0.856967</td>\n",
       "    </tr>\n",
       "    <tr>\n",
       "      <th>3</th>\n",
       "      <td>0.856967</td>\n",
       "      <td>0.639621</td>\n",
       "      <td>0.0</td>\n",
       "      <td>0.0</td>\n",
       "      <td>0.0</td>\n",
       "      <td>0.856967</td>\n",
       "      <td>0.640222</td>\n",
       "      <td>0.0</td>\n",
       "      <td>0.0</td>\n",
       "      <td>0.0</td>\n",
       "      <td>0.855734</td>\n",
       "    </tr>\n",
       "    <tr>\n",
       "      <th>4</th>\n",
       "      <td>0.856967</td>\n",
       "      <td>0.640222</td>\n",
       "      <td>0.0</td>\n",
       "      <td>0.0</td>\n",
       "      <td>0.0</td>\n",
       "      <td>0.855734</td>\n",
       "      <td>0.641024</td>\n",
       "      <td>0.0</td>\n",
       "      <td>0.0</td>\n",
       "      <td>0.0</td>\n",
       "      <td>0.856967</td>\n",
       "    </tr>\n",
       "    <tr>\n",
       "      <th>5</th>\n",
       "      <td>0.855734</td>\n",
       "      <td>0.641024</td>\n",
       "      <td>0.0</td>\n",
       "      <td>0.0</td>\n",
       "      <td>0.0</td>\n",
       "      <td>0.856967</td>\n",
       "      <td>0.641625</td>\n",
       "      <td>0.0</td>\n",
       "      <td>0.0</td>\n",
       "      <td>0.0</td>\n",
       "      <td>0.855734</td>\n",
       "    </tr>\n",
       "  </tbody>\n",
       "</table>\n",
       "</div>"
      ],
      "text/plain": [
       "   var1(t-1)  var2(t-1)  var3(t-1)  var4(t-1)  var5(t-1)   var1(t)   var2(t)  \\\n",
       "1   0.856761   0.639420        0.0        0.0        0.0  0.856967  0.639420   \n",
       "2   0.856967   0.639420        0.0        0.0        0.0  0.856967  0.639621   \n",
       "3   0.856967   0.639621        0.0        0.0        0.0  0.856967  0.640222   \n",
       "4   0.856967   0.640222        0.0        0.0        0.0  0.855734  0.641024   \n",
       "5   0.855734   0.641024        0.0        0.0        0.0  0.856967  0.641625   \n",
       "\n",
       "   var3(t)  var4(t)  var5(t)  var1(t+1)  \n",
       "1      0.0      0.0      0.0   0.856967  \n",
       "2      0.0      0.0      0.0   0.856967  \n",
       "3      0.0      0.0      0.0   0.855734  \n",
       "4      0.0      0.0      0.0   0.856967  \n",
       "5      0.0      0.0      0.0   0.855734  "
      ]
     },
     "execution_count": 9,
     "metadata": {},
     "output_type": "execute_result"
    }
   ],
   "source": [
    "train_scaled, train_scalers = scaling(training_data)\n",
    "train_reframed = series_to_supervised(train_scaled, 2, 2)\n",
    "train_reframed.drop(train_reframed.columns[-4:], axis=1, inplace=True)\n",
    "train_reframed.head()"
   ]
  },
  {
   "cell_type": "code",
   "execution_count": 12,
   "metadata": {},
   "outputs": [
    {
     "data": {
      "text/html": [
       "<div>\n",
       "<style>\n",
       "    .dataframe thead tr:only-child th {\n",
       "        text-align: right;\n",
       "    }\n",
       "\n",
       "    .dataframe thead th {\n",
       "        text-align: left;\n",
       "    }\n",
       "\n",
       "    .dataframe tbody tr th {\n",
       "        vertical-align: top;\n",
       "    }\n",
       "</style>\n",
       "<table border=\"1\" class=\"dataframe\">\n",
       "  <thead>\n",
       "    <tr style=\"text-align: right;\">\n",
       "      <th></th>\n",
       "      <th>var1(t-1)</th>\n",
       "      <th>var2(t-1)</th>\n",
       "      <th>var3(t-1)</th>\n",
       "      <th>var4(t-1)</th>\n",
       "      <th>var5(t-1)</th>\n",
       "      <th>var1(t)</th>\n",
       "      <th>var1(t+1)</th>\n",
       "    </tr>\n",
       "  </thead>\n",
       "  <tbody>\n",
       "    <tr>\n",
       "      <th>1</th>\n",
       "      <td>0.856761</td>\n",
       "      <td>0.639420</td>\n",
       "      <td>0.0</td>\n",
       "      <td>0.0</td>\n",
       "      <td>0.0</td>\n",
       "      <td>0.856967</td>\n",
       "      <td>0.856967</td>\n",
       "    </tr>\n",
       "    <tr>\n",
       "      <th>2</th>\n",
       "      <td>0.856967</td>\n",
       "      <td>0.639420</td>\n",
       "      <td>0.0</td>\n",
       "      <td>0.0</td>\n",
       "      <td>0.0</td>\n",
       "      <td>0.856967</td>\n",
       "      <td>0.856967</td>\n",
       "    </tr>\n",
       "    <tr>\n",
       "      <th>3</th>\n",
       "      <td>0.856967</td>\n",
       "      <td>0.639621</td>\n",
       "      <td>0.0</td>\n",
       "      <td>0.0</td>\n",
       "      <td>0.0</td>\n",
       "      <td>0.856967</td>\n",
       "      <td>0.855734</td>\n",
       "    </tr>\n",
       "    <tr>\n",
       "      <th>4</th>\n",
       "      <td>0.856967</td>\n",
       "      <td>0.640222</td>\n",
       "      <td>0.0</td>\n",
       "      <td>0.0</td>\n",
       "      <td>0.0</td>\n",
       "      <td>0.855734</td>\n",
       "      <td>0.856967</td>\n",
       "    </tr>\n",
       "    <tr>\n",
       "      <th>5</th>\n",
       "      <td>0.855734</td>\n",
       "      <td>0.641024</td>\n",
       "      <td>0.0</td>\n",
       "      <td>0.0</td>\n",
       "      <td>0.0</td>\n",
       "      <td>0.856967</td>\n",
       "      <td>0.855734</td>\n",
       "    </tr>\n",
       "  </tbody>\n",
       "</table>\n",
       "</div>"
      ],
      "text/plain": [
       "   var1(t-1)  var2(t-1)  var3(t-1)  var4(t-1)  var5(t-1)   var1(t)  var1(t+1)\n",
       "1   0.856761   0.639420        0.0        0.0        0.0  0.856967   0.856967\n",
       "2   0.856967   0.639420        0.0        0.0        0.0  0.856967   0.856967\n",
       "3   0.856967   0.639621        0.0        0.0        0.0  0.856967   0.855734\n",
       "4   0.856967   0.640222        0.0        0.0        0.0  0.855734   0.856967\n",
       "5   0.855734   0.641024        0.0        0.0        0.0  0.856967   0.855734"
      ]
     },
     "execution_count": 12,
     "metadata": {},
     "output_type": "execute_result"
    }
   ],
   "source": [
    "train_reframed.drop(train_reframed.columns[-5:-1], axis=1, inplace=True)\n",
    "train_reframed.head()"
   ]
  },
  {
   "cell_type": "code",
   "execution_count": 10,
   "metadata": {},
   "outputs": [
    {
     "data": {
      "text/html": [
       "<div>\n",
       "<style>\n",
       "    .dataframe thead tr:only-child th {\n",
       "        text-align: right;\n",
       "    }\n",
       "\n",
       "    .dataframe thead th {\n",
       "        text-align: left;\n",
       "    }\n",
       "\n",
       "    .dataframe tbody tr th {\n",
       "        vertical-align: top;\n",
       "    }\n",
       "</style>\n",
       "<table border=\"1\" class=\"dataframe\">\n",
       "  <thead>\n",
       "    <tr style=\"text-align: right;\">\n",
       "      <th></th>\n",
       "      <th>var1(t-1)</th>\n",
       "      <th>var2(t-1)</th>\n",
       "      <th>var3(t-1)</th>\n",
       "      <th>var4(t-1)</th>\n",
       "      <th>var5(t-1)</th>\n",
       "      <th>var1(t)</th>\n",
       "      <th>var2(t)</th>\n",
       "      <th>var3(t)</th>\n",
       "      <th>var4(t)</th>\n",
       "      <th>var5(t)</th>\n",
       "      <th>var1(t+1)</th>\n",
       "    </tr>\n",
       "  </thead>\n",
       "  <tbody>\n",
       "    <tr>\n",
       "      <th>1</th>\n",
       "      <td>0.941785</td>\n",
       "      <td>0.747789</td>\n",
       "      <td>0.0</td>\n",
       "      <td>0.0</td>\n",
       "      <td>0.0</td>\n",
       "      <td>0.941785</td>\n",
       "      <td>0.748107</td>\n",
       "      <td>0.0</td>\n",
       "      <td>0.0</td>\n",
       "      <td>0.0</td>\n",
       "      <td>0.944373</td>\n",
       "    </tr>\n",
       "    <tr>\n",
       "      <th>2</th>\n",
       "      <td>0.941785</td>\n",
       "      <td>0.748107</td>\n",
       "      <td>0.0</td>\n",
       "      <td>0.0</td>\n",
       "      <td>0.0</td>\n",
       "      <td>0.944373</td>\n",
       "      <td>0.748422</td>\n",
       "      <td>0.0</td>\n",
       "      <td>0.0</td>\n",
       "      <td>0.0</td>\n",
       "      <td>0.944373</td>\n",
       "    </tr>\n",
       "    <tr>\n",
       "      <th>3</th>\n",
       "      <td>0.944373</td>\n",
       "      <td>0.748422</td>\n",
       "      <td>0.0</td>\n",
       "      <td>0.0</td>\n",
       "      <td>0.0</td>\n",
       "      <td>0.944373</td>\n",
       "      <td>0.748731</td>\n",
       "      <td>0.0</td>\n",
       "      <td>0.0</td>\n",
       "      <td>0.0</td>\n",
       "      <td>0.944373</td>\n",
       "    </tr>\n",
       "    <tr>\n",
       "      <th>4</th>\n",
       "      <td>0.944373</td>\n",
       "      <td>0.748731</td>\n",
       "      <td>0.0</td>\n",
       "      <td>0.0</td>\n",
       "      <td>0.0</td>\n",
       "      <td>0.944373</td>\n",
       "      <td>0.749038</td>\n",
       "      <td>0.0</td>\n",
       "      <td>0.0</td>\n",
       "      <td>0.0</td>\n",
       "      <td>0.944373</td>\n",
       "    </tr>\n",
       "    <tr>\n",
       "      <th>5</th>\n",
       "      <td>0.944373</td>\n",
       "      <td>0.749038</td>\n",
       "      <td>0.0</td>\n",
       "      <td>0.0</td>\n",
       "      <td>0.0</td>\n",
       "      <td>0.944373</td>\n",
       "      <td>0.748744</td>\n",
       "      <td>0.0</td>\n",
       "      <td>0.0</td>\n",
       "      <td>0.0</td>\n",
       "      <td>0.944373</td>\n",
       "    </tr>\n",
       "  </tbody>\n",
       "</table>\n",
       "</div>"
      ],
      "text/plain": [
       "   var1(t-1)  var2(t-1)  var3(t-1)  var4(t-1)  var5(t-1)   var1(t)   var2(t)  \\\n",
       "1   0.941785   0.747789        0.0        0.0        0.0  0.941785  0.748107   \n",
       "2   0.941785   0.748107        0.0        0.0        0.0  0.944373  0.748422   \n",
       "3   0.944373   0.748422        0.0        0.0        0.0  0.944373  0.748731   \n",
       "4   0.944373   0.748731        0.0        0.0        0.0  0.944373  0.749038   \n",
       "5   0.944373   0.749038        0.0        0.0        0.0  0.944373  0.748744   \n",
       "\n",
       "   var3(t)  var4(t)  var5(t)  var1(t+1)  \n",
       "1      0.0      0.0      0.0   0.944373  \n",
       "2      0.0      0.0      0.0   0.944373  \n",
       "3      0.0      0.0      0.0   0.944373  \n",
       "4      0.0      0.0      0.0   0.944373  \n",
       "5      0.0      0.0      0.0   0.944373  "
      ]
     },
     "execution_count": 10,
     "metadata": {},
     "output_type": "execute_result"
    }
   ],
   "source": [
    "test_scaled, test_scalers = scaling(testing_data)\n",
    "test_reframed = series_to_supervised(test_scaled, 1, 2)\n",
    "test_reframed.drop(test_reframed.columns[-4:], axis=1, inplace=True)\n",
    "test_reframed.head()"
   ]
  },
  {
   "cell_type": "code",
   "execution_count": 13,
   "metadata": {},
   "outputs": [
    {
     "data": {
      "text/html": [
       "<div>\n",
       "<style>\n",
       "    .dataframe thead tr:only-child th {\n",
       "        text-align: right;\n",
       "    }\n",
       "\n",
       "    .dataframe thead th {\n",
       "        text-align: left;\n",
       "    }\n",
       "\n",
       "    .dataframe tbody tr th {\n",
       "        vertical-align: top;\n",
       "    }\n",
       "</style>\n",
       "<table border=\"1\" class=\"dataframe\">\n",
       "  <thead>\n",
       "    <tr style=\"text-align: right;\">\n",
       "      <th></th>\n",
       "      <th>var1(t-1)</th>\n",
       "      <th>var2(t-1)</th>\n",
       "      <th>var3(t-1)</th>\n",
       "      <th>var4(t-1)</th>\n",
       "      <th>var5(t-1)</th>\n",
       "      <th>var1(t)</th>\n",
       "      <th>var1(t+1)</th>\n",
       "    </tr>\n",
       "  </thead>\n",
       "  <tbody>\n",
       "    <tr>\n",
       "      <th>1</th>\n",
       "      <td>0.941785</td>\n",
       "      <td>0.747789</td>\n",
       "      <td>0.0</td>\n",
       "      <td>0.0</td>\n",
       "      <td>0.0</td>\n",
       "      <td>0.941785</td>\n",
       "      <td>0.944373</td>\n",
       "    </tr>\n",
       "    <tr>\n",
       "      <th>2</th>\n",
       "      <td>0.941785</td>\n",
       "      <td>0.748107</td>\n",
       "      <td>0.0</td>\n",
       "      <td>0.0</td>\n",
       "      <td>0.0</td>\n",
       "      <td>0.944373</td>\n",
       "      <td>0.944373</td>\n",
       "    </tr>\n",
       "    <tr>\n",
       "      <th>3</th>\n",
       "      <td>0.944373</td>\n",
       "      <td>0.748422</td>\n",
       "      <td>0.0</td>\n",
       "      <td>0.0</td>\n",
       "      <td>0.0</td>\n",
       "      <td>0.944373</td>\n",
       "      <td>0.944373</td>\n",
       "    </tr>\n",
       "    <tr>\n",
       "      <th>4</th>\n",
       "      <td>0.944373</td>\n",
       "      <td>0.748731</td>\n",
       "      <td>0.0</td>\n",
       "      <td>0.0</td>\n",
       "      <td>0.0</td>\n",
       "      <td>0.944373</td>\n",
       "      <td>0.944373</td>\n",
       "    </tr>\n",
       "    <tr>\n",
       "      <th>5</th>\n",
       "      <td>0.944373</td>\n",
       "      <td>0.749038</td>\n",
       "      <td>0.0</td>\n",
       "      <td>0.0</td>\n",
       "      <td>0.0</td>\n",
       "      <td>0.944373</td>\n",
       "      <td>0.944373</td>\n",
       "    </tr>\n",
       "  </tbody>\n",
       "</table>\n",
       "</div>"
      ],
      "text/plain": [
       "   var1(t-1)  var2(t-1)  var3(t-1)  var4(t-1)  var5(t-1)   var1(t)  var1(t+1)\n",
       "1   0.941785   0.747789        0.0        0.0        0.0  0.941785   0.944373\n",
       "2   0.941785   0.748107        0.0        0.0        0.0  0.944373   0.944373\n",
       "3   0.944373   0.748422        0.0        0.0        0.0  0.944373   0.944373\n",
       "4   0.944373   0.748731        0.0        0.0        0.0  0.944373   0.944373\n",
       "5   0.944373   0.749038        0.0        0.0        0.0  0.944373   0.944373"
      ]
     },
     "execution_count": 13,
     "metadata": {},
     "output_type": "execute_result"
    }
   ],
   "source": [
    "test_reframed.drop(test_reframed.columns[-5:-1], axis=1, inplace=True)\n",
    "test_reframed.head()"
   ]
  },
  {
   "cell_type": "code",
   "execution_count": 14,
   "metadata": {},
   "outputs": [
    {
     "data": {
      "text/plain": [
       "array([[ 0.85696673,  0.85696673],\n",
       "       [ 0.85696673,  0.85696673],\n",
       "       [ 0.85696673,  0.85573369],\n",
       "       ..., \n",
       "       [ 0.84956849,  0.85080147],\n",
       "       [ 0.85080147,  0.85573369],\n",
       "       [ 0.85573369,  0.85819978]])"
      ]
     },
     "execution_count": 14,
     "metadata": {},
     "output_type": "execute_result"
    }
   ],
   "source": [
    "# split into input and outputs\n",
    "train = train_reframed.values\n",
    "test = test_reframed.values\n",
    "train_X, train_y = train[:, :-2], train[:, -2:]\n",
    "test_X, test_y = test[:, :-2], test[:, -2:]\n",
    "train_y"
   ]
  },
  {
   "cell_type": "code",
   "execution_count": 16,
   "metadata": {},
   "outputs": [
    {
     "name": "stdout",
     "output_type": "stream",
     "text": [
      "(53184, 1, 5) (53184, 2) (13388, 1, 5) (13388, 2)\n"
     ]
    }
   ],
   "source": [
    "# reshape input to be 3D [samples, timesteps, features]\n",
    "train_X = train_X.reshape((train_X.shape[0], 1, 5))\n",
    "test_X = test_X.reshape((test_X.shape[0], 1, 5))\n",
    "print(train_X.shape, train_y.shape, test_X.shape, test_y.shape)"
   ]
  },
  {
   "cell_type": "code",
   "execution_count": 17,
   "metadata": {},
   "outputs": [
    {
     "name": "stderr",
     "output_type": "stream",
     "text": [
      "Using TensorFlow backend.\n"
     ]
    }
   ],
   "source": [
    "from sklearn.metrics import mean_squared_error\n",
    "from keras.models import Sequential\n",
    "from keras.layers import Dense\n",
    "from keras.layers import LSTM"
   ]
  },
  {
   "cell_type": "code",
   "execution_count": 25,
   "metadata": {},
   "outputs": [
    {
     "name": "stdout",
     "output_type": "stream",
     "text": [
      "Train on 53184 samples, validate on 13388 samples\n",
      "Epoch 1/50\n",
      " - 23s - loss: 0.1256 - acc: 0.5112 - val_loss: 0.0359 - val_acc: 0.6524\n",
      "Epoch 2/50\n",
      " - 3s - loss: 0.0183 - acc: 0.5145 - val_loss: 0.0303 - val_acc: 0.6539\n",
      "Epoch 3/50\n",
      " - 3s - loss: 0.0172 - acc: 0.5166 - val_loss: 0.0273 - val_acc: 0.7098\n",
      "Epoch 4/50\n",
      " - 3s - loss: 0.0164 - acc: 0.5329 - val_loss: 0.0270 - val_acc: 0.7155\n",
      "Epoch 5/50\n",
      " - 3s - loss: 0.0161 - acc: 0.5327 - val_loss: 0.0270 - val_acc: 0.7086\n",
      "Epoch 6/50\n",
      " - 3s - loss: 0.0160 - acc: 0.5310 - val_loss: 0.0270 - val_acc: 0.7102\n",
      "Epoch 7/50\n",
      " - 3s - loss: 0.0158 - acc: 0.5412 - val_loss: 0.0271 - val_acc: 0.7107\n",
      "Epoch 8/50\n",
      " - 3s - loss: 0.0156 - acc: 0.5410 - val_loss: 0.0271 - val_acc: 0.7120\n",
      "Epoch 9/50\n",
      " - 3s - loss: 0.0154 - acc: 0.5445 - val_loss: 0.0272 - val_acc: 0.7140\n",
      "Epoch 10/50\n",
      " - 3s - loss: 0.0152 - acc: 0.5488 - val_loss: 0.0271 - val_acc: 0.7144\n",
      "Epoch 11/50\n",
      " - 3s - loss: 0.0150 - acc: 0.5552 - val_loss: 0.0273 - val_acc: 0.7147\n",
      "Epoch 12/50\n",
      " - 3s - loss: 0.0148 - acc: 0.5591 - val_loss: 0.0279 - val_acc: 0.7131\n",
      "Epoch 13/50\n",
      " - 3s - loss: 0.0145 - acc: 0.5621 - val_loss: 0.0282 - val_acc: 0.7195\n",
      "Epoch 14/50\n",
      " - 3s - loss: 0.0143 - acc: 0.5675 - val_loss: 0.0287 - val_acc: 0.7185\n",
      "Epoch 15/50\n",
      " - 3s - loss: 0.0140 - acc: 0.5783 - val_loss: 0.0289 - val_acc: 0.7171\n",
      "Epoch 16/50\n",
      " - 3s - loss: 0.0136 - acc: 0.5826 - val_loss: 0.0294 - val_acc: 0.7146\n",
      "Epoch 17/50\n",
      " - 3s - loss: 0.0133 - acc: 0.5744 - val_loss: 0.0296 - val_acc: 0.7166\n",
      "Epoch 18/50\n",
      " - 3s - loss: 0.0129 - acc: 0.5728 - val_loss: 0.0291 - val_acc: 0.7185\n",
      "Epoch 19/50\n",
      " - 3s - loss: 0.0125 - acc: 0.5762 - val_loss: 0.0282 - val_acc: 0.7138\n",
      "Epoch 20/50\n",
      " - 3s - loss: 0.0122 - acc: 0.5678 - val_loss: 0.0268 - val_acc: 0.7138\n",
      "Epoch 21/50\n",
      " - 3s - loss: 0.0118 - acc: 0.5892 - val_loss: 0.0261 - val_acc: 0.7112\n",
      "Epoch 22/50\n",
      " - 3s - loss: 0.0114 - acc: 0.5658 - val_loss: 0.0261 - val_acc: 0.7160\n",
      "Epoch 23/50\n",
      " - 3s - loss: 0.0111 - acc: 0.5701 - val_loss: 0.0266 - val_acc: 0.7053\n",
      "Epoch 24/50\n",
      " - 2s - loss: 0.0106 - acc: 0.5787 - val_loss: 0.0249 - val_acc: 0.7199\n",
      "Epoch 25/50\n",
      " - 3s - loss: 0.0102 - acc: 0.5895 - val_loss: 0.0234 - val_acc: 0.7233\n",
      "Epoch 26/50\n",
      " - 2s - loss: 0.0096 - acc: 0.5635 - val_loss: 0.0223 - val_acc: 0.7258\n",
      "Epoch 27/50\n",
      " - 2s - loss: 0.0092 - acc: 0.5631 - val_loss: 0.0212 - val_acc: 0.7152\n",
      "Epoch 28/50\n",
      " - 3s - loss: 0.0087 - acc: 0.5646 - val_loss: 0.0197 - val_acc: 0.7180\n",
      "Epoch 29/50\n",
      " - 3s - loss: 0.0083 - acc: 0.5669 - val_loss: 0.0188 - val_acc: 0.7177\n",
      "Epoch 30/50\n",
      " - 3s - loss: 0.0074 - acc: 0.5704 - val_loss: 0.0187 - val_acc: 0.7164\n",
      "Epoch 31/50\n",
      " - 3s - loss: 0.0070 - acc: 0.5638 - val_loss: 0.0188 - val_acc: 0.7274\n",
      "Epoch 32/50\n",
      " - 3s - loss: 0.0065 - acc: 0.5828 - val_loss: 0.0181 - val_acc: 0.7262\n",
      "Epoch 33/50\n",
      " - 3s - loss: 0.0060 - acc: 0.5645 - val_loss: 0.0172 - val_acc: 0.7193\n",
      "Epoch 34/50\n",
      " - 3s - loss: 0.0058 - acc: 0.5684 - val_loss: 0.0167 - val_acc: 0.7254\n",
      "Epoch 35/50\n",
      " - 3s - loss: 0.0056 - acc: 0.5721 - val_loss: 0.0133 - val_acc: 0.7148\n",
      "Epoch 36/50\n",
      " - 4s - loss: 0.0053 - acc: 0.5678 - val_loss: 0.0125 - val_acc: 0.4535\n",
      "Epoch 37/50\n",
      " - 3s - loss: 0.0049 - acc: 0.5776 - val_loss: 0.0081 - val_acc: 0.6566\n",
      "Epoch 38/50\n",
      " - 4s - loss: 0.0046 - acc: 0.5651 - val_loss: 0.0069 - val_acc: 0.6382\n",
      "Epoch 39/50\n",
      " - 3s - loss: 0.0041 - acc: 0.5609 - val_loss: 0.0112 - val_acc: 0.6910\n",
      "Epoch 40/50\n",
      " - 3s - loss: 0.0039 - acc: 0.5704 - val_loss: 0.0060 - val_acc: 0.5308\n",
      "Epoch 41/50\n",
      " - 3s - loss: 0.0036 - acc: 0.5598 - val_loss: 0.0071 - val_acc: 0.4107\n",
      "Epoch 42/50\n",
      " - 3s - loss: 0.0034 - acc: 0.5620 - val_loss: 0.0049 - val_acc: 0.7227\n",
      "Epoch 43/50\n",
      " - 3s - loss: 0.0031 - acc: 0.5582 - val_loss: 0.0058 - val_acc: 0.6598\n",
      "Epoch 44/50\n",
      " - 3s - loss: 0.0030 - acc: 0.5713 - val_loss: 0.0042 - val_acc: 0.6718\n",
      "Epoch 45/50\n",
      " - 3s - loss: 0.0028 - acc: 0.5672 - val_loss: 0.0051 - val_acc: 0.7032\n",
      "Epoch 46/50\n",
      " - 3s - loss: 0.0028 - acc: 0.5807 - val_loss: 0.0063 - val_acc: 0.6634\n",
      "Epoch 47/50\n",
      " - 3s - loss: 0.0028 - acc: 0.5621 - val_loss: 0.0049 - val_acc: 0.7043\n",
      "Epoch 48/50\n",
      " - 3s - loss: 0.0025 - acc: 0.5768 - val_loss: 0.0042 - val_acc: 0.7196\n",
      "Epoch 49/50\n",
      " - 3s - loss: 0.0026 - acc: 0.5803 - val_loss: 0.0033 - val_acc: 0.7066\n",
      "Epoch 50/50\n",
      " - 3s - loss: 0.0027 - acc: 0.5787 - val_loss: 0.0050 - val_acc: 0.6973\n"
     ]
    }
   ],
   "source": [
    "model = Sequential()\n",
    "model.add(LSTM(5, input_shape=(train_X.shape[1], train_X.shape[2])))\n",
    "model.add(Dense(3))\n",
    "model.add(Dense(2))\n",
    "model.compile(loss='mae', optimizer='adam', metrics=['accuracy'])\n",
    "# fit network\n",
    "history = model.fit(train_X, train_y, epochs=50, batch_size=72, validation_data=(test_X, test_y), verbose=2, shuffle=False)\n"
   ]
  },
  {
   "cell_type": "code",
   "execution_count": 26,
   "metadata": {},
   "outputs": [
    {
     "data": {
      "image/png": "[encoded data removed]",
      "text/plain": [
       "<matplotlib.figure.Figure at 0x15e316da710>"
      ]
     },
     "metadata": {},
     "output_type": "display_data"
    }
   ],
   "source": [
    "plt.plot(history.history['loss'], label='train')\n",
    "plt.plot(history.history['val_loss'], label='test')\n",
    "plt.legend()\n",
    "plt.show()"
   ]
  },
  {
   "cell_type": "code",
   "execution_count": 27,
   "metadata": {},
   "outputs": [
    {
     "data": {
      "text/plain": [
       "array([[ 0.94131929,  0.93799287],\n",
       "       [ 0.94132006,  0.9379968 ],\n",
       "       [ 0.94380766,  0.94035655],\n",
       "       ..., \n",
       "       [ 0.93104804,  0.93103713],\n",
       "       [ 0.93101704,  0.93101984],\n",
       "       [ 0.93100661,  0.931014  ]], dtype=float32)"
      ]
     },
     "execution_count": 27,
     "metadata": {},
     "output_type": "execute_result"
    }
   ],
   "source": [
    "yhat = model.predict(test_X)\n",
    "yhat"
   ]
  },
  {
   "cell_type": "code",
   "execution_count": 28,
   "metadata": {},
   "outputs": [
    {
     "data": {
      "text/plain": [
       "array([[ 0.94178528,  0.94437253],\n",
       "       [ 0.94437253,  0.94437253],\n",
       "       [ 0.94437253,  0.94437253],\n",
       "       ..., \n",
       "       [ 0.93531692,  0.93531692],\n",
       "       [ 0.93531692,  0.93661058],\n",
       "       [ 0.93661058,  0.93790424]])"
      ]
     },
     "execution_count": 28,
     "metadata": {},
     "output_type": "execute_result"
    }
   ],
   "source": [
    "test_y"
   ]
  },
  {
   "cell_type": "code",
   "execution_count": 29,
   "metadata": {},
   "outputs": [
    {
     "data": {
      "text/plain": [
       "77.300003"
      ]
     },
     "execution_count": 29,
     "metadata": {},
     "output_type": "execute_result"
    }
   ],
   "source": [
    "maxT_in = test_scalers[0]\n",
    "maxT_in"
   ]
  },
  {
   "cell_type": "code",
   "execution_count": 30,
   "metadata": {
    "collapsed": true
   },
   "outputs": [],
   "source": [
    "# evaluate one or more weekly forecasts against expected values\n",
    "def evaluate_forecasts(actual, predicted):\n",
    "    # calculate overall RMSE\n",
    "    s = 0\n",
    "    for row in range(actual.shape[0]):\n",
    "        for col in range(actual.shape[1]):\n",
    "            s += (actual[row, col]*maxT_in - predicted[row, col]*maxT_in)**2\n",
    "    score = sqrt(s / (actual.shape[0] * actual.shape[1]))\n",
    "    return score"
   ]
  },
  {
   "cell_type": "code",
   "execution_count": 31,
   "metadata": {},
   "outputs": [
    {
     "data": {
      "text/plain": [
       "0.9888166493237911"
      ]
     },
     "execution_count": 31,
     "metadata": {},
     "output_type": "execute_result"
    }
   ],
   "source": [
    "evaluate_forecasts(test_y, yhat)"
   ]
  },
  {
   "cell_type": "code",
   "execution_count": null,
   "metadata": {
    "collapsed": true
   },
   "outputs": [],
   "source": []
  }
 ],
 "metadata": {
  "kernelspec": {
   "display_name": "Python 3",
   "language": "python",
   "name": "python3"
  },
  "language_info": {
   "codemirror_mode": {
    "name": "ipython",
    "version": 3
   },
   "file_extension": ".py",
   "mimetype": "text/x-python",
   "name": "python",
   "nbconvert_exporter": "python",
   "pygments_lexer": "ipython3",
   "version": "3.6.3"
  }
 },
 "nbformat": 4,
 "nbformat_minor": 2
}
